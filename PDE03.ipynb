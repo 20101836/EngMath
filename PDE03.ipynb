{
 "cells": [
  {
   "cell_type": "markdown",
   "metadata": {},
   "source": [
    "[![Open In Colab](https://colab.research.google.com/assets/colab-badge.svg)](https://colab.research.google.com/github/SeoulTechPSE/EngMath/blob/master/PDE03.ipynb)"
   ]
  },
  {
   "cell_type": "markdown",
   "metadata": {},
   "source": [
    "## Lesson 30. The Laplacian (an Intuitive Description)"
   ]
  },
  {
   "cell_type": "markdown",
   "metadata": {},
   "source": [
    "The Laplacian operator\n",
    "\n",
    ">$\\displaystyle \\nabla^2 =\\frac{\\partial^2}{\\partial x^2} +\\frac{\\partial^2}{\\partial y^2} +\\frac{\\partial^2}{\\partial z^2}$\n",
    "\n",
    "is probably the most important operator in mathematical physics. The question is, what does it mean and why should the sum of three second derivatives have anything to do with the laws of nature? The answer to this lies in the fact that the Laplacian of a function allows us to compare the function at a point with the function at neighboring points. It does what the second derivative did in one dimension and might be thought of as a second derivative generalized to higher dimensions\n",
    "\n",
    "><img src=\"figures/pde03_figure01.jpg\" alt=\"Intutive Meaning of the Laplacian\" style=\"width:500px\"/>"
   ]
  },
  {
   "cell_type": "markdown",
   "metadata": {},
   "source": [
    "* The heat equation $u_t=\\alpha\\nabla^2 u$ measures temperature $u$, and the equation can be interpreted to mean that the change in temperature with respect to time $u_t$ is proportional to $\\nabla^2 u$. That is, the temperature at a point is increasing if the temperature at that point is less than the average of the temperatures on a circle around the point\n",
    "\n",
    "* The wave equation $u_{tt}=c^2\\nabla^2 u$ measures the displacement of a drumhead and can be interpreted to mean that the acceleration (or force) of a point on the drumhead $u_{tt}$ is proportional to $\\nabla^2 u$. That is, the drumhead at a point is accelerating upward if the drumhead at that point is less than the average of its neighbors\n",
    "\n",
    "* Laplace's equation $\\nabla^2 u = 0$ says that the solution $u$ is always equal to the average of its neighbors. For example, a steady-state, stretched rubber membrane satisfies Laplace's equation, hence, the height of the membrane at any point is equal to the average height of the membrane on a circle around the point\n",
    "\n",
    "* Poisson's equation $\\nabla^2 u=f$, where $f$ is a function that depends only on the space variables\n",
    "\n",
    "  * $\\nabla^2 u=-\\rho$ describes the potential of an electrostatic field where $\\rho$ represents a constant charge density\n",
    "  * $\\nabla^2 u =-g(x,y)$ describes the steady-state temperature $u(x,y)$ due to a heat source $g(x,y)$ \n",
    "  * $\\nabla^2 u +\\lambda u =0$ is known as the Helmholtz equation which describes the fundamental shapes of a stretched membrane"
   ]
  },
  {
   "cell_type": "markdown",
   "metadata": {},
   "source": [
    "#### Changing Coordinates"
   ]
  },
  {
   "cell_type": "markdown",
   "metadata": {},
   "source": [
    "Before we start, however, let's review briefly the three major coordinate systems in two or three dimensions except for Cartesian system:"
   ]
  },
  {
   "cell_type": "markdown",
   "metadata": {},
   "source": [
    "* Polar Coordinates\n",
    "\n",
    "><img src=\"figures/pde03_figure02.jpg\" alt=\"Polar Coordinate\" style=\"width:250px\"/>\n",
    "\n",
    ">$\\begin{matrix}\n",
    " x=r\\cos \\theta \\\\ \n",
    " y=r\\sin \\theta \\, \\\\ \n",
    "\\end{matrix} \\;\\; \\Rightarrow \\;\\;\n",
    "\\begin{matrix}\n",
    " r^2 = x^2 + y^2 \\;\\;\\;\\\\ \n",
    " \\tan\\theta = y/x \\;\\;\\;\\;\\;\n",
    "\\end{matrix}$\n",
    "\n",
    "* Cylindrical Coordinates\n",
    "\n",
    "><img src=\"figures/pde03_figure03.jpg\" alt=\"Cylindrical Coordinate\" style=\"width:300px\"/>\n",
    "\n",
    ">$\\begin{matrix}\n",
    "  x = r\\cos \\theta \\\\ \n",
    "  y = r\\sin \\theta \\, \\\\\n",
    "  z = z \\;\\;\\;\\;\\;\\;\\;\n",
    " \\end{matrix} \\;\\; \\Rightarrow \\;\\;\n",
    " \\begin{matrix}\n",
    "  r^2 = x^2 + y^2 \\;\\;\\;\\\\ \n",
    "  \\tan\\theta = y/x  \\;\\;\\;\\;\\; \\\\\n",
    "  z=z\\;\\;\\;\\;\\;\\;\\;\\;\\;\\;\\;\\;\n",
    " \\end{matrix}$\n",
    "\n",
    "* Spherical Coordinates\n",
    "\n",
    "><img src=\"figures/pde03_figure04.jpg\" alt=\"Spherical Coordinate\" style=\"width:300px\"/>\n",
    "\n",
    ">$\\begin{matrix}\n",
    "  x = r\\sin\\phi\\cos \\theta \\\\ \n",
    "  y = r\\sin\\phi\\sin \\theta \\, \\\\\n",
    "  z = r\\cos\\phi \\;\\;\\;\\;\\;\\;\\;\n",
    " \\end{matrix} \\;\\; \\Rightarrow \\;\\;\n",
    " \\begin{matrix}\n",
    "  r^2 = x^2 + y^2 +z^2 \\;\\;\\;\\\\ \n",
    "  \\cos\\phi = z/r \\;\\;\\;\\;\\;\\;\\;\\;\\;\\;\\;\\;\\\\\n",
    "  \\tan\\theta=y/x\\;\\;\\;\\;\\;\\;\\;\\;\\;\\;\\;\\;\n",
    " \\end{matrix}$"
   ]
  },
  {
   "cell_type": "markdown",
   "metadata": {},
   "source": [
    "As an illustration, we see how the two-dimensional Laplacian is transformed into polar coordinates:\n",
    "\n",
    ">$\\begin{align*}\n",
    " \\nabla^2u &= u_{xx} +u_{yy}\\\\ \n",
    " &\\Updownarrow \\\\ \n",
    " u_x = u_r r_x +u_\\theta \\theta_x &= u_r \\cos\\theta -u_\\theta \\frac{\\sin\\theta}{r}\\\\ \n",
    " u_y = u_r r_y +u_\\theta \\theta_y &= u_r \\sin\\theta +u_\\theta \\frac{\\cos\\theta}{r}\\\\ \n",
    " &\\Downarrow \\\\\n",
    " u_{xx} = (u_x)_r r_x +(u_x)_\\theta \\theta_x &= \n",
    "  \\left( u_{rr} \\cos\\theta -u_{\\theta r} \\frac{\\sin\\theta}{r} +u_\\theta\\frac{\\sin\\theta}{r^2} \\right) \\cos\\theta \n",
    "  -\\left( u_{r\\theta} \\cos\\theta -u_r\\sin\\theta -u_{\\theta\\theta} \\frac{\\sin\\theta}{r} \n",
    "  -u_\\theta \\frac{\\cos\\theta}{r} \\right)\\frac{\\sin\\theta}{r} \\\\\n",
    " u_{yy} = (u_y)_r r_y +(u_y)_\\theta \\theta_y &= \n",
    "  \\left( u_{rr} \\sin\\theta +u_{\\theta r} \\frac{\\cos\\theta}{r} -u_\\theta\\frac{\\cos\\theta}{r^2} \\right) \\sin\\theta \n",
    "  +\\left( u_{r\\theta} \\sin\\theta +u_r\\cos\\theta +u_{\\theta\\theta} \\frac{\\cos\\theta}{r} \n",
    "  -u_\\theta \\frac{\\sin\\theta}{r} \\right)\\frac{\\cos\\theta}{r} \\\\\n",
    "  &\\Updownarrow \\\\\n",
    "  \\nabla^2 u = u_{rr} &+\\frac{1}{r} u_r +\\frac{1}{r^2} u_{\\theta\\theta} \n",
    "\\end{align*}$"
   ]
  },
  {
   "cell_type": "markdown",
   "metadata": {},
   "source": [
    "Changing the three-dimensional Laplacian $\\nabla^2 u = u_{xx} +u_{yy} +u_{zz}$ to cylindrical coordinates, we can show\n",
    "\n",
    ">$\\displaystyle \\nabla^2 u = u_{rr} +\\frac{1}{r} u_r +\\frac{1}{r^2} u_{\\theta\\theta} +u_{zz}$"
   ]
  },
  {
   "cell_type": "markdown",
   "metadata": {},
   "source": [
    "Finally, if we write the Laplacian in spherical coordinates, we have\n",
    "\n",
    ">$\\begin{align*}\n",
    " \\nabla^2u &= u_{xx} +u_{yy} +u_{zz}\\\\ \n",
    " &\\Updownarrow \\\\ \n",
    " u_x = u_r r_x +u_\\phi \\phi_x+u_\\theta \\theta_x &= u_r \\sin\\phi\\cos\\theta +u_\\phi \\frac{\\cos\\phi\\cos\\theta}{r}\n",
    "  -u_\\theta \\frac{\\sin\\theta}{r\\sin\\phi}\\\\ \n",
    " u_y = u_r r_y +u_\\phi \\phi_y+u_\\theta \\theta_y &= u_r \\sin\\phi\\sin\\theta +u_\\phi \\frac{\\cos\\phi\\sin\\theta}{r}\n",
    "  +u_\\theta \\frac{\\cos\\theta}{r \\sin\\phi}\\\\ \n",
    " u_z = u_r r_z +u_\\phi \\phi_z+u_\\theta \\theta_z &= u_r \\cos\\phi -u_\\phi\\frac{\\sin\\phi}{r} \\\\ \n",
    " &\\Downarrow \\\\\n",
    "   u_{xx} = (u_x)_r r_x +(u_x)_\\phi \\phi_x+(u_x)_\\theta \\theta_x &= \n",
    "  \\left( u_{rr} \\sin\\phi\\cos\\theta +u_{\\phi r} \\frac{\\cos\\phi\\cos\\theta}{r}  -u_\\phi\\frac{\\cos\\phi\\cos\\theta}{r^2}\n",
    "    -u_{\\theta r} \\frac{\\sin\\theta}{r\\sin\\phi} +u_\\theta\\frac{\\sin\\theta}{r^2\\sin\\phi} \\right) \n",
    "    \\sin\\phi\\cos\\theta \\\\\n",
    "  &+\\left( u_{r\\phi}\\sin\\phi \\cos\\theta +u_r\\cos\\phi\\cos\\theta +u_{\\phi\\phi} \\frac{\\cos\\phi\\cos\\theta}{r} -u_{\\phi} \\frac{\\sin\\phi\\cos\\theta}{r} \n",
    "    -u_{\\theta\\phi} \\frac{\\sin\\theta}{r\\sin\\phi} +u_\\theta \\frac{\\sin\\theta\\cot\\phi}{r\\sin\\phi}\n",
    "  \\right)\\frac{\\cos\\phi \\cos\\theta}{r} \\\\\n",
    "  &-\\left( u_{r\\theta}\\sin\\phi\\cos\\theta -u_r \\sin\\phi\\sin\\theta +u_{\\phi\\theta} \\frac{\\cos\\phi\\cos\\theta}{r} \n",
    "   -u_\\phi \\frac{\\cos\\phi\\sin\\theta}{r} -u_{\\theta\\theta}\\frac{\\sin\\theta}{r\\sin\\phi} -u_\\theta \\frac{\\cos\\theta}{r\\sin\\phi} \\right) \n",
    "   \\frac{\\sin\\theta}{r\\sin\\phi} \\\\\n",
    "     u_{yy} = (u_y)_r r_y +(u_y)_\\phi \\phi_y+(u_y)_\\theta \\theta_y &= \n",
    "  \\left( u_{rr} \\sin\\phi\\sin\\theta +u_{\\phi r} \\frac{\\cos\\phi\\sin\\theta}{r}  -u_\\phi\\frac{\\cos\\phi\\sin\\theta}{r^2}\n",
    "    +u_{\\theta r} \\frac{\\cos\\theta}{r\\sin\\phi} -u_\\theta\\frac{\\cos\\theta}{r^2\\sin\\phi} \\right) \n",
    "    \\sin\\phi\\sin\\theta \\\\\n",
    "  &+\\left( u_{r\\phi}\\sin\\phi \\sin\\theta +u_r\\cos\\phi\\sin\\theta +u_{\\phi\\phi} \\frac{\\cos\\phi\\sin\\theta}{r} -u_{\\phi} \\frac{\\sin\\phi\\sin\\theta}{r} \n",
    "    +u_{\\theta\\phi} \\frac{\\cos\\theta}{r\\sin\\phi} -u_\\theta \\frac{\\cos\\theta\\cot\\phi}{r\\sin\\phi}\n",
    "  \\right)\\frac{\\cos\\phi \\sin\\theta}{r} \\\\\n",
    "  &+\\left( u_{r\\theta}\\sin\\phi\\sin\\theta +u_r \\sin\\phi\\cos\\theta +u_{\\phi\\theta} \\frac{\\cos\\phi\\sin\\theta}{r} \n",
    "   +u_\\phi \\frac{\\cos\\phi\\cos\\theta}{r} +u_{\\theta\\theta}\\frac{\\cos\\theta}{r\\sin\\phi} -u_\\theta \\frac{\\sin\\theta}{r\\sin\\phi} \\right) \n",
    "   \\frac{\\cos\\theta}{r\\sin\\phi} \\\\\n",
    "    u_{zz} = (u_z)_r r_z +(u_z)_\\phi \\phi_z+(u_z)_\\theta \\theta_z \n",
    "    &= \\left( u_{rr}\\cos\\phi -u_{\\phi r}\\frac{\\sin\\phi}{r} +u_\\phi\\frac{\\sin\\phi}{r^2} \\right) \\cos\\phi \\\\\n",
    "    &+\\left( -u_{r\\phi}\\cos\\phi +u_{r}\\sin\\phi +u_{\\phi\\phi}\\frac{\\sin\\phi}{r} +u_\\phi\\frac{\\cos\\phi}{r} \\right) \\frac{\\sin\\phi}{r}\\\\ \n",
    "    &\\Downarrow \\\\\n",
    "    \\nabla^2 u &=u_{rr} +\\frac{2}{r} u_r +\\frac{1}{r^2}u_{\\phi\\phi} +\\frac{\\cot\\phi}{r^2} u_{\\phi} +\\frac{1}{r^2\\sin^2\\phi}u_{\\theta\\theta}\n",
    "\\end{align*}$"
   ]
  },
  {
   "cell_type": "markdown",
   "metadata": {},
   "source": [
    "**NOTE**\n",
    "\n",
    "The Laplacian in cartesian coordinates is the only one with constant coefficients. This is one reason why problems in other coordinate systems are harder to solve. It is still possible to use the separation of variables for these equations with variable coefficients; it's just that some of the resulting ordinary differential equations have variables coefficients. We arrive at a lot of fairly complicated equations, such as Bessel's equation, Legendre equation, and other so-called classical equations of physics. To solve these equations, we must resort to inifinite-series solutions and, in particular, the method of Frobenious"
   ]
  },
  {
   "cell_type": "markdown",
   "metadata": {},
   "source": [
    "**Example** $\\text{ }$ What is the wave equation $u_{tt}=c^2\\nabla^2 u$ in polar coordinates if you know the solution $u$ depends only on $r$ and $t$"
   ]
  },
  {
   "cell_type": "markdown",
   "metadata": {},
   "source": [
    "**Example** $\\text{ }$ What is Laplace's equation in spherical coordinates if the solution $u$ depends only on $r$? Can you find the solutions of this equation? These are the spherically symmetric potentials in three dimensions"
   ]
  },
  {
   "cell_type": "markdown",
   "metadata": {},
   "source": [
    "## Lesson 31. General Nature of Boundary-Value Problems "
   ]
  },
  {
   "cell_type": "code",
   "execution_count": null,
   "metadata": {},
   "outputs": [],
   "source": []
  }
 ],
 "metadata": {
  "kernelspec": {
   "display_name": "Python 3",
   "language": "python",
   "name": "python3"
  },
  "language_info": {
   "codemirror_mode": {
    "name": "ipython",
    "version": 3
   },
   "file_extension": ".py",
   "mimetype": "text/x-python",
   "name": "python",
   "nbconvert_exporter": "python",
   "pygments_lexer": "ipython3",
   "version": "3.6.6"
  }
 },
 "nbformat": 4,
 "nbformat_minor": 2
}
