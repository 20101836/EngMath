{
 "cells": [
  {
   "cell_type": "markdown",
   "metadata": {},
   "source": [
    "[![Open In Colab](https://colab.research.google.com/assets/colab-badge.svg)](https://colab.research.google.com/github/SeoulTechPSE/EngMath/blob/master/PDE03.ipynb)"
   ]
  },
  {
   "cell_type": "markdown",
   "metadata": {},
   "source": [
    "## Lesson 30. The Laplacian (an Intuitive Description)"
   ]
  },
  {
   "cell_type": "markdown",
   "metadata": {},
   "source": [
    "The Laplacian operator\n",
    "\n",
    ">$\\displaystyle \\nabla^2 =\\frac{\\partial^2}{\\partial x^2} +\\frac{\\partial^2}{\\partial y^2} +\\frac{\\partial^2}{\\partial z^2}$\n",
    "\n",
    "is probably the most important operator in mathematical physics. The question is, what does it mean and why should the sum of three second derivatives have anything to do with the laws of nature? The answer to this lies in the fact that the Laplacian of a function allows us to compare the function at a point with the function at neighboring points. It does what the second derivative did in one dimension and might be thought of as a second derivative generalized to higher dimensions\n",
    "\n",
    "><img src=\"figures/pde03_figure01.jpg\" alt=\"Intutive Meaning of the Laplacian\" width=\"450\"/>"
   ]
  },
  {
   "cell_type": "markdown",
   "metadata": {},
   "source": [
    "* The heat equation $u_t=\\alpha\\nabla^2 u$ measures temperature $u$, and the equation can be interpreted to mean that the change in temperature with respect to time $u_t$ is proportional to $\\nabla^2 u$. That is, the temperature at a point is increasing if the temperature at that point is less than the average of the temperatures on a circle around the point\n",
    "\n",
    "* The wave equation $u_{tt}=c^2\\nabla^2 u$ measures the displacement of a drumhead and can be interpreted to mean that the acceleration (or force) of a point on the drumhead $u_{tt}$ is proportional to $\\nabla^2 u$. That is, the drumhead at a point is accelerating upward if the drumhead at that point is less than the average of its neighbors\n",
    "\n",
    "* Laplace's equation $\\nabla^2 u = 0$ says that the solution $u$ is always equal to the average of its neighbors. For example, a steady-state, stretched rubber membrane satisfies Laplace's equation, hence, the height of the membrane at any point is equal to the average height of the membrane on a circle around the point\n",
    "\n",
    "* Poisson's equation $\\nabla^2 u=f$, where $f$ is a function that depends only on the space variables\n",
    "\n",
    "  * $\\nabla^2 u=-\\rho$ describes the potential of an electrostatic field where $\\rho$ represents a constant charge density\n",
    "  * $\\nabla^2 u =-g(x,y)$ describes the steady-state temperature $u(x,y)$ due to a heat source $g(x,y)$ \n",
    "  * $\\nabla^2 u +\\lambda u =0$ is known as the Helmholtz equation which describes the fundamental shapes of a stretched membrane"
   ]
  },
  {
   "cell_type": "markdown",
   "metadata": {},
   "source": [
    "#### Changing Coordinates"
   ]
  },
  {
   "cell_type": "markdown",
   "metadata": {},
   "source": [
    "Before we start, however, let's review briefly the three major coordinate systems in two or three dimensions except for Cartesian system:"
   ]
  },
  {
   "cell_type": "markdown",
   "metadata": {},
   "source": [
    "* Polar Coordinates\n",
    "\n",
    "><img src=\"figures/pde03_figure02.jpg\" alt=\"Polar Coordinate\" width=\"250\"/>\n",
    "\n",
    ">$\\begin{matrix}\n",
    " x=r\\cos \\theta \\\\ \n",
    " y=r\\sin \\theta \\, \\\\ \n",
    "\\end{matrix} \\;\\; \\Rightarrow \\;\\;\n",
    "\\begin{matrix}\n",
    " r^2 = x^2 + y^2 \\;\\;\\;\\\\ \n",
    " \\tan\\theta = y/x \\;\\;\\;\\;\\;\n",
    "\\end{matrix}$\n",
    "\n",
    "* Cylindrical Coordinates\n",
    "\n",
    "><img src=\"figures/pde03_figure03.jpg\" alt=\"Cylindrical Coordinate\" width=\"300\"/>\n",
    "\n",
    ">$\\begin{matrix}\n",
    "  x = r\\cos \\theta \\\\ \n",
    "  y = r\\sin \\theta \\, \\\\\n",
    "  z = z \\;\\;\\;\\;\\;\\;\\;\n",
    " \\end{matrix} \\;\\; \\Rightarrow \\;\\;\n",
    " \\begin{matrix}\n",
    "  r^2 = x^2 + y^2 \\;\\;\\;\\\\ \n",
    "  \\tan\\theta = y/x  \\;\\;\\;\\;\\; \\\\\n",
    "  z=z\\;\\;\\;\\;\\;\\;\\;\\;\\;\\;\\;\\;\n",
    " \\end{matrix}$\n",
    "\n",
    "* Spherical Coordinates\n",
    "\n",
    "><img src=\"figures/pde03_figure04.jpg\" alt=\"Spherical Coordinate\" width=\"300\"/>\n",
    "\n",
    ">$\\begin{matrix}\n",
    "  x = r\\sin\\phi\\cos \\theta \\\\ \n",
    "  y = r\\sin\\phi\\sin \\theta \\, \\\\\n",
    "  z = r\\cos\\phi \\;\\;\\;\\;\\;\\;\\;\n",
    " \\end{matrix} \\;\\; \\Rightarrow \\;\\;\n",
    " \\begin{matrix}\n",
    "  r^2 = x^2 + y^2 +z^2 \\;\\;\\;\\\\ \n",
    "  \\cos\\phi = z/r \\;\\;\\;\\;\\;\\;\\;\\;\\;\\;\\;\\;\\\\\n",
    "  \\tan\\theta=y/x\\;\\;\\;\\;\\;\\;\\;\\;\\;\\;\\;\\;\n",
    " \\end{matrix}$"
   ]
  },
  {
   "cell_type": "markdown",
   "metadata": {},
   "source": [
    "As an illustration, we see how the two-dimensional Laplacian is transformed into polar coordinates:\n",
    "\n",
    ">$\\begin{align*}\n",
    " \\nabla^2u &= u_{xx} +u_{yy}\\\\ \n",
    " &\\Updownarrow \\\\ \n",
    " u_x = u_r r_x +u_\\theta \\theta_x &= u_r \\cos\\theta -u_\\theta \\frac{\\sin\\theta}{r}\\\\ \n",
    " u_y = u_r r_y +u_\\theta \\theta_y &= u_r \\sin\\theta +u_\\theta \\frac{\\cos\\theta}{r}\\\\ \n",
    " &\\Downarrow \\\\\n",
    " u_{xx} = (u_x)_r r_x +(u_x)_\\theta \\theta_x &= \n",
    "  \\left( u_{rr} \\cos\\theta -u_{\\theta r} \\frac{\\sin\\theta}{r} +u_\\theta\\frac{\\sin\\theta}{r^2} \\right) \\cos\\theta \n",
    "  -\\left( u_{r\\theta} \\cos\\theta -u_r\\sin\\theta -u_{\\theta\\theta} \\frac{\\sin\\theta}{r} \n",
    "  -u_\\theta \\frac{\\cos\\theta}{r} \\right)\\frac{\\sin\\theta}{r} \\\\\n",
    " u_{yy} = (u_y)_r r_y +(u_y)_\\theta \\theta_y &= \n",
    "  \\left( u_{rr} \\sin\\theta +u_{\\theta r} \\frac{\\cos\\theta}{r} -u_\\theta\\frac{\\cos\\theta}{r^2} \\right) \\sin\\theta \n",
    "  +\\left( u_{r\\theta} \\sin\\theta +u_r\\cos\\theta +u_{\\theta\\theta} \\frac{\\cos\\theta}{r} \n",
    "  -u_\\theta \\frac{\\sin\\theta}{r} \\right)\\frac{\\cos\\theta}{r} \\\\\n",
    "  &\\Updownarrow \\\\\n",
    "  \\nabla^2 u = u_{rr} &+\\frac{1}{r} u_r +\\frac{1}{r^2} u_{\\theta\\theta} \n",
    "\\end{align*}$"
   ]
  },
  {
   "cell_type": "markdown",
   "metadata": {},
   "source": [
    "Changing the three-dimensional Laplacian $\\nabla^2 u = u_{xx} +u_{yy} +u_{zz}$ to cylindrical coordinates, we can show\n",
    "\n",
    ">$\\displaystyle \\nabla^2 u = u_{rr} +\\frac{1}{r} u_r +\\frac{1}{r^2} u_{\\theta\\theta} +u_{zz}$"
   ]
  },
  {
   "cell_type": "markdown",
   "metadata": {},
   "source": [
    "Finally, if we write the Laplacian in spherical coordinates, we have\n",
    "\n",
    ">$\\begin{align*}\n",
    " \\nabla^2u &= u_{xx} +u_{yy} +u_{zz}\\\\ \n",
    " &\\Updownarrow \\\\ \n",
    " u_x = u_r r_x +u_\\phi \\phi_x+u_\\theta \\theta_x &= u_r \\sin\\phi\\cos\\theta +u_\\phi \\frac{\\cos\\phi\\cos\\theta}{r}\n",
    "  -u_\\theta \\frac{\\sin\\theta}{r\\sin\\phi}\\\\ \n",
    " u_y = u_r r_y +u_\\phi \\phi_y+u_\\theta \\theta_y &= u_r \\sin\\phi\\sin\\theta +u_\\phi \\frac{\\cos\\phi\\sin\\theta}{r}\n",
    "  +u_\\theta \\frac{\\cos\\theta}{r \\sin\\phi}\\\\ \n",
    " u_z = u_r r_z +u_\\phi \\phi_z+u_\\theta \\theta_z &= u_r \\cos\\phi -u_\\phi\\frac{\\sin\\phi}{r} \\\\ \n",
    " &\\Downarrow \\\\\n",
    "   u_{xx} = (u_x)_r r_x +(u_x)_\\phi \\phi_x+(u_x)_\\theta \\theta_x &= \n",
    "  \\left( u_{rr} \\sin\\phi\\cos\\theta +u_{\\phi r} \\frac{\\cos\\phi\\cos\\theta}{r}  -u_\\phi\\frac{\\cos\\phi\\cos\\theta}{r^2}\n",
    "    -u_{\\theta r} \\frac{\\sin\\theta}{r\\sin\\phi} +u_\\theta\\frac{\\sin\\theta}{r^2\\sin\\phi} \\right) \n",
    "    \\sin\\phi\\cos\\theta \\\\\n",
    "  &+\\left( u_{r\\phi}\\sin\\phi \\cos\\theta +u_r\\cos\\phi\\cos\\theta +u_{\\phi\\phi} \\frac{\\cos\\phi\\cos\\theta}{r} -u_{\\phi} \\frac{\\sin\\phi\\cos\\theta}{r} \n",
    "    -u_{\\theta\\phi} \\frac{\\sin\\theta}{r\\sin\\phi} +u_\\theta \\frac{\\sin\\theta\\cot\\phi}{r\\sin\\phi}\n",
    "  \\right)\\frac{\\cos\\phi \\cos\\theta}{r} \\\\\n",
    "  &-\\left( u_{r\\theta}\\sin\\phi\\cos\\theta -u_r \\sin\\phi\\sin\\theta +u_{\\phi\\theta} \\frac{\\cos\\phi\\cos\\theta}{r} \n",
    "   -u_\\phi \\frac{\\cos\\phi\\sin\\theta}{r} -u_{\\theta\\theta}\\frac{\\sin\\theta}{r\\sin\\phi} -u_\\theta \\frac{\\cos\\theta}{r\\sin\\phi} \\right) \n",
    "   \\frac{\\sin\\theta}{r\\sin\\phi} \\\\\n",
    "     u_{yy} = (u_y)_r r_y +(u_y)_\\phi \\phi_y+(u_y)_\\theta \\theta_y &= \n",
    "  \\left( u_{rr} \\sin\\phi\\sin\\theta +u_{\\phi r} \\frac{\\cos\\phi\\sin\\theta}{r}  -u_\\phi\\frac{\\cos\\phi\\sin\\theta}{r^2}\n",
    "    +u_{\\theta r} \\frac{\\cos\\theta}{r\\sin\\phi} -u_\\theta\\frac{\\cos\\theta}{r^2\\sin\\phi} \\right) \n",
    "    \\sin\\phi\\sin\\theta \\\\\n",
    "  &+\\left( u_{r\\phi}\\sin\\phi \\sin\\theta +u_r\\cos\\phi\\sin\\theta +u_{\\phi\\phi} \\frac{\\cos\\phi\\sin\\theta}{r} -u_{\\phi} \\frac{\\sin\\phi\\sin\\theta}{r} \n",
    "    +u_{\\theta\\phi} \\frac{\\cos\\theta}{r\\sin\\phi} -u_\\theta \\frac{\\cos\\theta\\cot\\phi}{r\\sin\\phi}\n",
    "  \\right)\\frac{\\cos\\phi \\sin\\theta}{r} \\\\\n",
    "  &+\\left( u_{r\\theta}\\sin\\phi\\sin\\theta +u_r \\sin\\phi\\cos\\theta +u_{\\phi\\theta} \\frac{\\cos\\phi\\sin\\theta}{r} \n",
    "   +u_\\phi \\frac{\\cos\\phi\\cos\\theta}{r} +u_{\\theta\\theta}\\frac{\\cos\\theta}{r\\sin\\phi} -u_\\theta \\frac{\\sin\\theta}{r\\sin\\phi} \\right) \n",
    "   \\frac{\\cos\\theta}{r\\sin\\phi} \\\\\n",
    "    u_{zz} = (u_z)_r r_z +(u_z)_\\phi \\phi_z+(u_z)_\\theta \\theta_z \n",
    "    &= \\left( u_{rr}\\cos\\phi -u_{\\phi r}\\frac{\\sin\\phi}{r} +u_\\phi\\frac{\\sin\\phi}{r^2} \\right) \\cos\\phi \\\\\n",
    "    &+\\left( -u_{r\\phi}\\cos\\phi +u_{r}\\sin\\phi +u_{\\phi\\phi}\\frac{\\sin\\phi}{r} +u_\\phi\\frac{\\cos\\phi}{r} \\right) \\frac{\\sin\\phi}{r}\\\\ \n",
    "    &\\Downarrow \\\\\n",
    "    \\nabla^2 u &=u_{rr} +\\frac{2}{r} u_r +\\frac{1}{r^2}u_{\\phi\\phi} +\\frac{\\cot\\phi}{r^2} u_{\\phi} +\\frac{1}{r^2\\sin^2\\phi}u_{\\theta\\theta}\n",
    "\\end{align*}$"
   ]
  },
  {
   "cell_type": "markdown",
   "metadata": {},
   "source": [
    "**NOTE**\n",
    "\n",
    "The Laplacian in cartesian coordinates is the only one with constant coefficients. This is one reason why problems in other coordinate systems are harder to solve. It is still possible to use the separation of variables for these equations with variable coefficients; it's just that some of the resulting ordinary differential equations have variables coefficients. We arrive at a lot of fairly complicated equations, such as Bessel's equation, Legendre equation, and other so-called classical equations of physics. To solve these equations, we must resort to inifinite-series solutions and, in particular, the method of Frobenious"
   ]
  },
  {
   "cell_type": "markdown",
   "metadata": {},
   "source": [
    "**Example** $\\text{ }$ What is the wave equation $u_{tt}=c^2\\nabla^2 u$ in polar coordinates if you know the solution $u$ depends only on $r$ and $t$"
   ]
  },
  {
   "cell_type": "markdown",
   "metadata": {},
   "source": [
    "**Example** $\\text{ }$ What is Laplace's equation in spherical coordinates if the solution $u$ depends only on $r$? Can you find the solutions of this equation? These are the spherically symmetric potentials in three dimensions"
   ]
  },
  {
   "cell_type": "markdown",
   "metadata": {},
   "source": [
    "## Lesson 31. General Nature of Boundary-Value Problems "
   ]
  },
  {
   "cell_type": "markdown",
   "metadata": {},
   "source": [
    "There are many important problems whose outcomes do not change with time, are described by elliptic boundary-value problems. There are two common situations in physical problems that give rise to PDEs that don't involve time; they are:\n",
    "\n",
    "1. Steady-state problems\n",
    "2. Problems where we factor out the time component in the solution\n",
    "\n",
    "When studying boundary-value problems (BVPs), there are three types of BCs that are most common; we discuss these three types now"
   ]
  },
  {
   "cell_type": "markdown",
   "metadata": {},
   "source": [
    "#### Dirichlet Problems"
   ]
  },
  {
   "cell_type": "markdown",
   "metadata": {},
   "source": [
    "Here, the PDE holds over a given region of space, and the solution is specified on the boundary of the region. An example would be to find the steady-state temperature insdie a circle with the temperature givn on the boundary\n",
    "\n",
    ">$\\displaystyle u_{rr} +\\frac{1}{r}u_r + \\frac{1}{r^2} u_{\\theta\\theta}=0, \\;\\;\\;0 < r < 1$\n",
    "\n",
    ">$\\displaystyle u(1,\\theta) = \\sin\\theta, \\;\\;\\; 0 \\leq \\theta < 2\\pi$\n",
    "\n",
    "><img src=\"figures/pde03_figure05.jpg\" alt=\"Interior Dirichlet Problem\" width=\"300\"/>\n",
    "\n",
    "Another example would be an exterior Dirichlet problem in which we are looking for the solution of Laplace's equation outside the unit circle, and the solution is given on the circle\n",
    "\n",
    "><img src=\"figures/pde03_figure06.jpg\" alt=\"Exterior Dirichlet Problem\" width=\"300\"/>"
   ]
  },
  {
   "cell_type": "markdown",
   "metadata": {},
   "source": [
    "#### Neumann Problems"
   ]
  },
  {
   "cell_type": "markdown",
   "metadata": {},
   "source": [
    "Here, the PDE holds in some region of space, but now the outward normal derivative $\\partial u/\\partial n$ (which is proportional to the inward flux) is specified on the boundary. For example, suppose the inward flow of heat varies around the circle according to\n",
    "\n",
    ">$\\displaystyle \\frac{\\partial u}{\\partial r}=\\sin\\theta$\n",
    "\n",
    "The steady-state temperature inside the circle would then be given by the solution of the BVP\n",
    "\n",
    ">$\\displaystyle \\nabla^2 u = 0, \\;\\;\\;\\; 0 < r < 1$\n",
    "\n",
    ">$\\displaystyle \\frac{\\partial u}{\\partial r} =\\sin\\theta, \\;\\;\\;\\; r=1, \\;\\; 0 \\leq \\theta < 2\\pi$\n",
    "\n",
    "Here, we can see that the flux of heat across the boundary is inward for $0 \\leq \\theta \\leq \\pi$ and outward for $\\pi \\leq \\theta < 2\\pi$\n",
    "\n",
    "><img src=\"figures/pde03_figure07.jpg\" alt=\"flow of heat for the Neumann problem\" width=\"300\"/>\n",
    "\n",
    "However, since the total flux\n",
    "\n",
    ">$\\displaystyle \\int_0^{2\\pi} \\frac{\\partial u}{\\partial r}\\, d\\theta=\\int_0^{2\\pi} \\sin\\theta \\,d\\theta = 0$\n",
    "\n",
    "(a condition that must be true for Neumann problems), we can say that the temperature ar each point insdie circle does not change with respect to time. In other words, Neumann problems make sense only if the net gain in heat (or whatever) across the boundary is zero\n",
    "\n",
    "The Neumann problem is somewhat different from other boundary conditions in that solutions are not unique. In other words, the above Neumann problem has an infinite number of solutions $u(r,\\theta)$. Once we have one solution, we can get the others just by adding a constant. For example, one solution to our Neumann problem is\n",
    "\n",
    ">$\\displaystyle u(r,\\theta)=r\\sin\\theta$\n",
    "\n",
    "and it is obvious that if we add a constant to this solution, another one is obtained. For this reason, if we want to find one solution to the Neumann problem, we must have some additional information (like knowing the solution at one point)"
   ]
  },
  {
   "cell_type": "markdown",
   "metadata": {},
   "source": [
    "#### Robin Problems"
   ]
  },
  {
   "cell_type": "markdown",
   "metadata": {},
   "source": [
    "These problems correspond to the PDEs being given in some region of space, but now the condition on the boundary is a mixture of the first two kinds\n",
    "\n",
    ">$\\displaystyle \\frac{\\partial u}{\\partial n} = -h(u -g)$\n",
    "\n",
    "where $h$ is a constant and $g$ is a given function that can vary over the boundary. This BC says the inward flux across the boundary is proportional to the difference between the temperature $u$ and some specified temperature $g$. This, of course, is just Newton's law of cooling.\n",
    "The constant $h$ is a physical parameter that measures the amount of flux across the boundary per difference between $u$ and $g$. If $h$ is large, then heat flow is great per temperature difference, and so the solution looks very much like the solution of the Dirichlet problem $u=g$. On the order hand, if $h=0$, then the BC is reduced to the insulated BC\n",
    "\n",
    ">$\\displaystyle \\frac{\\partial u}{\\partial r}=0$"
   ]
  },
  {
   "cell_type": "markdown",
   "metadata": {},
   "source": [
    "**Example** $\\text{ }$ Does the following Neumann have a solution inside the circle:\n",
    "\n",
    ">$\\displaystyle \\nabla^2 u = 0, \\;\\;\\;\\; 0 < r < 1$\n",
    "\n",
    ">$\\displaystyle \\frac{\\partial u}{\\partial r} =\\sin^2\\theta, \\;\\;\\;\\; r=1, \\;\\; 0 \\leq \\theta < 2\\pi$"
   ]
  },
  {
   "cell_type": "markdown",
   "metadata": {},
   "source": [
    "**Example** $\\text{ }$ For different values of $h$, imagine the solution $u(r,\\theta)$ to\n",
    "\n",
    ">$\\displaystyle \\nabla^2 u = 0, \\;\\;\\;\\; 0 < r < 1$\n",
    "\n",
    ">$\\displaystyle \\frac{\\partial u}{\\partial r} +h(u -\\sin\\theta), \\;\\;\\;\\; r=1, \\;\\; 0 \\leq \\theta < 2\\pi$"
   ]
  },
  {
   "cell_type": "markdown",
   "metadata": {},
   "source": [
    "## Lesson 32. Interior Dirichlet Problem for a Circle"
   ]
  },
  {
   "cell_type": "markdown",
   "metadata": {},
   "source": [
    "This lesson presents a number of new ideas to solve the interior Dirichlet problem for the circle\n",
    "\n",
    ">$\\displaystyle u_{rr} +\\frac{1}{r}u_r + \\frac{1}{r^2} u_{\\theta\\theta}=0, \\;\\;\\;0 < r < 1$\n",
    "\n",
    ">$\\displaystyle u(1,\\theta) = g(\\theta), \\;\\;\\; 0 \\leq \\theta < 2\\pi$\n",
    "\n",
    "The method of separation of variables will be the usual procedure\n",
    "\n",
    ">$\\begin{align*}\n",
    " u_{rr} +\\frac{1}{r}u_r &+\\frac{1}{r^2}u_{\\theta\\theta}= 0 \\\\ \n",
    "  u(1,\\theta) &= g(\\theta) \\\\ \n",
    " &\\Downarrow u(r,\\theta)=R(r)\\Theta(\\theta)\\\\ \n",
    " -\\frac{r^2R'' +rR'}{R} &= \\frac{\\;\\Theta''}{\\Theta} =-\\lambda  \\leq 0 \\\\ \n",
    " &\\Downarrow \\\\\n",
    "  \\Theta'' +\\lambda \\Theta =0 \\;\\; \\xrightarrow[]{\\;\\;\\Theta(0)=\\Theta(2\\pi),\\;\\Theta'(0)=\\Theta'(2\\pi)\\;\\;} \n",
    "    &\\;\\;\\Theta_n(\\theta)=a_n \\cos n\\theta +b_n \\sin n\\theta, \\;\\; \\lambda_n =n^2, \\;\\; n=0,1,2,\\cdots \\\\\n",
    " &\\Downarrow \\\\\n",
    "  r^2R_0'' +rR_0'=0\\; &\\xrightarrow[]{\\;\\;R_0(0) <\\infty \\;\\;} \\;\\; R_0(r)=1 \\\\ \n",
    "  r^2R_n''+rR_n' -n^2 R_n=0,\\;\\;n =1,2,\\cdots\\; &\\xrightarrow[]{\\;\\;R_n(0) <\\infty \\;\\;} \\;\\;R_n(r)= r^n \\\\ \n",
    " &\\Downarrow \\\\\n",
    " u(r,\\theta) =\\frac{a_0}{2} +\\sum_{n=1}^\\infty & r^n \\left( a_n \\cos n\\theta +b_n \\sin n\\theta \\right) \\\\\n",
    " a_n = \\frac{1}{\\pi} \\int_0^{2\\pi} &g(\\theta) \\cos n\\theta \\,d\\theta \\\\\n",
    " b_n = \\frac{1}{\\pi} \\int_0^{2\\pi} &g(\\theta) \\sin n\\theta \\,d\\theta\n",
    "\\end{align*}$"
   ]
  },
  {
   "cell_type": "markdown",
   "metadata": {},
   "source": [
    "1. The solution can be interpreted as expanding the boundary function $g(\\theta)$ as a Fourier series\n",
    "\n",
    ">$\\displaystyle g(\\theta)=\\frac{a_0}{2} +\\sum_{n=1}^\\infty \\left(a_n \\cos n\\theta +b_n \\sin n\\theta \\right)$\n",
    "\n",
    ">and solve the problem for $\\cos n\\theta$ and $\\sin n\\theta$ in the series. Since each of these terms will give rise to solutions $r^n\\cos n\\theta$ and $r^n \\sin n\\theta$, we can then say (by superposition) that\n",
    "\n",
    ">$\\displaystyle u(r,\\theta)=\\frac{a_0}{2} +\\sum_{n=1}^\\infty r^n \\left(a_n \\cos n\\theta +b_n \\sin n\\theta \\right)$\n",
    "\n",
    "2. Note that the constant term $\\frac{a_0}{2}$ in the solution represents the average of $g(\\theta)$\n",
    "\n",
    ">$\\displaystyle \\frac{a_0}{2} = \\frac{1}{2\\pi} \\int_0^{2\\pi} g(\\theta)\\,d\\theta$\n",
    "\n",
    "3. If  the radius of the circle were arbitrary (say $R$), then the solution would be\n",
    "\n",
    ">$\\displaystyle u(r,\\theta)=\\frac{a_0}{2} +\\sum_{n=1}^\\infty \\left(\\frac{r}{R}\\right)^n \\left(a_n \\cos n\\theta +b_n \\sin n\\theta \\right)$\n",
    "\n",
    "This completes our discussion of the separation of variables solution. We now ge to the interesting Poisson integral formula"
   ]
  },
  {
   "cell_type": "markdown",
   "metadata": {},
   "source": [
    "#### Poisson Integral Formula "
   ]
  },
  {
   "cell_type": "markdown",
   "metadata": {},
   "source": [
    "We start with the separation of varaiables solution\n",
    "\n",
    ">$\\displaystyle u(r,\\theta)=\\frac{a_0}{2} +\\sum_{n=1}^\\infty \\left(\\frac{r}{R}\\right)^n \\left(a_n \\cos n\\theta +b_n \\sin n\\theta \\right)$\n",
    "\n",
    "and substitute the coefficients $a_n$ and $b_n$. After a few manipulations, we have\n",
    "\n",
    ">$\\begin{align*}\n",
    " u(r,\\theta) &= \\frac{1}{2\\pi} \\int_0^{2\\pi} g(\\alpha)\\,d\\alpha +\\frac{1}{\\pi} \n",
    "  \\sum_{n=1}^\\infty \\left(\\frac{r}{R} \\right)^n \\int_0^{2\\pi} g(\\alpha) \\left( \\cos n\\alpha\\cos n\\theta+\\sin n\\alpha \\sin n\\theta \\right)\\,d\\alpha \\\\ \n",
    " &= \\frac{1}{2\\pi} \\int_0^{2\\pi}  \\left\\{  1 +2\\sum_{n=1}^\\infty \\left(\\frac{r}{R} \\right)^n \\cos n(\\theta -\\alpha) \\right\\}\\,g(\\alpha)\\,d\\alpha \\\\ \n",
    " &= \\frac{1}{2\\pi} \\int_0^{2\\pi}  \\left\\{  1 +\\sum_{n=1}^\\infty \\left(\\frac{r}{R} \\right)^n \\left[e^{in(\\theta -\\alpha)} +e^{-in(\\theta -\\alpha)}  \\right] \\right\\}\\,g(\\alpha)\\,d\\alpha \\\\ \n",
    " &= \\frac{1}{2\\pi} \\int_0^{2\\pi}  \\left\\{  1 +\\frac{re^{in(\\theta -\\alpha)}}{R -re^{in(\\theta -\\alpha)}} \n",
    " +\\frac{re^{-in(\\theta -\\alpha)}}{R -re^{-in(\\theta -\\alpha)}} \\right\\}\\,g(\\alpha)\\,d\\alpha \\\\ \n",
    " &= \\frac{1}{2\\pi} \\int_0^{2\\pi}  \\left\\{ \\frac{R^2 -r^2}{R^2 +r^2 -2rR\\cos(\\theta -\\alpha)} \\right\\}\\,g(\\alpha)\\,d\\alpha \n",
    "\\end{align*}$\n",
    "\n",
    "This last equation is what we were looking for; it's the Poisson Integral Formula"
   ]
  },
  {
   "cell_type": "markdown",
   "metadata": {},
   "source": [
    "1. We can interpret the Poisson integral solution as finding the potential $u$ at $(r,\\theta)$ as a weighted average of the boundary potentials $g(\\theta)$ weighted by the Poisson kernel\n",
    "\n",
    ">$\\displaystyle \\text{Poisson kernel}=\\frac{R^2 -r^2}{R^2 +r^2 -2rR\\cos(\\theta -\\alpha)}$\n",
    "\n",
    "><img src=\"figures/pde03_figure08.jpg\" alt=\"Poisson Kernel\" width=\"350\"/>\n",
    "\n",
    ">For boundary values $g(\\alpha)$ close to $(r,\\theta)$, the Poisson kernel gets larger, since the denominator of the Poisson kernel is the square of the distance from $(r,\\theta)$ to $(R,\\alpha)$\n",
    "\n",
    "2. If we evaluate the potential at the center of the circle by the Poisson integral, we find\n",
    "\n",
    ">$\\displaystyle u(0,0) = \\frac{1}{2\\pi} \\int_0^{2\\pi} g(\\theta) \\,d\\theta$\n",
    "\n",
    "> In other words, the potential at the center of the circle is the average of the boundary potential"
   ]
  },
  {
   "cell_type": "markdown",
   "metadata": {},
   "source": [
    "**NOTES**\n",
    "\n",
    "1. We can always solve the BVP (nonhomogeneous PDE)\n",
    "\n",
    ">$\\displaystyle \\nabla^2 u = f, \\;\\;\\;\\; \\text{Inside } D$\n",
    "\n",
    ">$\\displaystyle u = 0, \\;\\;\\;\\;\\;\\;\\; \\text{On the boundary of } D$\n",
    "\n",
    ">by\n",
    "\n",
    "    a. Finding any solution $v$ of $\\nabla^2 v = f\\;$ (A particular solution) \n",
    "\n",
    "    b. Solving the new BVP\n",
    "\n",
    ">$\\displaystyle \\nabla^2 w = 0, \\;\\;\\;\\; \\text{Inside } D$\n",
    "\n",
    ">$\\displaystyle w = v, \\;\\;\\;\\;\\;\\;\\; \\text{On the boundary of } D$\n",
    "\n",
    "    c. Observing that $u = v -w$ is our desired solution\n",
    "\n",
    ">In other words, we can transfer the nonhomogeneity from the PDE to the BC\n",
    "\n",
    "2. We can solve the BVP (nonhomogeneous BC)\n",
    "\n",
    ">$\\displaystyle \\nabla^2 u = 0, \\;\\;\\;\\; \\text{Inside } D$\n",
    "\n",
    ">$\\displaystyle u = f, \\;\\;\\;\\;\\;\\;\\; \\text{On the boundary of } D$\n",
    "\n",
    ">by\n",
    "\n",
    "    a. Finding any function $v$ that satisfies the BC $v = f$ on the boundary of $D$\n",
    "    \n",
    "    b. Solving the new BVP\n",
    "    \n",
    ">$\\displaystyle \\nabla^2 w = \\nabla^2 v, \\;\\;\\;\\; \\text{Inside } D$\n",
    "\n",
    ">$\\displaystyle w = 0, \\;\\;\\;\\;\\;\\;\\; \\text{On the boundary of } D$ \n",
    "\n",
    "    c. Observing that $u = v -w$ is the solution to our problem\n",
    "    \n",
    ">In orther words, we can transform the nonhomogeneity from the BC to the PDE"
   ]
  },
  {
   "cell_type": "markdown",
   "metadata": {},
   "source": [
    "## Lesson 33. The Dirichlet Problem in an Annulus "
   ]
  },
  {
   "cell_type": "markdown",
   "metadata": {},
   "source": [
    "The Dirichlet problem between two circles (annulus) is\n",
    "\n",
    ">$\\displaystyle u_{rr} +\\frac{1}{r}u_r + \\frac{1}{r^2} u_{\\theta\\theta}=0, \\;\\;\\;R_1 < r < R_2$\n",
    "\n",
    ">$\\displaystyle \\begin{align*} u(R_1,\\theta) &= g_1(\\theta) \\\\ u(R_2,\\theta) &= g_2(\\theta) \\end{align*}, \\;\\;\\; 0 \\leq \\theta < 2\\pi$\n",
    "\n",
    "><img src=\"figures/pde03_figure09.jpg\" alt=\"An annulus\" width=\"350\"/>\n",
    "\n",
    "We begin by looking for solutions of the form\n",
    "\n",
    ">$\\displaystyle u(r,\\theta)=R(r)\\Theta(\\theta)$\n",
    "\n",
    "Substituting this into Laplace's equation, we get the two following ODEs in $R(r)$ and $\\Theta(\\theta)$:\n",
    "\n",
    ">$\\begin{align*}\n",
    " &r^2 R'' +rR' -\\lambda R = 0 \\;\\;\\;\\;(\\text{Euler's equation}) \\\\ \n",
    " &\\Theta'' +\\lambda \\Theta = 0 \n",
    "\\end{align*}$\n",
    "\n",
    "Note that in the two equations, we required the separation constant $\\lambda$ to be greater than, or equal to zero, or else the solution for $\\Theta(theta)$ would not be periodic. Solving these two ODEs, we now have\n",
    "\n",
    ">$\\begin{align*}\n",
    " \\lambda = 0 \\;\\; \n",
    " &\\begin{cases}\n",
    " \\Theta(\\theta)= a + b\\theta \\\\\n",
    " R(r) = c + d\\ln r \n",
    " \\end{cases} \\\\ \n",
    " \\lambda > 0 \\;\\;\n",
    " &\\begin{cases}\n",
    " \\Theta(\\theta)=  a\\cos\\sqrt{\\lambda}\\theta +b\\sin \\sqrt{\\lambda}\\theta\\\\ \n",
    " R(r) = cr^{\\sqrt{\\lambda}} +dr^{-\\sqrt{\\lambda}}   \n",
    " \\end{cases} \n",
    "\\end{align*}$\n",
    "\n",
    "and using the requirement that $\\Theta(\\theta)$ must be periodic with period $2\\pi$, we have that $\\lambda$ must be $n^2$, $n= 0,1,2,\\cdots$. Hence, we arrive at the following solutions to Laplace's equation\n",
    "\n",
    ">$\\begin{align*}\n",
    " &1 \\;\\;\\;(\\text{constants}) \\\\ \n",
    " &\\ln r \\\\ \n",
    " &r^n \\cos n\\theta \\\\ \n",
    " &r^n \\sin n\\theta \\\\ \n",
    " &r^{-n} \\cos n\\theta \\\\\n",
    " &r^{-n} \\sin n\\theta \n",
    "\\end{align*}$\n",
    "\n",
    "Since any sum of these solutions is also a solution, we arrive at our general solution\n",
    "\n",
    ">$\\displaystyle u(r,\\theta) = a_0 +\\hat{a}_{0} \\ln r +\\sum_{n=1}^\\infty \\left[ \\left(a_n r^n +\\hat{a}_{n} r^{-n}\\right) \\cos n\\theta +\n",
    "\\left(b_n r^n +\\hat{b}_{n} r^{-n}\\right) \\sin n\\theta \\right]$\n",
    "\n",
    "The only task left is to determine the constants in the sum so that $u(r,\\theta)$ satisfies the BCs\n",
    "\n",
    ">$\\displaystyle \\begin{align*} u(R_1,\\theta) &= g_1(\\theta) \\\\ u(R_2,\\theta) &= g_2(\\theta) \\end{align*}, \\;\\;\\; 0 \\leq \\theta < 2\\pi$\n",
    "\n",
    "Substituting the general solution into these BCs and integrating gives the following equations\n",
    "\n",
    ">$\\begin{align*}\n",
    " &\\begin{cases}\n",
    "  \\displaystyle a_0 +\\hat{a}_0 \\ln R_1 =\\frac{1}{2\\pi} \\int_0^{2\\pi} g_1(\\alpha)\\,d\\alpha \\\\ \n",
    "  \\displaystyle a_0 +\\hat{a}_0 \\ln R_2 =\\frac{1}{2\\pi} \\int_0^{2\\pi} g_2(\\alpha)\\,d\\alpha\n",
    " \\end{cases} \\;\\;\\;\\;\\;\\;\\;\\;\\;\\;\\;\\;\\;\\;\\text{Solve for } a_0, \\hat{a}_0 \\\\ \n",
    " &\\begin{cases}\n",
    "  \\displaystyle a_n R_1^n +\\hat{a}_n R_1^{-n} =\\frac{1}{2\\pi} \\int_0^{2\\pi} g_1(\\alpha) \\cos n\\theta \\,d\\alpha \\\\ \n",
    "  \\displaystyle a_n R_2^n +\\hat{a}_n R_2^{-n} =\\frac{1}{2\\pi} \\int_0^{2\\pi} g_2(\\alpha) \\cos n\\theta \\,d\\alpha\n",
    "\\end{cases} \\;\\;\\;\\;\\text{Solve for } a_n, \\hat{a}_n \\\\ \n",
    " &\\begin{cases}\n",
    "  \\displaystyle b_n R_1^n +\\hat{b}_n R_1^{-n} =\\frac{1}{2\\pi} \\int_0^{2\\pi} g_1(\\alpha) \\sin n\\theta \\,d\\alpha \\\\ \n",
    "  \\displaystyle b_n R_2^n +\\hat{b}_n R_2^{-n} =\\frac{1}{2\\pi} \\int_0^{2\\pi} g_2(\\alpha) \\sin n\\theta \\,d\\alpha\n",
    "\\end{cases} \\;\\;\\;\\;\\;\\text{Solve for } b_n, \\hat{b}_n\n",
    "\\end{align*}$"
   ]
  },
  {
   "cell_type": "markdown",
   "metadata": {},
   "source": [
    "**Example** $\\text{ }$ Suppose the potential on the inside circle is zero, while the outside potential is $\\sin \\theta$\n",
    "\n",
    ">$\\displaystyle u_{rr} +\\frac{1}{r}u_r + \\frac{1}{r^2} u_{\\theta\\theta}=0, \\;\\;\\;1 < r < 2$\n",
    "\n",
    ">$\\displaystyle \\begin{align*} u(1,\\theta) &= 0 \\\\ u(2,\\theta) &= \\sin\\theta \\end{align*}, \\;\\;\\; 0 \\leq \\theta < 2\\pi$\n",
    "\n",
    ">Solving the necessary equations for $a_0, \\hat{a}_0$, $a_n, \\hat{a}_n$, $b_n$, and $\\hat{b}_n$ yields\n",
    "\n",
    ">$\\displaystyle u(r,\\theta)=\\frac{2}{3} \\left(r -\\frac{1}{r} \\right) \\sin \\theta$"
   ]
  },
  {
   "cell_type": "markdown",
   "metadata": {},
   "source": [
    "**Example** $\\text{ }$ Consider the problem with constant potentials on the boundaries\n",
    "\n",
    ">$\\displaystyle u_{rr} +\\frac{1}{r}u_r + \\frac{1}{r^2} u_{\\theta\\theta}=0, \\;\\;\\;1 < r < 2$\n",
    "\n",
    ">$\\displaystyle \\begin{align*} u(1,\\theta) &= 3 \\\\ u(2,\\theta) &= 5 \\end{align*}, \\;\\;\\; 0 \\leq \\theta < 2\\pi$\n",
    "\n",
    ">In this case, since it's obvious that the solution is independent of $\\theta$, we know our solution must be of the form $a_0 +\\hat{a}_0 \\ln r$. Using our two equations for $a_0$ and $\\hat{a}_0$, we obtain\n",
    "\n",
    ">$\\displaystyle u(r,\\theta)=3 +\\frac{2}{\\ln 2} \\ln r$"
   ]
  },
  {
   "cell_type": "markdown",
   "metadata": {},
   "source": [
    "**Example** $\\text{ }$ Another interesting problem is\n",
    "\n",
    ">$\\displaystyle u_{rr} +\\frac{1}{r}u_r + \\frac{1}{r^2} u_{\\theta\\theta}=0, \\;\\;\\;1 < r < 2$\n",
    "\n",
    ">$\\displaystyle \\begin{align*} u1,\\theta) &= \\sin\\theta \\\\ u(2,\\theta) &= \\sin\\theta \\end{align*}, \\;\\;\\; 0 \\leq \\theta < 2\\pi$\n",
    "\n",
    ">A quick check of the coefficients reveals that they are all zero except for $b_1$ and $\\hat{b}_1$. Solving for $b_1$ and $\\hat{b}_1$ gives the solution\n",
    "\n",
    ">$\\displaystyle u(r,\\theta)=\\left(\\frac{r}{3} +\\frac{2}{3r}\\right) \\sin\\theta$"
   ]
  },
  {
   "cell_type": "markdown",
   "metadata": {},
   "source": [
    "#### Exterior Dirichlet Problem"
   ]
  },
  {
   "cell_type": "markdown",
   "metadata": {},
   "source": []
  },
  {
   "cell_type": "markdown",
   "metadata": {},
   "source": [
    "## Lesson 34. Laplace's Equation in Spherical Coordinates (Spherical Harmonics)"
   ]
  },
  {
   "cell_type": "code",
   "execution_count": null,
   "metadata": {},
   "outputs": [],
   "source": []
  },
  {
   "cell_type": "markdown",
   "metadata": {},
   "source": [
    "## Lesson 35. A Nonhomogeneous Dirichlet Problem (Green's Function) "
   ]
  },
  {
   "cell_type": "code",
   "execution_count": null,
   "metadata": {},
   "outputs": [],
   "source": []
  }
 ],
 "metadata": {
  "kernelspec": {
   "display_name": "Python 3",
   "language": "python",
   "name": "python3"
  },
  "language_info": {
   "codemirror_mode": {
    "name": "ipython",
    "version": 3
   },
   "file_extension": ".py",
   "mimetype": "text/x-python",
   "name": "python",
   "nbconvert_exporter": "python",
   "pygments_lexer": "ipython3",
   "version": "3.6.6"
  }
 },
 "nbformat": 4,
 "nbformat_minor": 2
}
