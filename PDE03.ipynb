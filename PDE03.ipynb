{
 "cells": [
  {
   "cell_type": "markdown",
   "metadata": {},
   "source": [
    "[![Open In Colab](https://colab.research.google.com/assets/colab-badge.svg)](https://colab.research.google.com/github/SeoulTechPSE/EngMath/blob/master/PDE03.ipynb)"
   ]
  },
  {
   "cell_type": "markdown",
   "metadata": {},
   "source": [
    "## Lesson 30. The Laplacian (an Intuitive Description)"
   ]
  },
  {
   "cell_type": "markdown",
   "metadata": {},
   "source": [
    "The Laplacian operator\n",
    "\n",
    ">$\\displaystyle \\nabla^2 =\\frac{\\partial^2}{\\partial x^2} +\\frac{\\partial^2}{\\partial y^2} +\\frac{\\partial^2}{\\partial z^2}$\n",
    "\n",
    "is probably the most important operator in mathematical physics. The question is, what does it mean and why should the sum of three second derivatives have anything to do with the laws of nature? The answer to this lies in the fact that the Laplacian of a function allows us to compare the function at a point with the function at neighboring points. It does what the second derivative did in one dimension and might be thought of as a second derivative generalized to higher dimensions\n",
    "\n",
    "><img src=\"figures/pde03_figure01.jpg\" alt=\"Intutive Meaning of the Laplacian\" style=\"width:500px\"/>"
   ]
  },
  {
   "cell_type": "markdown",
   "metadata": {},
   "source": [
    "* The heat equation $u_t=\\alpha\\nabla^2 u$ measures temperature $u$, and the equation can be interpreted to mean that the change in temperature with respect to time $u_t$ is proportional to $\\nabla^2 u$. That is, the temperature at a point is increasing if the temperature at that point is less than the average of the temperatures on a circle around the point\n",
    "\n",
    "* The wave equation $u_{tt}=c^2\\nabla^2 u$ measures the displacement of a drumhead and can be interpreted to mean that the acceleration (or force) of a point on the drumhead $u_{tt}$ is proportional to $\\nabla^2 u$. That is, the drumhead at a point is accelerating upward if the drumhead at that point is less than the average of its neighbors\n",
    "\n",
    "* Laplace's equation $\\nabla^2 u = 0$ says that the solution $u$ is always equal to the average of its neighbors. For example, a steady-state, stretched rubber membrane satisfies Laplace's equation, hence, the height of the membrane at any point is equal to the average height of the membrane on a circle around the point\n",
    "\n",
    "* Poisson's equation $\\nabla^2 u=f$, where $f$ is a function that depends only on the space variables\n",
    "\n",
    "  * $\\nabla^2 u=-\\rho$ describes the potential of an electrostatic field where $\\rho$ represents a constant charge density\n",
    "  * $\\nabla^2 u =-g(x,y)$ describes the steady-state temperature $u(x,y)$ due to a heat source $g(x,y)$ \n",
    "  * $\\nabla^2 u +\\lambda u =0$ is known as the Helmholtz equation which describes the fundamental shapes of a stretched membrane"
   ]
  },
  {
   "cell_type": "markdown",
   "metadata": {},
   "source": [
    "#### Changing Coordinates"
   ]
  },
  {
   "cell_type": "markdown",
   "metadata": {},
   "source": [
    "Before we start, however, let's review briefly the three major coordinate systems in two or three dimensions except for Cartesian system:\n",
    "\n"
   ]
  },
  {
   "cell_type": "markdown",
   "metadata": {},
   "source": [
    "* Polar Coordinates\n",
    "\n",
    "* Cylindrical Coordinates\n",
    "\n",
    "* Spherical Coordinates\n"
   ]
  },
  {
   "cell_type": "code",
   "execution_count": null,
   "metadata": {},
   "outputs": [],
   "source": []
  }
 ],
 "metadata": {
  "kernelspec": {
   "display_name": "Python 3",
   "language": "python",
   "name": "python3"
  },
  "language_info": {
   "codemirror_mode": {
    "name": "ipython",
    "version": 3
   },
   "file_extension": ".py",
   "mimetype": "text/x-python",
   "name": "python",
   "nbconvert_exporter": "python",
   "pygments_lexer": "ipython3",
   "version": "3.6.6"
  }
 },
 "nbformat": 4,
 "nbformat_minor": 2
}
