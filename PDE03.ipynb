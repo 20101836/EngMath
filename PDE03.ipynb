{
 "cells": [
  {
   "cell_type": "markdown",
   "metadata": {},
   "source": [
    "[![Open In Colab](https://colab.research.google.com/assets/colab-badge.svg)](https://colab.research.google.com/github/SeoulTechPSE/EngMath/blob/master/PDE03.ipynb)"
   ]
  },
  {
   "cell_type": "markdown",
   "metadata": {},
   "source": [
    "## Lesson 30. The Laplacian (an Intuitive Description)"
   ]
  },
  {
   "cell_type": "markdown",
   "metadata": {},
   "source": [
    "The Laplacian operator\n",
    "\n",
    ">$\\displaystyle \\nabla^2 =\\frac{\\partial^2}{\\partial x^2} +\\frac{\\partial^2}{\\partial y^2} +\\frac{\\partial^2}{\\partial z^2}$\n",
    "\n",
    "is probably the most important operator in mathematical physics. The question is, what does it mean and why should the sum of three second derivatives have anything to do with the laws of nature? The answer to this lies in the fact that the Laplacian of a function allows us to compare the function at a point with the function at neighboring points. It does what the second derivative did in one dimension and might be thought of as a second derivative generalized to higher dimensions\n",
    "\n",
    "><img src=\"figures/pde03_figure01.jpg\" alt=\"Intutive Meaning of the Laplacian\" width=\"450\"/>"
   ]
  },
  {
   "cell_type": "markdown",
   "metadata": {},
   "source": [
    "* The heat equation $u_t=\\alpha\\nabla^2 u$ measures temperature $u$, and the equation can be interpreted to mean that the change in temperature with respect to time $u_t$ is proportional to $\\nabla^2 u$. That is, the temperature at a point is increasing if the temperature at that point is less than the average of the temperatures on a circle around the point\n",
    "\n",
    "* The wave equation $u_{tt}=c^2\\nabla^2 u$ measures the displacement of a drumhead and can be interpreted to mean that the acceleration (or force) of a point on the drumhead $u_{tt}$ is proportional to $\\nabla^2 u$. That is, the drumhead at a point is accelerating upward if the drumhead at that point is less than the average of its neighbors\n",
    "\n",
    "* Laplace's equation $\\nabla^2 u = 0$ says that the solution $u$ is always equal to the average of its neighbors. For example, a steady-state, stretched rubber membrane satisfies Laplace's equation, hence, the height of the membrane at any point is equal to the average height of the membrane on a circle around the point\n",
    "\n",
    "* Poisson's equation $\\nabla^2 u=f$, where $f$ is a function that depends only on the space variables\n",
    "\n",
    "  * $\\nabla^2 u=-\\rho$ describes the potential of an electrostatic field where $\\rho$ represents a constant charge density\n",
    "  * $\\nabla^2 u =-g(x,y)$ describes the steady-state temperature $u(x,y)$ due to a heat source $g(x,y)$ \n",
    "  * $\\nabla^2 u +\\lambda u =0$ is known as the Helmholtz equation which describes the fundamental shapes of a stretched membrane"
   ]
  },
  {
   "cell_type": "markdown",
   "metadata": {},
   "source": [
    "#### Changing Coordinates"
   ]
  },
  {
   "cell_type": "markdown",
   "metadata": {},
   "source": [
    "Before we start, however, let's review briefly the three major coordinate systems in two or three dimensions except for Cartesian system:"
   ]
  },
  {
   "cell_type": "markdown",
   "metadata": {},
   "source": [
    "* Polar Coordinates\n",
    "\n",
    "><img src=\"figures/pde03_figure02.jpg\" alt=\"Polar Coordinate\" width=\"250\"/>\n",
    "\n",
    ">$\\begin{matrix}\n",
    " x=r\\cos \\theta \\\\ \n",
    " y=r\\sin \\theta \\, \\\\ \n",
    "\\end{matrix} \\;\\; \\Rightarrow \\;\\;\n",
    "\\begin{matrix}\n",
    " r^2 = x^2 + y^2 \\;\\;\\;\\\\ \n",
    " \\tan\\theta = y/x \\;\\;\\;\\;\\;\n",
    "\\end{matrix}$\n",
    "\n",
    "* Cylindrical Coordinates\n",
    "\n",
    "><img src=\"figures/pde03_figure03.jpg\" alt=\"Cylindrical Coordinate\" width=\"300\"/>\n",
    "\n",
    ">$\\begin{matrix}\n",
    "  x = r\\cos \\theta \\\\ \n",
    "  y = r\\sin \\theta \\, \\\\\n",
    "  z = z \\;\\;\\;\\;\\;\\;\\;\n",
    " \\end{matrix} \\;\\; \\Rightarrow \\;\\;\n",
    " \\begin{matrix}\n",
    "  r^2 = x^2 + y^2 \\;\\;\\;\\\\ \n",
    "  \\tan\\theta = y/x  \\;\\;\\;\\;\\; \\\\\n",
    "  z=z\\;\\;\\;\\;\\;\\;\\;\\;\\;\\;\\;\\;\n",
    " \\end{matrix}$\n",
    "\n",
    "* Spherical Coordinates\n",
    "\n",
    "><img src=\"figures/pde03_figure04.jpg\" alt=\"Spherical Coordinate\" width=\"300\"/>\n",
    "\n",
    ">$\\begin{matrix}\n",
    "  x = r\\sin\\phi\\cos \\theta \\\\ \n",
    "  y = r\\sin\\phi\\sin \\theta \\, \\\\\n",
    "  z = r\\cos\\phi \\;\\;\\;\\;\\;\\;\\;\n",
    " \\end{matrix} \\;\\; \\Rightarrow \\;\\;\n",
    " \\begin{matrix}\n",
    "  r^2 = x^2 + y^2 +z^2 \\;\\;\\;\\\\ \n",
    "  \\cos\\phi = z/r \\;\\;\\;\\;\\;\\;\\;\\;\\;\\;\\;\\;\\\\\n",
    "  \\tan\\theta=y/x\\;\\;\\;\\;\\;\\;\\;\\;\\;\\;\\;\\;\n",
    " \\end{matrix}$"
   ]
  },
  {
   "cell_type": "markdown",
   "metadata": {},
   "source": [
    "As an illustration, we see how the two-dimensional Laplacian is transformed into polar coordinates:\n",
    "\n",
    ">$\\begin{align*}\n",
    " \\nabla^2u &= u_{xx} +u_{yy}\\\\ \n",
    " &\\Updownarrow \\\\ \n",
    " u_x = u_r r_x +u_\\theta \\theta_x &= u_r \\cos\\theta -u_\\theta \\frac{\\sin\\theta}{r}\\\\ \n",
    " u_y = u_r r_y +u_\\theta \\theta_y &= u_r \\sin\\theta +u_\\theta \\frac{\\cos\\theta}{r}\\\\ \n",
    " &\\Downarrow \\\\\n",
    " u_{xx} = (u_x)_r r_x +(u_x)_\\theta \\theta_x &= \n",
    "  \\left( u_{rr} \\cos\\theta -u_{\\theta r} \\frac{\\sin\\theta}{r} +u_\\theta\\frac{\\sin\\theta}{r^2} \\right) \\cos\\theta \n",
    "  -\\left( u_{r\\theta} \\cos\\theta -u_r\\sin\\theta -u_{\\theta\\theta} \\frac{\\sin\\theta}{r} \n",
    "  -u_\\theta \\frac{\\cos\\theta}{r} \\right)\\frac{\\sin\\theta}{r} \\\\\n",
    " u_{yy} = (u_y)_r r_y +(u_y)_\\theta \\theta_y &= \n",
    "  \\left( u_{rr} \\sin\\theta +u_{\\theta r} \\frac{\\cos\\theta}{r} -u_\\theta\\frac{\\cos\\theta}{r^2} \\right) \\sin\\theta \n",
    "  +\\left( u_{r\\theta} \\sin\\theta +u_r\\cos\\theta +u_{\\theta\\theta} \\frac{\\cos\\theta}{r} \n",
    "  -u_\\theta \\frac{\\sin\\theta}{r} \\right)\\frac{\\cos\\theta}{r} \\\\\n",
    "  &\\Updownarrow \\\\\n",
    "  \\nabla^2 u = u_{rr} &+\\frac{1}{r} u_r +\\frac{1}{r^2} u_{\\theta\\theta} \n",
    "\\end{align*}$"
   ]
  },
  {
   "cell_type": "markdown",
   "metadata": {},
   "source": [
    "Changing the three-dimensional Laplacian $\\nabla^2 u = u_{xx} +u_{yy} +u_{zz}$ to cylindrical coordinates, we can show\n",
    "\n",
    ">$\\displaystyle \\nabla^2 u = u_{rr} +\\frac{1}{r} u_r +\\frac{1}{r^2} u_{\\theta\\theta} +u_{zz}$"
   ]
  },
  {
   "cell_type": "markdown",
   "metadata": {},
   "source": [
    "Finally, if we write the Laplacian in spherical coordinates, we have\n",
    "\n",
    ">$\\begin{align*}\n",
    " \\nabla^2u &= u_{xx} +u_{yy} +u_{zz}\\\\ \n",
    " &\\Updownarrow \\\\ \n",
    " u_x = u_r r_x +u_\\phi \\phi_x+u_\\theta \\theta_x &= u_r \\sin\\phi\\cos\\theta +u_\\phi \\frac{\\cos\\phi\\cos\\theta}{r}\n",
    "  -u_\\theta \\frac{\\sin\\theta}{r\\sin\\phi}\\\\ \n",
    " u_y = u_r r_y +u_\\phi \\phi_y+u_\\theta \\theta_y &= u_r \\sin\\phi\\sin\\theta +u_\\phi \\frac{\\cos\\phi\\sin\\theta}{r}\n",
    "  +u_\\theta \\frac{\\cos\\theta}{r \\sin\\phi}\\\\ \n",
    " u_z = u_r r_z +u_\\phi \\phi_z+u_\\theta \\theta_z &= u_r \\cos\\phi -u_\\phi\\frac{\\sin\\phi}{r} \\\\ \n",
    " &\\Downarrow \\\\\n",
    "   u_{xx} = (u_x)_r r_x +(u_x)_\\phi \\phi_x+(u_x)_\\theta \\theta_x &= \n",
    "  \\left( u_{rr} \\sin\\phi\\cos\\theta +u_{\\phi r} \\frac{\\cos\\phi\\cos\\theta}{r}  -u_\\phi\\frac{\\cos\\phi\\cos\\theta}{r^2}\n",
    "    -u_{\\theta r} \\frac{\\sin\\theta}{r\\sin\\phi} +u_\\theta\\frac{\\sin\\theta}{r^2\\sin\\phi} \\right) \n",
    "    \\sin\\phi\\cos\\theta \\\\\n",
    "  &+\\left( u_{r\\phi}\\sin\\phi \\cos\\theta +u_r\\cos\\phi\\cos\\theta +u_{\\phi\\phi} \\frac{\\cos\\phi\\cos\\theta}{r} -u_{\\phi} \\frac{\\sin\\phi\\cos\\theta}{r} \n",
    "    -u_{\\theta\\phi} \\frac{\\sin\\theta}{r\\sin\\phi} +u_\\theta \\frac{\\sin\\theta\\cot\\phi}{r\\sin\\phi}\n",
    "  \\right)\\frac{\\cos\\phi \\cos\\theta}{r} \\\\\n",
    "  &-\\left( u_{r\\theta}\\sin\\phi\\cos\\theta -u_r \\sin\\phi\\sin\\theta +u_{\\phi\\theta} \\frac{\\cos\\phi\\cos\\theta}{r} \n",
    "   -u_\\phi \\frac{\\cos\\phi\\sin\\theta}{r} -u_{\\theta\\theta}\\frac{\\sin\\theta}{r\\sin\\phi} -u_\\theta \\frac{\\cos\\theta}{r\\sin\\phi} \\right) \n",
    "   \\frac{\\sin\\theta}{r\\sin\\phi} \\\\\n",
    "     u_{yy} = (u_y)_r r_y +(u_y)_\\phi \\phi_y+(u_y)_\\theta \\theta_y &= \n",
    "  \\left( u_{rr} \\sin\\phi\\sin\\theta +u_{\\phi r} \\frac{\\cos\\phi\\sin\\theta}{r}  -u_\\phi\\frac{\\cos\\phi\\sin\\theta}{r^2}\n",
    "    +u_{\\theta r} \\frac{\\cos\\theta}{r\\sin\\phi} -u_\\theta\\frac{\\cos\\theta}{r^2\\sin\\phi} \\right) \n",
    "    \\sin\\phi\\sin\\theta \\\\\n",
    "  &+\\left( u_{r\\phi}\\sin\\phi \\sin\\theta +u_r\\cos\\phi\\sin\\theta +u_{\\phi\\phi} \\frac{\\cos\\phi\\sin\\theta}{r} -u_{\\phi} \\frac{\\sin\\phi\\sin\\theta}{r} \n",
    "    +u_{\\theta\\phi} \\frac{\\cos\\theta}{r\\sin\\phi} -u_\\theta \\frac{\\cos\\theta\\cot\\phi}{r\\sin\\phi}\n",
    "  \\right)\\frac{\\cos\\phi \\sin\\theta}{r} \\\\\n",
    "  &+\\left( u_{r\\theta}\\sin\\phi\\sin\\theta +u_r \\sin\\phi\\cos\\theta +u_{\\phi\\theta} \\frac{\\cos\\phi\\sin\\theta}{r} \n",
    "   +u_\\phi \\frac{\\cos\\phi\\cos\\theta}{r} +u_{\\theta\\theta}\\frac{\\cos\\theta}{r\\sin\\phi} -u_\\theta \\frac{\\sin\\theta}{r\\sin\\phi} \\right) \n",
    "   \\frac{\\cos\\theta}{r\\sin\\phi} \\\\\n",
    "    u_{zz} = (u_z)_r r_z +(u_z)_\\phi \\phi_z+(u_z)_\\theta \\theta_z \n",
    "    &= \\left( u_{rr}\\cos\\phi -u_{\\phi r}\\frac{\\sin\\phi}{r} +u_\\phi\\frac{\\sin\\phi}{r^2} \\right) \\cos\\phi \\\\\n",
    "    &+\\left( -u_{r\\phi}\\cos\\phi +u_{r}\\sin\\phi +u_{\\phi\\phi}\\frac{\\sin\\phi}{r} +u_\\phi\\frac{\\cos\\phi}{r} \\right) \\frac{\\sin\\phi}{r}\\\\ \n",
    "    &\\Downarrow \\\\\n",
    "    \\nabla^2 u &=u_{rr} +\\frac{2}{r} u_r +\\frac{1}{r^2}u_{\\phi\\phi} +\\frac{\\cot\\phi}{r^2} u_{\\phi} +\\frac{1}{r^2\\sin^2\\phi}u_{\\theta\\theta}\n",
    "\\end{align*}$"
   ]
  },
  {
   "cell_type": "markdown",
   "metadata": {},
   "source": [
    "**NOTE**\n",
    "\n",
    "The Laplacian in cartesian coordinates is the only one with constant coefficients. This is one reason why problems in other coordinate systems are harder to solve. It is still possible to use the separation of variables for these equations with variable coefficients; it's just that some of the resulting ordinary differential equations have variables coefficients. We arrive at a lot of fairly complicated equations, such as Bessel's equation, Legendre equation, and other so-called classical equations of physics. To solve these equations, we must resort to inifinite-series solutions and, in particular, the method of Frobenious"
   ]
  },
  {
   "cell_type": "markdown",
   "metadata": {},
   "source": [
    "**Example** $\\text{ }$ What is the wave equation $u_{tt}=c^2\\nabla^2 u$ in polar coordinates if you know the solution $u$ depends only on $r$ and $t$"
   ]
  },
  {
   "cell_type": "markdown",
   "metadata": {},
   "source": [
    "**Example** $\\text{ }$ What is Laplace's equation in spherical coordinates if the solution $u$ depends only on $r$? Can you find the solutions of this equation? These are the spherically symmetric potentials in three dimensions"
   ]
  },
  {
   "cell_type": "markdown",
   "metadata": {},
   "source": [
    "## Lesson 31. General Nature of Boundary-Value Problems "
   ]
  },
  {
   "cell_type": "markdown",
   "metadata": {},
   "source": [
    "There are many important problems whose outcomes do not change with time, are described by elliptic boundary-value problems. There are two common situations in physical problems that give rise to PDEs that don't involve time; they are:\n",
    "\n",
    "1. Steady-state problems\n",
    "2. Problems where we factor out the time component in the solution\n",
    "\n",
    "When studying boundary-value problems (BVPs), there are three types of BCs that are most common; we discuss these three types now"
   ]
  },
  {
   "cell_type": "markdown",
   "metadata": {},
   "source": [
    "#### Dirichlet Problems"
   ]
  },
  {
   "cell_type": "markdown",
   "metadata": {},
   "source": [
    "Here, the PDE holds over a given region of space, and the solution is specified on the boundary of the region. An example would be to find the steady-state temperature insdie a circle with the temperature givn on the boundary\n",
    "\n",
    ">$\\displaystyle u_{rr} +\\frac{1}{r}u_r + \\frac{1}{r^2} u_{\\theta\\theta}=0, \\;\\;\\;0 < r < 1$\n",
    "\n",
    ">$\\displaystyle u(1,\\theta) = \\sin\\theta, \\;\\;\\; 0 \\leq \\theta < 2\\pi$\n",
    "\n",
    "><img src=\"figures/pde03_figure05.jpg\" alt=\"Interior Dirichlet Problem\" width=\"300\"/>\n",
    "\n",
    "Another example would be an exterior Dirichlet problem in which we are looking for the solution of Laplace's equation outside the unit circle, and the solution is given on the circle\n",
    "\n",
    "><img src=\"figures/pde03_figure06.jpg\" alt=\"Exterior Dirichlet Problem\" width=\"300\"/>"
   ]
  },
  {
   "cell_type": "markdown",
   "metadata": {},
   "source": [
    "#### Neumann Problems"
   ]
  },
  {
   "cell_type": "markdown",
   "metadata": {},
   "source": [
    "Here, the PDE holds in some region of space, but now the outward normal derivative $\\partial u/\\partial n$ (which is proportional to the inward flux) is specified on the boundary. For example, suppose the inward flow of heat varies around the circle according to\n",
    "\n",
    ">$\\displaystyle \\frac{\\partial u}{\\partial r}=\\sin\\theta$\n",
    "\n",
    "The steady-state temperature inside the circle would then be given by the solution of the BVP\n",
    "\n",
    ">$\\displaystyle \\nabla^2 u = 0, \\;\\;\\;\\; 0 < r < 1$\n",
    "\n",
    ">$\\displaystyle \\frac{\\partial u}{\\partial r} =\\sin\\theta, \\;\\;\\;\\; r=1, \\;\\; 0 \\leq \\theta < 2\\pi$\n",
    "\n",
    "Here, we can see that the flux of heat across the boundary is inward for $0 \\leq \\theta \\leq \\pi$ and outward for $\\pi \\leq \\theta < 2\\pi$\n",
    "\n",
    "><img src=\"figures/pde03_figure07.jpg\" alt=\"flow of heat for the Neumann problem\" width=\"300\"/>\n",
    "\n",
    "However, since the total flux\n",
    "\n",
    ">$\\displaystyle \\int_0^{2\\pi} \\frac{\\partial u}{\\partial r}\\, d\\theta=\\int_0^{2\\pi} \\sin\\theta \\,d\\theta = 0$\n",
    "\n",
    "(a condition that must be true for Neumann problems), we can say that the temperature ar each point insdie circle does not change with respect to time. In other words, Neumann problems make sense only if the net gain in heat (or whatever) across the boundary is zero\n",
    "\n",
    "The Neumann problem is somewhat different from other boundary conditions in that solutions are not unique. In other words, the above Neumann problem has an infinite number of solutions $u(r,\\theta)$. Once we have one solution, we can get the others just by adding a constant. For example, one solution to our Neumann problem is\n",
    "\n",
    ">$\\displaystyle u(r,\\theta)=r\\sin\\theta$\n",
    "\n",
    "and it is obvious that if we add a constant to this solution, another one is obtained. For this reason, if we want to find one solution to the Neumann problem, we must have some additional information (like knowing the solution at one point)"
   ]
  },
  {
   "cell_type": "markdown",
   "metadata": {},
   "source": [
    "#### Robin Problems"
   ]
  },
  {
   "cell_type": "markdown",
   "metadata": {},
   "source": [
    "These problems correspond to the PDEs being given in some region of space, but now the condition on the boundary is a mixture of the first two kinds\n",
    "\n",
    ">$\\displaystyle \\frac{\\partial u}{\\partial n} = -h(u -g)$\n",
    "\n",
    "where $h$ is a constant and $g$ is a given function that can vary over the boundary. This BC says the inward flux across the boundary is proportional to the difference between the temperature $u$ and some specified temperature $g$. This, of course, is just Newton's law of cooling.\n",
    "The constant $h$ is a physical parameter that measures the amount of flux across the boundary per difference between $u$ and $g$. If $h$ is large, then heat flow is great per temperature difference, and so the solution looks very much like the solution of the Dirichlet problem $u=g$. On the order hand, if $h=0$, then the BC is reduced to the insulated BC\n",
    "\n",
    ">$\\displaystyle \\frac{\\partial u}{\\partial r}=0$"
   ]
  },
  {
   "cell_type": "markdown",
   "metadata": {},
   "source": [
    "**Example** $\\text{ }$ Does the following Neumann have a solution inside the circle:\n",
    "\n",
    ">$\\displaystyle \\nabla^2 u = 0, \\;\\;\\;\\; 0 < r < 1$\n",
    "\n",
    ">$\\displaystyle \\frac{\\partial u}{\\partial r} =\\sin^2\\theta, \\;\\;\\;\\; r=1, \\;\\; 0 \\leq \\theta < 2\\pi$"
   ]
  },
  {
   "cell_type": "markdown",
   "metadata": {},
   "source": [
    "**Example** $\\text{ }$ For different values of $h$, imagine the solution $u(r,\\theta)$ to\n",
    "\n",
    ">$\\displaystyle \\nabla^2 u = 0, \\;\\;\\;\\; 0 < r < 1$\n",
    "\n",
    ">$\\displaystyle \\frac{\\partial u}{\\partial r} +h(u -\\sin\\theta), \\;\\;\\;\\; r=1, \\;\\; 0 \\leq \\theta < 2\\pi$"
   ]
  },
  {
   "cell_type": "markdown",
   "metadata": {},
   "source": [
    "## Lesson 32. Interior Dirichlet Problem for a Circle"
   ]
  },
  {
   "cell_type": "markdown",
   "metadata": {},
   "source": [
    "This lesson presents a number of new ideas to solve the interior Dirichlet problem for the circle\n",
    "\n",
    ">$\\displaystyle u_{rr} +\\frac{1}{r}u_r + \\frac{1}{r^2} u_{\\theta\\theta}=0, \\;\\;\\;0 < r < 1$\n",
    "\n",
    ">$\\displaystyle u(1,\\theta) = g(\\theta), \\;\\;\\; 0 \\leq \\theta < 2\\pi$\n",
    "\n",
    "The method of separation of variables will be the usual procedure\n",
    "\n",
    ">$\\begin{align*}\n",
    " u_{rr} +\\frac{1}{r}u_r &+\\frac{1}{r^2}u_{\\theta\\theta}= 0 \\\\ \n",
    "  u(1,\\theta) &= g(\\theta) \\\\ \n",
    " &\\Downarrow u(r,\\theta)=R(r)\\Theta(\\theta)\\\\ \n",
    " -\\frac{r^2R'' +rR'}{R} &= \\frac{\\;\\Theta''}{\\Theta} =-\\lambda  \\leq 0 \\\\ \n",
    " &\\Downarrow \\\\\n",
    "  \\Theta'' +\\lambda \\Theta =0 \\;\\; \\xrightarrow[]{\\;\\;\\Theta(0)=\\Theta(2\\pi),\\;\\Theta'(0)=\\Theta'(2\\pi)\\;\\;} \n",
    "    &\\;\\;\\Theta_n(\\theta)=a_n \\cos n\\theta +b_n \\sin n\\theta, \\;\\; \\lambda_n =n^2, \\;\\; n=0,1,2,\\cdots \\\\\n",
    " &\\Downarrow \\\\\n",
    "  r^2R_0'' +rR_0'=0\\; &\\xrightarrow[]{\\;\\;R_0(0) <\\infty \\;\\;} \\;\\; R_0(r)=1 \\\\ \n",
    "  r^2R_n''+rR_n' -n^2 R_n=0,\\;\\;n =1,2,\\cdots\\; &\\xrightarrow[]{\\;\\;R_n(0) <\\infty \\;\\;} \\;\\;R_n(r)= r^n \\\\ \n",
    " &\\Downarrow \\\\\n",
    " u(r,\\theta) =\\frac{a_0}{2} +\\sum_{n=1}^\\infty & r^n \\left( a_n \\cos n\\theta +b_n \\sin n\\theta \\right) \\\\\n",
    " a_n = \\frac{1}{\\pi} \\int_0^{2\\pi} &g(\\theta) \\cos n\\theta \\,d\\theta \\\\\n",
    " b_n = \\frac{1}{\\pi} \\int_0^{2\\pi} &g(\\theta) \\sin n\\theta \\,d\\theta\n",
    "\\end{align*}$"
   ]
  },
  {
   "cell_type": "markdown",
   "metadata": {},
   "source": [
    "1. The solution can be interpreted as expanding the boundary function $g(\\theta)$ as a Fourier series\n",
    "\n",
    ">$\\displaystyle g(\\theta)=\\frac{a_0}{2} +\\sum_{n=1}^\\infty \\left(a_n \\cos n\\theta +b_n \\sin n\\theta \\right)$\n",
    "\n",
    "and solve the problem for $\\cos n\\theta$ and $\\sin n\\theta$ in the series. Since each of these terms will give rise to solutions $r^n\\cos n\\theta$ and $r^n \\sin n\\theta$, we can then say (by superposition) that\n",
    "\n",
    ">$\\displaystyle u(r,\\theta)=\\frac{a_0}{2} +\\sum_{n=1}^\\infty r^n \\left(a_n \\cos n\\theta +b_n \\sin n\\theta \\right)$"
   ]
  },
  {
   "cell_type": "markdown",
   "metadata": {},
   "source": [
    "## Lesson 33. The Dirichlet Problem in an Annulus "
   ]
  },
  {
   "cell_type": "code",
   "execution_count": null,
   "metadata": {},
   "outputs": [],
   "source": []
  },
  {
   "cell_type": "markdown",
   "metadata": {},
   "source": [
    "## Lesson 34. Laplace's Equation in Spherical Coordinates (Spherical Harmonics)"
   ]
  },
  {
   "cell_type": "code",
   "execution_count": null,
   "metadata": {},
   "outputs": [],
   "source": []
  },
  {
   "cell_type": "markdown",
   "metadata": {},
   "source": [
    "## Lesson 35. A Nonhomogeneous Dirichlet Problem (Green's Function) "
   ]
  },
  {
   "cell_type": "code",
   "execution_count": null,
   "metadata": {},
   "outputs": [],
   "source": []
  }
 ],
 "metadata": {
  "kernelspec": {
   "display_name": "Python 3",
   "language": "python",
   "name": "python3"
  },
  "language_info": {
   "codemirror_mode": {
    "name": "ipython",
    "version": 3
   },
   "file_extension": ".py",
   "mimetype": "text/x-python",
   "name": "python",
   "nbconvert_exporter": "python",
   "pygments_lexer": "ipython3",
   "version": "3.6.6"
  }
 },
 "nbformat": 4,
 "nbformat_minor": 2
}
