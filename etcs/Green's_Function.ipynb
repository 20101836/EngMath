{
 "cells": [
  {
   "cell_type": "markdown",
   "metadata": {},
   "source": [
    "[![Open In Colab](https://colab.research.google.com/assets/colab-badge.svg)](https://colab.research.google.com/github/SeoulTechPSE/EngMath/blob/master/etcs/Green's_Function.ipynb)"
   ]
  },
  {
   "cell_type": "markdown",
   "metadata": {},
   "source": [
    "# Green's Function: Nonhomogeneous Problems"
   ]
  },
  {
   "cell_type": "markdown",
   "metadata": {},
   "source": [
    "### 1. Initial Value Problems of the Second-Order Ordinary Differential Equations "
   ]
  },
  {
   "cell_type": "markdown",
   "metadata": {},
   "source": [
    "* We shall consider the self-adjoint form\n",
    "\n",
    ">$\\displaystyle \\frac{d}{dx} \\left[ p(x)\\frac{du}{dx} \\right] +q(x)u = -f(x)\\;\\;$ **(E1)**\n",
    "\n",
    "The function $p(x)$ is continuously differentiable and positive, and $q(x)$ and $f(x)$ are continuous for $\\alpha < x < \\beta$\n",
    "\n",
    "* The homogeneous second-order differential equation\n",
    "\n",
    ">$\\displaystyle \\frac{d}{dx} \\left[ p(x)\\frac{dv}{dx} \\right] +q(x)v = 0\\;\\;$ **(E2)**\n",
    "\n",
    "has exactly two linearly independent solutions $v_1(x)$ and $v_2(x)$: any solution of (E2) can be written in the form\n",
    "\n",
    ">$\\displaystyle v(x) = c_1 v_1(x) +c_2 v_2(x)$\n",
    "\n",
    "where $c_1$ and $c_2$ are constants"
   ]
  },
  {
   "cell_type": "markdown",
   "metadata": {},
   "source": [
    "* We now consider the function\n",
    "\n",
    ">$\\displaystyle w = v_1(x) \\int_\\alpha^x v_2(\\xi) f(\\xi)\\, d\\xi -v_2(x) \\int_\\alpha^x v_1(\\xi) f(\\xi)\\, d\\xi$\n",
    "\n",
    "Differentiating $w$, we have\n",
    "\n",
    ">$\\begin{align*}\n",
    " \\frac{dw}{dx} &= v_1'(x) \\int_\\alpha^x v_2(\\xi) f(\\xi)\\, d\\xi -v_2'(x) \\int_\\alpha^x v_1(\\xi) f(\\xi)\\, d\\xi  \n",
    " + \\underbrace{\\left[ v_1(x) v_2(x) -v_2(x) v_1(x) \\right]}_{=0} f(x)\\\\ \n",
    " &= v_1'(x) \\int_\\alpha^x v_2(\\xi) f(\\xi)\\, d\\xi -v_2'(x) \\int_\\alpha^x v_1(\\xi) f(\\xi)\\, d\\xi \n",
    "\\end{align*}$\n",
    "\n",
    "Then\n",
    "\n",
    ">$\\begin{align*}\n",
    " \\frac{d}{dx}\\left[ p(x)\\frac{dw}{dx} \\right] &=  \\underbrace{\\frac{d}{dx}\\left[ p(x)v_1'(x) \\right]}_{-q(x)v_1} \\int_\\alpha^x v_2(\\xi) f(\\xi)\\, d\\xi -\\underbrace{\\frac{d}{dx}\\left[ p(x)v_2'(x) \\right]}_{-q(x) v_2} \\int_\\alpha^x v_1(\\xi) f(\\xi)\\, d\\xi \\\\\n",
    " &+ \\underbrace{p(x) \\left[ v_1'(x) v_2(x) -v_2'(x) v_1(x) \\right]}_{-K} f(x) \\\\\n",
    " &=-q(x) w -Kf(x)\n",
    "\\end{align*}$\n",
    "\n",
    "where\n",
    "\n",
    ">$\\begin{align*}\n",
    " \\frac{d}{dx} &\\left\\{p(x) \\left[ v_1'(x) v_2(x) -v_2'(x) v_1(x) \\right] \\right\\} \\\\ \n",
    " &= \\underbrace{\\frac{d}{dx} \\left[ p(x) v_1'(x) \\right]}_{-q(x) v_1(x)} v_2(x) -\\underbrace{\\frac{d}{dx} \\left[ p(x) v_2'(x) \\right]}_{-q(x)v_2(x)} v_1(x) +p(x)v_1'(x)v_2'(x) -p(x)v_2'(x)v_1'(x)\\\\ \n",
    " &= 0 \\\\\n",
    " &\\Downarrow \\\\\n",
    " p(x) &\\left[ v_1'(x) v_2(x) -v_2'(x) v_1(x) \\right] = -K\n",
    "\\end{align*}$\n",
    "\n",
    "* We have shown that $w$ satisfies the equation:\n",
    "\n",
    ">$\\displaystyle \\frac{d}{dx} \\left[ p(x)\\frac{dw}{dx} \\right] +q(x)w = -Kf(x)\\;\\;$\n",
    "\n",
    "Moreover, as $x \\rightarrow \\alpha$\n",
    "\n",
    ">$\\displaystyle w(\\alpha)=w'(\\alpha)=0$\n",
    "\n",
    "Dividing by the constant $K$, we find that the function\n",
    "\n",
    ">$\\displaystyle u(x) = \\int_0^x R(x,\\xi)\\,f(\\xi)\\,d\\xi\\;\\;$ **(E3)**\n",
    "\n",
    "where\n",
    "\n",
    ">$\\displaystyle R(x,\\xi)=-\\frac{v_1(x)v_2(\\xi) - v_2(x)v_1(\\xi)}{p(x) \\left[ v_1'(x) v_2(x) -v_2'(x) v_1(x) \\right]}\\;\\;$ **(E4)**\n",
    "\n",
    "is the solution of the initial value problem\n",
    "\n",
    ">$\\begin{align*}\n",
    " \\frac{d}{dx} &\\left[ p(x) \\frac{du}{dx}\\right] +qu = -f(x)\\;\\; \\text{ for } x > \\alpha \\\\ \n",
    " u&(\\alpha) = u'(\\alpha) = 0 \n",
    "\\end{align*}$"
   ]
  },
  {
   "cell_type": "markdown",
   "metadata": {},
   "source": [
    "* Since the denominator of $R(x,\\xi)$ is a constant, the function $R(x,\\xi)$ satisfies the homogeneous equation (E2) as either a function of $x$ or $\\xi$. In fact, \n",
    "\n",
    ">$\\displaystyle R(x,\\xi)=-R(\\xi,x)$\n",
    "\n",
    "For a fixed value of $\\xi$, $R(x,\\xi)$ is completely characterized as the solution of the homogeneous initial value problem\n",
    "\n",
    ">$\\begin{align*}\n",
    " \\frac{d}{dx} \\left[ p(x) \\frac{dR}{dx}\\right] &+qR = 0\\;\\; \\text{ for } x > \\xi \\\\ \n",
    " \\left. R \\right|_{x=\\xi} &= 0 \\\\ \n",
    " \\left. R' \\right|_{x=\\xi} &= -\\frac{1}{p(\\xi)} \\\\ \n",
    "\\end{align*}$\n",
    "\n",
    "The function $R(x,\\xi)$ describes the influence on the value of $u$ at $x$ of a disturbance(impulse) concentrated at $\\xi$. It is sometimes called the influence function, or the one-sided Green's function\n",
    "\n",
    "* If the values of $u(\\alpha)$ and $u'(\\alpha)$ are prescribed to be other than zero, we must simply add a suitable solution $c_1 v_1(x) +c_2 v_2(x)$ to the expression (E3)"
   ]
  },
  {
   "cell_type": "markdown",
   "metadata": {},
   "source": [
    "**Example** $\\text{ }$ Consider the problem\n",
    "\n",
    ">$\\begin{align*}\n",
    " u'' +u &= -f(x)\\;\\; \\text{ for } x > 0 \\\\ \n",
    " u(0) &= 1 \\\\ \n",
    " u'(0) &=-1 \\\\ \n",
    "\\end{align*}$"
   ]
  },
  {
   "cell_type": "markdown",
   "metadata": {},
   "source": [
    "**solution** $\\text{ } u(x) = w(x) +v(x)$\n",
    "\n",
    "**(1)**\n",
    "\n",
    ">$\\begin{align*}\n",
    " w'' +w &= -f(x)\\;\\; \\text{ for } x > 0 \\\\ \n",
    " w(0) &= 0 \\\\ \n",
    " w'(0) &= 0 \\\\ \n",
    "\\end{align*}$\n",
    "\n",
    "For a fixed value of $\\xi$, the influence function $R(x,\\xi)$ satisfies\n",
    "\n",
    ">$\\begin{align*}\n",
    " \\frac{d^2R}{dx^2} +R &= 0\\;\\; \\text{ for } x > \\xi \\\\ \n",
    " \\left. R \\right|_{x=\\xi} &= 0 \\\\ \n",
    " \\left. R' \\right|_{x=\\xi} &= -1 \n",
    "\\end{align*}$\n",
    "\n",
    "Thus\n",
    "\n",
    ">$\\displaystyle R(x,\\xi)=\\sin(\\xi -x)$\n",
    "\n",
    "and the solution is\n",
    "\n",
    ">$\\displaystyle w(x)=\\int_0^x \\sin(\\xi -x)\\,f(\\xi)\\,d\\xi$\n",
    "\n",
    "**(b)**\n",
    "\n",
    ">$\\begin{align*}\n",
    " v'' +v &= 0\\;\\; \\text{ for } x > 0 \\\\ \n",
    " v(0) &= 1 \\\\ \n",
    " v'(0) &=-1 \\\\ \n",
    "\\end{align*}$\n",
    "\n",
    ">$\\displaystyle v(x)=\\cos x -\\sin x$"
   ]
  },
  {
   "cell_type": "markdown",
   "metadata": {},
   "source": [
    "### 2. Boundary Value Problems of the Second-Order Ordinary Differential Equations"
   ]
  },
  {
   "cell_type": "code",
   "execution_count": null,
   "metadata": {},
   "outputs": [],
   "source": []
  }
 ],
 "metadata": {
  "kernelspec": {
   "display_name": "Python 3",
   "language": "python",
   "name": "python3"
  },
  "language_info": {
   "codemirror_mode": {
    "name": "ipython",
    "version": 3
   },
   "file_extension": ".py",
   "mimetype": "text/x-python",
   "name": "python",
   "nbconvert_exporter": "python",
   "pygments_lexer": "ipython3",
   "version": "3.7.5"
  }
 },
 "nbformat": 4,
 "nbformat_minor": 4
}
