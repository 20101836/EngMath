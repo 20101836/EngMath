{
 "cells": [
  {
   "cell_type": "markdown",
   "metadata": {},
   "source": [
    "# Chapter 11. Systems of Nonlinear Differential Equations"
   ]
  },
  {
   "cell_type": "markdown",
   "metadata": {},
   "source": [
    "### Contents\n",
    "\n",
    "* Autonomous Systems\n",
    "* Stability of Linear Systems\n",
    "* Linearization and Local Stability\n",
    "* Autonomous Systems as Mathematical Models\n",
    "* Periodic Solutions, Limit Cycles, and Global Stability"
   ]
  },
  {
   "cell_type": "markdown",
   "metadata": {},
   "source": [
    "## 11.1 Autonomous Systems"
   ]
  },
  {
   "cell_type": "markdown",
   "metadata": {},
   "source": [
    "A system of first-order differential equations is called **autonomous** when the system can be written in the form\n",
    "\n",
    ">$\n",
    "\\begin{align*}\n",
    " \\frac{dx_1}{dt} &=g_1(x_1,x_2,\\cdots,x_n) \\\\ \n",
    " \\frac{dx_2}{dt} &=g_2(x_1,x_2,\\cdots,x_n) \\\\ \n",
    "    & \\;\\vdots \\\\ \n",
    " \\frac{dx_n}{dt} &=g_n(x_1,x_2,\\cdots,x_n)\n",
    "\\end{align*}\n",
    "$\n",
    "\n",
    "Notice that the independent variable $t$ does not appear explicitly on the right-hand side of each differential\n",
    "equation."
   ]
  },
  {
   "cell_type": "markdown",
   "metadata": {},
   "source": [
    "* **Second-Order DE as a System**\n",
    "\n",
    "  Any second-order differential equation $x''=g(x,x')$ can be written as an autonomous system. \n",
    "  If we let $y=x'$, the second-order differential equation becomes the system of two first-order equations\n",
    "  \n",
    "  >$\n",
    "  \\begin{align*}\n",
    "     x' &= y\\\\ \n",
    "     y' &= g(x,y) \n",
    "  \\end{align*}\n",
    "  $\n",
    "  \n",
    "  ---\n",
    "  \n",
    "  **Example:** The displacement angle $\\theta$ for a pendulum satisfies the nonlinear second-order\n",
    "  differential equation\n",
    "  \n",
    "  >$\\displaystyle\\frac{d^2 \\theta}{dt^2} +\\frac{g}{l}\\sin\\theta=0$\n",
    "  \n",
    "  If we let $x=\\theta$ and $y=\\theta'$, this second-order differential equation can be written as the autonomous system\n",
    "  \n",
    "  >$\n",
    "  \\begin{align*}\n",
    "     x' &= y\\\\ \n",
    "     y' &= -\\frac{g}{l}\\sin x\n",
    "  \\end{align*}\n",
    "  $\n",
    "\n",
    "  ---\n",
    "  \n",
    "* **Plane Autonomous System**\n",
    "  \n",
    "  When $n=2$, the system is called a **plane autonomous system**, and we write the system as\n",
    "  \n",
    "  >$\\displaystyle\n",
    "  \\begin{align*}\n",
    "     \\frac{dx}{dt} &= P(x,y)\\\\ \n",
    "     \\frac{dy}{dt} &= Q(x,y)\n",
    "  \\end{align*}\n",
    "  $\n",
    "  \n",
    "  If $P(x,y)$, $Q(x,y)$, and the first-order partial derivatives $\\partial P/\\partial x$,\n",
    "  $\\partial P/\\partial y$, $\\partial Q/\\partial x$, and $\\partial Q/\\partial y$ are continuous in a\n",
    "  region $R$ of the plane, then a solution to the plane autonomous system that satisfies \n",
    "  $\\mathbf{x}(0)=\\mathbf{x}_0$ is unique and one of three basic types:\n",
    "  \n",
    "    * A **constant solution**, $\\mathbf{x}(t)=\\mathbf{x}_0$ for all $t$. \n",
    "    A constant solution is called a **critical** or **stationary point**. Note that since $\\mathbf{x}'=\\mathbf{0}$,\n",
    "    a critical point is a solution of the system of algebraic equations\n",
    "    \n",
    "    >$\\displaystyle\n",
    "      \\begin{align*}\n",
    "         P(x,y) &= 0\\\\ \n",
    "         Q(x,y) &= 0\n",
    "      \\end{align*}\n",
    "    $\n",
    "    \n",
    "    * An **arc**, $\\mathbf{x}(t)$ - a plane curve that does not cross itself\n",
    "    \n",
    "    <img src=\"figures/ch11_figure01.png\" width=\"200\">\n",
    "    \n",
    "    * A **periodic solution** or **cycle**, $\\mathbf{x}(t +p)=\\mathbf{x}(t)$\n",
    "    \n",
    "    <img src=\"figures/ch11_figure02.png\" width=\"100\"> "
   ]
  },
  {
   "cell_type": "markdown",
   "metadata": {},
   "source": [
    "### Exercises 11.1\n",
    "\n",
    "* 1"
   ]
  },
  {
   "cell_type": "markdown",
   "metadata": {},
   "source": [
    "## 11.2 Stability of Linear Systems"
   ]
  },
  {
   "cell_type": "markdown",
   "metadata": {},
   "source": [
    "If $\\mathbf{x}_1$ is a critical point of a plane autonomous system and $\\mathbf{x}=\\mathbf{x}(t)$ is a solution\n",
    "satisfying $\\mathbf{x}(0)=\\mathbf{x}_0$, \n",
    "\n",
    ">when $\\mathbf{x}_0$ is placed near $\\mathbf{x}_1$.\n",
    "\n",
    "<img src=\"figures/ch11_figure03.png\" width=\"100\">\n",
    "\n",
    ">**(a)** It may return to the critical point <br>\n",
    "**(b)** It may remain close to the critical point without returning <br>\n",
    "**(c)** It may move away from the critical point\n",
    "\n",
    "\n",
    "\n"
   ]
  },
  {
   "cell_type": "code",
   "execution_count": null,
   "metadata": {},
   "outputs": [],
   "source": []
  }
 ],
 "metadata": {
  "kernelspec": {
   "display_name": "Python 3",
   "language": "python",
   "name": "python3"
  },
  "language_info": {
   "codemirror_mode": {
    "name": "ipython",
    "version": 3
   },
   "file_extension": ".py",
   "mimetype": "text/x-python",
   "name": "python",
   "nbconvert_exporter": "python",
   "pygments_lexer": "ipython3",
   "version": "3.7.2"
  }
 },
 "nbformat": 4,
 "nbformat_minor": 2
}
