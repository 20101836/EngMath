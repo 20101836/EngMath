{
 "cells": [
  {
   "cell_type": "markdown",
   "metadata": {},
   "source": [
    "# Chapter 3. Higher-Order Differential Equations"
   ]
  },
  {
   "cell_type": "markdown",
   "metadata": {},
   "source": [
    "## Contents\n",
    "* Theory of Linear Equations\n",
    "* Reduction of Order\n",
    "* Homogeneous Linear Equations with Constant Coefficients\n",
    "* Undetermined Coefficients\n",
    "* Variation of Parameters\n",
    "* Cauchy-Euler Equations\n",
    "* Nonlinear Equations\n",
    "* Linear Models: IVPs\n",
    "* Linear Models: BVPs\n",
    "* Green's Functions\n",
    "* Nonlinear Models\n",
    "* Solving Systems of Linear Equations "
   ]
  },
  {
   "cell_type": "markdown",
   "metadata": {},
   "source": [
    "## 3.1 Theory of Linear Equations "
   ]
  },
  {
   "cell_type": "markdown",
   "metadata": {},
   "source": [
    "* In an **initial-value problem (IVP)**, we seek a solution $y(x)$ of a $n$-th order linear DE so that $y(x)$ satisfies **initial conditions** at $x_0$\n",
    " \n",
    " * $n$-th order linear DE: $\\;a_n(x) \\neq 0$\n",
    "   \n",
    "   $\\displaystyle a_n(x) \\frac{d^ny}{dx^n} +a_{n-1}(x) \\frac{d^{n-1}y}{dx^{n-1}} +\\cdots + a_1(x) \\frac{dy}{dx} +a_0(x) y= g(x)\\;$ or $\\underbrace{L(y)}_{\\mathrm{Linear\\;Operator}}=g(x)$\n",
    " \n",
    " * Initial conditions\n",
    "   \n",
    "   $y(x_o) = y_o, \\; y'(x_0) = y_1, \\cdots, y^{(n-1)}(x_0) = y_{n-1}$"
   ]
  },
  {
   "cell_type": "markdown",
   "metadata": {},
   "source": [
    "* **Boundary-value problem (BVP)** consists of solving a linear DE of order 2 or greater, in which the dependent variable $y$ or its derivatives are specified at *diffenrent points*. For example,\n",
    "\n",
    " * $\\displaystyle a_2(x) \\frac{d^2y}{dx^2} +a_1(x) \\frac{dy}{dx} +a_0(x)y=g(x)$\n",
    " \n",
    " * Boundary conditions\n",
    "     \n",
    "   $y(x_0)=y_0, \\;y(x_1)=y_1$ "
   ]
  },
  {
   "cell_type": "markdown",
   "metadata": {},
   "source": [
    "* The sum, or **superposition**, of two or more solutions of a homogeneous linear DE is also a solution\n",
    "\n",
    "* Any set of $n$ linearly *independent* solutions $y_1, y_2, \\cdots, y_n$ of the $n$-th order homogeneous linear DE on interval $I$ is **a fundamental set of solutions**\n",
    "\n",
    " * If two functions are linearly dependent, then one is a constant multiple of the other (otherwise, they are linearly independent)\n",
    " * If $\\{y_1, y_2, \\cdots, y_n\\}$ are a set of linearly independent functions, \n",
    "   the **Wronskian** function is not singular:\n",
    "   \n",
    "  >$W(y_1, y_2, \\cdots, y_n)= \n",
    "       \\begin{vmatrix}\n",
    "            y_1 & y_2 & \\cdots & y_n \\\\ \n",
    "            y_1' & y_2' & \\cdots & y_n'\\\\ \n",
    "            \\vdots & \\vdots & \\cdots & \\vdots\\\\ \n",
    "            y_1^{(n-1)} & y_2^{(n-1)} & \\cdots & y_n^{(n-1)}\n",
    "       \\end{vmatrix} \n",
    "       \\neq 0$"
   ]
  },
  {
   "cell_type": "markdown",
   "metadata": {},
   "source": [
    "* General solution of $n$-th order homogeneous linear DE is\n",
    "\n",
    " $y(x)=c_1 y_1(x) +c_2 y_2(x) + \\cdots + c_n y_n(x)$\n",
    " \n",
    " where $y_1, y_2, \\cdots, y_n$ is a fundamental set of solutions and $c_i, \\;i=1,2,\\cdots,n$ are arbitrary constants"
   ]
  },
  {
   "cell_type": "markdown",
   "metadata": {},
   "source": [
    "* General solution of $n$-th order nonhomogeneous linear DE is\n",
    "\n",
    " $y(x)=c_1 y_1(x) +c_2 y_2(x) + \\cdots + c_n y_n(x) +y_p(x)$\n",
    " \n",
    " where $y_1, y_2, \\cdots, y_n$ is a fundamental set of solutions, $y_p$ is a particular solution, and $c_i, \\;i=1,2,\\cdots,n$ are arbitrary constants"
   ]
  },
  {
   "cell_type": "markdown",
   "metadata": {},
   "source": [
    "### Exercises 3.1\n",
    "\n",
    "* 7, 8\n",
    "* 15, 17\n",
    "* 23, 25\n",
    "* 31, 33"
   ]
  },
  {
   "cell_type": "markdown",
   "metadata": {},
   "source": [
    "## 3.2 Reduction of Order"
   ]
  },
  {
   "cell_type": "markdown",
   "metadata": {},
   "source": [
    "* **Reduction of order** can be used to reduce a linear second-order DE with known solution $y_1$ into a linear first-order DE, which can be solved for a second solution $y_2$\n",
    "\n",
    "* Applying reduction of order $y_2 = u(x) y_1$ to the standard form of a second-order linear homogeneous DE\n",
    "\n",
    " $y''+P(x)y' +Q(x)y=0$\n",
    " \n",
    " gives\n",
    " \n",
    ">$\\displaystyle\n",
    "  \\begin{align*}\n",
    "     y_1 u'' & +\\left(2y_1' +P(x)y_1\\right) u' = 0\\\\ \n",
    "     &\\;\\big\\Downarrow \\;\\times\\; y_1, \\; u'=w\\\\ \n",
    "     (y_1^2 w)' &= -(y_1^2 w) P(x) \\\\\n",
    "     &\\;\\big\\Downarrow \\\\\n",
    "     y_2(x) &= y_1(x) \\int \\frac{\\exp\\left( -\\int P(x) \\,dx \\right)}{y_1^2(x)} \\,dx\n",
    "  \\end{align*} \n",
    "$"
   ]
  },
  {
   "cell_type": "markdown",
   "metadata": {},
   "source": [
    "### Exercises 3.2\n",
    "\n",
    "* 1, 3, 5, 21"
   ]
  },
  {
   "cell_type": "markdown",
   "metadata": {},
   "source": [
    "## 3.3 Homogeneous Linear Equations with Constant Coefficient"
   ]
  },
  {
   "cell_type": "markdown",
   "metadata": {},
   "source": [
    "The general solution of $ay''+by'+cy=0$ is found by substituting $y=e^{px}$ and solving the resulting **characteristic equation** $ap^2+bp+c=0$ for roots $p_1$ and $p_2$\n",
    "\n",
    "* **Case I** \n",
    "  \n",
    "  $p_1$ and $p_2$ are real and distinct\n",
    "\n",
    "  $y = c_1 e^{p_1x} +c_2e^{p_2x}$\n",
    "  \n",
    "* **Case II** \n",
    "  \n",
    "  $p_1$ and $p_2$ are real and equal\n",
    "\n",
    "  $y=c_1 e^{p_1x} +c_2 x e^{p_1x}$\n",
    "  \n",
    "* **Case III** \n",
    "  \n",
    "  $p_1$ and $p_2$ are complex conjugate: $p_1, p_2 = \\alpha \\pm i\\beta$\n",
    "\n",
    "  $y=e^{\\alpha x} \\left(c_1 \\cos\\beta x  +c_2 \\sin\\beta x \\right)$  "
   ]
  },
  {
   "cell_type": "markdown",
   "metadata": {},
   "source": [
    "**Example:** Solve $y'' +\\omega^2y=0$ and $y'' -\\omega^2y=0$"
   ]
  },
  {
   "cell_type": "markdown",
   "metadata": {},
   "source": [
    "**Example:** Solve $3y'''+5y''+10y'-4y=0$"
   ]
  },
  {
   "cell_type": "code",
   "execution_count": 1,
   "metadata": {},
   "outputs": [
    {
     "data": {
      "text/plain": [
       "[1/3, -1 - sqrt(3)*I, -1 + sqrt(3)*I]"
      ]
     },
     "execution_count": 1,
     "metadata": {},
     "output_type": "execute_result"
    }
   ],
   "source": [
    "from sympy.solvers import solve\n",
    "from sympy import Symbol\n",
    "\n",
    "x = Symbol('x')\n",
    "solve(3*x**3 +5*x**2 +10*x -4, x)"
   ]
  },
  {
   "cell_type": "markdown",
   "metadata": {},
   "source": [
    "### Exercises 3.3\n",
    "\n",
    "* 1, 3, 5\n",
    "* 15, 17, 19\n",
    "* 29, 37"
   ]
  },
  {
   "cell_type": "markdown",
   "metadata": {},
   "source": [
    "## 3.4 Undetermined Coefficients "
   ]
  },
  {
   "cell_type": "markdown",
   "metadata": {},
   "source": [
    "**Method of undetermined coefficients** can be used to obtain a particular solution $y_p$\n",
    "\n",
    "* The underlying idea is a conjecture about the form of $y_p$ based on the kinds of functions making up the input function $g(x)$\n",
    "* Limited to nonhomogeneous linear DEs where\n",
    "    * Coefficients $a_i, i=1,\\cdots,n$ are constants\n",
    "    * $g(x)$ is a constant, a polynominal function, $e^{\\alpha x}$, $\\sin\\beta x$ or $\\cos\\beta x$, or finite sums and products of these functions\n",
    "    * There are models of $y_p$ for various functions\n",
    "    \n",
    "    <img src=\"figures/ch03_figure01.png\" width=\"600\">\n",
    "* Finally, the general solution is obtained from the superposition of $y_h$ and $y_p$    \n"
   ]
  },
  {
   "cell_type": "markdown",
   "metadata": {},
   "source": [
    "**Example:** Solve $y'' +4y = x\\cos x$"
   ]
  },
  {
   "cell_type": "markdown",
   "metadata": {},
   "source": [
    "**Example:** Solve $y'' -6y' +9y = 6x^2 +2 -12e^{3x}$"
   ]
  },
  {
   "cell_type": "markdown",
   "metadata": {},
   "source": [
    "* If $g(x)$ consists of a sum of, say, $m$ terms of the kind listed in the table, then the assumption for \n",
    "  a particular solution $y_p$ consists of the sum of the trial forms\n",
    "  \n",
    "* If $y_p$ contains terms that duplicate terms in $y_h$, then that $y_p$ must be multiplied by $x^n$,\n",
    "  where $n$ is the smallest positive integer that eliminate that duplication"
   ]
  },
  {
   "cell_type": "markdown",
   "metadata": {},
   "source": [
    "**Example:** Solve $y^{(4)}+y'''= 1 -x^2e^{-x}$"
   ]
  },
  {
   "cell_type": "markdown",
   "metadata": {},
   "source": [
    "### Exercises 3.4\n",
    "\n",
    "* 19, 20, 21\n",
    "* 27, 29, 33, 42"
   ]
  },
  {
   "cell_type": "markdown",
   "metadata": {},
   "source": [
    "## 3.5 Variation of Parameters"
   ]
  },
  {
   "cell_type": "markdown",
   "metadata": {},
   "source": [
    "The **method of variation of parameters** can be used with linear higher-order DEs.\n",
    "\n",
    "* This method *always* yields a $y_p$ provided the homogeneous equation can be solved\n",
    "* This method is not limited to the types of input functions constraining the method of undetermined coefficients"
   ]
  },
  {
   "cell_type": "markdown",
   "metadata": {},
   "source": [
    "To adapt the method of variation of parameters to a linear second-order DE\n",
    "\n",
    "> $a_1(x)y'' +a_1(x)y' +a_0(x)y = g(x)$,\n",
    "\n",
    "we put the above equation in the standard form\n",
    "\n",
    "> $y'' +P(x)y' +Q(x)y = f(x)$.\n",
    "\n",
    "To solve,\n",
    "\n",
    "* Find the homogeneous solutions $y_1, y_2$\n",
    "* Seek a particular solution of the form $\\;y_p = u_1(x) y_1 +u_2(x) y_2$\n",
    "  \n",
    ">$\n",
    "  \\begin{align*}\n",
    "     y_p''+P(x)y_p' +Q(x)y_p &= f(x)\\\\ \n",
    "     &\\Downarrow y_p = c_1 y_1 +c_2 y_2 \\\\ \n",
    "     \\frac{d}{dx}[y_1 u_1' +y_2 u_2'] +P(x) [y_1 u_1' +y_2 u_2'] +y_1' u_1' +y_2' u_2'&= f(x) \\\\\n",
    "     &\\Downarrow y_1 u_1' +y_2 u_2' =0 \\;(\\mathrm{Assumption})\\\\\n",
    "     y_1' u_1' +y_2' u_2'&= f(x) \\\\\n",
    "     &\\Downarrow \\\\\n",
    "     \\begin{bmatrix}\n",
    "        y_1 & y_2\\\\ \n",
    "        y_1' & y_2' \n",
    "     \\end{bmatrix} \n",
    "     \\begin{bmatrix}\n",
    "        u_1' \\\\\n",
    "        u_2' \n",
    "     \\end{bmatrix} &=\n",
    "     \\begin{bmatrix}\n",
    "        0 \\\\ \n",
    "        f(x)\n",
    "     \\end{bmatrix} \\\\\n",
    "     &\\Downarrow \\\\\n",
    "     u_1 = \\displaystyle\\int \\frac{W_1}{W\\;} \\,dx =-\\int \\frac{y_2}{W}f(x)\\,dx, \n",
    "        \\; &u_2 = \\displaystyle\\int \\frac{W_2}{W\\;} \\,dx =\\int \\frac{y_1}{W}f(x)\\,dx\\\\\n",
    "     \\mathrm{where} \\;\\; \n",
    "       W = \\begin{bmatrix}\n",
    "             y_1 & y_2\\\\ \n",
    "             y_1' & y_2' \n",
    "           \\end{bmatrix}, \\;\n",
    "       W_1 =& \\begin{bmatrix}\n",
    "               0 & y_2\\\\ \n",
    "               f(x) & y_2' \n",
    "             \\end{bmatrix}, \\;\n",
    "       W_2 = \\begin{bmatrix}\n",
    "               y_1 & 0\\\\ \n",
    "               y_1' & f(x) \n",
    "             \\end{bmatrix}             \n",
    "  \\end{align*}\n",
    "$"
   ]
  },
  {
   "cell_type": "markdown",
   "metadata": {},
   "source": [
    "**Example:** Solve $y'' -y = \\frac{1}{x}$"
   ]
  },
  {
   "cell_type": "markdown",
   "metadata": {},
   "source": [
    "The method can be generalized to the standard form of $n$-th order linear DE. A particular solution is\n",
    "\n",
    "> $y_p = u_1(x) y_1 +u_2(x) y_2 +\\cdots +u_n(x) y_n$\n",
    "\n",
    "where\n",
    "\n",
    "> $u_k = \\displaystyle\\int \\frac{W_k}{W\\;}\\, dx, \\;k=1, 2, \\cdots, n$"
   ]
  },
  {
   "cell_type": "markdown",
   "metadata": {},
   "source": [
    "### Exercises 3.5\n",
    "\n",
    "* 1, 3, 5\n",
    "* 19, 21, 23, 25\n",
    "* 28, 30"
   ]
  },
  {
   "cell_type": "markdown",
   "metadata": {},
   "source": [
    "## 3.6 Cauchy-Euler Equation"
   ]
  },
  {
   "cell_type": "markdown",
   "metadata": {},
   "source": [
    "The **Cauchy-Euler equation** is a linear DE of the form\n",
    "\n",
    "> $\\displaystyle a_n x^n \\frac{d^n y}{dx^n} +a_{n-1} x^{n-1} \\frac{d^{n-1} y}{dx^{n-1}} +\\cdots +a_1 x \\frac{dy}{dx} +a_0 y = g(x)$\n",
    "\n",
    "where $a_n, a_{n-1}, \\cdots, a_0$ are constants and the exponent of the coefficient matches the order of differentiation."
   ]
  },
  {
   "cell_type": "markdown",
   "metadata": {},
   "source": [
    "$y =x^p$ is a solution of second-order DE whenever $p$ is a solution of the **auxiliary equation**\n",
    "\n",
    "> $ap^2 +(b-a)p +c =0$\n",
    "\n",
    "* **Case I:** Distinct Real Roots, $p_1, p_2$ \n",
    "\n",
    "  $y = c_1 x^{p_1} +c_2 x^{p_2}$\n",
    "  \n",
    "* **Case II:** Repeated Real Roots, $p_1=p_2$\n",
    "\n",
    "  $y = c_1 x^{p_1} +c_2 x^{p_1} \\ln x$\n",
    "  \n",
    "* **Case III:** Complex Conjugate Roots, $p_1, p_2 = \\alpha +i\\beta$\n",
    "\n",
    "  $y =x^{\\alpha}\\left[c_1\\cos(\\beta\\ln x) +c_2\\sin(\\beta\\ln x) \\right]$"
   ]
  },
  {
   "cell_type": "markdown",
   "metadata": {},
   "source": [
    "**Example:** Solve $x^2y'' -3xy' +3y = 2x^4 e^x$"
   ]
  },
  {
   "cell_type": "markdown",
   "metadata": {},
   "source": [
    "### Exercises 3.6\n",
    "\n",
    "* 1, 3 ,5\n",
    "* 19, 23\n",
    "* 39, 43, 49"
   ]
  },
  {
   "cell_type": "markdown",
   "metadata": {},
   "source": [
    "## 3.7 Nonlinear Equations"
   ]
  },
  {
   "cell_type": "markdown",
   "metadata": {},
   "source": [
    "* Nonlinear equations do not possess superposability\n",
    " \n",
    "  **Example:** Verify that $y_1$ and $y_2$ are solutions of the given DE but that $c_1 y_1 +c_2 y_2$ is, in general, not a solution\n",
    "  \n",
    "  > $\\left(y''\\right)^2 = y^2;$ $y_1=e^x$, $y_2=\\cos x$\n",
    "  \n",
    "* The major difference between linear and nonlinear DEs of order two or higher lies in the realm of solvability.\n",
    "Nonlinear higher-order DEs virtually defy solution. This means that there are no analytical methods whereby either an explicit or implicit solution can be found\n",
    "\n",
    "* There are still things that can be done; we can always analyze a nonlinear DE qualitatively and numerically"
   ]
  },
  {
   "cell_type": "markdown",
   "metadata": {},
   "source": [
    "* Nonlinear second-order DEs $F(x, y', y'')=0$ and $F(y, y', y'')=0\\,$ can be reduced to a first-order equation by means of the substitution $u=y'$ and can sometimes be solved using first-order methods\n",
    "\n",
    "  **Exampe:** Solve $y''=2x(y')^2$ and $yy''=(y')^2$"
   ]
  },
  {
   "cell_type": "markdown",
   "metadata": {},
   "source": [
    "* In some instances, a solution of a nonlinear IVP can be approximated by a Taylor series centered at $x_0$\n",
    "\n",
    "  **Example:** Solve $y''=x +y -y^2$, $y(0)=-1$, $y'(0)=1$ by using \n",
    "  \n",
    "  $\\displaystyle y(x) = y(0) +\\frac{y'(0)}{1!}x +\\frac{y''(0)}{2!}x^2 +\\frac{y'''(0)}{3!} x^3 + \\cdots$"
   ]
  },
  {
   "cell_type": "markdown",
   "metadata": {},
   "source": [
    "* In order to analyze an $n$-th order IVP numerically, we express the $n$-th order ODE as a system of $n$ first-order equations. For example\n",
    "\n",
    "  $\n",
    "  \\begin{align*}\n",
    "     \\frac{d^2y}{dx^2} = f(x,y,y')&, \\;\\;y(x_0)=y_0, \\;y'(x_0) = y_1\\\\ \n",
    "                       &\\Downarrow y''=u' \\\\ \n",
    "     \\mathrm{Solve:} & \\;\n",
    "\\begin{cases}\n",
    "y' = u \\\\ \n",
    "u' = f(x,y,u) \n",
    "\\end{cases} \\\\ \n",
    "     \\mathrm{Subject \\;to:} & \\;y(x_0)=y_0, \\;u(x_0)=y_1 \n",
    "  \\end{align*}\n",
    "  $\n",
    "\n",
    "  "
   ]
  },
  {
   "cell_type": "code",
   "execution_count": 2,
   "metadata": {},
   "outputs": [
    {
     "data": {
      "image/png": "[encoded data removed]",
      "text/plain": [
       "<Figure size 432x288 with 1 Axes>"
      ]
     },
     "metadata": {},
     "output_type": "display_data"
    }
   ],
   "source": [
    "%matplotlib inline\n",
    "from scipy.integrate import solve_ivp\n",
    "import numpy as np\n",
    "import matplotlib.pyplot as plt\n",
    "plt.style.use('ggplot')\n",
    "\n",
    "def myODE(t, y):\n",
    "    return [y[1], t +y[0] -y[0]*y[0]]\n",
    "\n",
    "sol = solve_ivp(myODE, [0, 20], [-1, 1], t_eval = np.linspace(0, 20, 200))\n",
    "\n",
    "plt.figure(figsize=(6, 4))\n",
    "plt.plot(sol.t, sol.y[0])\n",
    "plt.axis((0, 20, -1, 7))\n",
    "plt.xlabel('x')\n",
    "plt.ylabel('y')\n",
    "plt.title(r'$\\frac{d^2y}{dx^2}=x +y -y^2$')\n",
    "plt.show()"
   ]
  },
  {
   "cell_type": "markdown",
   "metadata": {},
   "source": [
    "### Exercises 3.7\n",
    "\n",
    "* 3, 7, 13, 15"
   ]
  },
  {
   "cell_type": "markdown",
   "metadata": {},
   "source": [
    "## 3.8 Linear Models: Initial-Value Problems"
   ]
  },
  {
   "cell_type": "markdown",
   "metadata": {},
   "source": [
    "Several dynamical systems are modeled with linear second-order DEs with constant coefficients and initial conditions at $t_0$\n",
    "\n",
    "* Spring/Mass Systems\n",
    " * Free Undamped Motion\n",
    " * Free Damped Motion\n",
    " * Diriven Motion"
   ]
  },
  {
   "cell_type": "markdown",
   "metadata": {},
   "source": [
    "<img src=\"figures/ch03_figure02.png\" width=\"250\">\n",
    "\n",
    "> $\\displaystyle m\\frac{d^2x}{dt^2} = -kx -\\beta\\frac{dx}{dt} +f(t)$,\n",
    "\n",
    "> $x(0)=x_0$, $\\dot{x}(0)=x_1$"
   ]
  },
  {
   "cell_type": "markdown",
   "metadata": {},
   "source": [
    "### Exercises 3.8\n",
    "\n",
    "* 43, 44, 45"
   ]
  },
  {
   "cell_type": "markdown",
   "metadata": {},
   "source": [
    "## 3.9 Linear Models: Boundary-Value Problems"
   ]
  },
  {
   "cell_type": "markdown",
   "metadata": {},
   "source": [
    "**Example: Temperature in a Ring**\n",
    "\n",
    "The temperature $u(r)$ in circular ring is determined from the boundary-value problem\n",
    "\n",
    "<img src=\"figures/ch03_figure03.png\" width=\"200\">\n",
    " \n",
    " $r\\displaystyle\\frac{d^2 u}{dr^2} +\\frac{du}{dr}=0$, $u(a)=u_0$, $u(b)=u_1$"
   ]
  },
  {
   "cell_type": "markdown",
   "metadata": {},
   "source": [
    "## 3.10 Green's Functions"
   ]
  },
  {
   "cell_type": "markdown",
   "metadata": {},
   "source": [
    "* **Initial-value problem**\n",
    "  \n",
    "  $\n",
    "  \\begin{align*}\n",
    "     y'' +P(x)y' +Q(x)y &= f(x), \\;y(x_0)=y_0,\\; y'(x_0)=y_1\\\\ \n",
    "     &\\Downarrow \\\\ \n",
    "     y_h'' +P(x)y_h' +Q(x)y_h &= 0, \\;\\;\\;\\;\\;y_h(x_0)=y_0,\\; y_h'(x_0)=y_1 \\\\ \n",
    "     &\\;+ \\\\\n",
    "     y_p'' +P(x)y_p' +Q(x)y_p &= f(x), \\;y_p(x_0)=0,\\;\\; y_p'(x_0)=0 \\\\\n",
    "     &\\Downarrow \\\\\n",
    "     y_h(x) &= c_1 y_1(x) +c_2 y_2(x) \\\\\n",
    "     &\\;+ \\\\\n",
    "     y_p(x) &= u_1(x) y_1(x) +u_2(x) y_2(x) \\\\\n",
    "         &= y_1(x)\\int_{x_0}^x \\frac{-y_2(t)f(t)}{W(t)}\\,dt +y_2(x)\\int_{x_0}^x \\frac{y_1(t)f(t)}{W(t)}\\,dt \\\\\n",
    "         &=\\int_{x_0}^x \\frac{y_1(t)y_2(x) -y_1(x)y_2(t)}{W(t)}f(t)\\,dt \\\\\n",
    "         &=\\int_{x_0}^x \\underbrace{G(x,t)}_{\\text{Green's function}} f(t) \\,dt\n",
    "  \\end{align*}\n",
    "  $\n"
   ]
  },
  {
   "cell_type": "markdown",
   "metadata": {},
   "source": [
    "* **Boundary-value problem**\n",
    "\n",
    "  $\\displaystyle\n",
    "  \\begin{align*}\n",
    "     y'' +P(x)y' +Q(x)y &= f(x)\\\\\n",
    "     A_1 y(a) +B_1 y'(a) &= 0\\\\\n",
    "     A_2 y(b) +B_2 y'(b) &= 0\\\\\n",
    "     &\\Downarrow \\\\ \n",
    "     y_h'' +P(x)y_h' +Q(x)y_h &= 0 \\\\\n",
    "     A_1 y_h(a) +B_1 y_h'(a) &= 0\\\\\n",
    "     A_2 y_h(b) +B_2 y_h'(b) &= 0\\\\     \n",
    "     &\\;+ \\\\\n",
    "     y_p'' +P(x)y_p' +Q(x)y_p &= f(x) \\\\\n",
    "     A_1 y_p(a) +B_1 y_p'(a) &= 0\\\\\n",
    "     A_2 y_p(b) +B_2 y_p'(b) &= 0\\\\\n",
    "     &\\Downarrow \\\\\n",
    "     y_h(x) &= 0 \\\\\n",
    "     &\\;+ \\\\\n",
    "     y_p(x) &= u_1(x) y_1(x) +u_2(x) y_2(x) \\\\\n",
    "            &\\text{ }\\\\ \n",
    "     &\\Bigg\\Downarrow \n",
    "             \\;\\begin{matrix}\n",
    "                u_2(a)=0, & A_1 y_1(a) +B_1 y_1'(a) = 0\\\\ \n",
    "                u_1(b)=0, & A_2 y_2(b) +B_2 y_2'(b) = 0\n",
    "              \\end{matrix} \\\\\n",
    "            &\\text{ } \\\\                           \n",
    "            &= y_1(x)\\int_{b}^x \\frac{-y_2(t)f(t)}{W(t)}\\,dt +y_2(x)\\int_{a}^x \\frac{y_1(t)f(t)}{W(t)}\\,dt \\\\\n",
    "            &= \\int_{a}^x \\frac{y_2(x) y_1(t)}{W(t)}f(t)\\,dt +\\int_{x}^b \\frac{y_1(x) y_2(t)}{W(t)}f(t)\\,dt \\\\\n",
    "            &= \\int_a^b G(x,t) f(t) \\,dt \\\\\n",
    "            &\\text{where } G(x,t) = \n",
    "                \\left\\{\\begin{matrix}\n",
    "                  \\frac{y_1(t) y_2(x)}{W(t)}, & a \\leq t \\leq x \\\\ \n",
    "                  \\frac{y_1(x) y_2(t)}{W(t)}, & x \\leq t \\leq b\n",
    "            \\end{matrix}\\right.\n",
    "  \\end{align*}\n",
    "  $"
   ]
  },
  {
   "cell_type": "markdown",
   "metadata": {},
   "source": [
    "> **Example:** Solve $x^2y'' -3xy' +3y = 24x^5$, $y(1)=0, \\;y(2)=0$"
   ]
  },
  {
   "cell_type": "markdown",
   "metadata": {},
   "source": [
    "## 3.11 Nonlinear Models"
   ]
  },
  {
   "cell_type": "markdown",
   "metadata": {},
   "source": [
    "**Example:** Use a numerical solver to obtain the solution curves satisfying the given initial conditions:\n",
    "\n",
    "> $\\displaystyle \\frac{d^2 x}{dt^2} +\\frac{dx}{dt} +x +x^3 = 0$\n",
    "\n",
    "> $x(0)=-3, x'(0)=4$; $x(0)=0, x'(0)=-8$"
   ]
  },
  {
   "cell_type": "markdown",
   "metadata": {},
   "source": [
    "## 3.12 Solving Systems of Linear Equations"
   ]
  },
  {
   "cell_type": "markdown",
   "metadata": {},
   "source": [
    "When physical systems are coupled, the mathematical model of the system usually consists of a set of coupled DEs\n",
    "\n",
    "$\n",
    "  \\begin{align*}\n",
    "    m_1 \\ddot{x}_1 &=-k_1 x_1 +k_2 (x_2 -x_1) \\\\ \n",
    "    m_2 \\ddot{x}_2 &=-k_2 (x_2 -x_1) \n",
    "  \\end{align*} \n",
    "$\n",
    "<img src=\"figures/ch03_figure04.png\" width=\"250\">\n",
    "\n",
    "Linear systems with constant coefficients can be solved by uncoupling the system into distinct linear ODEs in each dependent variable\n",
    "\n",
    "**Example:** Solve the above equation under the assumption that $k_1=6$, $k_2=4$, $m_1=1$, and $m_2=1$ subject to $x_1(0)=0$, $x'_1(0)=1$, $x_2(0)=0$, $x'_2(0)=-1$"
   ]
  }
 ],
 "metadata": {
  "kernelspec": {
   "display_name": "Python 3",
   "language": "python",
   "name": "python3"
  },
  "language_info": {
   "codemirror_mode": {
    "name": "ipython",
    "version": 3
   },
   "file_extension": ".py",
   "mimetype": "text/x-python",
   "name": "python",
   "nbconvert_exporter": "python",
   "pygments_lexer": "ipython3",
   "version": "3.7.2"
  }
 },
 "nbformat": 4,
 "nbformat_minor": 2
}
