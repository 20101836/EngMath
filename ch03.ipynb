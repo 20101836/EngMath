{
 "cells": [
  {
   "cell_type": "markdown",
   "metadata": {},
   "source": [
    "# Chapter 3. Higher-Order Differential Equations"
   ]
  },
  {
   "cell_type": "markdown",
   "metadata": {},
   "source": [
    "## Contents\n",
    "* Theory of Linear Equations\n",
    "* Reduction of Order\n",
    "* Homogeneous Linear Equations with Constant Coefficients\n",
    "* Undetermined Coefficients\n",
    "* Variation of Parameters\n",
    "* Cauchy-Euler Equations\n",
    "* Nonlinear Equations\n",
    "* Linear Models: IVPs\n",
    "* Linear Models: BVPs\n",
    "* Green's Functions\n",
    "* Nonlinear Models\n",
    "* Solving Systems of Linear Equations "
   ]
  },
  {
   "cell_type": "markdown",
   "metadata": {},
   "source": [
    "## 3.1 Theory of Linear Equations "
   ]
  },
  {
   "cell_type": "markdown",
   "metadata": {},
   "source": [
    "* In an **initial-value problem (IVP)**, we seek a solution $y(x)$ of a $n$-th order linear DE so that $y(x)$ satisfies **initial conditions** at $x_0$\n",
    " \n",
    " * $n$-th order linear DE: $\\;a_n(x) \\neq 0$\n",
    "   \n",
    "   $a_n(x) \\frac{d^ny}{dx^n} +a_{n-1}(x) \\frac{d^{n-1}y}{dx^{n-1}} +\\cdots + a_1(x) \\frac{dy}{dx} +a_0 y(x)= g(x)\\;$ or $\\underbrace{L(y)}_{\\mathrm{Linear\\;Operator}}=g(x)$\n",
    " \n",
    " * Initial conditions\n",
    "   \n",
    "   $y(x_o) = y_o, \\; y'(x_0) = y_1, \\; \\cdots, y^{(n-1)}(x_0) = y_{n-1}$"
   ]
  },
  {
   "cell_type": "markdown",
   "metadata": {},
   "source": [
    "* **Boundary-value problem (BVP)** consists of solving a linear DE of order 2 or greater, in which the dependent variable $y$ or its derivatives are specified at *diffenrent points*. For example,\n",
    "\n",
    " * $a_2(x) \\frac{d^2y}{dx^2} +a_1(x) \\frac{dy}{dx} +a_0(x)y=g(x)$\n",
    " \n",
    " * Boundary conditions\n",
    "     \n",
    "    $y(x_0)=y_0, \\;y(x_1)=y_1$ "
   ]
  },
  {
   "cell_type": "markdown",
   "metadata": {},
   "source": [
    "* The sum, or **superposition**, of two or more solutions of a homogeneous linear DE is also a solution\n",
    "\n",
    "* Any set of $n$ linearly *independent* solutions $y_1, y_2, \\cdots, y_n$ of the $n$-th order homogeneous linear DE on interval $I$ is **a fundamental set of solutions**\n",
    "\n",
    " * If two functions are linearly dependent, then one is a constant multiple of the other (otherwise, they are linearly independent)\n",
    " * If $\\{y_1, y_2, \\cdots, y_n\\}$ are a set of linearly independent functions, the **Wronskian** function is not singular:\n",
    " \n",
    "   $W(y_1,y_2,\\cdots,y_n) = \n",
    "       \\begin{vmatrix}\n",
    "            y_1 & y_2 & \\cdots & y_n \\\\ \n",
    "            y_1' & y_2' & \\cdots & y_n'\\\\ \n",
    "            \\vdots & \\vdots & \\cdots & \\vdots\\\\ \n",
    "            y_1^{n-1} & y_2^{n-1} & \\cdots & y_n^{n-1}\n",
    "       \\end{vmatrix} \\neq 0$"
   ]
  },
  {
   "cell_type": "markdown",
   "metadata": {},
   "source": [
    "* General solution of $n$-th order homogeneous linear DE is\n",
    "\n",
    " $y(x)=c_1 y_1(x) +c_2 y_2(x) + \\cdots + c_n y_n(x)$\n",
    " \n",
    " where $y_1, y_2, \\cdots, y_n$ is a fundamental set of solutions and $c_i, \\;i=1,2,\\cdots,n$ are arbitrary constants"
   ]
  },
  {
   "cell_type": "markdown",
   "metadata": {},
   "source": [
    "* General solution of $n$-th order nonhomogeneous linear DE is\n",
    "\n",
    " $y(x)=c_1 y_1(x) +c_2 y_2(x) + \\cdots + c_n y_n(x) +y_p(x)$\n",
    " \n",
    " where $y_1, y_2, \\cdots, y_n$ is a fundamental set of solutions, $y_p$ is a particular solution, and $c_i, \\;i=1,2,\\cdots,n$ are arbitrary constants"
   ]
  },
  {
   "cell_type": "markdown",
   "metadata": {},
   "source": [
    "### Exercises 3.1\n",
    "\n",
    "* 7, 8\n",
    "* 15, 17\n",
    "* 23, 25\n",
    "* 31, 33"
   ]
  },
  {
   "cell_type": "markdown",
   "metadata": {},
   "source": [
    "## 3.2 Reduction of Order"
   ]
  },
  {
   "cell_type": "markdown",
   "metadata": {},
   "source": [
    "* **Reduction of order** can be used to reduce a linear second-order DE with known solution $y_1$ into a linear first-order DE, which can be solved for a second solution $y_2$\n",
    "\n",
    "* Applying reduction of order $y_2 = u(x) y_1$ to the standard form of a second-order linear homogeneous DE\n",
    "\n",
    " $y''+P(x)y' +Q(x)y=0$\n",
    " \n",
    " gives\n",
    " \n",
    " $y_2(x) = y_1(x) \\displaystyle\\int \\frac{\\exp\\left( -\\int P(x) \\,dx \\right)}{y_1^2(x)} \\,dx$"
   ]
  },
  {
   "cell_type": "markdown",
   "metadata": {},
   "source": [
    "### Exercises 3.2\n",
    "\n",
    "* 1, 3, 5, 21"
   ]
  },
  {
   "cell_type": "markdown",
   "metadata": {},
   "source": [
    "## 3.3 Homogeneous Linear Equations with Constant Coefficient"
   ]
  },
  {
   "cell_type": "markdown",
   "metadata": {},
   "source": [
    "The general solution of $ay''+by'+cy=0$ is found by substituting $y=e^{px}$ and solving the resulting **characteristic equation** $ap^2+bp+c=0$ for roots $p_1$ and $p_2$\n",
    "\n",
    "* **Case I** \n",
    "  \n",
    "  $p_1$ and $p_2$ are real and distinct\n",
    "\n",
    "  $y = c_1 e^{p_1x} +c_2e^{p_2x}$\n",
    "  \n",
    "* **Case II** \n",
    "  \n",
    "  $p_1$ and $p_2$ are real and equal\n",
    "\n",
    "  $y=c_1 e^{p_1x} +c_2 x e^{p_1x}$\n",
    "  \n",
    "* **Case III** \n",
    "  \n",
    "  $p_1$ and $p_2$ are complex conjugate: $p_1, p_2 = \\alpha \\pm i\\beta$\n",
    "\n",
    "  $y=e^{\\alpha x} \\left(c_1 \\cos\\beta x  +c_2 \\sin\\beta x \\right)$  "
   ]
  },
  {
   "cell_type": "markdown",
   "metadata": {},
   "source": [
    "**Example:** Solve $y'' +\\omega^2y=0$ and $y'' -\\omega^2y=0$"
   ]
  },
  {
   "cell_type": "markdown",
   "metadata": {},
   "source": [
    "**Example:** Solve $3y'''+5y''+10y'-4y=0$"
   ]
  },
  {
   "cell_type": "code",
   "execution_count": 1,
   "metadata": {},
   "outputs": [
    {
     "data": {
      "text/plain": [
       "[1/3, -1 - sqrt(3)*I, -1 + sqrt(3)*I]"
      ]
     },
     "execution_count": 1,
     "metadata": {},
     "output_type": "execute_result"
    }
   ],
   "source": [
    "from sympy.solvers import solve\n",
    "from sympy import Symbol\n",
    "\n",
    "x = Symbol('x')\n",
    "solve(3*x**3 +5*x**2 +10*x -4, x)"
   ]
  },
  {
   "cell_type": "markdown",
   "metadata": {},
   "source": [
    "### Exercises 3.3\n",
    "\n",
    "* 1, 3, 5\n",
    "* 15, 17, 19\n",
    "* 29, 37"
   ]
  },
  {
   "cell_type": "markdown",
   "metadata": {},
   "source": [
    "## 3.4 Undetermined Coefficients "
   ]
  },
  {
   "cell_type": "markdown",
   "metadata": {},
   "source": [
    "**Method of undetermined coefficients** can be used to obtain a particular solution $y_p$\n",
    "\n",
    "* The underlying idea is a conjecture about the form of $y_p$ based on the kinds of functions making up the input function $g(x)$\n",
    "* Limited to nonhomogeneous linear DEs where\n",
    "    * Coefficients $a_i, i=1,\\cdots,n$ are constants\n",
    "    * $g(x)$ is a constant, a polynominal function, $e^{\\alpha x}$, $\\sin\\beta x$ or $\\cos\\beta x$, or finite sums and products of these functions\n",
    "    * There are models of $y_p$ for various functions\n",
    "    \n",
    "    <img src=\"figures/ch03_figure01.png\" width=\"600\">\n",
    "* Finally, the general solution is obtained from the superposition of $y_h$ and $y_p$    \n"
   ]
  },
  {
   "cell_type": "markdown",
   "metadata": {},
   "source": [
    "**Example:** Solve $y'' +4y = x\\cos x$"
   ]
  },
  {
   "cell_type": "markdown",
   "metadata": {},
   "source": [
    "**Example:** Solve $y'' -6y' +9y = 6x^2 +2 -12e^{3x}$"
   ]
  },
  {
   "cell_type": "markdown",
   "metadata": {},
   "source": [
    "### Exercises 3.4\n",
    "\n",
    "* 19, 20, 21\n",
    "* 27, 29, 33, 42"
   ]
  },
  {
   "cell_type": "markdown",
   "metadata": {},
   "source": [
    "## 3.5 Variation of Parameters"
   ]
  },
  {
   "cell_type": "markdown",
   "metadata": {},
   "source": [
    "The **method of variation of parameters** can be used with linear higher-order DEs.\n",
    "\n",
    "* This method *always* yields a $y_p$ provided the homogeneous equation can be solved\n",
    "* This method is not limited to the types of input functions constraining the method of undetermined coefficients"
   ]
  },
  {
   "cell_type": "markdown",
   "metadata": {},
   "source": [
    "To adapt the method of variation of parameters to a linear second-order DE\n",
    "\n",
    "> $a_1(x)y'' +a_1(x)y' +a_0(x)y = g(x)$,\n",
    "\n",
    "we put the above equation in the standard form\n",
    "\n",
    "> $y'' +P(x)y' +Q(x)y = f(x)$.\n",
    "\n",
    "To solve,\n",
    "\n",
    "* Find the homogeneous solutions $y_1, y_2$\n",
    "* Seek a particular solution of the form $\\;y_p = u_1(x) y_1 +u_2(x) y_2$\n",
    "  \n",
    "  $\n",
    "  \\begin{align*}\n",
    "     y_p''+P(x)y_p' +Q(x)y_p &= f(x)\\\\ \n",
    "     &\\Downarrow y_p = c_1 y_1 +c_2 y_2 \\\\ \n",
    "     \\frac{d}{dx}[y_1 u_1' +y_2 u_2'] +P(x) [y_1 u_1' +y_2 u_2'] +y_1' u_1' +y_2' u_2'&= f(x) \\\\\n",
    "     &\\Downarrow y_1 u_1' +y_2 u_2' =0 \\;(\\mathrm{Assumption})\\\\\n",
    "     y_1' u_1' +y_2' u_2'&= f(x) \\\\\n",
    "     &\\Downarrow \\\\\n",
    "     \\begin{bmatrix}\n",
    "        y_1 & y_2\\\\ \n",
    "        y_1' & y_2' \n",
    "     \\end{bmatrix} \n",
    "     \\begin{bmatrix}\n",
    "        u_1' \\\\\n",
    "        u_2' \n",
    "     \\end{bmatrix} &=\n",
    "     \\begin{bmatrix}\n",
    "        0 \\\\ \n",
    "        f(x)\n",
    "     \\end{bmatrix} \\\\\n",
    "     &\\Downarrow \\\\\n",
    "     u_1 = \\displaystyle\\int \\frac{W_1}{W\\;} \\,dx, \\; &u_2 = \\displaystyle\\int \\frac{W_2}{W\\;} \\,dx \\\\\n",
    "     \\mathrm{where} \\;\\; \n",
    "       W = \\begin{bmatrix}\n",
    "             y_1 & y_2\\\\ \n",
    "             y_1' & y_2' \n",
    "           \\end{bmatrix}, \\;\n",
    "       W_1 =& \\begin{bmatrix}\n",
    "               0 & y_2\\\\ \n",
    "               f(x) & y_2' \n",
    "             \\end{bmatrix}, \\;\n",
    "       W_2 = \\begin{bmatrix}\n",
    "               y_1 & 0\\\\ \n",
    "               y_1' & f(x) \n",
    "             \\end{bmatrix}             \n",
    "  \\end{align*}\n",
    "  $"
   ]
  },
  {
   "cell_type": "markdown",
   "metadata": {},
   "source": [
    "**Example:** Solve $y'' -y = \\frac{1}{x}$"
   ]
  },
  {
   "cell_type": "markdown",
   "metadata": {},
   "source": [
    "The method can be generalized to the standard form of $n$-th order linear DE. A particular solution is\n",
    "\n",
    "> $y_p = u_1(x) y_1 +u_2(x) y_2 +\\cdots +u_n(x) y_n$\n",
    "\n",
    "where\n",
    "\n",
    "> $u_k = \\displaystyle\\int \\frac{W_k}{W\\;}\\, dx, \\;k=1, 2, \\cdots, n$"
   ]
  },
  {
   "cell_type": "markdown",
   "metadata": {},
   "source": [
    "### Exercises 3.5\n",
    "\n",
    "* 1"
   ]
  },
  {
   "cell_type": "markdown",
   "metadata": {},
   "source": [
    "## 3.6 Cauchy-Euler Equation"
   ]
  },
  {
   "cell_type": "markdown",
   "metadata": {},
   "source": [
    "The **Cauchy-Euler equation** is a linear DE of the form\n",
    "\n",
    "> $a_n x^n \\frac{d^n y}{dx^n} +a_{n-1} x^{n-1} \\frac{d^{n-1} y}{dx^{n-1}} +\\cdots +a_1 x \\frac{dy}{dx} +a_0 y = g(x)$\n",
    "\n",
    "where $a_n, a_{n-1}, \\cdots, a_0$ are constants and the exponent of the coefficient matches the order of differentiation."
   ]
  },
  {
   "cell_type": "markdown",
   "metadata": {},
   "source": [
    "$y =x^p$ is a solution of second-order DE whenever $p$ is a solution of the **auxiliary equation**\n",
    "\n",
    "> $ap^2 +(b-a)p +c =0$\n",
    "\n",
    "* **Case I:** Distinct Real Roots, $p_1, p_2$ \n",
    "\n",
    "  $y = c_1 x^{p_1} +c_2 x^{p_2}$\n",
    "  \n",
    "* **Case II:** Repeated Real Roots, $p_1=p_2$\n",
    "\n",
    "  $y = c_1 x^{p_1} +c_2 x^{p_1} \\ln x$\n",
    "  \n",
    "* **Case III:** Complex Conjugate Roots, $p_1, p_2 = \\alpha +i\\beta$\n",
    "\n",
    "  $y =x^{\\alpha}\\left[c_1\\cos(\\beta\\ln x) +c_2\\sin(\\beta\\ln x) \\right]$"
   ]
  },
  {
   "cell_type": "markdown",
   "metadata": {},
   "source": [
    "**Example:** Solve $x^2y'' -3xy' +3y = 2x^4 e^x$"
   ]
  },
  {
   "cell_type": "markdown",
   "metadata": {},
   "source": [
    "### Exercises 3.6\n",
    "\n",
    "* 1"
   ]
  },
  {
   "cell_type": "markdown",
   "metadata": {},
   "source": [
    "## 3.7 Nonlinear Equations"
   ]
  },
  {
   "cell_type": "code",
   "execution_count": null,
   "metadata": {},
   "outputs": [],
   "source": []
  }
 ],
 "metadata": {
  "kernelspec": {
   "display_name": "Python 3",
   "language": "python",
   "name": "python3"
  },
  "language_info": {
   "codemirror_mode": {
    "name": "ipython",
    "version": 3
   },
   "file_extension": ".py",
   "mimetype": "text/x-python",
   "name": "python",
   "nbconvert_exporter": "python",
   "pygments_lexer": "ipython3",
   "version": "3.7.2"
  }
 },
 "nbformat": 4,
 "nbformat_minor": 2
}
