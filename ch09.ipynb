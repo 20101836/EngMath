{
 "cells": [
  {
   "cell_type": "markdown",
   "metadata": {},
   "source": [
    "# Chapter 9. Vector Calculus"
   ]
  },
  {
   "cell_type": "markdown",
   "metadata": {},
   "source": [
    "### Contents\n",
    "\n",
    "* Vector Functions\n",
    "* Motion on a Curve\n",
    "* Curvature and Components of Acceleration\n",
    "* Partial Derivatives\n",
    "* Directional Derivatives\n",
    "* Tangent Planes and Normal Lines\n",
    "* Curl and Divergence\n",
    "* Line Integrals\n",
    "* Independence of the Path\n",
    "* Double Integrals\n",
    "* Double Integrals in Polar Coordinates\n",
    "* Green's Theorem\n",
    "* Surface Integrals\n",
    "* Stokes' Theorem\n",
    "* Triple Integrals\n",
    "* Divergence Theorem\n",
    "* Change of Variables in Multiple Integrals"
   ]
  },
  {
   "cell_type": "markdown",
   "metadata": {},
   "source": [
    "## 9.1 Vector Functions "
   ]
  },
  {
   "cell_type": "markdown",
   "metadata": {},
   "source": [
    "<img src=\"figures/ch09_figure01.png\" alt=\"curves\" style=\"width:250px; float:left\"/> "
   ]
  },
  {
   "cell_type": "markdown",
   "metadata": {},
   "source": [
    "* Vector-Valued Functions\n",
    "\n",
    "  * A parametric curve in space is a set of ordered triples $(x,y,z)$ where\n",
    "  \n",
    "    > $x=f(t), \\;y=g(t), \\;z=h(t)$\n",
    "  \n",
    "    are continuous on an interval defined by $a \\leq t \\leq b$\n",
    "  \n",
    "  * $\\mathbf{r}(t) =\\left\\langle f(t), g(t), h(t) \\right\\rangle = f(t)\\mathbf{i} +g(t)\\mathbf{j} +h(t)\\mathbf{k}$ are\n",
    "    **vector-valued functions**"
   ]
  },
  {
   "cell_type": "markdown",
   "metadata": {},
   "source": [
    "* Limits, Continuity, and Derivatives\n",
    "\n",
    "  * $\\displaystyle\\lim_{t \\to a} \\mathbf{r}(t)=\\left\\langle \\lim_{t \\to a} f(t), \\lim_{t \\to a} g(t), \\lim_{t \\to a} h(t) \\right\\rangle$\n",
    "  \n",
    "  * If $\\lim_{t\\to a} \\mathbf{r}_1(t)=\\mathbf{L}_1$ and $\\lim_{t\\to a} \\mathbf{r}_2(t)=\\mathbf{L}_2$, then\n",
    "  \n",
    "    * $\\lim_{t\\to a} c\\mathbf{r}_1(t)=c\\mathbf{L}_1$\n",
    "    * $\\lim_{t\\to a} \\left[\\mathbf{r}_1(t) +\\mathbf{r}_2(t) \\right] =\\mathbf{L}_1 +\\mathbf{L}_2$\n",
    "    * $\\lim_{t\\to a} \\left[\\mathbf{r}_1(t) \\cdot \\mathbf{r}_2(t) \\right] =\\mathbf{L}_1 \\cdot \\mathbf{L}_2$\n",
    "    \n",
    "  * A vector function $\\mathbf{r}$ is said to be **continuous** at $t=a$ if\n",
    "  \n",
    "    (i) $\\mathbf{r}(a)$ is defined, (ii) $\\lim_{t\\to a} \\mathbf{r}(t)$ exists, and (iii) $\\lim_{t\\to a} \\mathbf{r}(t) = \\mathbf{r}(a)$"
   ]
  },
  {
   "cell_type": "code",
   "execution_count": null,
   "metadata": {},
   "outputs": [],
   "source": []
  }
 ],
 "metadata": {
  "kernelspec": {
   "display_name": "Python 3",
   "language": "python",
   "name": "python3"
  },
  "language_info": {
   "codemirror_mode": {
    "name": "ipython",
    "version": 3
   },
   "file_extension": ".py",
   "mimetype": "text/x-python",
   "name": "python",
   "nbconvert_exporter": "python",
   "pygments_lexer": "ipython3",
   "version": "3.7.2"
  }
 },
 "nbformat": 4,
 "nbformat_minor": 2
}
