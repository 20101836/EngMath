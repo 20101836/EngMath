{
 "cells": [
  {
   "cell_type": "markdown",
   "metadata": {},
   "source": [
    "# Chapter 9. Vector Calculus"
   ]
  },
  {
   "cell_type": "markdown",
   "metadata": {},
   "source": [
    "### Contents\n",
    "\n",
    "* Vector Functions\n",
    "* Motion on a Curve\n",
    "* Curvature and Components of Acceleration\n",
    "* Partial Derivatives\n",
    "* Directional Derivatives\n",
    "* Tangent Planes and Normal Lines\n",
    "* Curl and Divergence\n",
    "* Line Integrals\n",
    "* Independence of the Path\n",
    "* Double Integrals\n",
    "* Double Integrals in Polar Coordinates\n",
    "* Green's Theorem\n",
    "* Surface Integrals\n",
    "* Stokes' Theorem\n",
    "* Triple Integrals\n",
    "* Divergence Theorem\n",
    "* Change of Variables in Multiple Integrals"
   ]
  },
  {
   "cell_type": "markdown",
   "metadata": {},
   "source": [
    "## 9.1 Vector Functions "
   ]
  },
  {
   "cell_type": "markdown",
   "metadata": {},
   "source": [
    "<img src=\"figures/ch09_figure01.png\" alt=\"curves\" style=\"width:250px; float:left\"/> "
   ]
  },
  {
   "cell_type": "markdown",
   "metadata": {},
   "source": [
    "* Vector-Valued Functions\n",
    "\n",
    "  * A parametric curve in space is a set of ordered triples $(x,y,z)$ where\n",
    "  \n",
    "    > $x=f(t), \\;y=g(t), \\;z=h(t)$\n",
    "  \n",
    "    are continuous on an interval defined by $a \\leq t \\leq b$\n",
    "  \n",
    "  * $\\mathbf{r}(t) =\\left\\langle f(t), g(t), h(t) \\right\\rangle = f(t)\\mathbf{i} +g(t)\\mathbf{j} +h(t)\\mathbf{k}$ are\n",
    "    **vector-valued functions**"
   ]
  },
  {
   "cell_type": "markdown",
   "metadata": {},
   "source": [
    "* Limits, Continuity, and Derivatives\n",
    "\n",
    "  * $\\displaystyle\\lim_{t \\to a} \\mathbf{r}(t)=\\left\\langle \\lim_{t \\to a} f(t), \\lim_{t \\to a} g(t), \\lim_{t \\to a} h(t) \\right\\rangle$\n",
    "  \n",
    "  * If $\\lim_{t\\to a} \\mathbf{r}_1(t)=\\mathbf{L}_1$ and $\\lim_{t\\to a} \\mathbf{r}_2(t)=\\mathbf{L}_2$, then\n",
    "  \n",
    "    > $\\lim_{t\\to a} c\\mathbf{r}_1(t)=c\\mathbf{L}_1$\n",
    "    > $\\lim_{t\\to a} \\left[\\mathbf{r}_(t) +\\mathbf{r}_2(t) \\right] =\\mathbf{L}_1 +\\mathbf{L}_2$\n",
    "    > $\\lim_{t\\to a} \\left[\\mathbf{r}_1(t) \\cdot \\mathbf{r}_2(t) \\right] =\\mathbf{L}_1 \\cdot \\mathbf{L}_2$\n",
    "    \n",
    "  * A vector function $\\mathbf{r}$ is said to be **continuous** at $t=a$ if\n",
    "  \n",
    "    > (i) $\\mathbf{r}(a)$ is defined, (ii) $\\lim_{t\\to a} \\mathbf{r}(t)$ exists, and (iii) $\\lim_{t\\to a} \\mathbf{r}(t) = \\mathbf{r}(a)$\n",
    "    \n",
    "  * The **derivative** of a vector function $\\mathbf{r}$ is\n",
    "  \n",
    "    > $\\displaystyle\\mathbf{r}'(t) = \\lim_{\\Delta t\\to a} \\frac{1}{\\Delta t} \\left[ \\mathbf{r}(t +\\Delta t) -\\mathbf{r}(t) \\right]$\n",
    "    \n",
    "    for all $t$ for which the limit exists. If $\\mathbf{r}(t)=\\left\\langle f(t), g(t), h(t) \\right\\rangle$, where $f$, $g$, and $h$ are differentiable, then\n",
    "    \n",
    "    > $\\mathbf{r}'(t) = \\left\\langle f'(t), g'(t), h'(t) \\right\\rangle$\n",
    "    \n",
    "    When $\\mathbf{r}$ have continuous first derivative and $\\mathbf{r}'(t)\\neq\\mathbf{0}$ for all $t$ in the open interval $(a,b)$, then $\\mathbf{r}$ is said to be\n",
    "    a **smooth function**\n",
    "    \n",
    "    <img src=\"figures/ch09_figure02.png\" alt=\"tangents\" style=\"width:250px; float:left\"/>\n",
    " \n",
    "  * In the case of the **second derivative**, we have\n",
    "  \n",
    "    > $\\mathbf{r}''(t) = \\left\\langle f''(t), g''(t), h''(t) \\right\\rangle =f''(t)\\mathbf{i} +g''(t)\\mathbf{j} +h''(t)\\mathbf{k}$"
   ]
  },
  {
   "cell_type": "markdown",
   "metadata": {},
   "source": [
    "* Chain Rule\n",
    "\n",
    "  If $\\mathbf{r}$ is a differentiable vector function and $s=u(t)$ is a differentiable scalar function, then the derivative of $\\mathbf{r}(s)$ with respect to $t$ is\n",
    "  \n",
    "  > $\\displaystyle\\frac{d\\mathbf{r}}{dt} =\\frac{d\\mathbf{r}}{ds} \\frac{ds}{dt} =\\mathbf{r}'(s) u'(t)$"
   ]
  },
  {
   "cell_type": "markdown",
   "metadata": {},
   "source": [
    "* Rules of Differentiation\n",
    "\n",
    "  Let $\\mathbf{r}_1$ and $\\mathbf{r}_2$ be differentiable vector functions and $u(t)$ a differentiable scalar function\n",
    "  \n",
    "  * $\\displaystyle \\frac{d}{dt} \\left[ \\mathbf{r}_1(t) +\\mathbf{r}_2(t) \\right] = \\mathbf{r}_1'(t) +\\mathbf{r}_2'(t)$\n",
    "  * $\\displaystyle \\frac{d}{dt} \\left[ u(t)\\mathbf{r}_1(t) \\right] = u(t)\\mathbf{r}_1'(t) +u'(t)\\mathbf{r}_1(t)$\n",
    "  * $\\displaystyle \\frac{d}{dt} \\left[ \\mathbf{r}_1(t) \\cdot \\mathbf{r}_2(t) \\right] = \\mathbf{r}_1(t)\\cdot\\mathbf{r}_2'(t) +\\mathbf{r}_1'(t)\\cdot\\mathbf{r}_2(t)$\n",
    "  * $\\displaystyle \\frac{d}{dt} \\left[ \\mathbf{r}_1(t) \\times \\mathbf{r}_2(t) \\right] = \\mathbf{r}_1(t)\\times\\mathbf{r}_2'(t) +\\mathbf{r}_1'(t)\\times\\mathbf{r}_2(t)$"
   ]
  },
  {
   "cell_type": "markdown",
   "metadata": {},
   "source": [
    "* Integrals\n",
    "\n",
    "  $\\displaystyle\\int \\mathbf{r}(t) \\,dt = \\left[ \\int f(t) \\,dt \\right]\\mathbf{i} +\\left[ \\int g(t) \\,dt \\right]\\mathbf{j} +\\left[ \\int h(t) \\,dt \\right]\\mathbf{k}$"
   ]
  },
  {
   "cell_type": "markdown",
   "metadata": {},
   "source": [
    "* Length of a Space Curve\n",
    "\n",
    "  If $\\mathbf{r}(t) =f(t)\\mathbf{i} +g(t)\\mathbf{j} +h(t)\\mathbf{k}$ is a smooth function, then it can be shown that the **length** of the smooth curve traced by\n",
    "  $\\mathbf{r}$ is given by\n",
    "  \n",
    "  >$\\displaystyle s = \\int_a^b \\sqrt{\\left[ f'(t) \\right]^2 +\\left[ g'(t) \\right]^2 +\\left[ h'(t) \\right]^2} =\\int_a^b \\left\\| \\mathbf{r}'(t) \\right\\|\\,dt$"
   ]
  },
  {
   "cell_type": "markdown",
   "metadata": {},
   "source": [
    "## 9.2 Motion on a Curve "
   ]
  },
  {
   "cell_type": "code",
   "execution_count": null,
   "metadata": {},
   "outputs": [],
   "source": []
  }
 ],
 "metadata": {
  "kernelspec": {
   "display_name": "Python 3",
   "language": "python",
   "name": "python3"
  },
  "language_info": {
   "codemirror_mode": {
    "name": "ipython",
    "version": 3
   },
   "file_extension": ".py",
   "mimetype": "text/x-python",
   "name": "python",
   "nbconvert_exporter": "python",
   "pygments_lexer": "ipython3",
   "version": "3.7.2"
  }
 },
 "nbformat": 4,
 "nbformat_minor": 2
}
