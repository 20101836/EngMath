{
 "cells": [
  {
   "cell_type": "markdown",
   "metadata": {},
   "source": [
    "[![Open In Colab](https://colab.research.google.com/assets/colab-badge.svg)](https://colab.research.google.com/github/SeoulTechPSE/EngMath/blob/master/ch09.ipynb)"
   ]
  },
  {
   "cell_type": "markdown",
   "metadata": {},
   "source": [
    "# Chapter 9. Vector Calculus"
   ]
  },
  {
   "cell_type": "markdown",
   "metadata": {},
   "source": [
    "### Contents\n",
    "\n",
    "* Vector Functions\n",
    "* Motion on a Curve\n",
    "* Curvature and Components of Acceleration\n",
    "* Partial Derivatives\n",
    "* Directional Derivatives\n",
    "* Tangent Planes and Normal Lines\n",
    "* Curl and Divergence\n",
    "* Line Integrals\n",
    "* Independence of the Path\n",
    "* Double Integrals\n",
    "* Double Integrals in Polar Coordinates\n",
    "* Green's Theorem\n",
    "* Surface Integrals\n",
    "* Stokes' Theorem\n",
    "* Triple Integrals\n",
    "* Divergence Theorem\n",
    "* Change of Variables in Multiple Integrals"
   ]
  },
  {
   "cell_type": "markdown",
   "metadata": {},
   "source": [
    "## 9.1 Vector Functions "
   ]
  },
  {
   "cell_type": "markdown",
   "metadata": {},
   "source": [
    "<img src=\"figures/ch09_figure01.png\" alt=\"curves\" style=\"width:250px; float:left\"/> "
   ]
  },
  {
   "cell_type": "markdown",
   "metadata": {},
   "source": [
    "* Vector-Valued Functions\n",
    "\n",
    "  * A parametric curve in space is a set of ordered triples $(x,y,z)$ where\n",
    "  \n",
    "    > $x=f(t), \\;y=g(t), \\;z=h(t)$\n",
    "  \n",
    "    are continuous on an interval defined by $a \\leq t \\leq b$\n",
    "  \n",
    "  * $\\mathbf{r}(t) =\\left\\langle f(t), g(t), h(t) \\right\\rangle = f(t)\\mathbf{i} +g(t)\\mathbf{j} +h(t)\\mathbf{k}$ are\n",
    "    **vector-valued functions**"
   ]
  },
  {
   "cell_type": "markdown",
   "metadata": {},
   "source": [
    "* Limits, Continuity, and Derivatives\n",
    "\n",
    "  * $\\displaystyle\\lim_{t \\to a} \\mathbf{r}(t)=\\left\\langle \\lim_{t \\to a} f(t), \\lim_{t \\to a} g(t), \\lim_{t \\to a} h(t) \\right\\rangle$\n",
    "  \n",
    "  * If $\\lim_{t\\to a} \\mathbf{r}_1(t)=\\mathbf{L}_1$ and $\\lim_{t\\to a} \\mathbf{r}_2(t)=\\mathbf{L}_2$, then\n",
    "  \n",
    "    > $\\lim_{t\\to a} c\\mathbf{r}_1(t)=c\\mathbf{L}_1$,\n",
    "    > $\\lim_{t\\to a} \\left[\\mathbf{r}_(t) +\\mathbf{r}_2(t) \\right] =\\mathbf{L}_1 +\\mathbf{L}_2$,\n",
    "    > $\\lim_{t\\to a} \\left[\\mathbf{r}_1(t) \\cdot \\mathbf{r}_2(t) \\right] =\\mathbf{L}_1 \\cdot \\mathbf{L}_2$\n",
    "    \n",
    "  * A vector function $\\mathbf{r}$ is said to be **continuous** at $t=a$ if\n",
    "  \n",
    "    > (i) $\\mathbf{r}(a)$ is defined, (ii) $\\lim_{t\\to a} \\mathbf{r}(t)$ exists, and (iii) $\\lim_{t\\to a} \\mathbf{r}(t) = \\mathbf{r}(a)$\n",
    "    \n",
    "  * The **derivative** of a vector function $\\mathbf{r}$ is\n",
    "  \n",
    "    > $\\displaystyle\\mathbf{r}'(t) = \\lim_{\\Delta t\\to a} \\frac{1}{\\Delta t} \\left[ \\mathbf{r}(t +\\Delta t) -\\mathbf{r}(t) \\right]$\n",
    "    \n",
    "    for all $t$ for which the limit exists. If $\\mathbf{r}(t)=\\left\\langle f(t), g(t), h(t) \\right\\rangle$, where $f$, $g$, and $h$ are differentiable, then\n",
    "    \n",
    "    > $\\mathbf{r}'(t) = \\left\\langle f'(t), g'(t), h'(t) \\right\\rangle$\n",
    "    \n",
    "    When $\\mathbf{r}$ have continuous first derivative and $\\mathbf{r}'(t)\\neq\\mathbf{0}$ for all $t$ in the open interval $(a,b)$, then $\\mathbf{r}$ is said to be\n",
    "    a **smooth function**\n",
    "    \n",
    "    <img src=\"figures/ch09_figure02.png\" alt=\"tangents\" style=\"width:250px; float:left\"/>\n",
    " \n",
    "  * In the case of the **second derivative**, we have\n",
    "  \n",
    "    > $\\mathbf{r}''(t) = \\left\\langle f''(t), g''(t), h''(t) \\right\\rangle =f''(t)\\mathbf{i} +g''(t)\\mathbf{j} +h''(t)\\mathbf{k}$"
   ]
  },
  {
   "cell_type": "markdown",
   "metadata": {},
   "source": [
    "* Chain Rule\n",
    "\n",
    "  If $\\mathbf{r}$ is a differentiable vector function and $s=u(t)$ is a differentiable scalar function, then the derivative of $\\mathbf{r}(s)$ with respect to $t$ is\n",
    "  \n",
    "  > $\\displaystyle\\frac{d\\mathbf{r}}{dt} =\\frac{d\\mathbf{r}}{ds} \\frac{ds}{dt} =\\mathbf{r}'(s) u'(t)$"
   ]
  },
  {
   "cell_type": "markdown",
   "metadata": {},
   "source": [
    "* Rules of Differentiation\n",
    "\n",
    "  Let $\\mathbf{r}_1$ and $\\mathbf{r}_2$ be differentiable vector functions and $u(t)$ a differentiable scalar function\n",
    "  \n",
    "  * $\\displaystyle \\frac{d}{dt} \\left[ \\mathbf{r}_1(t) +\\mathbf{r}_2(t) \\right] = \\mathbf{r}_1'(t) +\\mathbf{r}_2'(t)$\n",
    "  * $\\displaystyle \\frac{d}{dt} \\left[ u(t)\\mathbf{r}_1(t) \\right] = u(t)\\mathbf{r}_1'(t) +u'(t)\\mathbf{r}_1(t)$\n",
    "  * $\\displaystyle \\frac{d}{dt} \\left[ \\mathbf{r}_1(t) \\cdot \\mathbf{r}_2(t) \\right] = \\mathbf{r}_1(t)\\cdot\\mathbf{r}_2'(t) +\\mathbf{r}_1'(t)\\cdot\\mathbf{r}_2(t)$\n",
    "  * $\\displaystyle \\frac{d}{dt} \\left[ \\mathbf{r}_1(t) \\times \\mathbf{r}_2(t) \\right] = \\mathbf{r}_1(t)\\times\\mathbf{r}_2'(t) +\\mathbf{r}_1'(t)\\times\\mathbf{r}_2(t)$"
   ]
  },
  {
   "cell_type": "markdown",
   "metadata": {},
   "source": [
    "* Integrals\n",
    "\n",
    "  $\\displaystyle\\int \\mathbf{r}(t) \\,dt = \\left[ \\int f(t) \\,dt \\right]\\mathbf{i} +\\left[ \\int g(t) \\,dt \\right]\\mathbf{j} +\\left[ \\int h(t) \\,dt \\right]\\mathbf{k}$"
   ]
  },
  {
   "cell_type": "markdown",
   "metadata": {},
   "source": [
    "* Length of a Space Curve\n",
    "\n",
    "  If $\\mathbf{r}(t) =f(t)\\mathbf{i} +g(t)\\mathbf{j} +h(t)\\mathbf{k}$ is a smooth function, then it can be shown that the **length** of the smooth curve traced by\n",
    "  $\\mathbf{r}$ is given by\n",
    "  \n",
    "  >$\\displaystyle s = \\int_a^b \\sqrt{\\left[ f'(t) \\right]^2 +\\left[ g'(t) \\right]^2 +\\left[ h'(t) \\right]^2} =\\int_a^b \\left\\| \\mathbf{r}'(t) \\right\\|\\,dt$"
   ]
  },
  {
   "cell_type": "markdown",
   "metadata": {},
   "source": [
    "## 9.2 Motion on a Curve "
   ]
  },
  {
   "cell_type": "markdown",
   "metadata": {},
   "source": [
    "* Velocity and Acceleration\n",
    "\n",
    "  Suppose a body moves along a curve $C$ so that its position at time $t$ is given \n",
    "  by the vector function $\\mathbf{r}(t) = f(t)\\mathbf{i} +g(t)\\mathbf{j} +h(t)\\mathbf{k}$. \n",
    "  <br>If $f$, $g$, and $h$ have second derivatives, then the vectors\n",
    "  \n",
    "  > $\\begin{align*} \\mathbf{v}(t) &= \\mathbf{r}'(t) = f'(t)\\mathbf{i} +g'(t)\\mathbf{j} +h'(t)\\mathbf{k}\\\\ \n",
    "     \\mathbf{a}(t) &= \\mathbf{r}''(t) = f''(t)\\mathbf{i} +g''(t)\\mathbf{j} +h''(t)\\mathbf{k} \\end{align*}$\n",
    " \n",
    "  are called the **velocity** and **acceleration** of the particle, respectively. "
   ]
  },
  {
   "cell_type": "markdown",
   "metadata": {},
   "source": [
    "* The scalar function $\\left\\| \\mathbf{v}(t)\\right\\|$ is the **speed** of the particle. The speed is related to arc length $s$ \n",
    "  by $s'(t) = \\left\\| \\mathbf{v}(t) \\right\\|$. If a particle moves  with a constant speed $c$, then <br>\n",
    "  its acceleration vector is perpendicular to the velocity vector $\\mathbf{v}$. \n",
    "  To see this, note that $\\mathbf{v}\\cdot\\mathbf{v}=c^2$.\n",
    "  We differentiate both sides with respect to $t$ and obtain\n",
    "  \n",
    "  > $\\displaystyle \\frac{d}{dt}(\\mathbf{v} \\cdot \\mathbf{v}) = \\mathbf{v}\\cdot\\frac{d\\mathbf{v}}{dt} +\\frac{d\\mathbf{v}}{dt} \\cdot \\mathbf{v}\n",
    "  =2\\mathbf{v}\\cdot\\frac{d\\mathbf{v}}{dt}=0$\n",
    "  \n",
    "  Thus, $\\displaystyle\\frac{d\\mathbf{v}}{dt} \\cdot \\mathbf{v}=0$ or $\\mathbf{a}(t) \\cdot \\mathbf{v}(t)=0$ for all $t$"
   ]
  },
  {
   "cell_type": "markdown",
   "metadata": {},
   "source": [
    "* Centripetal Acceleration\n",
    "\n",
    "  For circular motion in the plane, described by $\\mathbf{r}(t) = r_0 \\cos\\omega t \\mathbf{i} +r_0\\sin\\omega t \\mathbf{j}$, it is evident that\n",
    "  \n",
    "  > $\\mathbf{r}''=-\\omega^2\\mathbf{r}$\n",
    "  \n",
    "  This means that the acceleration vector $\\mathbf{a}(t)=\\mathbf{r}''(t)$ points in the direction opposite to that of the position vector $\\mathbf{r}(t)$.\n",
    "  We then say $\\mathbf{a}(t)$ is **centripetal acceleration**"
   ]
  },
  {
   "cell_type": "markdown",
   "metadata": {},
   "source": [
    "## 9.3 Curvature and Components of Acceleration"
   ]
  },
  {
   "cell_type": "markdown",
   "metadata": {},
   "source": [
    "* We know that $\\mathbf{r}'(t)$ is a tangent vector to the curve $C$, and consequently\n",
    "\n",
    "  > $\\displaystyle\\mathbf{T}(t) = \\frac{\\mathbf{r}'(t)}{\\left\\| \\mathbf{r}'(t) \\right\\|}$\n",
    "  \n",
    "  is a **unit tangent**\n",
    "  \n",
    "  <img src=\"figures/ch09_figure03.png\" alt=\"unit_tangents\" style=\"width:150px; float:left\"/>\n",
    "  \n",
    "  * $\\displaystyle\\frac{d\\mathbf{r}}{dt}=\\frac{d\\mathbf{r}}{ds} \\frac{ds}{dt}$ \n",
    "  and so $\\displaystyle\\frac{d\\mathbf{r}}{ds} = \\frac{d\\mathbf{r}/dt}{ds/dt}=\\frac{\\mathbf{r}'(t)}{\\left\\| \\mathbf{r}'(t) \\right\\|} = \\mathbf{T}(t)$"
   ]
  },
  {
   "cell_type": "markdown",
   "metadata": {},
   "source": [
    "* Let $\\mathbf{r}(t)$ be a vector function defining a smooth curve $C$. If $s$ is the arc length parameter and $\\mathbf{T}=d\\mathbf{r}/ds$\n",
    "  is the unit tangent vector, then the **curvature** of $C$ at a point is\n",
    "  \n",
    "  > $\\displaystyle\\kappa=\\left\\|\\frac{d\\mathbf{T}}{ds}\\right\\|$\n",
    "  \n",
    "  Using the chain rule, we can write\n",
    "  \n",
    "  > $\\displaystyle\\frac{d\\mathbf{T}}{dt}=\\frac{d\\mathbf{T}}{ds}\\frac{ds}{dt}$ and consequently $\\displaystyle\\frac{d\\mathbf{T}}{ds}=\\frac{d\\mathbf{T}/dt}{ds/dt}$\n",
    "  \n",
    "  In other words, curvature is given by\n",
    "  \n",
    "  > $\\displaystyle\\kappa(t)=\\frac{\\left\\|\\mathbf{T}'(t)\\right\\|}{\\left\\|\\mathbf{r}'(t)\\right\\|}$"
   ]
  },
  {
   "cell_type": "markdown",
   "metadata": {},
   "source": [
    "* Tangential and Normal Components of Acceleration\n",
    "\n",
    "  The velocity of the particle on $C$ is $\\mathbf{v}(t)=\\mathbf{r}'(t)$, whereas its speed is $ds/dt=v=\\| \\mathbf{v}(t) \\|$. Thus, $\\mathbf{v}(t)=v\\mathbf{T}$. \n",
    "  <br>Differentiating this last expression with respect to $t$ gives acceleration\n",
    "  \n",
    "  > $\\displaystyle\\mathbf{a}(t)=v\\frac{d\\mathbf{T}}{dt}+\\frac{dv}{dt}\\mathbf{T}$\n",
    "  \n",
    "  It follows from the differentiation of $\\mathbf{T}\\cdot\\mathbf{T}=1$ that $\\mathbf{T}\\cdot d\\mathbf{T}/dt=0$.\n",
    "  If $\\|d\\mathbf{T}/dt\\| \\neq 0$, the vector\n",
    "  \n",
    "  > $\\displaystyle \\mathbf{N}(t) = \\frac{d\\mathbf{T}/dt}{\\| d\\mathbf{T}/dt \\|}$\n",
    "\n",
    "  is a unit normal to the curve $C$. The vector $\\mathbf{N}$ is also called the **principal normal**. Since\n",
    "  curvature is $\\kappa = \\frac{\\|d\\mathbf{T}/dt \\|}{v}$, \n",
    "  <br>it follows that $d\\mathbf{T}/dt=\\kappa v \\mathbf{N}$. Thus\n",
    "  \n",
    "  > $\\displaystyle\\mathbf{a}(t)=\\kappa v^2 \\mathbf{N} +\\frac{dv}{dt}\\mathbf{T} =a_N \\mathbf{N} +a_T\\mathbf{T}$\n",
    "  \n",
    "  <img src=\"figures/ch09_figure04.png\" alt=\"components_acceleration\" style=\"width:200px; float:left\"/>  "
   ]
  },
  {
   "cell_type": "markdown",
   "metadata": {},
   "source": [
    "* Binormal\n",
    "\n",
    "  $\\mathbf{B}(t)=\\mathbf{T}(t) \\times \\mathbf{N}(t)$\n",
    "\n",
    "  <img src=\"figures/ch09_figure05.png\" alt=\"osculating\" style=\"width:250px; float:left\"/> "
   ]
  },
  {
   "cell_type": "markdown",
   "metadata": {},
   "source": [
    "* Formulas for $a_T$, $a_N$, and Curvature\n",
    "\n",
    "  $\\displaystyle\\mathbf{v}\\cdot\\mathbf{a}=a_N(v\\mathbf{T}\\cdot\\mathbf{N}) +a_T(v\\mathbf{T}\\cdot\\mathbf{T})=a_T v\n",
    "  \\;\\Rightarrow \\; a_T =\\frac{dv}{dt} =\\frac{\\mathbf{v}\\cdot\\mathbf{a}}{\\| \\mathbf{v} \\|}\n",
    "  =\\frac{\\mathbf{r}'(t) \\cdot \\mathbf{r}''(t)}{\\| \\mathbf{r}'(t) \\|}$\n",
    "  \n",
    "  $\\displaystyle\\mathbf{v}\\times\\mathbf{a}=a_N(v\\mathbf{T}\\times\\mathbf{N}) +a_T(v\\mathbf{T}\\times\\mathbf{T})\n",
    "  =a_N v\\mathbf{B} \\;\\Rightarrow \\; a_N =\\kappa v^2 =\\frac{\\|\\mathbf{v}\\times\\mathbf{a}\\|}{\\| \\mathbf{v} \\|}\n",
    "  =\\frac{\\| \\mathbf{r}'(t) \\times \\mathbf{r}''(t) \\|}{\\| \\mathbf{r}'(t) \\|}$\n",
    "  \n",
    "  $\\displaystyle\\kappa(t)=\\frac{\\| \\mathbf{r}'(t)\\times\\mathbf{r}''(t) \\|}{\\| \\mathbf{r}'(t) \\|^3}$"
   ]
  },
  {
   "cell_type": "markdown",
   "metadata": {},
   "source": [
    "* Radius of Curvature\n",
    "\n",
    "  $\\displaystyle\\rho=\\frac{1}{\\kappa}$\n",
    "\n",
    "  <img src=\"figures/ch09_figure06.png\" alt=\"radius_curvature\" style=\"width:250px; float:left\"/> "
   ]
  },
  {
   "cell_type": "markdown",
   "metadata": {},
   "source": [
    "## 9.4 Partial Derivatives"
   ]
  },
  {
   "cell_type": "markdown",
   "metadata": {},
   "source": [
    "* Functions of Two Variables\n",
    "\n",
    "  <img src=\"figures/ch09_figure07.png\" alt=\"function_two_variables\" style=\"width:250px; float:left\"/> "
   ]
  },
  {
   "cell_type": "markdown",
   "metadata": {},
   "source": [
    "* Level Curves\n",
    "\n",
    "  <img src=\"figures/ch09_figure08.png\" alt=\"surface_level_curves\" style=\"width:500px; float:left\"/> "
   ]
  },
  {
   "cell_type": "markdown",
   "metadata": {},
   "source": [
    "* Functions of Three Variables, Level Surfaces\n",
    "\n",
    "  $w=F(x,y,z) \\;\\Rightarrow \\; c=F(x,y,z)$\n",
    "\n",
    "  <img src=\"figures/ch09_figure09.png\" alt=\"level_surfaces\" style=\"width:200px; float:left\"/> "
   ]
  },
  {
   "cell_type": "markdown",
   "metadata": {},
   "source": [
    "* Partial Derivatives\n",
    "\n",
    "  $\\displaystyle\\frac{\\partial z}{\\partial x}=\\lim_{\\Delta x \\to 0} \\frac{f(x+\\Delta x, y) -f(x,y)}{\\Delta x}=f_x$\n",
    "  \n",
    "  $\\displaystyle\\frac{\\partial z}{\\partial y}=\\lim_{\\Delta y \\to 0} \\frac{f(x, y+\\Delta y) -f(x,y)}{\\Delta y}=f_y$\n",
    "  \n",
    "  $\\displaystyle\\frac{\\partial^2 z}{\\partial x^2}=\\frac{\\partial}{\\partial x}\\left( \\frac{\\partial z}{\\partial x} \\right)=f_{xx}$\n",
    "  \n",
    "  $\\displaystyle\\frac{\\partial^2 z}{\\partial x \\partial y}=\\frac{\\partial}{\\partial x}\\left( \\frac{\\partial z}{\\partial y} \\right)=f_{xy}$"
   ]
  },
  {
   "cell_type": "markdown",
   "metadata": {},
   "source": [
    "* Chain Rule\n",
    "\n",
    "  If $z=f(u,v)$ is differentiable and $u=g(x,y)$ and $v=h(x,y)$ have continuous first partial derivatives, then\n",
    "  \n",
    "  >$\\begin{align*}\n",
    "    \\frac{\\partial z}{\\partial x}&= \\frac{\\partial z}{\\partial u}\\frac{\\partial u}{\\partial x} \n",
    "   +\\frac{\\partial z}{\\partial v}\\frac{\\partial v}{\\partial x}\\\\ \n",
    "    \\frac{\\partial z}{\\partial y}&= \\frac{\\partial z}{\\partial u}\\frac{\\partial u}{\\partial y} \n",
    "   +\\frac{\\partial z}{\\partial v}\\frac{\\partial v}{\\partial y} \n",
    "   \\end{align*}$\n",
    "   \n",
    "   If $z=f(u,v)$ is differentiable and $u=g(t)$ and $v=h(t)$ are differentiable functions of a single variable $t$,\n",
    "   the ordinary derivative $dz/dt$ is\n",
    "   \n",
    "   > $\\displaystyle\\frac{dz}{dt}=\\frac{\\partial z}{\\partial u}\\frac{du}{dt}+\\frac{\\partial z}{\\partial v}\\frac{dv}{dt}$"
   ]
  },
  {
   "cell_type": "markdown",
   "metadata": {},
   "source": [
    "## 9.5 Directional Derivatives"
   ]
  },
  {
   "cell_type": "markdown",
   "metadata": {},
   "source": [
    "  <img src=\"figures/ch09_figure10.png\" alt=\"arbitrary_direction\" style=\"width:300px; float:left\"/> "
   ]
  },
  {
   "cell_type": "markdown",
   "metadata": {},
   "source": [
    "* **Vector Differential Operator**\n",
    "\n",
    "  $\\displaystyle\\nabla = \\mathbf{i}\\frac{\\partial}{\\partial x} +\\mathbf{j}\\frac{\\partial}{\\partial y}\\;$ or\n",
    "  $\\;\\displaystyle\\nabla = \\mathbf{i}\\frac{\\partial}{\\partial x} +\\mathbf{j}\\frac{\\partial}{\\partial y} +\\mathbf{k}\\frac{\\partial}{\\partial z}$"
   ]
  },
  {
   "cell_type": "markdown",
   "metadata": {},
   "source": [
    "* **Gradient of a Function**\n",
    "\n",
    "  $\\displaystyle\\nabla f= \\frac{\\partial f}{\\partial x}\\mathbf{i} +\\frac{\\partial f}{\\partial y}\\mathbf{j}\\;$ or\n",
    "  $\\;\\displaystyle\\nabla F= \\frac{\\partial F}{\\partial x}\\mathbf{i} +\\frac{\\partial F}{\\partial y}\\mathbf{j} +\\frac{\\partial F}{\\partial z}\\mathbf{k}$  "
   ]
  },
  {
   "cell_type": "markdown",
   "metadata": {},
   "source": [
    "* Generalization of Partial Differentiation\n",
    "\n",
    "  $\\displaystyle\\frac{f(x+\\Delta x, y+\\Delta y) -f(x,y)}{h}=\\frac{f(x+h\\cos\\theta, y+h\\sin\\theta) -f(x,y)}{h}$\n",
    "\n",
    "  <img src=\"figures/ch09_figure11.png\" alt=\"gen_PD\" style=\"width:380px; float:left\"/>   "
   ]
  },
  {
   "cell_type": "markdown",
   "metadata": {},
   "source": [
    "* Directional Derivative\n",
    "\n",
    "  The **directional derivative** of $z=f(x,y)$ in the direction of a unit vector \n",
    "  $\\mathbf{u}=\\cos\\theta\\mathbf{i} +\\sin\\theta\\mathbf{j}$ is\n",
    "  \n",
    "  > $\\displaystyle D_\\mathbf{u} f(x,y) = \\lim_{h\\to 0} \\frac{f(x+h\\cos\\theta, y+h\\sin\\theta) -f(x,y)}{h}\n",
    "  =\\nabla f(x,y)\\cdot \\mathbf{u}$\n",
    "  \n",
    "  For a function $w=F(x,y,z)$, the directional derivative is defined by\n",
    "  \n",
    "  > $\\displaystyle D_\\mathbf{u} F(x,y,z) = \\lim_{h\\to 0} \\frac{F(x+h\\cos\\alpha, y+h\\cos\\beta,z +h\\cos\\gamma) -F(x,y,z)}{h}\n",
    "  =\\nabla F(x,y,z)\\cdot \\mathbf{u}$  "
   ]
  },
  {
   "cell_type": "markdown",
   "metadata": {},
   "source": [
    "* Maximum Value of the Directional Derivative\n",
    "\n",
    "  $D_\\mathbf{u}f=\\| \\nabla f\\| \\| \\mathbf{u} \\| \\cos\\phi =\\| \\nabla f\\| \\cos\\phi \\;\\Rightarrow \\;\n",
    "  -\\| \\nabla f\\| \\leq D_\\mathbf{u} f \\leq \\| \\nabla f\\|$\n",
    "    \n",
    "  *The gradient vector $\\nabla f$ points in the direction in which $f$ increases most rapidly, \n",
    "  <br>whereas $-\\nabla f$ points in the direction of the most decrease of $f$*"
   ]
  },
  {
   "cell_type": "markdown",
   "metadata": {},
   "source": [
    "## 9.6 Tangent Planes and Normal Lines"
   ]
  },
  {
   "cell_type": "markdown",
   "metadata": {},
   "source": [
    "* Geometric Interpretation of the Gradient\n",
    "\n",
    "  The derivative of $f(g(t),h(t))=c$ with respect to $t$ is\n",
    "  \n",
    "  > $\\displaystyle \\frac{\\partial f}{\\partial x}\\frac{dx}{dt} +\\frac{\\partial f}{\\partial y}\\frac{dy}{dt}=0\n",
    "  =\\left( \\frac{\\partial f}{\\partial x}\\mathbf{i} +\\frac{\\partial f}{\\partial y} \\mathbf{j} \\right)\n",
    "  \\cdot \\left( \\frac{dx}{dt}\\mathbf{i} +\\frac{dy}{dt} \\mathbf{j} \\right)=\\nabla f \\cdot \\mathbf{r}'$\n",
    "  \n",
    "  $\\nabla f$ is orthogonal to the level curve at $P$\n",
    "  \n",
    "\n",
    "  The derivative of $F(f(t),g(t),h(t))=c$ implies that\n",
    "\n",
    "  > $\\displaystyle \\frac{\\partial F}{\\partial x}\\frac{dx}{dt} +\\frac{\\partial F}{\\partial y}\\frac{dy}{dt}\n",
    "  +\\frac{\\partial F}{\\partial z}\\frac{dz}{dt}=0\n",
    "  =\\left( \\frac{\\partial F}{\\partial x}\\mathbf{i} +\\frac{\\partial F}{\\partial y} \\mathbf{j} \n",
    "  +\\frac{\\partial F}{\\partial z} \\mathbf{k} \\right)\n",
    "  \\cdot \\left( \\frac{dx}{dt}\\mathbf{i} +\\frac{dy}{dt} \\mathbf{j} +\\frac{dz}{dt} \\mathbf{k} \\right)\n",
    "  =\\nabla f \\cdot \\mathbf{r}'$\n",
    "  \n",
    "   $\\nabla F$ is normal(perpendicular) to the level surface at $P$  \n",
    "  \n",
    "  <img src=\"figures/ch09_figure12.png\" alt=\"gradient_tangent\" style=\"float:left;width:250px\"/> \n",
    "  \n",
    "  <img src=\"figures/ch09_figure13.png\" alt=\"normal_tangent\" style=\"float:left;width:300px\"/>  "
   ]
  },
  {
   "cell_type": "markdown",
   "metadata": {},
   "source": [
    "* Let $P(x_0,y_0,z_0)$ be a point on the graph of $F(x,y,z)=c$. The **tangent plane** at $P$ is\n",
    "\n",
    "  >$F_x(x_0,y_0,z_0)(x-x_0) +F_y(x_0,y_0,z_0)(y-y_0) +F_z(x_0,y_0,z_0)(z-z_0)=0$\n",
    "  \n",
    "  The line containing $P(x_0,y_0,z_0)$ that is parallel to  $F(x_0,y_0,z_0)$ is called the **normal line** to the\n",
    "  surface at $P$"
   ]
  },
  {
   "cell_type": "markdown",
   "metadata": {},
   "source": [
    "## 9.7 Curl and Divergence"
   ]
  },
  {
   "cell_type": "markdown",
   "metadata": {},
   "source": [
    "* Vector Fields - Vector functions of two or three variables\n",
    "\n",
    "  $\\begin{align*}\n",
    "   \\mathbf{f}(x,y)&= P(x,y) \\mathbf{i} +Q(x,y)\\mathbf{j}\\\\ \n",
    "   \\mathbf{f}(x,y,z)&= P(x,y,z) \\mathbf{i} +Q(x,y,z)\\mathbf{j} +R(x,y,z)\\mathbf{k}\n",
    "   \\end{align*}$\n",
    "\n",
    "  <img src=\"figures/ch09_figure14.png\" alt=\"vector_field\" style=\"float:left;width:750px\"/>"
   ]
  },
  {
   "cell_type": "markdown",
   "metadata": {},
   "source": [
    "* The del operator combined with a scalar function $\\phi(x,y,z)$ produces a vector field\n",
    "\n",
    "  >$\\displaystyle\\mathbf{f}(x,y,z)=\\nabla \\phi =\\frac{\\partial \\phi}{\\partial x}\\mathbf{i} +\\frac{\\partial \\phi}{\\partial y}\\mathbf{j} +\\frac{\\partial \\phi}{\\partial z}\\mathbf{k} \\;\\Rightarrow\\; \\delta_{ij} \\mathbf{e}_i \\frac{\\partial \\phi}{\\partial x_j}$\n",
    "  \n",
    "  called the **gradient of $\\phi$**"
   ]
  },
  {
   "cell_type": "markdown",
   "metadata": {},
   "source": [
    "* The **curl** of a vector field $\\mathbf{f}=P\\mathbf{i} +Q\\mathbf{j} +R\\mathbf{k}$ is the vector field\n",
    "\n",
    ">$\\displaystyle\\mathrm{curl}\\, \\mathbf{f}=\\nabla \\times \\mathbf{f}\n",
    "    =\\begin{vmatrix}\n",
    "     \\mathbf{i} & \\mathbf{j} & \\mathbf{k}\\\\ \n",
    "     \\frac{\\partial }{\\partial x} & \\frac{\\partial }{\\partial y} & \\frac{\\partial }{\\partial z} \\\\\n",
    "     P & Q & R\n",
    "    \\end{vmatrix} \\;\\Rightarrow\\; \\varepsilon_{ijk} \\mathbf{e}_i \\frac{\\partial}{\\partial x_j} f_k$\n",
    "    \n",
    "  >where $\\varepsilon_{ijk}$ is Levi-Civita Symbol"
   ]
  },
  {
   "cell_type": "markdown",
   "metadata": {},
   "source": [
    "* The **divergence** of a vector field $\\mathbf{f}=P\\mathbf{i} +Q\\mathbf{j} + R\\mathbf{k}$ is the scalar function\n",
    "\n",
    ">$\\displaystyle\\mathrm{div} \\,\\mathbf{f}=\\nabla \\cdot \\mathbf{f}=\\frac{\\partial P}{\\partial x} +\\frac{\\partial Q}{\\partial y} +\\frac{\\partial R}{\\partial z}\n",
    "\\;\\Rightarrow\\;\\delta_{ij} \\frac{\\partial}{\\partial x_i} f_j$\n",
    "\n",
    ">where $\\delta_{ij}$ is Kronecker delta"
   ]
  },
  {
   "cell_type": "markdown",
   "metadata": {},
   "source": [
    "* Two important properties\n",
    " \n",
    ">$\\mathrm{curl}(\\mathrm{grad}\\, f) =\\nabla\\times\\nabla f=\\mathbf{0} \\; \\Rightarrow \\; \\varepsilon_{ijk} \\mathbf{e}_i \\frac{\\partial}{\\partial x_j} \\frac{\\partial f}{\\partial x_k}= 0 \\mathbf{e}_i=\\mathbf{0}$\n",
    " \n",
    ">$\\mathrm{div}(\\mathrm{curl} \\,\\mathbf{f})=\\nabla \\cdot(\\nabla\\times\\mathbf{f})=0 \\; \\Rightarrow \\; \n",
    "\\delta_{ij} \\frac{\\partial}{\\partial x_i} \\varepsilon_{jlm} \\frac{\\partial}{\\partial x_l} f_m \n",
    "=\\varepsilon_{ilm} \\frac{\\partial^2}{\\partial x_i \\partial x_l} f_m=0$\n",
    "\n",
    "---\n",
    "\n",
    "> $\\nabla \\cdot (\\nabla f) = \\nabla^2 f \\; \\Rightarrow \\; \\delta_{ij} \\frac{\\partial}{\\partial x_i} \\frac{\\partial f}{\\partial x_j} \n",
    "=\\frac{\\partial^2 f}{\\partial x_i^2}$\n",
    "  \n",
    "> $\\nabla \\cdot \\nabla \\mathbf{f} = \\nabla^2 \\mathbf{f} \\; \\Rightarrow \\; \\delta_{ij} \\frac{\\partial}{\\partial x_i} \\mathbf{e}_m\\frac{\\partial f_m}{\\partial x_j} \n",
    "=\\mathbf{e}_m \\frac{\\partial^2 f_m}{\\partial x_i^2}$\n",
    "  \n",
    "> $\\nabla \\times (\\nabla \\times \\mathbf{f}) = \\nabla (\\nabla \\cdot \\mathbf{f}) -\\nabla^2 \\mathbf{f}=\\; \\Rightarrow \\; \n",
    "\\varepsilon_{ijk} \\mathbf{e}_i \\frac{\\partial}{\\partial x_j} \\varepsilon_{klm} \\frac{\\partial}{\\partial x_l}f_m = \n",
    "(\\delta_{il}\\delta_{jm}-\\delta_{im}\\delta_{jl})\\mathbf{e}_i \\frac{\\partial}{\\partial x_j} \\frac{\\partial}{\\partial x_l}f_m \n",
    "= \\mathbf{e}_i \\frac{\\partial}{\\partial x_i} \\frac{\\partial f_j}{\\partial x_j} -\\mathbf{e}_i \\frac{\\partial^2 f_i}{\\partial x_j^2}$"
   ]
  },
  {
   "cell_type": "markdown",
   "metadata": {},
   "source": [
    "* Product Rules with $\\nabla$\n",
    "\n",
    "> $\\nabla (fg) = f \\nabla g + g \\nabla f$\n",
    "  \n",
    "> $\\nabla (\\mathbf{u} \\cdot \\mathbf{v}) = \\mathbf{u} \\times (\\nabla \\times \\mathbf{v}) +\\mathbf{v} \\times (\\nabla \n",
    "    \\times \\mathbf{u}) +(\\mathbf{u} \\cdot \\nabla) \\mathbf{v} +(\\mathbf{v} \\cdot \\nabla) \\mathbf{u} = \\mathbf{v} \\cdot \\nabla\n",
    "    \\mathbf{u} + \\mathbf{u} \\cdot \\nabla \\mathbf{v}$\n",
    "  \n",
    "> $\\nabla \\cdot (f \\mathbf{u}) = f (\\nabla \\cdot \\mathbf{u}) +\\mathbf{u} \\cdot \\nabla f$\n",
    "\n",
    "> $\\nabla \\cdot (\\mathbf{u} \\times \\mathbf{v}) = \\mathbf{v} \\cdot (\\nabla \\times \\mathbf{u}) \n",
    "   -\\mathbf{u} \\cdot (\\nabla \\times \\mathbf{v})$\n",
    "\n",
    "> $\\nabla \\times (f \\mathbf{u}) = \\nabla f \\times \\mathbf{u} +f (\\nabla \\times \\mathbf{u})$\n",
    "\n",
    "> $\\nabla \\times (\\mathbf{u} \\times \\mathbf{v}) = \\mathbf{u} (\\nabla \\cdot \\mathbf{v}) \n",
    "    -\\mathbf{v} (\\nabla \\cdot \\mathbf{u}) +(\\mathbf{v} \\cdot \\nabla) \\mathbf{u} -(\\mathbf{u} \\cdot \\nabla) \\mathbf{v}$"
   ]
  },
  {
   "cell_type": "markdown",
   "metadata": {},
   "source": [
    "* Physical Interpretations\n",
    "\n",
    "  <img src=\"figures/ch09_figure15.png\" alt=\"rotational\" style=\"width:400px\"/>  \n",
    "  <img src=\"figures/ch09_figure16.png\" alt=\"source_sink\" style=\"width:150px\"/>  "
   ]
  },
  {
   "cell_type": "markdown",
   "metadata": {},
   "source": [
    "## 9.8 Line Integrals "
   ]
  },
  {
   "cell_type": "markdown",
   "metadata": {},
   "source": [
    "* Integration of a function defined along a curve\n",
    "\n",
    "  <img src=\"figures/ch09_figure17.png\" alt=\"various_curve\" style=\"width:250px\"/> "
   ]
  },
  {
   "cell_type": "markdown",
   "metadata": {},
   "source": [
    "* Definite Integral\n",
    "\n",
    "  >$\\displaystyle\\int_a^b f(x)\\,dx =\\lim_{\\|P\\|\\to 0} \\sum_{k=1}^n f(x_k^*)\\Delta x_k$\n",
    "  \n",
    "  <img src=\"figures/ch09_figure18.png\" alt=\"sample_point_in_k\" style=\"width:230px\"/> "
   ]
  },
  {
   "cell_type": "markdown",
   "metadata": {},
   "source": [
    "* Line Integrals in the Plane\n",
    "\n",
    "  >$\\begin{align*}\n",
    "    \\int_C G(x,y)\\,dx&= \\lim_{\\| P \\|\\to 0} \\sum_{k=1}^n G(x_k^*, y_k^*)\\,\\Delta x_k\\\\ \n",
    "    \\int_C G(x,y)\\,dy&= \\lim_{\\| P \\|\\to 0} \\sum_{k=1}^n G(x_k^*, y_k^*)\\,\\Delta y_k\\\\\n",
    "    \\int_C G(x,y)\\,ds&= \\lim_{\\| P \\|\\to 0} \\sum_{k=1}^n G(x_k^*, y_k^*)\\,\\Delta s_k\n",
    "    \\end{align*}$\n",
    "    \n",
    "  <img src=\"figures/ch09_figure19.png\" alt=\"sample_point_in_k_subarc\" style=\"width:200px\"/>   "
   ]
  },
  {
   "cell_type": "markdown",
   "metadata": {},
   "source": [
    "* Method of Evaluation - Curve Defined Parametrically, $x=f(t)$, $y=g(t)$ and Curve Defined by an Explicit Function, $y=f(x)$\n",
    "\n",
    "  >$\\begin{align*}\n",
    "    \\int_C G(x,y)\\,dx&= \\int_a^b G(f(t), g(t)) \\,f'(t)\\,dt\\\\ \n",
    "    \\int_C G(x,y)\\,dy&= \\int_a^b G(f(t), g(t)) \\,g'(t)\\,dt\\\\\n",
    "    \\int_C G(x,y)\\,ds&= \\int_a^b G(f(t), g(t)) \\,\\sqrt{[f'(t)]^2 +[g'(t)]^2}\\,dt\n",
    "    \\end{align*}$\n",
    "    \n",
    "  >$\\begin{align*}\n",
    "    \\int_C G(x,y)\\,dx&= \\int_a^b G(x, f(x)) \\,dt\\\\ \n",
    "    \\int_C G(x,y)\\,dy&= \\int_a^b G(x, f(x)) \\,f'(x)\\,dx\\\\\n",
    "    \\int_C G(x,y)\\,ds&= \\int_a^b G(x, f(x)) \\,\\sqrt{1 +[f'(x)]^2}\\,dt\n",
    "    \\end{align*}$  "
   ]
  },
  {
   "cell_type": "markdown",
   "metadata": {},
   "source": [
    "* Notation\n",
    "\n",
    "  >$\\displaystyle\\int_C P(x,y)\\,dx +\\int_C Q(x,y)\\,dy \\,\\Rightarrow \\, \\int_C P(x,y)\\,dx +Q(x,y) \\,dy$\n",
    "  \n",
    "  > A line integral along a closed curve $C$, $\\,\\Rightarrow\\,$ $\\displaystyle\\oint_C P(x,y) \\,dx +Q(x,y)\\, dy$\n",
    "  \n",
    "  > $\\displaystyle\\int_{-C} P\\,dx +Q\\,dy = -\\int_C P\\,dx +Q\\,dy$\n",
    "  \n",
    "  <img src=\"figures/ch09_figure20.png\" alt=\"opposite_orientation\" style=\"width:150px\"/>   "
   ]
  },
  {
   "cell_type": "markdown",
   "metadata": {},
   "source": [
    "* Line Integrals in Space\n",
    "\n",
    "  >$\\displaystyle\\int_C G(x,y,z)\\,ds = \\int_a^b G(f(t), g(t),h(t)) \\,\\sqrt{[f'(t)]^2 +[g'(t)]^2 +[h'(t)]^2}\\,dt$\n",
    "  \n",
    "  Suppose the vector-valued function $\\mathbf{f}(x,y,z)=P(x,y,z)\\mathbf{i} +Q(x,y,z)\\mathbf{j} +R(x,y,z)\\mathbf{k}$ is defined along a curve $C$ <br>and\n",
    "  $\\mathbf{r}(t)=f(t)\\mathbf{i} +g(t)\\mathbf{j} +h(t)\\mathbf{k}$ is the position vector of points on $C$. For a line integral on a space curve,\n",
    "  \n",
    "  >$\\displaystyle\\int_C \\mathbf{f}\\cdot \\,d\\mathbf{r} =\\int_C P(x,y,z) \\, dx +Q(x,y,z) \\, dy +R(x,y,z) \\, dz$"
   ]
  },
  {
   "cell_type": "markdown",
   "metadata": {},
   "source": [
    "* Work and Circulation\n",
    "\n",
    " >$\\displaystyle W =\\int_C \\mathbf{f} \\cdot d\\mathbf{r} = \\int_C \\mathbf{f}\\cdot \\mathbf{T} \\,ds $\n",
    " \n",
    " >$\\displaystyle \\mathrm{Circulation}= \\oint_C \\mathbf{f} \\cdot d\\mathbf{r} = \\oint_C \\mathbf{f}\\cdot \\mathbf{T} \\,ds $\n",
    " \n",
    " <img src=\"figures/ch09_figure21.png\" alt=\"circulation\" style=\"width:180px\"/>"
   ]
  },
  {
   "cell_type": "markdown",
   "metadata": {},
   "source": [
    "## 9.9 Independence of the Path"
   ]
  },
  {
   "cell_type": "markdown",
   "metadata": {},
   "source": [
    "* The value of a line integral $\\int_C \\mathbf{F}\\cdot \\,d\\mathbf{r}$ depends on the path of integration. \n",
    "  Stated another way, <br>if $C_1$ and $C_2$ are two different paths between the same points $A$ and $B$, then we expect that\n",
    "  $\\int_{C_1} \\mathbf{F}\\cdot \\,d\\mathbf{r} \\neq \\int_{C_2} \\mathbf{F}\\cdot \\,d\\mathbf{r}$"
   ]
  },
  {
   "cell_type": "markdown",
   "metadata": {},
   "source": [
    "* A vector function $\\mathbf{f}$ in 2- or 3-space is said to be **conservative** if $\\mathbf{f}$ can be written \n",
    "  as the gradient of a scalar function $\\phi$. <br>The function $\\phi$ is called a **potential function** for $\\mathbf{f}$\n",
    "  \n",
    "  In other words, $\\mathbf{f}$ is conservative if there exists a function $\\phi$ such that $\\mathbf{f}=\\nabla \\phi$.\n",
    "  A conservative vector field is also called a **gradient vector field**"
   ]
  },
  {
   "cell_type": "markdown",
   "metadata": {},
   "source": [
    "* **Path Independence**\n",
    "\n",
    "  A line integral $\\int_C \\mathbf{f}\\cdot d\\mathbf{r}$ is independence of the path if $\\int_{C_1} \\mathbf{f}\\cdot d\\mathbf{r}=\\int_{C_2}\\mathbf{f}\\cdot d\\mathbf{r}$\n",
    "  for any two paths $C_1$ and $C_2$ between $A$ and $B$"
   ]
  },
  {
   "cell_type": "markdown",
   "metadata": {},
   "source": [
    "* **Fundamental Theorem**\n",
    "\n",
    "  If $\\mathbf{f}(x,y,z)$ is a conservative vector field in $R$ and $\\phi$ is a potential function for $\\mathbf{f}$, then\n",
    "  \n",
    "  >$\\displaystyle\\int_C \\mathbf{f}\\cdot d\\mathbf{r}=\\int_C \\nabla\\phi \\cdot d\\mathbf{r}=\\phi(B) -\\phi(A)$\n",
    "  \n",
    "  where $A=(x(a), y(a), z(a))$ and $B=(x(b), y(b), z(b))$"
   ]
  },
  {
   "cell_type": "markdown",
   "metadata": {},
   "source": [
    "* Equivalent Concepts\n",
    "\n",
    "  * In an open connected region $R$, $\\int_C \\mathbf{f}\\cdot d\\mathbf{r}$ is independent of the path $C$ if and only if the vector field $\\mathbf{f}$ \n",
    "    is conservative in $R$\n",
    "  \n",
    "  * In an open connected region $R$, $\\int_C \\mathbf{f}\\cdot d\\mathbf{r}$ is independent of the path if and only if \n",
    "    $\\int_C \\mathbf{f}\\cdot d\\mathbf{r}=0$ for every closed path $C$ in $R$   \n",
    "    \n",
    "  <img src=\"figures/ch09_figure22.png\" alt=\"regions\" style=\"width:150px\"/>    "
   ]
  },
  {
   "cell_type": "markdown",
   "metadata": {},
   "source": [
    "* Test for a Conservative Field\n",
    "\n",
    "  Suppose $\\mathbf{f}(x,y,z)=P(x,y,z)\\mathbf{i} +Q(x,y,z)\\mathbf{j} +R(x,y,z)\\mathbf{k}$ is a conservative vector field in an open region of 3-space,\n",
    "  and that $P$, $Q$, and $R$ are continuous <br>and have continuous first partial derivatives in that region. Then\n",
    "  \n",
    "  >$\\displaystyle \\frac{\\partial P}{\\partial y} =\\frac{\\partial Q}{\\partial x}, \\;\\frac{\\partial P}{\\partial z} =\\frac{\\partial R}{\\partial x},\\;\n",
    "  \\frac{\\partial Q}{\\partial z} =\\frac{\\partial R}{\\partial y}$\n",
    "  \n",
    "  for all $(x,y,z)$ in that region\n",
    "  \n",
    "  If $\\mathbf{f}$ is conservative then $\\mathbf{f}=\\nabla \\phi$ and $\\nabla\\times\\mathbf{f}=\\nabla\\times\\nabla\\phi=\\mathbf{0}$; that is\n",
    "  \n",
    "  >$\\displaystyle \\nabla\\times\\mathbf{f}=\\left( \\frac{\\partial R}{\\partial y} -\\frac{\\partial Q}{\\partial z}\\right)\\mathbf{i}\n",
    "   +\\left( \\frac{\\partial P}{\\partial z} -\\frac{\\partial R}{\\partial x}\\right)\\mathbf{j}\n",
    "   +\\left( \\frac{\\partial Q}{\\partial x} -\\frac{\\partial P}{\\partial y}\\right)\\mathbf{k}=\\mathbf{0}$"
   ]
  },
  {
   "cell_type": "markdown",
   "metadata": {},
   "source": [
    "## 9.10 Double Integrals"
   ]
  },
  {
   "cell_type": "markdown",
   "metadata": {},
   "source": [
    "* The Double Integral\n",
    " \n",
    "  Let $f$ be a function of two variables defined on a closed region $R$. Then the **double integral of $f$ over $R$** is given by\n",
    "  \n",
    "  >$\\displaystyle\\iint_R f(x,y)\\,dA=\\lim_{\\|P\\|\\to 0} \\sum_{k=1}^n f\\left(x_k^*, y_k^*\\right) \\Delta A_k$"
   ]
  },
  {
   "cell_type": "markdown",
   "metadata": {},
   "source": [
    "* Area and Volume\n",
    "\n",
    "  >$\\displaystyle A=\\iint_R dA\\;$ and $\\displaystyle\\; V=\\iint_R f(x,y) \\,dA$\n",
    "  \n",
    "  <img src=\"figures/ch09_figure23.png\" alt=\"volume\" style=\"width:250px\"/>  "
   ]
  },
  {
   "cell_type": "markdown",
   "metadata": {},
   "source": [
    "* Properties of Double Integrals\n",
    "\n",
    "  >$\\displaystyle\\iint_R kf(x,y) \\,dA = k \\iint_R f(x,y) \\,dA$\n",
    "\n",
    "  >$\\displaystyle\\iint_R [f(x,y) \\pm g(x,y) ] \\,dA = \\iint_R f(x,y) \\,dA \\pm \\iint_R g(x,y) \\,dA$\n",
    "  \n",
    "  >$\\displaystyle\\iint_R f(x,y) \\,dA = \\iint_{R_1} f(x,y) \\,dA + \\iint_{R_2} f(x,y) \\,dA$\n",
    "  \n",
    "  <img src=\"figures/ch09_figure24.png\" alt=\"union_region\" style=\"width:180px\"/>  "
   ]
  },
  {
   "cell_type": "markdown",
   "metadata": {},
   "source": [
    "* Evaluation of Double Integrals\n",
    "\n",
    "  Let $f$ be continuous on a region $R$\n",
    "  \n",
    "  * If $R$ is of Type I, then\n",
    "  \n",
    "    $\\displaystyle\\iint_R f(x,y) \\,dA =\\int_a^b\\int_{g_1(x)}^{g_2(x)} f(x,y) \\,dydx$\n",
    "    \n",
    "  * If $R$ is of Type II, then\n",
    "  \n",
    "    $\\displaystyle\\iint_R f(x,y) \\,dA =\\int_c^d\\int_{h_1(y}^{h_2(y)} f(x,y) \\,dxdy$\n",
    "    \n",
    "  <img src=\"figures/ch09_figure25.png\" alt=\"region_type\" style=\"width:200px\"/>     "
   ]
  },
  {
   "cell_type": "code",
   "execution_count": null,
   "metadata": {},
   "outputs": [],
   "source": []
  }
 ],
 "metadata": {
  "kernelspec": {
   "display_name": "Python 3",
   "language": "python",
   "name": "python3"
  },
  "language_info": {
   "codemirror_mode": {
    "name": "ipython",
    "version": 3
   },
   "file_extension": ".py",
   "mimetype": "text/x-python",
   "name": "python",
   "nbconvert_exporter": "python",
   "pygments_lexer": "ipython3",
   "version": "3.7.2"
  }
 },
 "nbformat": 4,
 "nbformat_minor": 2
}
