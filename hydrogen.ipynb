{
 "cells": [
  {
   "cell_type": "markdown",
   "metadata": {},
   "source": [
    "## The Hydrogen Atom"
   ]
  },
  {
   "cell_type": "markdown",
   "metadata": {},
   "source": [
    "As the electron circles around the nucleus, the system (the proton and the electron) rotates around the center of gravity. For the rotating system, we can write the reduced mass, $\\mu$, as\n",
    "\n",
    ">$\\displaystyle \\frac{1}{\\mu} = \\frac{1}{m_e} + \\frac{1}{m_p}$\n",
    "\n",
    "or, solving for $\\mu$,\n",
    "\n",
    ">$\\displaystyle \\mu = \\frac{m_em_p}{m_e +m_p}$\n",
    "\n",
    "Since the mass of the electron is so much less than that of the proton, $m_e +m_p \\approx m_p$ and $\\mu = m_e$. Assuming that the nucleus is stationary and that the elctron does all of the moving (known as the Born-Oppenheimer approximation) leads to the same result."
   ]
  },
  {
   "cell_type": "markdown",
   "metadata": {},
   "source": [
    "The Hamiltonian can be written as the sum of the kinetic and potential energies\n",
    "\n",
    ">$H = T + V$\n",
    "\n",
    "in which $T = p^2/2\\mu$ and the potential energy, $V$, for the interaction of the electron with the proton is $-e^2/r$. Therefore, the Hamiltonian operator $\\hat{H}$ is\n",
    "\n",
    ">$\\displaystyle \\hat{H}=-\\frac{\\hbar^2}{2\\mu} \\nabla^2 -\\frac{e^2}{r}$\n",
    "\n"
   ]
  },
  {
   "cell_type": "markdown",
   "metadata": {},
   "source": [
    "Therefore, the time-independent wave function $\\psi$ gives\n",
    "\n",
    ">$\\begin{align*}\n",
    " \\hat{H} \\psi &= E \\psi \\\\ \n",
    " &\\Downarrow \\\\\n",
    " \\nabla^2 \\psi +\\frac{2\\mu}{\\hbar^2} &\\left( \\frac{e^2}{r} +E \\right) \\psi =0 \\\\\n",
    " &\\Downarrow \\\\\n",
    " \\frac{1}{r^2}\\left( r^2 \\psi_r \\right)_r +\\frac{1}{r^2\\sin\\phi} \\left( \\sin\\phi\\, \\psi_\\phi \\right)_\\phi \n",
    "  &+\\frac{1}{r^2\\sin^2\\phi} \\psi_{\\theta\\theta} +\\frac{2\\mu}{\\hbar^2} \\left( \\frac{e^2}{r} +E \\right) \\psi =0 \n",
    "\\end{align*}$ "
   ]
  },
  {
   "cell_type": "markdown",
   "metadata": {},
   "source": [
    "We assume that $\\psi(r,\\phi,\\theta)=R(r)\\Phi(\\phi)\\Theta(\\theta)$ and make the substitution. For simplicity, we will write the partial solutions as $R$, $\\Phi$, and $\\Theta$ without showing the functionality. We now divide both sides by $R\\Phi\\Theta$ and multiply by $r^2\\sin^2\\phi$:\n",
    "\n"
   ]
  },
  {
   "cell_type": "code",
   "execution_count": null,
   "metadata": {},
   "outputs": [],
   "source": []
  }
 ],
 "metadata": {
  "kernelspec": {
   "display_name": "Python 3",
   "language": "python",
   "name": "python3"
  },
  "language_info": {
   "codemirror_mode": {
    "name": "ipython",
    "version": 3
   },
   "file_extension": ".py",
   "mimetype": "text/x-python",
   "name": "python",
   "nbconvert_exporter": "python",
   "pygments_lexer": "ipython3",
   "version": "3.6.6"
  }
 },
 "nbformat": 4,
 "nbformat_minor": 2
}
