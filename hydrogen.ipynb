{
 "cells": [
  {
   "cell_type": "markdown",
   "metadata": {},
   "source": [
    "## The Hydrogen Atom"
   ]
  },
  {
   "cell_type": "markdown",
   "metadata": {},
   "source": [
    "As the electron circles around the nucleus, the system (the proton and the electron) rotates around the center of gravity. For the rotating system, we can write the reduced mass, $\\mu$, as\n",
    "\n",
    ">$\\displaystyle \\frac{1}{\\mu} = \\frac{1}{m_e} + \\frac{1}{m_p}$\n",
    "\n",
    "or, solving for $\\mu$,\n",
    "\n",
    ">$\\displaystyle \\mu = \\frac{m_em_p}{m_e +m_p}$\n",
    "\n",
    "Since the mass of the electron is so much less than that of the proton, $m_e +m_p \\approx m_p$ and $\\mu = m_e$. Assuming that the nucleus is stationary and that the elctron does all of the moving (known as the Born-Oppenheimer approximation) leads to the same result."
   ]
  },
  {
   "cell_type": "markdown",
   "metadata": {},
   "source": [
    "The Hamiltonian can be written as the sum of the kinetic and potential energies\n",
    "\n",
    ">$H = T + V$\n",
    "\n",
    "in which $T = p^2/2\\mu$ and the potential energy, $V$, for the interaction of the electron with the proton is $-e^2/r$. Therefore, the Hamiltonian operator $\\hat{H}$ is\n",
    "\n",
    ">$\\displaystyle \\hat{H}=-\\frac{\\hbar^2}{2\\mu} \\nabla^2 -\\frac{e^2}{r}$\n",
    "\n"
   ]
  },
  {
   "cell_type": "markdown",
   "metadata": {},
   "source": [
    "Therefore, the time-independent wave function $\\psi$ gives\n",
    "\n",
    ">$\\begin{align*}\n",
    " \\hat{H} \\psi &= E \\psi \\\\ \n",
    " &\\Downarrow \\\\\n",
    " \\nabla^2 \\psi +\\frac{2\\mu}{\\hbar^2} &\\left( \\frac{e^2}{r} +E \\right) \\psi =0 \\\\\n",
    " &\\Downarrow \\\\\n",
    " \\frac{1}{r^2}\\left( r^2 \\psi_r \\right)_r +\\frac{1}{r^2\\sin\\phi} \\left( \\sin\\phi\\, \\psi_\\phi \\right)_\\phi \n",
    "  &+\\frac{1}{r^2\\sin^2\\phi} \\psi_{\\theta\\theta} +\\frac{2\\mu}{\\hbar^2} \\left( \\frac{e^2}{r} +E \\right) \\psi =0 \n",
    "\\end{align*}$ "
   ]
  },
  {
   "cell_type": "markdown",
   "metadata": {},
   "source": [
    "We assume that $\\psi(r,\\phi,\\theta)=R(r)\\,\\Phi(\\phi)\\,\\Theta(\\theta)$ and make the substitution. For simplicity, we will write the partial solutions as $R$, $\\Phi$, and $\\Theta$ without showing the functionality. We now divide both sides by $R\\,\\Phi\\,\\Theta$ and multiply by $r^2\\sin^2\\phi$:\n",
    "\n",
    ">$\\displaystyle \\frac{\\sin^2\\phi}{R}\\left( r^2 R_r \\right)_r +\\frac{\\sin\\phi}{\\Phi} \\left( \\sin\\phi\\, \\Phi_\\phi \\right)_\\phi \n",
    "  +\\frac{1}{\\Theta} \\Theta_{\\theta\\theta} +\\frac{2\\mu r^2\\sin^2\\phi}{\\hbar^2} \\left( \\frac{e^2}{r} +E \\right) =0 $"
   ]
  },
  {
   "cell_type": "markdown",
   "metadata": {},
   "source": [
    "Inspection shows that, of the four terms on the left side of the equation, there is no functional dependence on $\\theta$ except in the third term. Therefore, with respect to the other variables, the third term can be treated as a constant:\n",
    "\n",
    ">$\\begin{align*}\n",
    " -\\frac{\\sin^2\\phi}{R}\\left( r^2 R_r \\right)_r -\\frac{\\sin\\phi}{\\Phi} \\left( \\sin\\phi\\, \\Phi_\\phi \\right)_\\phi \n",
    "  &-\\frac{2\\mu r^2\\sin^2\\phi}{\\hbar^2} \\left( \\frac{e^2}{r} +E \\right) \n",
    "  = \\frac{1}{\\Theta} \\Theta_{\\theta\\theta} = -\\lambda <0 \\\\ \n",
    " &\\Downarrow \\\\ \n",
    " \\Theta_{\\theta\\theta} &+\\lambda \\Theta = 0 \\\\\n",
    "  \\Theta(0)=\\Theta(2\\pi)&, \\;\\Theta'(0)=\\Theta'(2\\pi) \\\\\n",
    "  &\\Downarrow \\\\\n",
    "  \\lambda_m = m^2, &\\;m=0,\\pm 1, \\pm 2,\\cdots \\\\ \n",
    "  \\Theta_m(\\theta) &= \\frac{1}{\\sqrt{2\\pi}} e^{im\\theta} \n",
    "\\end{align*}$"
   ]
  },
  {
   "cell_type": "markdown",
   "metadata": {},
   "source": [
    "We can now write the wave equation as\n",
    "\n",
    ">$\\displaystyle\\frac{\\sin^2\\phi}{R}\\left( r^2 R_r \\right)_r +\\frac{\\sin\\phi}{\\Phi} \\left( \\sin\\phi\\, \\Phi_\\phi \\right)_\\phi \n",
    "  -m^2 +\\frac{2\\mu r^2\\sin^2\\phi}{\\hbar^2} \\left( \\frac{e^2}{r} +E \\right) \n",
    "  = 0$\n",
    "  \n",
    "If we divide the equation by $\\sin^2\\phi$ and rearrange, we obtain\n",
    "\n",
    ">$\\begin{align*}\n",
    " \\frac{1}{R}\\left( r^2 R_r \\right)_r +\\frac{2\\mu r^2}{\\hbar^2} \\left( \\frac{e^2}{r} +E \\right) &+\\frac{1}{\\Phi\\sin\\phi} \n",
    "  \\left( \\sin\\phi\\, \\Phi_\\phi \\right)_\\phi -\\frac{m^2}{\\sin^2\\phi} = 0 \\\\\n",
    " &\\Downarrow \\\\\n",
    "  \\frac{1}{\\Phi\\sin\\phi} \\left( \\sin\\phi\\, \\Phi_\\phi \\right)_\\phi &-\\frac{m^2}{\\sin^2\\phi} = -\\beta \\\\\n",
    "  \\frac{1}{R}\\left( r^2 R_r \\right)_r +\\frac{2\\mu r^2}{\\hbar^2} &\\left( \\frac{e^2}{r} +E \\right) = \\beta \\\\\n",
    " &\\Downarrow \\\\\n",
    "  \\frac{1}{\\sin\\phi} \\left( \\sin\\phi\\, \\Phi_\\phi \\right)_\\phi &+\\left( \\beta-\\frac{m^2}{\\sin^2\\phi}\\right)\\Phi = 0 \\\\\n",
    "  \\frac{1}{r^2}\\left( r^2 R_r \\right)_r +\\frac{2\\mu}{\\hbar^2} &\\left( \\frac{e^2}{r} +E \\right)R -\\frac{\\beta}{r^2}R=0\n",
    "\\end{align*}$"
   ]
  },
  {
   "cell_type": "markdown",
   "metadata": {},
   "source": [
    "We will now turn our attention to the equation involving $\\phi$. The standard method for solving this equation is to make the transformation $x=\\cos\\phi$\n",
    "\n",
    ">$\\begin{align*}\n",
    " \\frac{1}{\\sin\\phi} \\frac{d}{d\\phi} \\left( \\frac{\\sin^2\\phi}{\\sin\\phi}\\, \\frac{d\\Phi}{d\\phi} \\right) &+\\left( \\beta-\\frac{m^2}{\\sin^2\\phi}\\right)\\Phi = 0 \\\\ \n",
    " &\\Downarrow\\;\\;x=\\cos\\phi,\\;dx=-\\sin\\phi\\,d\\phi \\\\ \n",
    " \\frac{d}{dx} \\left[ (1 -x^2) \\frac{d\\Phi}{dx} \\right] &+ \\left( \\beta-\\frac{m^2}{1 -x^2}\\right)\\Phi = 0 \\\\ \n",
    " &\\Downarrow \\\\\n",
    " (1 -x^2) \\frac{d^2\\Phi}{dx^2} -2x \\frac{d\\Phi}{dx} &+ \\left( \\beta-\\frac{m^2}{1 -x^2}\\right)\\Phi = 0 \n",
    "\\end{align*}$"
   ]
  },
  {
   "cell_type": "markdown",
   "metadata": {},
   "source": [
    "* Associated Legendre Equation\n",
    "\n",
    "If you start with the Legendre equation and differentiate it $|m|$ times, you end up with a new differential equation for the functions $y=P^{|m|}_l(x)$\n",
    "\n",
    ">$\\begin{align*}\n",
    " (1 -x^2)P_l''(x) -&2xP_l'(x) +l(l+1)P_l(x) = 0,\\;\\;\\; l=0,1,2,\\cdots \\\\ \n",
    " &\\Downarrow\\;\\; {\\scriptstyle \\text{differentiate } |m| \\text{ times}, \\;\\;y = P_l^{|m|}(x),\\; \\; |m| \\leq l} \\\\ \n",
    " (1 -x^2)y''(x) -2 |m| x y'&-|m|(|m| -1)y -2x y' -2|m|y +l(l +1)y = 0\\\\ \n",
    " &\\Downarrow\\\\ \n",
    " (1 -x^2)y''(x) -2x(|m| +1)&y'(x) +\\left[l(l +1) -|m|(|m| +1)\\right] y(x) = 0 \n",
    "\\end{align*}$\n",
    "\n",
    "And this equation is equivalent to the equation you want to study. The substitution\n",
    "\n",
    ">$y=(1 -x^2)^{-|m|/2} \\Phi$\n",
    "\n",
    "puts the equation into standard form with respect to $\\Phi$:"
   ]
  },
  {
   "cell_type": "code",
   "execution_count": null,
   "metadata": {},
   "outputs": [],
   "source": []
  }
 ],
 "metadata": {
  "kernelspec": {
   "display_name": "Python 3",
   "language": "python",
   "name": "python3"
  },
  "language_info": {
   "codemirror_mode": {
    "name": "ipython",
    "version": 3
   },
   "file_extension": ".py",
   "mimetype": "text/x-python",
   "name": "python",
   "nbconvert_exporter": "python",
   "pygments_lexer": "ipython3",
   "version": "3.6.6"
  }
 },
 "nbformat": 4,
 "nbformat_minor": 2
}
