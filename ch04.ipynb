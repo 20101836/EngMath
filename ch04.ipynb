{
  "nbformat": 4,
  "nbformat_minor": 0,
  "metadata": {
    "kernelspec": {
      "display_name": "Python 3",
      "language": "python",
      "name": "python3"
    },
    "language_info": {
      "codemirror_mode": {
        "name": "ipython",
        "version": 3
      },
      "file_extension": ".py",
      "mimetype": "text/x-python",
      "name": "python",
      "nbconvert_exporter": "python",
      "pygments_lexer": "ipython3",
      "version": "3.7.5"
    },
    "colab": {
      "name": "ch04.ipynb",
      "provenance": [],
      "include_colab_link": true
    }
  },
  "cells": [
    {
      "cell_type": "markdown",
      "metadata": {
        "id": "view-in-github",
        "colab_type": "text"
      },
      "source": [
        "<a href=\"https://colab.research.google.com/github/SeoulTechPSE/EngMath/blob/master/ch04.ipynb\" target=\"_parent\"><img src=\"https://colab.research.google.com/assets/colab-badge.svg\" alt=\"Open In Colab\"/></a>"
      ]
    },
    {
      "cell_type": "code",
      "metadata": {
        "id": "7RFxl4zeEwbH",
        "colab_type": "code",
        "colab": {},
        "cellView": "form"
      },
      "source": [
        "#@title preliminaries for colab\n",
        "from IPython.display import Math, HTML\n",
        "\n",
        "def load_mathjax_in_cell_output():\n",
        "    display(HTML(\"<script src='https://www.gstatic.com/external_hosted/\"\n",
        "                 \"mathjax/latest/MathJax.js?config=default'></script>\"))\n",
        "get_ipython().events.register('pre_run_cell', load_mathjax_in_cell_output)"
      ],
      "execution_count": 0,
      "outputs": []
    },
    {
      "cell_type": "markdown",
      "metadata": {
        "id": "NkMmcdOcEwbR",
        "colab_type": "text"
      },
      "source": [
        "# Chapter 4. The Laplace Transform"
      ]
    },
    {
      "cell_type": "markdown",
      "metadata": {
        "id": "XRNCwEdvEwbS",
        "colab_type": "text"
      },
      "source": [
        "### Contents\n",
        "\n",
        "* Definition of the Laplace Transform\n",
        "* The Inverse Transform and Transforms of Derivatives\n",
        "* Translation Theorems\n",
        "* Additional Operational Properties\n",
        "* The Dirac Delta Function\n",
        "* Systems of Linear Differential Equations"
      ]
    },
    {
      "cell_type": "markdown",
      "metadata": {
        "id": "11eewy3QEwbT",
        "colab_type": "text"
      },
      "source": [
        "##  4.1 Definition of the Laplace Transform"
      ]
    },
    {
      "cell_type": "markdown",
      "metadata": {
        "id": "RpWD5hiZEwbU",
        "colab_type": "text"
      },
      "source": [
        "* If $f$ be a function defined for $t \\geq 0$, then the *integral*\n",
        "\n",
        " $\\displaystyle\\mathcal{L}\\{f(t)\\} =\\int_0^\\infty f(t) e^{-st}\\, dt =F(s)$\n",
        "\n",
        " is the **Laplace Transform** of $f$ provided the integral converges. The result is a function of $s$\n",
        " \n",
        " **Example:** $\\text{ }$ Evaluate $\\mathcal{L}\\{1\\}$, $\\mathcal{L}\\{t\\}$, and $\\mathcal{L}\\{e^{-3t}\\}$\n",
        " \n",
        " **Example:** $\\text{ }$ Evaluate $\\mathcal{L}\\{f(t)\\}$ for $\\displaystyle f(t) = \\left\\{\\begin{matrix}\n",
        "0, & 0 \\leq  t < 3\\\\ \n",
        "2, & \\;\\;\\;\\;\\;t \\geq 3\n",
        "\\end{matrix}\\right.$"
      ]
    },
    {
      "cell_type": "code",
      "metadata": {
        "id": "pCkpT0VsEwbV",
        "colab_type": "code",
        "colab": {
          "base_uri": "https://localhost:8080/",
          "height": 17
        },
        "outputId": "26b588a7-bea7-4668-8202-2be2345014ea"
      },
      "source": [
        "import sympy\n",
        "from sympy import init_printing\n",
        "from sympy.integrals.transforms import laplace_transform, inverse_laplace_transform\n",
        "init_printing(use_unicode=True)\n",
        "\n",
        "s, t = sympy.symbols('s t')"
      ],
      "execution_count": 2,
      "outputs": [
        {
          "output_type": "display_data",
          "data": {
            "text/html": [
              "<script src='https://www.gstatic.com/external_hosted/mathjax/latest/MathJax.js?config=default'></script>"
            ],
            "text/plain": [
              "<IPython.core.display.HTML object>"
            ]
          },
          "metadata": {
            "tags": []
          }
        }
      ]
    },
    {
      "cell_type": "code",
      "metadata": {
        "id": "eqNCuMJxEwbZ",
        "colab_type": "code",
        "colab": {
          "base_uri": "https://localhost:8080/",
          "height": 81
        },
        "outputId": "2dc96bf4-be9f-4881-ae3d-488c6db36407"
      },
      "source": [
        "laplace_transform(1, t, s)[0]"
      ],
      "execution_count": 3,
      "outputs": [
        {
          "output_type": "display_data",
          "data": {
            "text/html": [
              "<script src='https://www.gstatic.com/external_hosted/mathjax/latest/MathJax.js?config=default'></script>"
            ],
            "text/plain": [
              "<IPython.core.display.HTML object>"
            ]
          },
          "metadata": {
            "tags": []
          }
        },
        {
          "output_type": "execute_result",
          "data": {
            "image/png": "[encoded data removed]",
            "text/latex": "$$\\frac{1}{s}$$",
            "text/plain": [
              "1\n",
              "─\n",
              "s"
            ]
          },
          "metadata": {
            "tags": []
          },
          "execution_count": 3
        }
      ]
    },
    {
      "cell_type": "code",
      "metadata": {
        "id": "zmRhZGiLEwbc",
        "colab_type": "code",
        "colab": {
          "base_uri": "https://localhost:8080/",
          "height": 82
        },
        "outputId": "9e5b7cd4-8443-49f8-89a3-0a4fa6c665a2"
      },
      "source": [
        "laplace_transform(t, t, s)[0]"
      ],
      "execution_count": 4,
      "outputs": [
        {
          "output_type": "display_data",
          "data": {
            "text/html": [
              "<script src='https://www.gstatic.com/external_hosted/mathjax/latest/MathJax.js?config=default'></script>"
            ],
            "text/plain": [
              "<IPython.core.display.HTML object>"
            ]
          },
          "metadata": {
            "tags": []
          }
        },
        {
          "output_type": "execute_result",
          "data": {
            "image/png": "[encoded data removed]",
            "text/latex": "$$\\frac{1}{s^{2}}$$",
            "text/plain": [
              "1 \n",
              "──\n",
              " 2\n",
              "s "
            ]
          },
          "metadata": {
            "tags": []
          },
          "execution_count": 4
        }
      ]
    },
    {
      "cell_type": "code",
      "metadata": {
        "id": "3S9uOZlvEwbf",
        "colab_type": "code",
        "colab": {
          "base_uri": "https://localhost:8080/",
          "height": 82
        },
        "outputId": "aea9d312-3825-429b-ec11-e1bf45a8d3d5"
      },
      "source": [
        "laplace_transform(sympy.exp(-3*t), t, s)[0]"
      ],
      "execution_count": 5,
      "outputs": [
        {
          "output_type": "display_data",
          "data": {
            "text/html": [
              "<script src='https://www.gstatic.com/external_hosted/mathjax/latest/MathJax.js?config=default'></script>"
            ],
            "text/plain": [
              "<IPython.core.display.HTML object>"
            ]
          },
          "metadata": {
            "tags": []
          }
        },
        {
          "output_type": "execute_result",
          "data": {
            "image/png": "[encoded data removed]",
            "text/latex": "$$\\frac{1}{s + 3}$$",
            "text/plain": [
              "  1  \n",
              "─────\n",
              "s + 3"
            ]
          },
          "metadata": {
            "tags": []
          },
          "execution_count": 5
        }
      ]
    },
    {
      "cell_type": "code",
      "metadata": {
        "id": "K9UmKhABEwbi",
        "colab_type": "code",
        "colab": {
          "base_uri": "https://localhost:8080/",
          "height": 81
        },
        "outputId": "3a116749-c0e9-41de-e1e0-4babc1f76cfb"
      },
      "source": [
        "laplace_transform(2*sympy.Heaviside(t -3), t, s)[0]"
      ],
      "execution_count": 6,
      "outputs": [
        {
          "output_type": "display_data",
          "data": {
            "text/html": [
              "<script src='https://www.gstatic.com/external_hosted/mathjax/latest/MathJax.js?config=default'></script>"
            ],
            "text/plain": [
              "<IPython.core.display.HTML object>"
            ]
          },
          "metadata": {
            "tags": []
          }
        },
        {
          "output_type": "execute_result",
          "data": {
            "image/png": "[encoded data removed]",
            "text/latex": "$$\\frac{2}{s} e^{- 3 s}$$",
            "text/plain": [
              "   -3⋅s\n",
              "2⋅ℯ    \n",
              "───────\n",
              "   s   "
            ]
          },
          "metadata": {
            "tags": []
          },
          "execution_count": 6
        }
      ]
    },
    {
      "cell_type": "markdown",
      "metadata": {
        "id": "yd-h6xAZEwbk",
        "colab_type": "text"
      },
      "source": [
        "* $\\mathcal{L}$ is a linear transform\n",
        "\n",
        "  $\\mathcal{L}\\{\\alpha f(t) +\\beta g(t)\\} = \\alpha \\mathcal{L} \\{f(t)\\} +\\beta\\mathcal{L}\\{g(t)\\} =\\alpha F(s) +\\beta G(s)$\n",
        "  \n",
        "  **Example:** $\\text{ }$ Find $\\mathcal{L}\\{f(t)\\}$ by first using an appropriate trigonometric identity $f(t)=\\sin 2t \\cos 2t$"
      ]
    },
    {
      "cell_type": "code",
      "metadata": {
        "id": "sJtnD-xzEwbl",
        "colab_type": "code",
        "colab": {
          "base_uri": "https://localhost:8080/",
          "height": 81
        },
        "outputId": "c1025294-7888-422d-9c56-8455aa6ca688"
      },
      "source": [
        "f = (sympy.sin(2*t)*sympy.cos(2*t)).simplify()\n",
        "f"
      ],
      "execution_count": 7,
      "outputs": [
        {
          "output_type": "display_data",
          "data": {
            "text/html": [
              "<script src='https://www.gstatic.com/external_hosted/mathjax/latest/MathJax.js?config=default'></script>"
            ],
            "text/plain": [
              "<IPython.core.display.HTML object>"
            ]
          },
          "metadata": {
            "tags": []
          }
        },
        {
          "output_type": "execute_result",
          "data": {
            "image/png": "[encoded data removed]",
            "text/latex": "$$\\frac{1}{2} \\sin{\\left (4 t \\right )}$$",
            "text/plain": [
              "sin(4⋅t)\n",
              "────────\n",
              "   2    "
            ]
          },
          "metadata": {
            "tags": []
          },
          "execution_count": 7
        }
      ]
    },
    {
      "cell_type": "code",
      "metadata": {
        "id": "psuCNMDJEwbn",
        "colab_type": "code",
        "colab": {
          "base_uri": "https://localhost:8080/",
          "height": 83
        },
        "outputId": "98414f39-b25b-4a4c-f040-a4c9854d11e1"
      },
      "source": [
        "laplace_transform(f, t, s)[0]"
      ],
      "execution_count": 8,
      "outputs": [
        {
          "output_type": "display_data",
          "data": {
            "text/html": [
              "<script src='https://www.gstatic.com/external_hosted/mathjax/latest/MathJax.js?config=default'></script>"
            ],
            "text/plain": [
              "<IPython.core.display.HTML object>"
            ]
          },
          "metadata": {
            "tags": []
          }
        },
        {
          "output_type": "execute_result",
          "data": {
            "image/png": "[encoded data removed]",
            "text/latex": "$$\\frac{2}{s^{2} + 16}$$",
            "text/plain": [
              "   2   \n",
              "───────\n",
              " 2     \n",
              "s  + 16"
            ]
          },
          "metadata": {
            "tags": []
          },
          "execution_count": 8
        }
      ]
    },
    {
      "cell_type": "markdown",
      "metadata": {
        "id": "Nx28HxRYEwbp",
        "colab_type": "text"
      },
      "source": [
        "### Exercises 4.1\n",
        "\n",
        "* 1, 3, 5\n",
        "* 11, 16, 17\n",
        "* 41, 42"
      ]
    },
    {
      "cell_type": "markdown",
      "metadata": {
        "id": "dg_qeb2UEwbq",
        "colab_type": "text"
      },
      "source": [
        "## 4.2 The Inverse Transform and Transforms of Derivatives"
      ]
    },
    {
      "cell_type": "markdown",
      "metadata": {
        "id": "EYDyKsBSEwbs",
        "colab_type": "text"
      },
      "source": [
        "* If $F(s)$ represents the Laplace transform of a function $f(t)$, then $f(t)$ is the **inverse Laplace transform** of $F(s)$\n",
        "\n",
        "  $f(t)=\\mathcal{L}^{-1}\\{F(s)\\}$\n",
        "  \n",
        "* $\\mathcal{L}^{-1}$ is a linear transform\n",
        "\n",
        "  $\\mathcal{L}^{-1}\\{\\alpha F(s) +\\beta G(s)\\} = \\alpha \\mathcal{L}^{-1} \\{F(s)\\} +\\beta\\mathcal{L}^{-1}\\{G(s)\\} =\\alpha f(t) +\\beta g(t)$\n",
        "  \n",
        "  **Example:** $\\text{ }$ Evaluate $\\displaystyle\\mathcal{L}^{-1}\\left\\{\\frac{-2s +6}{s^2 +4}\\right\\}$"
      ]
    },
    {
      "cell_type": "code",
      "metadata": {
        "id": "Rz9P7rF4Ewbs",
        "colab_type": "code",
        "colab": {
          "base_uri": "https://localhost:8080/",
          "height": 65
        },
        "outputId": "f35d4116-f83e-4f89-8d4f-2cb50ccf7c01"
      },
      "source": [
        "f = (-2*s +6)/(s**2 +4)\n",
        "inverse_laplace_transform(f, s, t) # theta(t) - unit step function"
      ],
      "execution_count": 9,
      "outputs": [
        {
          "output_type": "display_data",
          "data": {
            "text/html": [
              "<script src='https://www.gstatic.com/external_hosted/mathjax/latest/MathJax.js?config=default'></script>"
            ],
            "text/plain": [
              "<IPython.core.display.HTML object>"
            ]
          },
          "metadata": {
            "tags": []
          }
        },
        {
          "output_type": "execute_result",
          "data": {
            "image/png": "[encoded data removed]",
            "text/latex": "$$\\left(3 \\sin{\\left (2 t \\right )} - 2 \\cos{\\left (2 t \\right )}\\right) \\theta\\left(t\\right)$$",
            "text/plain": [
              "(3⋅sin(2⋅t) - 2⋅cos(2⋅t))⋅Heaviside(t)"
            ]
          },
          "metadata": {
            "tags": []
          },
          "execution_count": 9
        }
      ]
    },
    {
      "cell_type": "markdown",
      "metadata": {
        "id": "QA9IzHfxEwbv",
        "colab_type": "text"
      },
      "source": [
        "* **Transforms of derivatives**\n",
        "\n",
        "  $\n",
        "  \\begin{align*}\n",
        "    \\mathcal{L}\\{f'(t)\\} &= sF(s) -f(0)\\\\ \n",
        "    \\mathcal{L}\\{f''(t)\\} &= s^2F(s) -sf(0) -f'(0)\\\\ \n",
        "    &\\; \\vdots  \n",
        "  \\end{align*}\n",
        "  $\n",
        "  \n",
        "  $\\displaystyle\\mathcal{L}\\left\\{\\frac{d^n y}{dt^n}\\right\\}$ depends on $Y(s)=\\mathcal{L}\\{y(t)\\}$ and the $n-1$ derivatives of $y(t)$ evaluated at $t=0$\n",
        "  \n",
        "* If $f$ is piecewise continuous on $[0, \\infty]$ and of exponential order, then\n",
        "\n",
        "  $\\displaystyle\\lim_{s \\to \\infty} \\mathcal{L}\\{f(t)\\}=0$"
      ]
    },
    {
      "cell_type": "markdown",
      "metadata": {
        "id": "fTcPNoR2Ewbw",
        "colab_type": "text"
      },
      "source": [
        "* The Laplace transform of a linear DE with constant coefficients becomes an algebraic equation in $Y(s)$\n",
        "\n",
        "  **Example:** $\\text{ }$ Use the Laplace transform to solve the IVP\n",
        "  \n",
        "  $\\displaystyle\\frac{dy}{dt} +3y = 13\\sin 2t, \\;y(0)=6$"
      ]
    },
    {
      "cell_type": "code",
      "metadata": {
        "id": "E5vwtN9FEwbx",
        "colab_type": "code",
        "colab": {
          "base_uri": "https://localhost:8080/",
          "height": 83
        },
        "outputId": "f0b93e85-9a26-477a-9725-34f03cf7f400"
      },
      "source": [
        "Y = sympy.Function('Y')(s)\n",
        "\n",
        "eqn = sympy.Eq((s*Y -6) +3*Y, 13*laplace_transform(sympy.sin(2*t), t, s)[0])\n",
        "eqn"
      ],
      "execution_count": 10,
      "outputs": [
        {
          "output_type": "display_data",
          "data": {
            "text/html": [
              "<script src='https://www.gstatic.com/external_hosted/mathjax/latest/MathJax.js?config=default'></script>"
            ],
            "text/plain": [
              "<IPython.core.display.HTML object>"
            ]
          },
          "metadata": {
            "tags": []
          }
        },
        {
          "output_type": "execute_result",
          "data": {
            "image/png": "[encoded data removed]",
            "text/latex": "$$s Y{\\left (s \\right )} + 3 Y{\\left (s \\right )} - 6 = \\frac{26}{s^{2} + 4}$$",
            "text/plain": [
              "                        26  \n",
              "s⋅Y(s) + 3⋅Y(s) - 6 = ──────\n",
              "                       2    \n",
              "                      s  + 4"
            ]
          },
          "metadata": {
            "tags": []
          },
          "execution_count": 10
        }
      ]
    },
    {
      "cell_type": "code",
      "metadata": {
        "id": "XbpSYMRREwbz",
        "colab_type": "code",
        "colab": {
          "base_uri": "https://localhost:8080/",
          "height": 89
        },
        "outputId": "e2fd1656-497a-43a1-c42d-436b1410977a"
      },
      "source": [
        "Yofs = sympy.solve(eqn, Y)\n",
        "Yofs[0]"
      ],
      "execution_count": 11,
      "outputs": [
        {
          "output_type": "display_data",
          "data": {
            "text/html": [
              "<script src='https://www.gstatic.com/external_hosted/mathjax/latest/MathJax.js?config=default'></script>"
            ],
            "text/plain": [
              "<IPython.core.display.HTML object>"
            ]
          },
          "metadata": {
            "tags": []
          }
        },
        {
          "output_type": "execute_result",
          "data": {
            "image/png": "[encoded data removed]",
            "text/latex": "$$\\frac{2 \\left(3 s^{2} + 25\\right)}{s^{3} + 3 s^{2} + 4 s + 12}$$",
            "text/plain": [
              "     ⎛   2     ⎞    \n",
              "   2⋅⎝3⋅s  + 25⎠    \n",
              "────────────────────\n",
              " 3      2           \n",
              "s  + 3⋅s  + 4⋅s + 12"
            ]
          },
          "metadata": {
            "tags": []
          },
          "execution_count": 11
        }
      ]
    },
    {
      "cell_type": "code",
      "metadata": {
        "id": "Unox_itmEwb1",
        "colab_type": "code",
        "colab": {
          "base_uri": "https://localhost:8080/",
          "height": 33
        },
        "outputId": "c0d5628e-6ad8-4c6f-d143-443f8324d0c9"
      },
      "source": [
        "soln = inverse_laplace_transform(Yofs[0], s, t)\n",
        "soln.simplify()"
      ],
      "execution_count": 12,
      "outputs": [
        {
          "output_type": "display_data",
          "data": {
            "text/html": [
              "<script src='https://www.gstatic.com/external_hosted/mathjax/latest/MathJax.js?config=default'></script>"
            ],
            "text/plain": [
              "<IPython.core.display.HTML object>"
            ]
          },
          "metadata": {
            "tags": []
          }
        },
        {
          "output_type": "execute_result",
          "data": {
            "image/png": "[encoded data removed]",
            "text/latex": "$$3 \\sin{\\left (2 t \\right )} \\theta\\left(t\\right) - 2 \\cos{\\left (2 t \\right )} \\theta\\left(t\\right) + 8 e^{- 3 t} \\theta\\left(t\\right)$$",
            "text/plain": [
              "                                                       -3⋅t             \n",
              "3⋅sin(2⋅t)⋅Heaviside(t) - 2⋅cos(2⋅t)⋅Heaviside(t) + 8⋅ℯ    ⋅Heaviside(t)"
            ]
          },
          "metadata": {
            "tags": []
          },
          "execution_count": 12
        }
      ]
    },
    {
      "cell_type": "markdown",
      "metadata": {
        "id": "igJiY44rEwb4",
        "colab_type": "text"
      },
      "source": [
        "### Exercises 4.2\n",
        "\n",
        "* 1, 3, 5, 14, 16\n",
        "* 39, 41"
      ]
    },
    {
      "cell_type": "markdown",
      "metadata": {
        "id": "4OHNCQYfEwb4",
        "colab_type": "text"
      },
      "source": [
        "## 4.3 Translation Theorems"
      ]
    },
    {
      "cell_type": "markdown",
      "metadata": {
        "id": "4pq7YCDxEwb5",
        "colab_type": "text"
      },
      "source": [
        "* **First Translation Theorem**\n",
        "\n",
        "  If $\\mathcal{L}\\{f(t)\\}=F(s)$ and $a$ ia any real number, then \n",
        "  \n",
        "  $\\mathcal{L}\\{e^{-at}f(t)\\}=F(s+a)$\n",
        "  \n",
        "  **Example:** $\\text{ }$ Evaluate $\\mathcal{L}\\{e^{-2t}\\cos 4t\\}$ and $\\displaystyle\\mathcal{L}^{-1}\\left\\{\\frac{2s +5}{(s +3)^2}\\right\\}$"
      ]
    },
    {
      "cell_type": "markdown",
      "metadata": {
        "id": "SKh4llZSEwb6",
        "colab_type": "text"
      },
      "source": [
        "* **Second Translation Theorem**\n",
        "\n",
        "  If $\\mathcal{L}\\{f(t)\\}=F(s)$ and $a >0$, then \n",
        "  \n",
        "  $\\mathcal{L}\\{f(t -a)\\mathcal{U}(t -a)\\}=e^{-as}F(s)$\n",
        "  \n",
        "  **Alternative Form**\n",
        "  \n",
        "  $\\displaystyle\\mathcal{L}\\{g(t)\\mathcal{U}(t -a)\\}=\\int_a^\\infty e^{-st} g(t)\\,dt=\\int_0^\\infty e^{-s(u+a)} g(u +a) \\,du=e^{-as} \\mathcal{L}\\{g(t+a)\\}$\n",
        "  \n",
        "  **Example:** $\\text{ }$ Solve $y' +y = f(t)$, $y(0)=5$, where $f(t)=\\left\\{\\begin{matrix}\n",
        "\\;\\;\\;\\;\\;\\;\\, 0, & 0 \\leq t < \\pi\\\\ \n",
        "3\\cos t, & \\;\\;\\;\\;\\;t \\geq \\pi\n",
        "\\end{matrix}\\right.$"
      ]
    },
    {
      "cell_type": "code",
      "metadata": {
        "id": "ROA5OUw1Ewb6",
        "colab_type": "code",
        "colab": {
          "base_uri": "https://localhost:8080/",
          "height": 33
        },
        "outputId": "cca8409d-86cd-4f69-91fa-3880238e5de8"
      },
      "source": [
        "Y = sympy.Function('Y')(s)\n",
        "F = laplace_transform(3*sympy.cos(t), t, s)[0] *laplace_transform(sympy.Heaviside(t -sympy.pi), t, s)[0]\n",
        "\n",
        "Yofs = sympy.solve(sympy.Eq((s*Y -5) +Y, F), Y)\n",
        "soln = inverse_laplace_transform(Yofs[0], s, t)\n",
        "soln.simplify()"
      ],
      "execution_count": 13,
      "outputs": [
        {
          "output_type": "display_data",
          "data": {
            "text/html": [
              "<script src='https://www.gstatic.com/external_hosted/mathjax/latest/MathJax.js?config=default'></script>"
            ],
            "text/plain": [
              "<IPython.core.display.HTML object>"
            ]
          },
          "metadata": {
            "tags": []
          }
        },
        {
          "output_type": "execute_result",
          "data": {
            "image/png": "[encoded data removed]",
            "text/latex": "$$\\frac{e^{- t}}{2} \\left(3 \\sqrt{2} e^{t} \\cos{\\left (t + \\frac{\\pi}{4} \\right )} \\theta\\left(t - \\pi\\right) + 10 \\theta\\left(t\\right) + 3 e^{\\pi} \\theta\\left(t - \\pi\\right)\\right)$$",
            "text/plain": [
              "⎛      t    ⎛    π⎞                                         π                 \n",
              "⎜3⋅√2⋅ℯ ⋅cos⎜t + ─⎟⋅Heaviside(t - π) + 10⋅Heaviside(t) + 3⋅ℯ ⋅Heaviside(t - π)\n",
              "⎝           ⎝    4⎠                                                           \n",
              "──────────────────────────────────────────────────────────────────────────────\n",
              "                                         2                                    \n",
              "\n",
              "⎞  -t\n",
              "⎟⋅ℯ  \n",
              "⎠    \n",
              "─────\n",
              "     "
            ]
          },
          "metadata": {
            "tags": []
          },
          "execution_count": 13
        }
      ]
    },
    {
      "cell_type": "markdown",
      "metadata": {
        "id": "l4k-5YMpEwb9",
        "colab_type": "text"
      },
      "source": [
        "### Exercises 4.3\n",
        "\n",
        "* 1, 4, 7, 17, 19\n",
        "* 21, 23\n",
        "* 37, 39, 43, 45\n",
        "* 69, 70"
      ]
    },
    {
      "cell_type": "markdown",
      "metadata": {
        "id": "F2rs1AbOEwb-",
        "colab_type": "text"
      },
      "source": [
        "## 4.4 Additional Operational Properties"
      ]
    },
    {
      "cell_type": "markdown",
      "metadata": {
        "id": "34I-kecYEwb_",
        "colab_type": "text"
      },
      "source": [
        "* **Derivatives of Transforms:** $\\text{ }$ If $F(s)=\\mathcal{L}\\{f(t)\\}$ and $n=1,2,\\cdots$, then\n",
        "\n",
        "  $\\displaystyle\\mathcal{L}\\{t^nf(t)\\}=(-1)^n \\frac{d^n}{ds^n} F(s)$\n",
        "  \n",
        "  **Example:** $\\text{ }$ Evaluate $\\mathcal{L}\\{t\\sin \\omega t\\}$\n",
        "  \n",
        "  **Example:** $\\text{ }$ Solve $x'' +16x =\\cos 4t, \\; x(0)=1, \\; x'(0)=1$"
      ]
    },
    {
      "cell_type": "markdown",
      "metadata": {
        "id": "cOC2QpVcEwb_",
        "colab_type": "text"
      },
      "source": [
        "* **Convolution Theorem:** $\\text{ }$ $\\displaystyle f*g=\\int_0^t f(\\tau)g(t -\\tau)\\, d\\tau$\n",
        "\n",
        "  $\\mathcal{L}\\{f*g\\}=\\mathcal{L}\\{f(t)\\} \\mathcal{L}\\{g(t)\\} =F(s) G(s)$\n",
        "  \n",
        "  **Example:** $\\text{ }$ Evaluate $\\displaystyle\\mathcal{L}^{-1}\\left\\{\\frac{1}{(s^2 +\\omega^2)^2}\\right\\}$\n",
        "  \n",
        "  **Example:** $\\text{ }$ Evaluate $\\displaystyle\\mathcal{L} \\left\\{ \\int_0^t f(\\tau)\\, d\\tau \\right\\}$\n",
        "  \n",
        "  **Example:** $\\text{ }$ Solve $\\displaystyle f(t) =3t^2 -e^{-t} -\\int_0^t f(\\tau)\\, e^{t -\\tau}\\, d\\tau\\;$ for $f(t)$"
      ]
    },
    {
      "cell_type": "markdown",
      "metadata": {
        "id": "TQ9UVloUEwcA",
        "colab_type": "text"
      },
      "source": [
        "* **Transform of a Periodic Function:** $\\text{ }$ $f(t+T)=f(t)$\n",
        "\n",
        "  $\\displaystyle\\mathcal{L}\\{f(t)\\}=\\frac{1}{1-e^{-sT}} \\int_0^T e^{-st} f(t) \\,dt$\n",
        "  \n",
        "  **Example:** $\\text{ }$ Find the Laplace transform of the periodic function\n",
        "  \n",
        "  ![Square wave](https://github.com/SeoulTechPSE/EngMath/blob/master/figures/ch04_figure01.png?raw=1)\n",
        "  \n",
        "  $\\displaystyle\\mathcal{L}\\{E(t)\\}=\\frac{1}{1 -e^{-2s}} \\int_0^2 e^{-st} E(t)\\,dt=\\frac{1}{s(1 +e^{-s})}$"
      ]
    },
    {
      "cell_type": "markdown",
      "metadata": {
        "id": "oadkPJRaEwcB",
        "colab_type": "text"
      },
      "source": [
        "### Exercises 4.4\n",
        "\n",
        "* 1, 3, 7\n",
        "* 9, 11\n",
        "* 23, 25, 29\n",
        "* 41, 50, 57, 63, 64\n",
        "* 68, 69"
      ]
    },
    {
      "cell_type": "markdown",
      "metadata": {
        "id": "vUfxWDLeEwcB",
        "colab_type": "text"
      },
      "source": [
        "## 4.5 The Dirac Delta Function"
      ]
    },
    {
      "cell_type": "markdown",
      "metadata": {
        "id": "jzsQt7xMEwcD",
        "colab_type": "text"
      },
      "source": [
        "* **Unit Impulse** \n",
        "  \n",
        "  $\n",
        "  \\delta_a(t-t_0) = \\left\\{\\begin{matrix}\n",
        "    0, & \\;\\;\\;\\;\\;\\; 0 \\leq t < t_0 -a\\\\ \n",
        "    \\frac{1}{2a}, & t_0 -a \\leq t \\leq t_0 +a\\\\ \n",
        "    0, & \\;\\; t \\geq t_0 +a\n",
        "  \\end{matrix}\\right.\n",
        "  $\n",
        "  \n",
        "> <img src=\"https://github.com/SeoulTechPSE/EngMath/blob/master/figures/ch04_figure02.png?raw=1\" width=\"200\">"
      ]
    },
    {
      "cell_type": "markdown",
      "metadata": {
        "id": "TDkrIG3DEwcE",
        "colab_type": "text"
      },
      "source": [
        "* **The Dirac Delta Function**\n",
        "\n",
        "  $\\displaystyle\\delta(t -t_0)=\\lim_{a \\to 0} \\,\\delta_a(t -t_0)$\n",
        "  \n",
        "  $\\displaystyle\\mathcal{L}\\{\\delta(t -t_0)\\}=\\lim_{a \\to 0} \\mathcal{L}\\{\\delta_a(t -t_0)\\}=e^{-st_0}\\lim_{a \\to 0} \\left(\\frac{e^{sa} -e^{-sa}}{2sa}\\right)=e^{-st_0}$\n",
        "  \n",
        "  When $t_0=0$, $\\displaystyle\\mathcal{L}\\{\\delta(t)\\}=1$\n",
        "  \n",
        "  **Example:** $\\text{ }$ Solve $y'' +y=4\\delta(t -2\\pi)$ subject to $y(0)=1, \\;y'(0)=0$"
      ]
    },
    {
      "cell_type": "markdown",
      "metadata": {
        "id": "iPk9kzhiEwcE",
        "colab_type": "text"
      },
      "source": [
        "### Exercises 4.5\n",
        "\n",
        "* 1, 3, 5"
      ]
    },
    {
      "cell_type": "markdown",
      "metadata": {
        "id": "NMM5af9EEwcG",
        "colab_type": "text"
      },
      "source": [
        "## 4.6 Systems of Linear Differential Equations"
      ]
    },
    {
      "cell_type": "markdown",
      "metadata": {
        "id": "UPm8zKysEwcH",
        "colab_type": "text"
      },
      "source": [
        "When initial conditions are specified, the Laplace transform reduces a system of linear DEs to a set of simultaneous algebraic equations in the transformed functions\n",
        "\n",
        "**Example:** $\\text{ } $ Double Pendulum\n",
        "\n",
        " >![Double pendulum](https://github.com/SeoulTechPSE/EngMath/blob/master/figures/ch04_figure03.png?raw=1)\n",
        "\n",
        " For small displacements $\\theta_1$ and $\\theta_2$,\n",
        "\n",
        " >$\\begin{align*}\n",
        "(m_1 +m_2) l_1 \\ddot{\\theta_1} +m_2 l_2 \\ddot{\\theta_2} +(m_1 +m_2) g \\theta_1 &= 0\\\\ \n",
        " l_2 \\ddot{\\theta_2} +l_1 \\ddot{\\theta_1} +g \\theta_2 &= 0\n",
        "\\end{align*}$\n",
        "\n",
        "Solve system when $m_1=3$, $m_2=1$, $l_1=l_2=16$, $\\theta_1(0) = 1$, $\\theta_2(0)=-1$, $\\dot{\\theta_1}(0)=0$, and $\\dot{\\theta_2}(0)=0$"
      ]
    },
    {
      "cell_type": "markdown",
      "metadata": {
        "id": "BMiiex19EwcK",
        "colab_type": "text"
      },
      "source": [
        "### Exercises 4.6\n",
        "\n",
        "* 1, 3, 5, 14"
      ]
    }
  ]
}