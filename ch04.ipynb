{
 "cells": [
  {
   "cell_type": "markdown",
   "metadata": {},
   "source": [
    "# Chapter 4. The Laplace Transform"
   ]
  },
  {
   "cell_type": "markdown",
   "metadata": {},
   "source": [
    "### Contents\n",
    "\n",
    "* Definition of the Laplace Transform\n",
    "* The Inverse Transform and Transforms 0f Derivatives\n",
    "* Translation Theorems\n",
    "* Additional Operational Properties\n",
    "* The Dirac Delta Function\n",
    "* Systems of Linear Differential Equations"
   ]
  },
  {
   "cell_type": "markdown",
   "metadata": {},
   "source": [
    "##  4.1 Definition of the Laplace Transform"
   ]
  },
  {
   "cell_type": "markdown",
   "metadata": {},
   "source": [
    "* If $f$ be a function defined for $t \\geq 0$, then the *integral*\n",
    "\n",
    " $\\displaystyle\\mathcal{L}\\{f(t)\\} =\\int_0^\\infty f(t) e^{-st}\\, dt =F(s)$\n",
    "\n",
    " is the **Laplace Transform** of $f$ provided the integral converges. The result is a function of $s$\n",
    " \n",
    " **Example:** Evaluate $\\mathcal{L}\\{1\\}$, $\\mathcal{L}\\{t\\}$, and $\\mathcal{L}\\{e^{-3t}\\}$\n",
    " \n",
    " **Example:** Evaluate $\\mathcal{L}\\{f(t)\\}$ for $\\displaystyle f(t) = \\left\\{\\begin{matrix}\n",
    "0, & 0 \\leq  t < 3\\\\ \n",
    "2, & t \\geq 3\n",
    "\\end{matrix}\\right.$"
   ]
  },
  {
   "cell_type": "markdown",
   "metadata": {},
   "source": [
    "* $\\mathcal{L}$ is a linear transform\n",
    "\n",
    "  $\\mathcal{L}\\{\\alpha f(t) +\\beta g(t)\\} = \\alpha \\mathcal{L} \\{f(t)\\} +\\beta\\mathcal{L}\\{g(t)\\} =\\alpha F(s) +\\beta G(s)$\n",
    "  \n",
    "  **Example:** Find $\\mathcal{L}\\{f(t)\\}$ by first using an appropriate trigonometric identity $f(t)=\\sin 2t \\cos 2t$"
   ]
  },
  {
   "cell_type": "markdown",
   "metadata": {},
   "source": [
    "### Exercises 4.1\n",
    "\n",
    "* 1"
   ]
  },
  {
   "cell_type": "markdown",
   "metadata": {},
   "source": [
    "## 4.2 The Inverse Transform and Transforms of Derivatives"
   ]
  },
  {
   "cell_type": "markdown",
   "metadata": {},
   "source": [
    "* If $F(s)$ represents the Laplace transform of a function $f(t)$, then $f(t)$ is the **inverse Laplace transform** of $F(s)$\n",
    "\n",
    "  $f(t)=\\mathcal{L}^{-1}\\{F(s)\\}$\n",
    "  \n",
    "* $\\mathcal{L}^{-1}$ is a linear transform\n",
    "\n",
    "  $\\mathcal{L}^{-1}\\{\\alpha F(s) +\\beta G(s)\\} = \\alpha \\mathcal{L}^{-1} \\{F(s)\\} +\\beta\\mathcal{L}^{-1}\\{G(s)\\} =\\alpha f(t) +\\beta g(t)$\n",
    "  \n",
    "  **Example:** Evaluate $\\displaystyle\\mathcal{L}^{-1}\\left\\{\\frac{-2s +6}{s^2 +4}\\right\\}$"
   ]
  },
  {
   "cell_type": "markdown",
   "metadata": {},
   "source": [
    "* Transforms of derivatives\n",
    "\n",
    "  $\n",
    "  \\begin{align*}\n",
    "    \\mathcal{L}\\{f'(t)\\} &= sF(s) -f(0)\\\\ \n",
    "    \\mathcal{L}\\{f''(t)\\} &= s^2F(s) -sf(0) -f'(0)\\\\ \n",
    "    &\\; \\vdots  \n",
    "  \\end{align*}\n",
    "  $\n",
    "  \n",
    "  $\\mathcal{L}\\left\\{\\frac{d^n y}{dt^n}\\right\\}$ depends on $Y(s)=\\mathcal{L}\\{y(t)\\}$ and the $n-1$ derivatives of $y(t)$ evaluated at $t=0$\n",
    "  \n",
    "* If $f$ is piecewise continuous on $[0, \\infty]$ and of exponential order, then\n",
    "\n",
    "  $\\displaystyle\\lim_{s \\to \\infty} \\mathcal{L}\\{f(t)\\}=0$"
   ]
  },
  {
   "cell_type": "markdown",
   "metadata": {},
   "source": [
    "* The Laplace transform of a linear DE with constant coefficients becomes an algebraic equation in $Y(s)$\n",
    "\n"
   ]
  },
  {
   "cell_type": "code",
   "execution_count": null,
   "metadata": {},
   "outputs": [],
   "source": []
  }
 ],
 "metadata": {
  "kernelspec": {
   "display_name": "Python 3",
   "language": "python",
   "name": "python3"
  },
  "language_info": {
   "codemirror_mode": {
    "name": "ipython",
    "version": 3
   },
   "file_extension": ".py",
   "mimetype": "text/x-python",
   "name": "python",
   "nbconvert_exporter": "python",
   "pygments_lexer": "ipython3",
   "version": "3.7.2"
  }
 },
 "nbformat": 4,
 "nbformat_minor": 2
}
