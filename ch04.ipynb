{
 "cells": [
  {
   "cell_type": "markdown",
   "metadata": {},
   "source": [
    "# Chapter 4. The Laplace Transform"
   ]
  },
  {
   "cell_type": "markdown",
   "metadata": {},
   "source": [
    "### Contents\n",
    "\n",
    "* Definition of the Laplace Transform\n",
    "* The Inverse Transform and Transforms 0f Derivatives\n",
    "* Translation Theorems\n",
    "* Additional Operational Properties\n",
    "* The Dirac Delta Function\n",
    "* Systems of Linear Differential Equations"
   ]
  },
  {
   "cell_type": "markdown",
   "metadata": {},
   "source": [
    "##  4.1 Definition of the Laplace Transform"
   ]
  },
  {
   "cell_type": "markdown",
   "metadata": {},
   "source": [
    "* If $f$ be a function defined for $t \\geq 0$, then the *integral*\n",
    "\n",
    " $\\displaystyle\\mathcal{L}\\{f(t)\\} =\\int_0^\\infty f(t) e^{-st}\\, dt =F(s)$\n",
    "\n",
    " is the **Laplace Transform** of $f$ provided the integral converges. The result is a function of $s$\n",
    " \n",
    " **Example:** Evaluate $\\mathcal{L}\\{1\\}$, $\\mathcal{L}\\{t\\}$, and $\\mathcal{L}\\{e^{-3t}\\}$\n",
    " \n",
    " **Example:** Evaluate $\\mathcal{L}\\{f(t)\\}$ for $\\displaystyle f(t) = \\left\\{\\begin{matrix}\n",
    "0, & 0 \\leq  t < 3\\\\ \n",
    "2, & \\;\\;\\;\\;\\;t \\geq 3\n",
    "\\end{matrix}\\right.$"
   ]
  },
  {
   "cell_type": "markdown",
   "metadata": {},
   "source": [
    "* $\\mathcal{L}$ is a linear transform\n",
    "\n",
    "  $\\mathcal{L}\\{\\alpha f(t) +\\beta g(t)\\} = \\alpha \\mathcal{L} \\{f(t)\\} +\\beta\\mathcal{L}\\{g(t)\\} =\\alpha F(s) +\\beta G(s)$\n",
    "  \n",
    "  **Example:** Find $\\mathcal{L}\\{f(t)\\}$ by first using an appropriate trigonometric identity $f(t)=\\sin 2t \\cos 2t$"
   ]
  },
  {
   "cell_type": "markdown",
   "metadata": {},
   "source": [
    "### Exercises 4.1\n",
    "\n",
    "* 1, 3, 5\n",
    "* 11, 16, 17\n",
    "* 41, 42"
   ]
  },
  {
   "cell_type": "markdown",
   "metadata": {},
   "source": [
    "## 4.2 The Inverse Transform and Transforms of Derivatives"
   ]
  },
  {
   "cell_type": "markdown",
   "metadata": {},
   "source": [
    "* If $F(s)$ represents the Laplace transform of a function $f(t)$, then $f(t)$ is the **inverse Laplace transform** of $F(s)$\n",
    "\n",
    "  $f(t)=\\mathcal{L}^{-1}\\{F(s)\\}$\n",
    "  \n",
    "* $\\mathcal{L}^{-1}$ is a linear transform\n",
    "\n",
    "  $\\mathcal{L}^{-1}\\{\\alpha F(s) +\\beta G(s)\\} = \\alpha \\mathcal{L}^{-1} \\{F(s)\\} +\\beta\\mathcal{L}^{-1}\\{G(s)\\} =\\alpha f(t) +\\beta g(t)$\n",
    "  \n",
    "  **Example:** Evaluate $\\displaystyle\\mathcal{L}^{-1}\\left\\{\\frac{-2s +6}{s^2 +4}\\right\\}$"
   ]
  },
  {
   "cell_type": "markdown",
   "metadata": {},
   "source": [
    "* **Transforms of derivatives**\n",
    "\n",
    "  $\n",
    "  \\begin{align*}\n",
    "    \\mathcal{L}\\{f'(t)\\} &= sF(s) -f(0)\\\\ \n",
    "    \\mathcal{L}\\{f''(t)\\} &= s^2F(s) -sf(0) -f'(0)\\\\ \n",
    "    &\\; \\vdots  \n",
    "  \\end{align*}\n",
    "  $\n",
    "  \n",
    "  $\\mathcal{L}\\left\\{\\frac{d^n y}{dt^n}\\right\\}$ depends on $Y(s)=\\mathcal{L}\\{y(t)\\}$ and the $n-1$ derivatives of $y(t)$ evaluated at $t=0$\n",
    "  \n",
    "* If $f$ is piecewise continuous on $[0, \\infty]$ and of exponential order, then\n",
    "\n",
    "  $\\displaystyle\\lim_{s \\to \\infty} \\mathcal{L}\\{f(t)\\}=0$"
   ]
  },
  {
   "cell_type": "markdown",
   "metadata": {},
   "source": [
    "* The Laplace transform of a linear DE with constant coefficients becomes an algebraic equation in $Y(s)$\n",
    "\n",
    "  **Example:** Use the Laplace transform to solve the IVP\n",
    "  \n",
    "  $\\frac{dy}{dt} +3y = 13\\sin 2t, \\;y(0)=6$\n"
   ]
  },
  {
   "cell_type": "markdown",
   "metadata": {},
   "source": [
    "### Exercises 4.2\n",
    "\n",
    "* 1, 3, 5, 14, 16\n",
    "* 39, 41"
   ]
  },
  {
   "cell_type": "markdown",
   "metadata": {},
   "source": [
    "## 4.3 Translation Theorems"
   ]
  },
  {
   "cell_type": "markdown",
   "metadata": {},
   "source": [
    "* **First Translation Theorem**\n",
    "\n",
    "  If $\\mathcal{L}\\{f(t)\\}=F(s)$ and $a$ ia any real number, then \n",
    "  \n",
    "  $\\mathcal{L}\\{e^{-at}f(t)\\}=F(s+a)$\n",
    "  \n",
    "  **Example:** Evaluate $\\mathcal{L}\\{e^{-2t}\\cos 4t\\}$ and $\\displaystyle\\mathcal{L}^{-1}\\left\\{\\frac{2s +5}{(s +3)^2}\\right\\}$"
   ]
  },
  {
   "cell_type": "markdown",
   "metadata": {},
   "source": [
    "* **Second Translation Theorem**\n",
    "\n",
    "  If $\\mathcal{L}\\{f(t)\\}=F(s)$ and $a >0$, then \n",
    "  \n",
    "  $\\mathcal{L}\\{f(t -a)\\mathcal{U}(t -a)\\}=e^{-as}F(s)$\n",
    "  \n",
    "  **Alternative Form**\n",
    "  \n",
    "  $\\displaystyle\\mathcal{L}\\{g(t)\\mathcal{U}(t -a)\\}=\\int_a^\\infty e^{-st} g(t)\\,dt=\\int_0^\\infty e^{-s(u+a)} g(u +a) \\,du=e^{-as} \\mathcal{L}\\{g(t+a)\\}$\n",
    "  \n",
    "  **Example:** Solve $y' +y = f(t)$, $y(0)=5$, where $f(t)=\\left\\{\\begin{matrix}\n",
    "\\;\\;\\;\\;\\;\\;\\, 0, & 0 \\leq t < \\pi\\\\ \n",
    "3\\cos t, & \\;\\;\\;\\;\\;t \\geq \\pi\n",
    "\\end{matrix}\\right.$"
   ]
  },
  {
   "cell_type": "markdown",
   "metadata": {},
   "source": [
    "### Exercises 4.3\n",
    "\n",
    "* 1, 4, 7, 17, 19\n",
    "* 21, 23\n",
    "* 37, 39, 43, 45\n",
    "* 69, 70"
   ]
  },
  {
   "cell_type": "markdown",
   "metadata": {},
   "source": [
    "## 4.4 Additional Operational Properties"
   ]
  },
  {
   "cell_type": "markdown",
   "metadata": {},
   "source": [
    "* **Derivatives of Transforms:** If $F(s)=\\mathcal{L}\\{f(t)\\}$ and $n=1,2,\\cdots$, then\n",
    "\n",
    "  $\\displaystyle\\mathcal{L}\\{t^nf(t)\\}=(-1)^n \\frac{d^n}{ds^n} F(s)$\n",
    "  \n",
    "  **Example:** Evaluate $\\mathcal{L}\\{t\\sin \\omega t\\}$\n",
    "  \n",
    "  **Example:** Solve $x'' +16x =\\cos 4t, \\; x(0)=1, \\; x'(0)=1$"
   ]
  },
  {
   "cell_type": "markdown",
   "metadata": {},
   "source": [
    "* **Convolution Theorem:** $\\displaystyle f*g=\\int_0^t f(\\tau)g(t -\\tau)\\, d\\tau$\n",
    "\n",
    "  $\\mathcal{L}\\{f*g\\}=\\mathcal{L}\\{f(t)\\} \\mathcal{L}\\{g(t)\\} =F(s) G(s)$\n",
    "  \n",
    "  **Example:** Evaluate $\\displaystyle\\mathcal{L}^{-1}\\left\\{\\frac{1}{(s^2 +\\omega^2)^2}\\right\\}$\n",
    "  \n",
    "  **Example:** Evaluate $\\displaystyle\\mathcal{L} \\left\\{ \\int_0^t f(\\tau)\\, d\\tau \\right\\}$\n",
    "  \n",
    "  **Example:** Solve $\\displaystyle f(t) =3t^2 -e^{-t} -\\int_0^t f(\\tau) e^{t -\\tau}\\, d\\tau$ for $f(t)$"
   ]
  },
  {
   "cell_type": "markdown",
   "metadata": {},
   "source": [
    "* **Transform of a Periodic Function:** $f(t+T)=f(t)$ "
   ]
  },
  {
   "cell_type": "code",
   "execution_count": null,
   "metadata": {},
   "outputs": [],
   "source": []
  }
 ],
 "metadata": {
  "kernelspec": {
   "display_name": "Python 3",
   "language": "python",
   "name": "python3"
  },
  "language_info": {
   "codemirror_mode": {
    "name": "ipython",
    "version": 3
   },
   "file_extension": ".py",
   "mimetype": "text/x-python",
   "name": "python",
   "nbconvert_exporter": "python",
   "pygments_lexer": "ipython3",
   "version": "3.7.2"
  }
 },
 "nbformat": 4,
 "nbformat_minor": 2
}
