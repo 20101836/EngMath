{
 "cells": [
  {
   "cell_type": "markdown",
   "metadata": {},
   "source": [
    "# Chapter 7. Vectors"
   ]
  },
  {
   "cell_type": "markdown",
   "metadata": {},
   "source": [
    "### Contents\n",
    "\n",
    "* Vectors in 2-Space\n",
    "* Vectors in 3-Space\n",
    "* Dot Product\n",
    "* Cross Product\n",
    "* Lines and Plains in 3-Space\n",
    "* Vector Spaces\n",
    "* Gram-Schmidt Orthogonalization Process"
   ]
  },
  {
   "cell_type": "markdown",
   "metadata": {},
   "source": [
    "## 7.1 Vectors in 2-Space"
   ]
  },
  {
   "cell_type": "markdown",
   "metadata": {},
   "source": [
    "* We distinguish two important quantities: **scalars** and **vectors**\n",
    "    * A scalar is simply a real number or a quantity that has *magnitude*\n",
    "    * A vector is usually described as a quantity that has both *magnitude* and *direction*"
   ]
  },
  {
   "cell_type": "markdown",
   "metadata": {},
   "source": [
    "* Equal, Scalar Multiple\n",
    "\n",
    "<img src=\"figures/ch07_figure00.png\" alt=\"Equal\" style=\"width:250px; float:left\"/>\n",
    "\n",
    "<img src=\"figures/ch07_figure01.png\" alt=\"Parallel_Vectors\" style=\"width:250px; float:left\"/>"
   ]
  },
  {
   "cell_type": "markdown",
   "metadata": {},
   "source": [
    "* Addition and Subtraction\n",
    "\n",
    "<img src=\"figures/ch07_figure02.png\" alt=\"Addition\" style=\"width:250px; float:left\"/>\n",
    "\n",
    "<img src=\"figures/ch07_figure03.png\" alt=\"Subttraction\" style=\"width:300px; float:left\"/> "
   ]
  },
  {
   "cell_type": "markdown",
   "metadata": {},
   "source": [
    "* Vectors in a Coordinate Plane\n",
    "\n",
    " ![Components](figures/ch07_figure04.png)\n",
    " \n",
    " $\\mathbf{a}=\\left \\langle a_1, a_2 \\right \\rangle$\n",
    " \n",
    " Let $\\mathbf{a}=\\left \\langle a_1, a_2 \\right \\rangle$ and $\\mathbf{b}=\\left \\langle b_1, b_2 \\right \\rangle$ \n",
    " be vectors in $\\mathbb{R}^2$\n",
    "\n",
    "    * Addition: $\\mathbf{a} +\\mathbf{b} =\\left \\langle a_1 +b_1, a_2 +b_2 \\right \\rangle$\n",
    "    * Scalar multiplication: $k\\mathbf{a} =\\left \\langle k a_1, k a_2 \\right \\rangle$\n",
    "    * Equality: $\\mathbf{a} =\\mathbf{b}$ if and only if $a_1 =b_1, \\;a_2=b_2$"
   ]
  },
  {
   "cell_type": "markdown",
   "metadata": {},
   "source": [
    "* Properties of Vectors\n",
    "\n",
    "    * $\\mathbf{a} +\\mathbf{b} = \\mathbf{b} +\\mathbf{a}$\n",
    "    * $\\mathbf{a} +(\\mathbf{b} +\\mathbf{c}) = (\\mathbf{a} +\\mathbf{b}) +\\mathbf{c}$\n",
    "    * $\\mathbf{a} +\\mathbf{0} = \\mathbf{a}$\n",
    "    * $\\mathbf{a} +(-\\mathbf{a}) = \\mathbf{0}$\n",
    "    * $k(\\mathbf{a} +\\mathbf{b}) = k\\mathbf{a} +k\\mathbf{b}$\n",
    "    * $(k_1 +k_2)\\mathbf{a} = k_1\\mathbf{a} +k_2\\mathbf{a}$\n",
    "    * $k_1(k_2 \\mathbf{a}) = (k_1 k_2) \\mathbf{a}$\n",
    "    * $1\\mathbf{a} = \\mathbf{a}$\n",
    "    * $0\\mathbf{a} = \\mathbf{0}$    "
   ]
  },
  {
   "cell_type": "markdown",
   "metadata": {},
   "source": [
    "* Magnitude, Unit Vector\n",
    "\n",
    "    $\\mathbf{a} =\\left \\langle a_1, a_2 \\right \\rangle$ to be $\\left \\| \\mathbf{a} \\right \\| = \\sqrt{a_1^2 +a_2^2}$\n",
    "    \n",
    "    $\\displaystyle\\mathbf{u} = \\frac{\\mathbf{a}}{\\left \\| \\mathbf{a} \\right \\|}$"
   ]
  },
  {
   "cell_type": "markdown",
   "metadata": {},
   "source": [
    "* $\\mathbf{i}$, $\\mathbf{j}$ vectors\n",
    "\n",
    "    $\\mathbf{a} =\\left \\langle a_1, a_2 \\right \\rangle =\\left \\langle a_1, 0 \\right \\rangle +\\left \\langle 0, a_2 \\right \\rangle =\n",
    "     a_1 \\left \\langle 1, 0 \\right \\rangle +a_2 \\left \\langle 0, 1 \\right \\rangle = a_1 \\mathbf{i} +a_2 \\mathbf{j}$"
   ]
  },
  {
   "cell_type": "markdown",
   "metadata": {},
   "source": [
    "## 7.2 Vectors in 3-Space"
   ]
  },
  {
   "cell_type": "markdown",
   "metadata": {},
   "source": [
    "<img src=\"figures/ch07_figure06.png\" alt=\"3_space\" style=\"width:250px; float:left\"/> "
   ]
  },
  {
   "cell_type": "markdown",
   "metadata": {},
   "source": [
    "* Octants\n",
    "\n",
    "| Axes | Coordinates | Plane | Coordinates |\n",
    "|------|-------------|-------|-------------|\n",
    "| $x$ | $(a, 0, 0)$ | $xy$ | $(a, b, 0)$|\n",
    "| $y$ | $(0, b, 0)$ | $yz$ | $(0, b, c)$|\n",
    "| $z$ | $(0, 0, c)$ | $xz$ | $(a, 0, c)$|\n",
    "\n",
    "<img src=\"figures/ch07_figure05.png\" alt=\"Octants\" style=\"width:250px; float:left\"/> "
   ]
  },
  {
   "cell_type": "markdown",
   "metadata": {},
   "source": [
    "* Let $\\mathbf{a}=\\left \\langle a_1, a_2, a_3 \\right \\rangle$ and $\\mathbf{b}=\\left \\langle b_1, b_2, b_3 \\right \\rangle$ \n",
    "be vectors in $\\mathbb{R}^3$\n",
    "\n",
    "  * Addition: $\\mathbf{a} +\\mathbf{b} =\\left \\langle a_1 +b_1, a_2 +b_2, a_3 +b_3 \\right \\rangle$\n",
    "  * Scalar multiplication: $k\\mathbf{a} =\\left \\langle k a_1, k a_2, k a_3 \\right \\rangle$\n",
    "  * Equality: $\\mathbf{a} =\\mathbf{b}$ if and only if $a_1 =b_1, \\;a_2=b_2, \\;a_3=b_3$\n",
    "  * Negative: $-\\mathbf{b} =(-1)\\mathbf{b} =\\left \\langle -b_1, -b_2, -b_3 \\right \\rangle$\n",
    "  * Subtraction: $\\mathbf{a} -\\mathbf{b} = \\mathbf{a} +(-1)\\mathbf{b} =\\left \\langle a_1 -b_1, a_2 -b_2, a_3 -b_3 \\right \\rangle$\n",
    "  * Zero vector: $\\mathbf{0} =\\left \\langle 0, 0, 0 \\right \\rangle$\n",
    "  * Magnitude: $\\left \\| \\mathbf{a} \\right \\| =\\sqrt{a_1^2 +a_2^2 +a_3^2}$"
   ]
  },
  {
   "cell_type": "markdown",
   "metadata": {},
   "source": [
    "## 7.3 Dot Product (or inner or scalar product)"
   ]
  },
  {
   "cell_type": "markdown",
   "metadata": {},
   "source": [
    "* The dot product of two vectors Let $\\mathbf{a}=\\left \\langle a_1, a_2, a_3 \\right \\rangle$ and $\\mathbf{b}=\\left \\langle b_1, b_2, b_3 \\right \\rangle$ is\n",
    "\n",
    "  $\n",
    "  \\mathbf{a} \\cdot \\mathbf{b} = \\left\\langle a_1 b_1 + a_2 b_2 + a_3 b_3 \\right\\rangle\n",
    "  $"
   ]
  },
  {
   "cell_type": "markdown",
   "metadata": {},
   "source": [
    "* Properties of the Dot Product\n",
    "\n",
    "  * $\\mathbf{a}\\cdot\\mathbf{b} = 0$ if $\\mathbf{a}=\\mathbf{0}$ or $\\mathbf{b}=\\mathbf{0}$\n",
    "  * $\\mathbf{a}\\cdot\\mathbf{b} = \\mathbf{b}\\cdot\\mathbf{a}$\n",
    "  * $\\mathbf{a}\\cdot(\\mathbf{b} +\\mathbf{c}) = \\mathbf{a}\\cdot\\mathbf{b} +\\mathbf{a}\\cdot\\mathbf{c}$\n",
    "  * $\\mathbf{a}\\cdot(k\\mathbf{b}) = (k\\mathbf{a})\\cdot\\mathbf{b} =k(\\mathbf{a}\\cdot\\mathbf{b})$\n",
    "  * $\\mathbf{a}\\cdot\\mathbf{a} \\geq 0$\n",
    "  * $\\mathbf{a}\\cdot\\mathbf{a} =\\left \\| \\mathbf{a} \\right \\|^2$"
   ]
  },
  {
   "cell_type": "markdown",
   "metadata": {},
   "source": [
    "* Alternative Form\n",
    "\n",
    "  The dot product of two vectors $\\mathbf{a}$ and $\\mathbf{b}$ is\n",
    "  \n",
    "     $\\mathbf{a}\\cdot\\mathbf{b} =\\left\\| \\mathbf{a} \\right\\| \\left\\| \\mathbf{b} \\right\\| \\cos\\theta$\n",
    "  \n",
    "  where $\\theta$ is the angle between the vectors such that $0 \\leq \\theta \\leq \\pi$"
   ]
  },
  {
   "cell_type": "markdown",
   "metadata": {},
   "source": [
    "* Orthogonal vectors\n",
    "\n",
    "  Two nonzero vectors $\\mathbf{a}$ and $\\mathbf{b}$ are orthogonal if and only if $\\mathbf{a}\\cdot\\mathbf{b}=0$"
   ]
  },
  {
   "cell_type": "markdown",
   "metadata": {},
   "source": [
    "* Angle between two vectors\n",
    "\n",
    "  $\\displaystyle\\cos\\theta = \\frac{a_1 b_1 +a_2 b_2 + a_3 b_3}{\\left\\| \\mathbf{a}\\right\\| \\left\\| \\mathbf{b}\\right\\|}$"
   ]
  },
  {
   "cell_type": "markdown",
   "metadata": {},
   "source": [
    "* Direction cosines\n",
    "\n",
    "  <img src=\"figures/ch07_figure07.png\" alt=\"Direction_cosines\" style=\"width:250px; float:left\"/> \n",
    "  \n",
    "  $\\displaystyle\\cos\\alpha=\\frac{a_1}{\\left\\|\\mathbf{a}\\right\\|}$, $\\displaystyle\\cos\\beta=\\frac{a_2}{\\left\\|\\mathbf{a}\\right\\|}$,\n",
    "  $\\displaystyle\\cos\\gamma=\\frac{a_3}{\\left\\|\\mathbf{a}\\right\\|}$"
   ]
  },
  {
   "cell_type": "markdown",
   "metadata": {},
   "source": [
    "* Component of $\\mathbf{a}$ on $\\mathbf{b}$\n",
    "\n",
    "  To find the component of $\\mathbf{a}$ on a vector $\\mathbf{b}$, we dot $\\mathbf{a}$ with a unit vector in the direction of $\\mathbf{b}$\n",
    "  \n",
    "    <img src=\"figures/ch07_figure08.png\" alt=\"component_of_a_on_b\" style=\"width:250px; float:left\"/>\n",
    "    \n",
    "  $\\displaystyle\\text{comp}_{\\mathbf{b}} \\mathbf{a} =\\left\\| \\mathbf{a} \\right\\| \\cos\\theta\n",
    "   =\\left\\| \\mathbf{a} \\right\\| \\cos\\theta \\frac{\\left\\| \\mathbf{b} \\right\\|}{\\left\\| \\mathbf{b} \\right\\|}\n",
    "   =\\frac{\\mathbf{a}\\cdot\\mathbf{b}}{\\left\\| \\mathbf{b} \\right\\|}\n",
    "   =\\mathbf{a} \\cdot\\frac{\\mathbf{b}}{\\left\\| \\mathbf{b} \\right\\|}$"
   ]
  },
  {
   "cell_type": "markdown",
   "metadata": {},
   "source": [
    "* Projection of $\\mathbf{a}$ onto $\\mathbf{b}$\n",
    "\n",
    "    <img src=\"figures/ch07_figure09.png\" alt=\"projection_of_a_onto_b\" style=\"width:250px; float:left\"/>\n",
    "    \n",
    "    $\\displaystyle\\text{proj}_{\\mathbf{b}} \\mathbf{a} = \\left(\\text{comp}_{\\mathbf{b}} \\mathbf{a} \\right) \\left(\\frac{\\mathbf{b}}{\\left\\| \\mathbf{b} \\right\\|} \\right)\n",
    "     =\\left(\\frac{\\mathbf{a}\\cdot\\mathbf{b}}{\\mathbf{b}\\cdot\\mathbf{b}}\\right) \\mathbf{b}$"
   ]
  },
  {
   "cell_type": "markdown",
   "metadata": {},
   "source": [
    "## 7.4 Cross Product"
   ]
  },
  {
   "cell_type": "markdown",
   "metadata": {},
   "source": [
    "* Cross product of Two vectors\n",
    "\n",
    "  $\n",
    "    \\mathbf{a} \\times \\mathbf{b} = \n",
    "    \\begin{vmatrix}\n",
    "      \\mathbf{i} & \\mathbf{j} & \\mathbf{k}\\\\ \n",
    "       a_1 &  a_2 & a_3\\\\ \n",
    "       b_1 &  b_2 & b_3\n",
    "    \\end{vmatrix} =\n",
    "    \\begin{vmatrix}\n",
    "       a_2 & a_3\\\\ \n",
    "       b_2 & b_3\n",
    "    \\end{vmatrix} \\mathbf{i} -\n",
    "    \\begin{vmatrix}\n",
    "       a_1 & a_3\\\\ \n",
    "       b_1 & b_3\n",
    "    \\end{vmatrix} \\mathbf{j} +\n",
    "    \\begin{vmatrix}\n",
    "       a_1 & a_2\\\\ \n",
    "       b_1 & b_2\n",
    "    \\end{vmatrix} \\mathbf{k}    \n",
    "  $"
   ]
  },
  {
   "cell_type": "markdown",
   "metadata": {},
   "source": [
    "* Properties of the Cross Product\n",
    "\n",
    "  * $\\mathbf{a}\\times\\mathbf{b} = \\mathbf{0}$ if $\\mathbf{a}=\\mathbf{0}$ or $\\mathbf{b}=\\mathbf{0}$\n",
    "  * $\\mathbf{a}\\times\\mathbf{b} =-\\mathbf{b}\\times\\mathbf{a}$\n",
    "  * $\\mathbf{a}\\times(\\mathbf{b} +\\mathbf{c}) = (\\mathbf{a}\\times\\mathbf{b}) +(\\mathbf{a}\\times\\mathbf{c})$\n",
    "  * $(\\mathbf{a} +\\mathbf{b}) \\times\\mathbf{c} = (\\mathbf{a}\\times\\mathbf{c}) +(\\mathbf{b}\\times\\mathbf{c})$  \n",
    "  * $\\mathbf{a}\\times(k\\mathbf{b}) = (k\\mathbf{a})\\times\\mathbf{b} =k(\\mathbf{a}\\times\\mathbf{b})$\n",
    "  * $\\mathbf{a}\\times\\mathbf{a} =\\mathbf{0}$\n",
    "  * $\\mathbf{a}\\cdot(\\mathbf{a}\\times\\mathbf{b})=0$\n",
    "  * $\\mathbf{b}\\cdot(\\mathbf{a}\\times\\mathbf{b})=0$  "
   ]
  },
  {
   "cell_type": "markdown",
   "metadata": {},
   "source": [
    "* Right-Hand Rule\n",
    "\n",
    "  The vectors $\\mathbf{a}$, $\\mathbf{b}$, and $\\mathbf{a}\\times\\mathbf{b}$ form a right-hand system:\n",
    "  \n",
    "  <img src=\"figures/ch07_figure10.png\" alt=\"right_hand_rule\" style=\"width:300px; float:left\"/>"
   ]
  },
  {
   "cell_type": "markdown",
   "metadata": {},
   "source": [
    "* Alternative Form and Magnitude of the Cross Product\n",
    " \n",
    "  $\\mathbf{a}\\times\\mathbf{b} =(\\left\\| \\mathbf{a} \\right\\| \\left\\| \\mathbf{b} \\right\\| \\sin\\theta)\\mathbf{n} =\\left\\| \\mathbf{a}\\times\\mathbf{b} \\right\\| \\mathbf{n}$"
   ]
  },
  {
   "cell_type": "markdown",
   "metadata": {},
   "source": [
    "* Parallel Vectors\n",
    "\n",
    "  Two nonzero vectors $\\mathbf{a}$ and $\\mathbf{b}$ are parallel if and only if $\\mathbf{a}\\times\\mathbf{b}=\\mathbf{0}$"
   ]
  },
  {
   "cell_type": "markdown",
   "metadata": {},
   "source": [
    "* Special Products\n",
    "\n",
    "  $\\mathbf{a} \\cdot (\\mathbf{b} \\times \\mathbf{c}) =\n",
    "   \\begin{vmatrix}\n",
    "    a_1 & a_2 & a_3\\\\ \n",
    "    b_1 & b_2 & b_3\\\\ \n",
    "    c_1 & c_2 & c_3 \n",
    "   \\end{vmatrix} = (\\mathbf{a} \\times \\mathbf{b}) \\cdot \\mathbf{c}\n",
    "  $\n",
    "  \n",
    "  $\\mathbf{a} \\times (\\mathbf{b} \\times \\mathbf{c}) = (\\mathbf{a} \\cdot \\mathbf{c}) \\mathbf{b}\n",
    "   -(\\mathbf{a} \\cdot \\mathbf{b}) \\mathbf{c}\n",
    "  $"
   ]
  },
  {
   "cell_type": "markdown",
   "metadata": {},
   "source": [
    "* Areas of a parallelogram and a Trianlge \n",
    "\n",
    "  (a) $A =\\left\\|\\mathbf{a} \\times \\mathbf{b} \\right\\|$, (b) $A =\\frac{1}{2}\\left\\|\\mathbf{a} \\times \\mathbf{b} \\right\\|$\n",
    "\n",
    "  <img src=\"figures/ch07_figure11.png\" alt=\"area_parallelogram\" style=\"width:250px; float:left\"/>"
   ]
  },
  {
   "cell_type": "markdown",
   "metadata": {},
   "source": [
    "* Volume of a Parallelepiped\n",
    "\n",
    "  $V=\\left| \\mathbf{a} \\cdot (\\mathbf{b} \\times \\mathbf{c})\\right|$\n",
    "\n",
    "  <img src=\"figures/ch07_figure12.png\" alt=\"volume_parallelepiped\" style=\"width:250px; float:left\"/>"
   ]
  },
  {
   "cell_type": "markdown",
   "metadata": {},
   "source": [
    "## 7.5 Lines and Planes in 3-Space"
   ]
  },
  {
   "cell_type": "markdown",
   "metadata": {},
   "source": [
    "* Lines\n",
    "\n",
    "  <img src=\"figures/ch07_figure13.png\" alt=\"Lines\" style=\"width:300px; float:left\"/>\n",
    "\n",
    "  * "
   ]
  },
  {
   "cell_type": "code",
   "execution_count": null,
   "metadata": {},
   "outputs": [],
   "source": []
  }
 ],
 "metadata": {
  "kernelspec": {
   "display_name": "Python 3",
   "language": "python",
   "name": "python3"
  },
  "language_info": {
   "codemirror_mode": {
    "name": "ipython",
    "version": 3
   },
   "file_extension": ".py",
   "mimetype": "text/x-python",
   "name": "python",
   "nbconvert_exporter": "python",
   "pygments_lexer": "ipython3",
   "version": "3.7.2"
  }
 },
 "nbformat": 4,
 "nbformat_minor": 2
}
