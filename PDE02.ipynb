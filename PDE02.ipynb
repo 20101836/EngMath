{
 "cells": [
  {
   "cell_type": "markdown",
   "metadata": {},
   "source": [
    "## Lesson 16. The One-Dimensional Wave Equation (Hyperbolic Equations)"
   ]
  },
  {
   "cell_type": "markdown",
   "metadata": {},
   "source": [
    "We will now begin to study the second major class of PDEs, hyperbolic equations"
   ]
  },
  {
   "cell_type": "markdown",
   "metadata": {},
   "source": [
    "#### Vibrating-String Problem"
   ]
  },
  {
   "cell_type": "markdown",
   "metadata": {},
   "source": [
    "We consider the small vibrations of a string that is fastened at each end\n",
    "\n",
    "><img src=\"figures/pde02_figure01.jpg\" alt=\"Vibrating String\" style=\"width:500px\"/>\n",
    "\n",
    "To mathematically describe the vibrations of this string, we consider all the forces acting on a small section $\\Delta x$ of the string \n",
    "\n",
    "><img src=\"figures/pde02_figure02.jpg\" alt=\"Small Segment of Vibrating String\" style=\"width:400px\"/>"
   ]
  },
  {
   "cell_type": "markdown",
   "metadata": {},
   "source": [
    "If the horizontal component of tension is constant $T$, then the tension acting on each side of the string segment is given by\n",
    "\n",
    ">$T_1 \\cos\\alpha \\approx T$\n",
    "\n",
    ">$T_2 \\cos\\beta \\approx T$\n",
    "\n",
    "In the vertical component of Newton's second law, the mass of this piece $\\rho\\Delta x$ times its acceleration $u_{tt}$ will be equal to the net force on the piece. Here the tangents of the angles at the ends of the string piece are equal to the slopes at the ends $u_x$, with an additional minus sign considering the configuration of the string segment in the figure\n",
    "\n",
    ">$\\begin{align*}\n",
    " \\rho\\Delta x u_{tt} &= -T_2 \\sin\\beta +T_1 \\sin\\alpha \\\\ \n",
    " &\\Downarrow \\\\ \n",
    " \\frac{\\rho\\Delta x}{T} u_{tt} &= -\\frac{T_2 \\sin\\beta}{T_2 \\cos\\beta} +\\frac{T_1 \\sin\\alpha}{T_1 \\cos\n",
    "\\alpha} = -\\tan\\beta +\\tan\\alpha \\\\ \n",
    " &= u_x(x+\\Delta x) -u_x(x) \\\\\n",
    " &\\Downarrow \\\\\n",
    " u_{tt} &=\\frac{T}{\\rho} \\frac{u_x(x+\\Delta x) -u_x(x)}{\\Delta x} \\\\\n",
    " &\\Downarrow\\; c^2 = T/\\rho,\\;\\Delta x \\to 0 \\\\\n",
    " u_{tt} &= c^2 u_{xx}\n",
    "\\end{align*}$\n",
    "\n",
    "This is the wave equation for $u(x,t)$, and $c$ is the speed of propagation of the wave in the string:\n",
    "\n",
    ">$\\displaystyle c =\\sqrt{\\frac{T}{\\rho}}$"
   ]
  },
  {
   "cell_type": "markdown",
   "metadata": {},
   "source": [
    "## Lesson 17. The D'Alembert Solution of the Wave Equation"
   ]
  },
  {
   "cell_type": "markdown",
   "metadata": {},
   "source": [
    "If the student recalls the parabolic case, we started  solving diffusion problems when the space variable was bounded (by separation of variables),  and then went on to solve the unbounded case (where $-\\infty <x <\\infty$) by the Fourier transform. In the hyperbolic case (wave equation), we will do the opposite. We start by solving the one-dimensional wave equation in free space:\n",
    "\n",
    ">$\\displaystyle \\;\\;\\;\\;\\;\\;\\;u_{tt}=c^2 u_{xx}, \\;\\;\\;-\\infty<x<\\infty,\\; 0<t<\\infty$\n",
    "\n",
    ">$\\begin{align*}\n",
    " u(x,0)&=f(x) \\\\ \n",
    " u_t(x,0)&=g(x) \n",
    "\\end{align*},\\;\\;\\;\\;-\\infty<x<\\infty$\n",
    "\n",
    "We could solve this problem by using the Fourier transform (transforming $x$) or the Laplace transform (transforming $t$), but we will introduce yet a new technique (canonical coordinate), which will introduce the reader to several new and exciting ideas"
   ]
  },
  {
   "cell_type": "markdown",
   "metadata": {},
   "source": [
    "**STEP 1** [Replacing $(x,t)$ by new canonical coordinates $(\\xi,\\eta)$]\n",
    "\n"
   ]
  },
  {
   "cell_type": "code",
   "execution_count": null,
   "metadata": {},
   "outputs": [],
   "source": []
  }
 ],
 "metadata": {
  "kernelspec": {
   "display_name": "Python 3",
   "language": "python",
   "name": "python3"
  },
  "language_info": {
   "codemirror_mode": {
    "name": "ipython",
    "version": 3
   },
   "file_extension": ".py",
   "mimetype": "text/x-python",
   "name": "python",
   "nbconvert_exporter": "python",
   "pygments_lexer": "ipython3",
   "version": "3.6.6"
  }
 },
 "nbformat": 4,
 "nbformat_minor": 2
}
