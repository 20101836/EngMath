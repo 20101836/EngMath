{
 "cells": [
  {
   "cell_type": "markdown",
   "metadata": {},
   "source": [
    "## Lesson 16. The One-Dimensional Wave Equation (Hyperbolic Equations)"
   ]
  },
  {
   "cell_type": "markdown",
   "metadata": {},
   "source": [
    "We will now begin to study the second major class of PDEs, hyperbolic equations"
   ]
  },
  {
   "cell_type": "markdown",
   "metadata": {},
   "source": [
    "#### Vibrating-String Problem"
   ]
  },
  {
   "cell_type": "markdown",
   "metadata": {},
   "source": [
    "We consider the small vibrations of a string that is fastened at each end\n",
    "\n",
    "><img src=\"figures/pde02_figure01.jpg\" alt=\"Vibrating String\" style=\"width:500px\"/>\n",
    "\n",
    "To mathematically describe the vibrations of this string, we consider all the forces acting on a small section $\\Delta x$ of the string \n",
    "\n",
    "><img src=\"figures/pde02_figure02.jpg\" alt=\"Small Segment of Vibrating String\" style=\"width:300px\"/>"
   ]
  },
  {
   "cell_type": "markdown",
   "metadata": {},
   "source": [
    "If the horizontal component of tension is constant $T$, then the tension acting on each side of the string segment is given by\n",
    "\n",
    ">$T_1 \\cos\\alpha \\approx T$\n",
    "\n",
    ">$T_2 \\cos\\beta \\approx T$\n",
    "\n",
    "In the vertical component of Newton's second law, the mass of this piece $\\rho\\Delta x$ times its acceleration $u_{tt}$ will be equal to the net force on the piece. Here the tangents of the angles at the ends of the string piece are equal to the slopes at the ends $u_x$, with an additional minus sign considering the configuration of the string segment in the figure\n",
    "\n",
    ">$\\begin{align*}\n",
    " \\rho\\Delta x u_{tt} &= -T_2 \\sin\\beta +T_1 \\sin\\alpha \\\\ \n",
    " &\\Downarrow \\\\ \n",
    " \\frac{\\rho\\Delta x}{T} u_{tt} &= -\\frac{T_2 \\sin\\beta}{T_2 \\cos\\beta} +\\frac{T_1 \\sin\\alpha}{T_1 \\cos\n",
    "\\alpha} = -\\tan\\beta +\\tan\\alpha \\\\ \n",
    " &= u_x(x+\\Delta x) -u_x(x) \\\\\n",
    " &\\Downarrow \\\\\n",
    " u_{tt} &=\\frac{T}{\\rho} \\frac{u_x(x+\\Delta x) -u_x(x)}{\\Delta x} \\\\\n",
    " &\\Downarrow\\; c^2 = T/\\rho,\\;\\Delta x \\to 0 \\\\\n",
    " u_{tt} &= c^2 u_{xx}\n",
    "\\end{align*}$\n",
    "\n",
    "This is the wave equation for $u(x,t)$, and $c$ is the speed of propagation of the wave in the string:\n",
    "\n",
    ">$\\displaystyle c =\\sqrt{\\frac{T}{\\rho}}$"
   ]
  },
  {
   "cell_type": "markdown",
   "metadata": {},
   "source": [
    "## Lesson 17. The D'Alembert Solution of the Wave Equation"
   ]
  },
  {
   "cell_type": "markdown",
   "metadata": {},
   "source": [
    "If the student recalls the parabolic case, we started  solving diffusion problems when the space variable was bounded (by separation of variables),  and then went on to solve the unbounded case (where $-\\infty <x <\\infty$) by the Fourier transform. In the hyperbolic case (wave equation), we will do the opposite. We start by solving the one-dimensional wave equation in free space:\n",
    "\n",
    ">$\\displaystyle \\;\\;\\;\\;\\;\\;\\;u_{tt}=c^2 u_{xx}, \\;\\;\\;-\\infty<x<\\infty,\\; 0<t<\\infty\\;\\;$ (17.1)\n",
    "\n",
    ">$\\begin{align*}\n",
    " u(x,0)&=f(x) \\\\ \n",
    " u_t(x,0)&=g(x) \n",
    "\\end{align*},\\;\\;\\;\\;-\\infty<x<\\infty$\n",
    "\n",
    "We could solve this problem by using the Fourier transform (transforming $x$) or the Laplace transform (transforming $t$), but we will introduce yet a new technique (canonical coordinate), which will introduce the reader to several new and exciting ideas"
   ]
  },
  {
   "cell_type": "markdown",
   "metadata": {},
   "source": [
    "**STEP 1** [Replacing $(x,t)$ by new canonical coordinates $(\\xi,\\eta)$]\n",
    "\n",
    ">$\\begin{align*}\n",
    " u_{tt}&=c^2 u_{xx} \\\\ \n",
    " &\\Downarrow\\;\\xi=x+ct,\\;\\eta=x-ct \\\\ \n",
    " u_x&=u_\\xi \\xi_x+u_\\eta \\eta_x=u_\\xi+u_\\eta \\\\ \n",
    " u_t&= u_\\xi \\xi_t+u_\\eta \\eta_t =c(u_\\xi -u_\\eta) \\\\\n",
    " u_{xx}&= u_{\\xi\\xi}\\xi_x+u_{\\eta\\xi}\\xi_x+u_{\\xi\\eta}\\eta_x +u_{\\eta\\eta}\\eta_x\\\\\n",
    " &=u_{\\xi\\xi}+2u_{\\xi\\eta}+u_{\\eta\\eta}\\\\\n",
    " u_{tt}&= c(u_{\\xi\\xi} -u_{\\eta\\xi})\\xi_t +c(u_{\\xi\\eta} -u_{\\eta\\eta})\\eta_t\\\\\n",
    " &=c^2(u_{\\xi\\xi}-2u_{\\xi\\eta}+u_{\\eta\\eta})\\\\\n",
    " &\\Downarrow \\\\\n",
    " u_{\\xi\\eta}&=0\n",
    "\\end{align*}$"
   ]
  },
  {
   "cell_type": "markdown",
   "metadata": {},
   "source": [
    "**STEP 2** (Solving the Transformed Equations)\n",
    "\n",
    ">$\\begin{align*}\n",
    " u_{\\xi\\eta}&= 0 \\\\ \n",
    " &\\Downarrow \\\\\n",
    " \\text{Integration } &\\text{with respect to }\\xi \\\\ \n",
    " &\\Downarrow \\\\\n",
    " u_{\\eta}(\\xi,\\eta)&=\\varphi(\\eta) \\\\\n",
    " &\\Downarrow \\\\\n",
    " \\text{Integration } &\\text{with respect to }\\eta \\\\ \n",
    " &\\Downarrow \\;\\;\\phi=\\int\\varphi\\,d\\eta \\\\\n",
    " u(\\xi,\\eta)=\\phi&(\\eta) +\\psi(\\xi) \\\\\n",
    "\\end{align*}$"
   ]
  },
  {
   "cell_type": "markdown",
   "metadata": {},
   "source": [
    "**STEP 3** (Transforming back to the Original Coordinates $x$ and $t$)\n",
    "\n",
    ">$\\begin{align*}\n",
    " u(\\xi,\\eta)&=\\phi(\\eta) +\\psi(\\xi) \\\\\n",
    " &\\Downarrow\\; \\xi=x+ct, \\;\\eta=x-ct \\\\\n",
    " u(x,t)=\\phi&(x-ct) +\\psi(x+ct)\n",
    "\\end{align*}$\n",
    "\n",
    ">This is the general solution of the wave equation, and it is interesting in that it physically represents the sum of any two moving waves, each moving in opposite directions with velocity $c$"
   ]
  },
  {
   "cell_type": "markdown",
   "metadata": {},
   "source": [
    "**STEP 4** (Substituting the General Solution into the ICs)\n",
    "\n",
    ">$\\begin{align*}\n",
    " u(x,t)=\\phi(x-&ct) +\\psi(x+ct) \\\\\n",
    " &\\Downarrow \\;u(x,0)=f(x), \\;u_t(x,0)=g(x) \\\\\n",
    " \\phi(x) +\\psi&(x)=f(x) \\\\\n",
    " -c\\phi'(x) +c\\psi'&(x)=g(x) \\\\\n",
    " &\\Downarrow \\;{\\scriptstyle \\text{integrating the 2nd equation from } x_0 \\text{ to } x} \\\\\n",
    " \\phi(x) +\\psi&(x)=f(x) \\\\\n",
    " -c\\phi(x) +c\\psi&(x)=\\int_{x_0}^x g(\\xi)\\,d\\xi +C \\\\\n",
    " &\\Downarrow \\\\\n",
    " \\phi(x)=\\frac{1}{2}f(x) -&\\frac{1}{2c}\\int_{x_0}^x g(\\xi)\\,d\\xi -\\frac{C}{2c} \\\\\n",
    " \\psi(x)=\\frac{1}{2}f(x) +&\\frac{1}{2c}\\int_{x_0}^x g(\\xi)\\,d\\xi +\\frac{C}{2c} \\\\\n",
    " &\\Downarrow \\\\\n",
    " u(x,t) =\\frac{1}{2} \\left[ f(x -ct) +f(x +ct) \\right]& +\\frac{1}{2c} \\int_{x-ct}^{x+ct} g(\\xi)\\,d\\xi\n",
    "\\end{align*}$\n",
    "\n",
    ">This is what we were aiming for, and it is called the **D'Alembert solution** to (17.1) "
   ]
  },
  {
   "cell_type": "markdown",
   "metadata": {},
   "source": [
    "**Motion of a Simple Square Wave**\n",
    "\n",
    ">$\\begin{align*}\n",
    "u(x,0)&=\n",
    "\\begin{cases}\n",
    " 1 & \\;-1 < x < 1 \\\\ \n",
    " 0 & \\text{everywhere else}  \n",
    "\\end{cases} \\\\ \n",
    " u_t(x,0)&=0 \n",
    "\\end{align*}$\n",
    "\n",
    "><img src=\"figures/pde02_figure03.jpg\" alt=\"Initial Wave Decomposed into Two Traveling Waves\" style=\"width:300px\"/>"
   ]
  },
  {
   "cell_type": "markdown",
   "metadata": {},
   "source": [
    "**Initial Velocity Given**\n",
    "\n",
    "Suppose now the initial position of the string is at equilibrium and we impose an initial velocity (as in a piano string) of $\\sin x$\n",
    "\n",
    ">$\\begin{align*}\n",
    " u(x,0)&= 0\\\\ \n",
    " u_t(x,0)&=\\sin x \n",
    "\\end{align*}$"
   ]
  },
  {
   "cell_type": "code",
   "execution_count": null,
   "metadata": {},
   "outputs": [],
   "source": []
  }
 ],
 "metadata": {
  "kernelspec": {
   "display_name": "Python 3",
   "language": "python",
   "name": "python3"
  },
  "language_info": {
   "codemirror_mode": {
    "name": "ipython",
    "version": 3
   },
   "file_extension": ".py",
   "mimetype": "text/x-python",
   "name": "python",
   "nbconvert_exporter": "python",
   "pygments_lexer": "ipython3",
   "version": "3.6.6"
  }
 },
 "nbformat": 4,
 "nbformat_minor": 2
}
