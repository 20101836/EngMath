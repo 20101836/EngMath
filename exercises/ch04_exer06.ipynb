{
 "cells": [
  {
   "cell_type": "markdown",
   "metadata": {},
   "source": [
    "[![Open In Colab](https://colab.research.google.com/assets/colab-badge.svg)](https://colab.research.google.com/github/SeoulTechPSE/EngMath/blob/master/exercises/ch04_exer06.ipynb)"
   ]
  },
  {
   "cell_type": "markdown",
   "metadata": {},
   "source": [
    "**14.** $\\text{ }$ Derive the system of differential equations describing the straight-line vertical motion of the coupled springs shown in equilibrium in the following figure. Use the Laplace transform to solve the system when $k_1=1$, $k_2=1$, $k_3=1$, $m_1=1$, $m_2=1$ and $x_1(0)=0$, $\\dot{x}_1(0)=-1$, $x_2(0)=0$, $\\dot{x}_2(0)=1$.\n",
    "\n",
    "$\\text{ }$\n",
    "\n",
    "<center><img src=\"figs/ch04_exer06.png\" alt=\"coupled springs\" width=\"100\"/> </center>"
   ]
  },
  {
   "cell_type": "markdown",
   "metadata": {},
   "source": [
    "**solution**\n"
   ]
  }
 ],
 "metadata": {
  "kernelspec": {
   "display_name": "Python 3",
   "language": "python",
   "name": "python3"
  },
  "language_info": {
   "codemirror_mode": {
    "name": "ipython",
    "version": 3
   },
   "file_extension": ".py",
   "mimetype": "text/x-python",
   "name": "python",
   "nbconvert_exporter": "python",
   "pygments_lexer": "ipython3",
   "version": "3.7.5"
  }
 },
 "nbformat": 4,
 "nbformat_minor": 4
}
