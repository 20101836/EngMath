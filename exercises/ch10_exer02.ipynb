{
 "cells": [
  {
   "cell_type": "markdown",
   "metadata": {},
   "source": [
    "[![Open In Colab](https://colab.research.google.com/assets/colab-badge.svg)](https://colab.research.google.com/github/SeoulTechPSE/EngMath/blob/master/exercises/ch10_exer02.ipynb)"
   ]
  },
  {
   "cell_type": "markdown",
   "metadata": {},
   "source": [
    "**1.** $\\text{ }$  Find the general solution of the given system\n",
    "\n",
    "$~$\n",
    "\n",
    ">$\\begin{align*}\n",
    " \\frac{dx}{dt}&= x +2y\\\\ \n",
    " \\frac{dy}{dt}&= 4x +3y \n",
    "\\end{align*}$"
   ]
  },
  {
   "cell_type": "markdown",
   "metadata": {},
   "source": [
    "**solution**\n"
   ]
  },
  {
   "cell_type": "markdown",
   "metadata": {},
   "source": [
    "**13.** $\\text{ }$ Solve the given initial-value problem\n",
    "\n",
    ">$\n",
    "\\mathbf{x}' = \\begin{pmatrix}\n",
    " \\frac{1}{2}& 0\\\\ \n",
    " 1& -\\frac{1}{2} \n",
    "\\end{pmatrix} \\mathbf{x}, \\;\\;\\mathbf{x}(0)=\\begin{pmatrix}\n",
    "3\\\\5\n",
    "\\end{pmatrix}\n",
    "$"
   ]
  },
  {
   "cell_type": "markdown",
   "metadata": {},
   "source": [
    "**solution**"
   ]
  },
  {
   "cell_type": "markdown",
   "metadata": {},
   "source": [
    "**19.** $\\text{ }$  Find the general solution of the given system\n",
    "\n",
    "$~$\n",
    "\n",
    ">$\\begin{align*}\n",
    " \\frac{dx}{dt}&= 3x -y\\\\ \n",
    " \\frac{dy}{dt}&= 9x -3y \n",
    "\\end{align*}$"
   ]
  },
  {
   "cell_type": "markdown",
   "metadata": {},
   "source": [
    "**solution**"
   ]
  },
  {
   "cell_type": "markdown",
   "metadata": {},
   "source": [
    "**35.** $\\text{ }$  Find the general solution of the given system\n",
    "\n",
    "$~$\n",
    "\n",
    ">$\\begin{align*}\n",
    " \\frac{dx}{dt}&= 6x -y\\\\ \n",
    " \\frac{dy}{dt}&= 5x +2y \n",
    "\\end{align*}$"
   ]
  },
  {
   "cell_type": "markdown",
   "metadata": {},
   "source": [
    "**solution**"
   ]
  }
 ],
 "metadata": {
  "kernelspec": {
   "display_name": "Python 3",
   "language": "python",
   "name": "python3"
  },
  "language_info": {
   "codemirror_mode": {
    "name": "ipython",
    "version": 3
   },
   "file_extension": ".py",
   "mimetype": "text/x-python",
   "name": "python",
   "nbconvert_exporter": "python",
   "pygments_lexer": "ipython3",
   "version": "3.7.5"
  }
 },
 "nbformat": 4,
 "nbformat_minor": 4
}
