{
 "cells": [
  {
   "cell_type": "markdown",
   "metadata": {},
   "source": [
    "[![Open In Colab](https://colab.research.google.com/assets/colab-badge.svg)](https://colab.research.google.com/github/SeoulTechPSE/EngMath/blob/master/exercises/ch10_exer04.ipynb)"
   ]
  },
  {
   "cell_type": "markdown",
   "metadata": {},
   "source": [
    "**3.** $\\text{ }$ Use the method of undetermined coefficients to solve the given system\n",
    "\n",
    ">$\n",
    "\\mathbf{x}' = \\begin{pmatrix}\n",
    " 1& 3\\\\ \n",
    " 3& 1 \n",
    "\\end{pmatrix} \\mathbf{x}+\\begin{pmatrix}\n",
    "-2t^2\\\\t +5\n",
    "\\end{pmatrix}\n",
    "$"
   ]
  },
  {
   "cell_type": "markdown",
   "metadata": {},
   "source": [
    "**solution**"
   ]
  },
  {
   "cell_type": "markdown",
   "metadata": {},
   "source": [
    "**7.** $\\text{ }$ Use the method of undetermined coefficients to solve the given system\n",
    "\n",
    ">$\n",
    "\\mathbf{x}' = \\begin{pmatrix}\n",
    " 1& 1 & 1\\\\ \n",
    " 0 & 2 & 3 \\\\\n",
    " 0 & 0 & 5\n",
    "\\end{pmatrix} \\mathbf{x}+\\begin{pmatrix}\n",
    "\\;\\;1 \\\\ -1 \\\\ \\;\\;2\n",
    "\\end{pmatrix}e^{4t}\n",
    "$"
   ]
  },
  {
   "cell_type": "markdown",
   "metadata": {},
   "source": [
    "**solution**\n"
   ]
  },
  {
   "cell_type": "markdown",
   "metadata": {},
   "source": [
    "**33.** $\\text{ }$  Solve the given initial-value problem\n",
    "\n",
    "$~$\n",
    "\n",
    ">$\n",
    "\\mathbf{x}' = \\begin{pmatrix}\n",
    " \\;\\; 3& -1\\\\ \n",
    " -1& \\;\\;3 \n",
    "\\end{pmatrix} \\mathbf{x}+\\begin{pmatrix}\n",
    "4e^{2t} \\\\ 4e^{4t}\n",
    "\\end{pmatrix}, \\;\\; \\mathbf{x}(0) =  \\begin{pmatrix} 1 \\\\ 1 \\end{pmatrix}\n",
    "$"
   ]
  },
  {
   "cell_type": "markdown",
   "metadata": {},
   "source": [
    "**solution**"
   ]
  }
 ],
 "metadata": {
  "kernelspec": {
   "display_name": "Python 3",
   "language": "python",
   "name": "python3"
  },
  "language_info": {
   "codemirror_mode": {
    "name": "ipython",
    "version": 3
   },
   "file_extension": ".py",
   "mimetype": "text/x-python",
   "name": "python",
   "nbconvert_exporter": "python",
   "pygments_lexer": "ipython3",
   "version": "3.7.5"
  }
 },
 "nbformat": 4,
 "nbformat_minor": 4
}
