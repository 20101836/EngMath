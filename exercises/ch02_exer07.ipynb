{
 "cells": [
  {
   "cell_type": "markdown",
   "metadata": {},
   "source": [
    "[![Open In Colab](https://colab.research.google.com/assets/colab-badge.svg)](https://colab.research.google.com/github/SeoulTechPSE/EngMath/blob/master/exercises/ch02_exer07.ipynb)"
   ]
  },
  {
   "cell_type": "markdown",
   "metadata": {},
   "source": [
    "**39.** $\\text{ }$ **Evaporating Raindrop** $\\text{ }$ As a raindrop falls, it evaporates while retaining its spherical shape. If we make the further assumptions that the rate at which the raindrop evaporates is proportional to its surface area and that air resistance is negligible, then a model for the velocity $v(t)$ of the raindrop is\n",
    "\n",
    "$$\n",
    "\\frac{dv}{dt} + \\frac{3(k/\\rho)}{(k/\\rho) t +r_0} v = g\n",
    "$$\n",
    "\n",
    "Here $\\rho$ is the density of water, $r_0$ is the radius of the raindrop at $t=0$, $k < 0$ is the constant of proportionality $\\displaystyle \\frac{dm}{dt}=4\\pi r^2 k$, and the downward direction is taken to be the positive direction\n",
    "\n",
    "(a)$\\text{ }$ Solve for $v(t)$ if the raindrop falls from the rest\n",
    "\n",
    "(b)$\\text{ }$ Show that the radius of the raindrop at time $t$ is $r(t)=(k/\\rho)t +r_0$\n",
    "\n",
    "(c)$\\text{ }$ If $r_0=0.01$ ft and $r =0.007$ ft at time $t=10$ sec after the raindrop falls from a cloud, determine the time at which the raindrop has evaporated completely "
   ]
  },
  {
   "cell_type": "markdown",
   "metadata": {},
   "source": [
    "**solution**\n",
    "\n",
    "(a)$\\text{ }$\n",
    "\n",
    "\\begin{align*}\n",
    " \\frac{dv}{dt} &+ \\frac{3(k/\\rho)}{(k/\\rho) t +r_0} v = g \\\\ \n",
    " &\\Downarrow \\text{ multiply by the integral factor } \\\\ \n",
    " \\frac{d}{dt} \\left[ \\left(\\frac{k}{\\rho}t +r_0 \\right)^3 v  \\right] &= \\left(\\frac{k}{\\rho}t +r_0 \\right)^3 g\\\\ \n",
    " &\\Downarrow \\\\\n",
    " v(t)=\\frac{g\\rho}{4k} \\left( \\frac{k}{\\rho} t +r_0 \\right) &+c\\left(\\frac{k}{\\rho}t +r_0 \\right)^{-3} \\\\\n",
    " &\\Downarrow \\text{ } v(0)=0 \\; \\rightarrow \\;c = -\\frac{g\\rho}{4k} r_0^4 \\\\\n",
    " v(t) = \\frac{g\\rho}{4k} \\left(\\frac{k}{\\rho}t +r_0 \\right) & \\left[ 1 - \\left( \\frac{r_0}{ \\frac{k}{\\rho}t +r_0 } \n",
    " \\right)^4 \\right] \\\\ \n",
    "\\end{align*}\n",
    "\n",
    "(b)$\\text{ }$\n",
    "\n",
    "\\begin{align*}\n",
    " m &= \\frac{4}{3}\\pi r^3 \\rho\\\\ \n",
    " &\\Downarrow \\\\ \n",
    " \\frac{dm}{dt} &= 4\\pi r^2 \\rho \\frac{dr}{dt}\\\\ \n",
    " &\\Downarrow  \\text{ } {\\scriptstyle \\frac{dm}{dt}=4\\pi r^2 k}\\\\\n",
    "  \\frac{dr}{dt} &= \\frac{k}{\\rho} \\\\\n",
    " &\\Downarrow \\text{ } {\\scriptstyle r=r_0 \\text{ at } t=0} \\\\\n",
    " r(t) &= \\frac{k}{\\rho} t +r_0  \n",
    "\\end{align*}\n",
    "\n",
    "(c)$\\text{ }$\n",
    "\n",
    "\\begin{align*}\n",
    " r(10) &= \\frac{k}{\\rho} \\times 10 +0.01 =0.007 \\; \\Rightarrow \\; \\frac{k}{\\rho} = -0.0003\\\\ \n",
    " &\\Downarrow \\\\ \n",
    " r(t)  &= -0.0003 t + 0.01 = 0 \\; \\Rightarrow \\; t =\\frac{0.01}{0.0003} \\approx 33.34 \\;\\text{sec}\n",
    "\\end{align*}"
   ]
  }
 ],
 "metadata": {
  "kernelspec": {
   "display_name": "Python 3",
   "language": "python",
   "name": "python3"
  },
  "language_info": {
   "codemirror_mode": {
    "name": "ipython",
    "version": 3
   },
   "file_extension": ".py",
   "mimetype": "text/x-python",
   "name": "python",
   "nbconvert_exporter": "python",
   "pygments_lexer": "ipython3",
   "version": "3.7.5"
  }
 },
 "nbformat": 4,
 "nbformat_minor": 4
}
