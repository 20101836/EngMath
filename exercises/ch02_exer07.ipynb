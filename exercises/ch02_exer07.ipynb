{
 "cells": [
  {
   "cell_type": "markdown",
   "metadata": {},
   "source": [
    "[![Open In Colab](https://colab.research.google.com/assets/colab-badge.svg)](https://colab.research.google.com/github/SeoulTechPSE/EngMath/blob/master/exercises/ch02_exer07.ipynb)"
   ]
  },
  {
   "cell_type": "markdown",
   "metadata": {},
   "source": [
    "**39.** $\\text{ }$ **Evaporating Raindrop** $\\text{ }$ As a raindrop falls, it evaporates while retaining its spherical shape. If we make the further assumptions that the rate at which the raindrop evaporates is proportional to its surface area and that air resistance is negligible, then a model for the velocity $v(t)$ of the raindrop is\n",
    "\n",
    "$$\n",
    "\\frac{dv}{dt} + \\frac{3(k/\\rho)}{(k/\\rho) t +r_0} v = g\n",
    "$$\n",
    "\n",
    "Here $\\rho$ is the density of water, $r_0$ is the radius of the raindrop at $t=0$, $k < 0$ is the constant of proportionality, and the downward direction is taken to be the positive direction\n",
    "\n",
    "(a) Solve for $v(t)$ if the raindrop falls from the rest\n",
    "\n",
    "(b) Show that the radius of the raindrop at time $t$ is $r(t)=(k/\\rho)t +r_0$\n",
    "\n",
    "(c) If $r_0=0.01$ ft and $r =0.007$ ft at time $t=10$ sec after the raindrop falls from a cloud, determine the time at which the raindrop has evaporated completely \n",
    "\n",
    "$\\text{ }$ **solution**\n",
    "\n"
   ]
  }
 ],
 "metadata": {
  "kernelspec": {
   "display_name": "Python 3",
   "language": "python",
   "name": "python3"
  },
  "language_info": {
   "codemirror_mode": {
    "name": "ipython",
    "version": 3
   },
   "file_extension": ".py",
   "mimetype": "text/x-python",
   "name": "python",
   "nbconvert_exporter": "python",
   "pygments_lexer": "ipython3",
   "version": "3.7.5"
  }
 },
 "nbformat": 4,
 "nbformat_minor": 4
}
