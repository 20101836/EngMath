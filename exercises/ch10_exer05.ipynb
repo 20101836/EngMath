{
 "cells": [
  {
   "cell_type": "markdown",
   "metadata": {},
   "source": [
    "[![Open In Colab](https://colab.research.google.com/assets/colab-badge.svg)](https://colab.research.google.com/github/SeoulTechPSE/EngMath/blob/master/exercises/ch10_exer05.ipynb)"
   ]
  },
  {
   "cell_type": "markdown",
   "metadata": {},
   "source": [
    "**1.** $\\text{ }$ Compute $e^{\\mathbf{A}t}$ and $e^{-\\mathbf{A}t}$\n",
    ">$\n",
    "\\begin{pmatrix}\n",
    " 1& 0\\\\ \n",
    " 0& 2 \n",
    "\\end{pmatrix} \n",
    "$"
   ]
  },
  {
   "cell_type": "markdown",
   "metadata": {},
   "source": [
    "**solution**"
   ]
  },
  {
   "cell_type": "markdown",
   "metadata": {},
   "source": [
    "**5.** $\\text{ }$ Find the general solution of the given system\n",
    "\n",
    ">$\n",
    "\\mathbf{x}' = \\begin{pmatrix}\n",
    " 1& 0 \\\\ \n",
    " 0 & 2 \n",
    "\\end{pmatrix} \\mathbf{x}\n",
    "$"
   ]
  },
  {
   "cell_type": "markdown",
   "metadata": {},
   "source": [
    "**solution**\n"
   ]
  },
  {
   "cell_type": "markdown",
   "metadata": {},
   "source": [
    "**9.** $\\text{ }$ Find the general solution of the given system\n",
    "\n",
    ">$\n",
    "\\mathbf{x}' = \\begin{pmatrix}\n",
    " 1& 0 \\\\ \n",
    " 0 & 2 \n",
    "\\end{pmatrix} \\mathbf{x} +\\begin{pmatrix} \\;\\;3 \\\\-1\\end{pmatrix} \n",
    "$"
   ]
  },
  {
   "cell_type": "markdown",
   "metadata": {},
   "source": [
    "**solution**\n"
   ]
  },
  {
   "cell_type": "markdown",
   "metadata": {},
   "source": [
    "**23.** $\\text{ }$  If the matrix $\\matrix{A}$ can be diagonalized, then $\\mathbf{P}^{-1} \\mathbf{A} \\mathbf{P}=\\mathbf{D}$ or\n",
    "$\\text{ } \\mathbf{A} =\\mathbf{P}\\mathbf{D}\\mathbf{P}^{-1} $. Use this last result and show that $e^{\\mathbf{A} t}=\\mathbf{P}e^{\\mathbf{D} t}\\mathbf{P}^{-1} $"
   ]
  },
  {
   "cell_type": "markdown",
   "metadata": {},
   "source": [
    "**solution**"
   ]
  }
 ],
 "metadata": {
  "kernelspec": {
   "display_name": "Python 3",
   "language": "python",
   "name": "python3"
  },
  "language_info": {
   "codemirror_mode": {
    "name": "ipython",
    "version": 3
   },
   "file_extension": ".py",
   "mimetype": "text/x-python",
   "name": "python",
   "nbconvert_exporter": "python",
   "pygments_lexer": "ipython3",
   "version": "3.7.5"
  }
 },
 "nbformat": 4,
 "nbformat_minor": 4
}
