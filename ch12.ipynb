{
 "cells": [
  {
   "cell_type": "markdown",
   "metadata": {},
   "source": [
    "[![Open In Colab](https://colab.research.google.com/assets/colab-badge.svg)](https://colab.research.google.com/github/SeoulTechPSE/EngMath/blob/master/ch12.ipynb)"
   ]
  },
  {
   "cell_type": "markdown",
   "metadata": {},
   "source": [
    "# Chapter 12. Orthogonal Functions and Fourier Series"
   ]
  },
  {
   "cell_type": "markdown",
   "metadata": {},
   "source": [
    "### Contents\n",
    "\n",
    "* Orthogonal Functions\n",
    "* Fourier Series\n",
    "* Fourier Cosine and Sine Series\n",
    "* Complex Fourier Series\n",
    "* Sturm-Liouville Problem\n",
    "* Bessel and Legendre Series"
   ]
  },
  {
   "cell_type": "markdown",
   "metadata": {},
   "source": [
    "## 12.1 Orthogonal Functions"
   ]
  },
  {
   "cell_type": "markdown",
   "metadata": {},
   "source": [
    "* Inner Product\n",
    "\n",
    "  If $\\mathbf{u}=u_1\\mathbf{i} +u_2\\mathbf{j} +u_3\\mathbf{k}$ and $\\mathbf{v}\n",
    "  =v_1\\mathbf{i} +v_2\\mathbf{j} +v_3\\mathbf{k}$ are two vectors in $\\mathbb{R}^3$, then inner product is defined:\n",
    "  \n",
    "  >$(\\mathbf{u},\\mathbf{v})=u_1v_1 +u_2v_2 +u_3v_3=u_iv_i$\n",
    "  \n",
    "  The inner product $(\\mathbf{u},\\mathbf{v})$ possesses the following properties:\n",
    "  \n",
    "  * $(\\mathbf{u},\\mathbf{v})=(\\mathbf{v},\\mathbf{u})$\n",
    "  * $(k\\mathbf{u},\\mathbf{v})=k(\\mathbf{u},\\mathbf{v})$, $k$ a scalar\n",
    "  * $(\\mathbf{u},\\mathbf{u})=0$ if $\\mathbf{u}=\\mathbf{0}$ and $(\\mathbf{u},\\mathbf{u})>0$ if $\\mathbf{u}\\neq\\mathbf{0}$\n",
    "  * $(\\mathbf{u}+\\mathbf{v},\\mathbf{w})=(\\mathbf{u},\\mathbf{w}) +(\\mathbf{v},\\mathbf{w})$"
   ]
  },
  {
   "cell_type": "markdown",
   "metadata": {},
   "source": [
    "* Inner Product of Functions\n",
    "\n",
    "  The inner product of two functions $f_1$ and $f_2$ on an interval $[a,b]$ is the number\n",
    "  \n",
    "  >$\\displaystyle (f_1,f_2)=\\int_a^b f_1(x) f_2(x) \\,dx$"
   ]
  },
  {
   "cell_type": "markdown",
   "metadata": {},
   "source": [
    "* Orthogonal Functions\n",
    "\n",
    "  Two functions $f_1$ and $f_2$ are said to be **orthogonal** on an interval $[a,b]$ if\n",
    "  \n",
    "  >$\\displaystyle (f_1,f_2)=\\int_a^b f_1(x) f_2(x) \\,dx=0$"
   ]
  },
  {
   "cell_type": "markdown",
   "metadata": {},
   "source": [
    "* Orthogonal Sets\n",
    "\n",
    "  A set of real-valued functions $\\{\\phi_0(x),\\phi_1(x),\\phi_2(x),\\cdots\\}$ is said to be **orthogonal** on an interval\n",
    "  $[a,b]$ if\n",
    "  \n",
    "  >$\\displaystyle (\\phi_m,\\phi_n)=\\int_a^b \\phi_m(x) \\phi_n(x) \\,dx=0, \\;\\;m\\neq n$\n",
    "  \n",
    "  With the property that $\\|\\phi_n(x)\\|=1$, then $\\{\\phi_n(x)\\}$ is said to be an **orthonormal set** on the interval\n",
    "  \n",
    "  **Example** $\\displaystyle \\left\\{ \\frac{1}{\\sqrt{2\\pi}}, \\frac{\\cos x}{\\sqrt{\\pi}}, \\frac{\\cos 2x}{\\sqrt{\\pi}},\\cdots \\right\\}$"
   ]
  },
  {
   "cell_type": "markdown",
   "metadata": {},
   "source": [
    "* Orthogonal Series Expansion\n",
    "\n",
    "  Suppose $\\left\\{ \\phi_n(x)\\right\\}$ is an infinite orthogonal set of functions on an interval $[a,b]$.\n",
    "  If $y=f(x)$ is a function defined on $[a,b]$,\n",
    "  \n",
    "  >$\\begin{align*}\n",
    " f(x)&= c_0\\phi_0(x) +c_1\\phi_1(x) +\\cdots +c_n\\phi_n(x)+\\cdots\\\\\n",
    " &\\Downarrow\\\\ \n",
    " \\int_a^b f(x) \\phi_n(x)\\,dx&= c_0\\int_a^b \\phi_0(x) \\phi_n(x)\\,dx +c_1\\int_a^b \\phi_1(x)\\phi_n(x)\\,dx +\\cdots +c_n\\int_a^b \\phi_n^2(x)\\,dx+\\cdots\\\\ \n",
    " &= c_n\\int_a^b \\phi_n^2(x)\\,dx \\\\\n",
    " &\\Downarrow \\\\ \n",
    " c_n&= \\frac{\\int_a^b f(x)\\,\\phi_n(x)}{\\int_a^b \\phi_n^2(x)\\,dx},\\;\\;n=0,1,2,\\cdots \n",
    "\\end{align*}$"
   ]
  },
  {
   "cell_type": "markdown",
   "metadata": {},
   "source": [
    "* Orthogonal Set/Weight Function\n",
    "\n",
    "  A set of real-valued functions $\\{\\phi_0(x),\\phi_1(x),\\phi_2(x),\\cdots\\}$ is said to be **orthogonal \n",
    "  with respect to a weight function** $w(x)$ on an interval $[a,b]$ if\n",
    "  \n",
    "  >$\\displaystyle (\\phi_m,\\phi_n)=\\int_a^b w(x)\\phi_m(x) \\phi_n(x) \\,dx=0, \\;\\;m\\neq n$\n",
    "  \n",
    "  With this inner product notation, \n",
    "  \n",
    "  >$\\displaystyle f(x)=\\sum_{n=0}^\\infty c_n \\phi_n(x)$\n",
    "  \n",
    "  where\n",
    "  \n",
    "  >$\\displaystyle c_n=\\frac{\\int_a^b f(x)w(x)\\phi_n(x)\\,dx}{\\int_a^b w(x) \\phi_n^2(x)\\,dx}$"
   ]
  },
  {
   "cell_type": "markdown",
   "metadata": {},
   "source": [
    "* Complete Sets"
   ]
  },
  {
   "cell_type": "markdown",
   "metadata": {},
   "source": [
    "## 12.2 Fourier Series"
   ]
  },
  {
   "cell_type": "markdown",
   "metadata": {},
   "source": [
    "* Trigonometric Series\n",
    "\n",
    "  >$\\displaystyle\\left\\{ 1, \\cos\\frac{\\pi}{p}x, \\cos\\frac{2\\pi}{p}x, \\cos\\frac{3\\pi}{p}x,\\cdots,\n",
    "   \\sin\\frac{\\pi}{p}x,\\sin\\frac{2\\pi}{p}x,\\sin\\frac{3\\pi}{p}x,\\cdots \\right\\}$"
   ]
  },
  {
   "cell_type": "markdown",
   "metadata": {},
   "source": [
    "* Fourier Series\n",
    "\n",
    "  The **Fourier series** of a function $f$ defined on the interval $(-p,p)$ is given by\n",
    "  \n",
    "  >$\\displaystyle f(x)=\\frac{a_0}{2} +\\sum_{n=1}^\\infty \\left( a_n\\cos\\frac{n\\pi}{p}s +b_n\\sin\\frac{n\\pi}{p}x \\right)$\n",
    "  \n",
    "  where\n",
    "  \n",
    "  >$\\displaystyle a_0=\\frac{1}{p}\\int_{-p}^p f(x)\\,dx$\n",
    "  \n",
    "  >$\\displaystyle a_n=\\frac{1}{p}\\int_{-p}^p f(x)\\cos\\frac{n\\pi}{p}x \\,dx$\n",
    "  \n",
    "  >$\\displaystyle b_n=\\frac{1}{p}\\int_{-p}^p f(x)\\sin\\frac{n\\pi}{p}x \\,dx$\n",
    "  \n",
    "  At a point of discontinuity, the Fourier series converges to the average\n",
    "  \n",
    "  >$\\displaystyle \\frac{f(x+)+f(x-)}{2}$"
   ]
  },
  {
   "cell_type": "markdown",
   "metadata": {},
   "source": [
    "* **Example**\n",
    "\n",
    ">$\\displaystyle f(x)=\n",
    "  \\begin{cases}\n",
    "    1 & -\\pi \\leq x \\leq 0 \\\\ \n",
    "    0 & \\;\\;\\, 0 < x \\leq \\pi \n",
    "  \\end{cases}$\n",
    "\n",
    ">$\\;\\;\\;\\;\\;\\;\\Downarrow$\n",
    "\n",
    ">$\\displaystyle f(x)=\\frac{1}{2} +\\sum_{m=0}^\\infty \\frac{2}{(2m+1)\\pi} \\sin{(2m+1)x}$"
   ]
  },
  {
   "cell_type": "code",
   "execution_count": null,
   "metadata": {},
   "outputs": [],
   "source": [
    "%matplotlib inline\n",
    "import numpy as np\n",
    "import matplotlib.pyplot as plt"
   ]
  },
  {
   "cell_type": "code",
   "execution_count": null,
   "metadata": {},
   "outputs": [],
   "source": [
    "def f(m, x): \n",
    " \n",
    "  return 2.0 /((2.0*m +1) *np.pi) *np.sin((2.0*m +1)*x)\n",
    "  \n",
    "def RectWave(n, x): \n",
    "    \n",
    "  y = 0.5 +np.zeros(x.shape)\n",
    "  for k in range(n +1): \n",
    "      y = y +f(k, X) \n",
    "  \n",
    "  return y \n",
    "    \n",
    "x = np.linspace(-2*np.pi, 2*np.pi, 1000) \n",
    "for i in (1, 3, 6, 9): \n",
    "  plt.plot(x, RectWave(i, x)) \n",
    "  plt.xticks([-2.0*np.pi, -np.pi, 0, np.pi, 2.0*np.pi], ('$-2\\pi$', '$-\\pi$', '0', '$\\pi$', '$2\\pi$'))\n",
    "  plt.xlim(-2.0*np.pi, 2.0*np.pi)  \n",
    "  plt.show()"
   ]
  }
 ],
 "metadata": {
  "kernelspec": {
   "display_name": "Python 3",
   "language": "python",
   "name": "python3"
  },
  "language_info": {
   "name": ""
  }
 },
 "nbformat": 4,
 "nbformat_minor": 2
}
