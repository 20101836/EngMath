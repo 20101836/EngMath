{
 "cells": [
  {
   "cell_type": "markdown",
   "metadata": {},
   "source": [
    "[![Open In Colab](https://colab.research.google.com/assets/colab-badge.svg)](https://colab.research.google.com/github/SeoulTechPSE/EngMath/blob/master/ch12.ipynb)"
   ]
  },
  {
   "cell_type": "markdown",
   "metadata": {},
   "source": [
    "# Chapter 12. Orthogonal Functions and Fourier Series"
   ]
  },
  {
   "cell_type": "markdown",
   "metadata": {},
   "source": [
    "### Contents\n",
    "\n",
    "* Orthogonal Functions\n",
    "* Fourier Series\n",
    "* Fourier Cosine and Sine Series\n",
    "* Complex Fourier Series\n",
    "* Sturm-Liouville Problem\n",
    "* Bessel and Legendre Series"
   ]
  },
  {
   "cell_type": "markdown",
   "metadata": {},
   "source": [
    "## 12.1 Orthogonal Functions"
   ]
  },
  {
   "cell_type": "markdown",
   "metadata": {},
   "source": [
    "* Inner Product\n",
    "\n",
    "  If $\\mathbf{u}=u_1\\mathbf{i} +u_2\\mathbf{j} +u_3\\mathbf{k}$ and $\\mathbf{v}\n",
    "  =v_1\\mathbf{i} +v_2\\mathbf{j} +v_3\\mathbf{k}$ are two vectors in $\\mathbb{R}^3$, then inner product is defined:\n",
    "  \n",
    "  >$(\\mathbf{u},\\mathbf{v})=u_1v_1 +u_2v_2 +u_3v_3=u_iv_i$\n",
    "  \n",
    "  The inner product $(\\mathbf{u},\\mathbf{v})$ possesses the following properties:\n",
    "  \n",
    "  * $(\\mathbf{u},\\mathbf{v})=(\\mathbf{v},\\mathbf{u})$\n",
    "  * $(k\\mathbf{u},\\mathbf{v})=k(\\mathbf{u},\\mathbf{v})$, $k$ a scalar\n",
    "  * $(\\mathbf{u},\\mathbf{u})=0$ if $\\mathbf{u}=\\mathbf{0}$ and $(\\mathbf{u},\\mathbf{u})>0$ if $\\mathbf{u}\\neq\\mathbf{0}$\n",
    "  * $(\\mathbf{u}+\\mathbf{v},\\mathbf{w})=(\\mathbf{u},\\mathbf{w}) +(\\mathbf{v},\\mathbf{w})$"
   ]
  },
  {
   "cell_type": "markdown",
   "metadata": {},
   "source": [
    "* Inner Product of Functions\n",
    "\n",
    "  The inner product of two functions $f_1$ and $f_2$ on an interval $[a,b]$ is the number\n",
    "  \n",
    "  >$\\displaystyle (f_1,f_2)=\\int_a^b f_1(x) f_2(x) \\,dx$"
   ]
  },
  {
   "cell_type": "markdown",
   "metadata": {},
   "source": [
    "* Orthogonal Functions\n",
    "\n",
    "  Two functions $f_1$ and $f_2$ are said to be **orthogonal** on an interval $[a,b]$ if\n",
    "  \n",
    "  >$\\displaystyle (f_1,f_2)=\\int_a^b f_1(x) f_2(x) \\,dx=0$"
   ]
  },
  {
   "cell_type": "markdown",
   "metadata": {},
   "source": [
    "* Orthogonal Sets\n",
    "\n",
    "  A set of real-valued functions $\\{\\phi_0(x),\\phi_1(x),\\phi_2(x),\\cdots\\}$ is said to be **orthogonal** on an interval\n",
    "  $[a,b]$ if\n",
    "  \n",
    "  >$\\displaystyle (\\phi_m,\\phi_n)=\\int_a^b \\phi_m(x) \\phi_n(x) \\,dx=0, \\;\\;m\\neq n$\n",
    "  \n",
    "  With the property that $\\|\\phi_n(x)\\|=1$, then $\\{\\phi_n(x)\\}$ is said to be an **orthonormal set** on the interval\n",
    "  \n",
    "  **Example** $\\displaystyle \\left\\{ \\frac{1}{\\sqrt{2\\pi}}, \\frac{\\cos x}{\\sqrt{\\pi}}, \\frac{\\cos 2x}{\\sqrt{\\pi}},\\cdots \\right\\}$"
   ]
  },
  {
   "cell_type": "markdown",
   "metadata": {},
   "source": [
    "* Orthogonal Series Expansion\n",
    "\n",
    "  Suppose $\\left\\{ \\phi_n(x)\\right\\}$ is an infinite orthogonal set of functions on an interval $[a,b]$.\n",
    "  If $y=f(x)$ is a function defined on $[a,b]$,\n",
    "  \n",
    "  >$\\begin{align*}\n",
    " f(x)&= c_0\\phi_0(x) +c_1\\phi_1(x) +\\cdots +c_n\\phi_n(x)+\\cdots\\\\\n",
    " &\\Downarrow\\\\ \n",
    " \\int_a^b f(x) \\phi_n(x)\\,dx&= c_0\\int_a^b \\phi_0(x) \\phi_n(x)\\,dx +c_1\\int_a^b \\phi_1(x)\\phi_n(x)\\,dx +\\cdots +c_n\\int_a^b \\phi_n^2(x)\\,dx+\\cdots\\\\ \n",
    " &= c_n\\int_a^b \\phi_n^2(x)\\,dx \\\\\n",
    " &\\Downarrow \\\\ \n",
    " c_n&= \\frac{\\int_a^b f(x)\\,\\phi_n(x)}{\\int_a^b \\phi_n^2(x)\\,dx},\\;\\;n=0,1,2,\\cdots \n",
    "\\end{align*}$"
   ]
  },
  {
   "cell_type": "markdown",
   "metadata": {},
   "source": [
    "* Orthogonal Set/Weight Function\n",
    "\n",
    "  A set of real-valued functions $\\{\\phi_0(x),\\phi_1(x),\\phi_2(x),\\cdots\\}$ is said to be **orthogonal \n",
    "  with respect to a weight function** $w(x)$ on an interval $[a,b]$ if\n",
    "  \n",
    "  >$\\displaystyle (\\phi_m,\\phi_n)=\\int_a^b w(x)\\phi_m(x) \\phi_n(x) \\,dx=0, \\;\\;m\\neq n$\n",
    "  \n",
    "  With this inner product notation, \n",
    "  \n",
    "  >$\\displaystyle f(x)=\\sum_{n=0}^\\infty c_n \\phi_n(x)$\n",
    "  \n",
    "  where\n",
    "  \n",
    "  >$\\displaystyle c_n=\\frac{\\int_a^b f(x)w(x)\\phi_n(x)\\,dx}{\\int_a^b w(x) \\phi_n^2(x)\\,dx}$"
   ]
  },
  {
   "cell_type": "markdown",
   "metadata": {},
   "source": [
    "* Complete Sets"
   ]
  },
  {
   "cell_type": "markdown",
   "metadata": {},
   "source": [
    "## 12.2 Fourier Series"
   ]
  },
  {
   "cell_type": "code",
   "execution_count": null,
   "metadata": {},
   "outputs": [],
   "source": []
  }
 ],
 "metadata": {
  "kernelspec": {
   "display_name": "Python 3",
   "language": "python",
   "name": "python3"
  },
  "language_info": {
   "name": ""
  }
 },
 "nbformat": 4,
 "nbformat_minor": 2
}
