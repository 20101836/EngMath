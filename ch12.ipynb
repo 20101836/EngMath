{
 "cells": [
  {
   "cell_type": "markdown",
   "metadata": {},
   "source": [
    "[![Open In Colab](https://colab.research.google.com/assets/colab-badge.svg)](https://colab.research.google.com/github/SeoulTechPSE/EngMath/blob/master/ch12.ipynb)"
   ]
  },
  {
   "cell_type": "markdown",
   "metadata": {},
   "source": [
    "# Chapter 12. Orthogonal Functions and Fourier Series"
   ]
  },
  {
   "cell_type": "markdown",
   "metadata": {},
   "source": [
    "### Contents\n",
    "\n",
    "* Orthogonal Functions\n",
    "* Fourier Series\n",
    "* Fourier Cosine and Sine Series\n",
    "* Complex Fourier Series\n",
    "* Sturm-Liouville Problem\n",
    "* Bessel and Legendre Series"
   ]
  },
  {
   "cell_type": "markdown",
   "metadata": {},
   "source": [
    "## 12.1 Orthogonal Functions"
   ]
  },
  {
   "cell_type": "markdown",
   "metadata": {},
   "source": [
    "* Inner Product\n",
    "\n",
    "  If $\\mathbf{u}=u_1\\mathbf{i} +u_2\\mathbf{j} +u_3\\mathbf{k}$ and $\\mathbf{v}\n",
    "  =v_1\\mathbf{i} +v_2\\mathbf{j} +v_3\\mathbf{k}$ are two vectors in $\\mathbb{R}^3$, then inner product is defined:\n",
    "  \n",
    "  >$(\\mathbf{u},\\mathbf{v})=u_1v_1 +u_2v_2 +u_3v_3=u_iv_i$\n",
    "  \n",
    "  The inner product $(\\mathbf{u},\\mathbf{v})$ possesses the following properties:\n",
    "  \n",
    "  * $(\\mathbf{u},\\mathbf{v})=(\\mathbf{v},\\mathbf{u})$\n",
    "  * $(k\\mathbf{u},\\mathbf{v})=k(\\mathbf{u},\\mathbf{v})$, $k$ a scalar\n",
    "  * $(\\mathbf{u},\\mathbf{u})=0$ if $\\mathbf{u}=\\mathbf{0}$ and $(\\mathbf{u},\\mathbf{u})>0$ if $\\mathbf{u}\\neq\\mathbf{0}$\n",
    "  * $(\\mathbf{u}+\\mathbf{v},\\mathbf{w})=(\\mathbf{u},\\mathbf{w}) +(\\mathbf{v},\\mathbf{w})$"
   ]
  },
  {
   "cell_type": "markdown",
   "metadata": {},
   "source": [
    "* Inner Product of Functions\n",
    "\n",
    "  The inner product of two functions $f_1$ and $f_2$ on an interval $[a,b]$ is the number\n",
    "  \n",
    "  >$\\displaystyle (f_1,f_2)=\\int_a^b f_1(x) f_2(x) \\,dx$"
   ]
  },
  {
   "cell_type": "markdown",
   "metadata": {},
   "source": [
    "* Orthogonal Functions\n",
    "\n",
    "  Two functions $f_1$ and $f_2$ are said to be **orthogonal** on an interval $[a,b]$ if\n",
    "  \n",
    "  >$\\displaystyle (f_1,f_2)=\\int_a^b f_1(x) f_2(x) \\,dx=0$"
   ]
  },
  {
   "cell_type": "markdown",
   "metadata": {},
   "source": [
    "* Orthogonal Sets\n",
    "\n",
    "  A set of real-valued functions ${\\phi_0(x),\\phi_1(x),\\phi_2(x),\\cdots}$ is said to be orthogonal on an interval\n",
    "  $[a,b]$ if\n",
    "  \n",
    "  >$\\displaystyle (\\phi_m,\\phi_n)=\\int_a^b \\phi_m(x) \\phi_n(x) \\,dx=0, \\;\\;m\\neq n$  "
   ]
  },
  {
   "cell_type": "code",
   "execution_count": null,
   "metadata": {},
   "outputs": [],
   "source": []
  }
 ],
 "metadata": {
  "kernelspec": {
   "display_name": "Python 3",
   "language": "python",
   "name": "python3"
  },
  "language_info": {
   "name": ""
  }
 },
 "nbformat": 4,
 "nbformat_minor": 2
}
