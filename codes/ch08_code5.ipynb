{
 "cells": [
  {
   "cell_type": "code",
   "execution_count": 8,
   "metadata": {},
   "outputs": [
    {
     "name": "stdout",
     "output_type": "stream",
     "text": [
      "A =\n",
      "array([[ 7.,  3., -1.,  2.],\n",
      "       [ 3.,  8.,  1., -4.],\n",
      "       [-1.,  1.,  4., -1.],\n",
      "       [ 2., -4., -1.,  6.]])\n",
      "\n",
      "b = array([1., 2., 3., 4.])\n",
      "\n",
      "x = array([-1.27619048,  1.87619048,  0.57142857,  2.43809524])\n"
     ]
    }
   ],
   "source": [
    "import pprint\n",
    "import numpy as np\n",
    "\n",
    "def lu_factor(A):\n",
    "    \"\"\"\n",
    "        LU factorization with partial pivoting\n",
    "    \n",
    "        PA = LU    \n",
    "        P(permutation), L(unit Lower triangular) and U(upper triangular) \n",
    "    \n",
    "        Return P, L, U\n",
    "    \"\"\"\n",
    "    n = A.shape[0]    \n",
    "    U = A.copy()\n",
    "    P = np.identity(n)\n",
    "    L = np.identity(n)\n",
    "\n",
    "    for k in range(n -1):\n",
    "\n",
    "        # Partial Pivoting\n",
    "        max_row_index = np.argmax(abs(U[k:n,k])) +k\n",
    "        P[[k,max_row_index]] = P[[max_row_index,k]]\n",
    "        U[[k,max_row_index]] = U[[max_row_index,k]]\n",
    "\n",
    "        # LU\n",
    "        L[k+1:,k] = U[k+1:,k] /U[k,k]\n",
    "        U[k+1:,k] = 0.0\n",
    "        U[k+1:,k+1:] -= np.tensordot(L[k+1:,k], U[k,k+1:], axes=0)\n",
    "\n",
    "    return P, L, U\n",
    "\n",
    "def ufsub(L, b):\n",
    "    \"\"\" Unit row oriented forward substitution \"\"\"\n",
    "    y = b.copy()\n",
    "    for i in range(1, L.shape[0]):\n",
    "        y[i] -= np.dot(L[i,:i], y[:i])\n",
    "    return y\n",
    "\n",
    "def bsub(U, y):\n",
    "    \"\"\" Row oriented backward substitution \"\"\"\n",
    "    x = y.copy()\n",
    "    x[-1] /= U[-1,-1]\n",
    "    for i in range(U.shape[0] -2, -1, -1): \n",
    "        x[i] -= np.dot(U[i,i+1:], x[i+1:])\n",
    "        x[i] /= U[i,i]\n",
    "    return x    \n",
    "                    \n",
    "A = np.array([[7, 3, -1, 2], [3, 8, 1, -4], [-1, 1, 4, -1], [2, -4, -1, 6]], dtype='float64')\n",
    "b = np.array([1, 2, 3, 4], dtype='float64')\n",
    "\n",
    "P, L, U = lu_factor(A)\n",
    "Pb = np.matmul(P, b)\n",
    "\n",
    "y = ufsub(L, Pb)\n",
    "x = bsub(U, y)\n",
    "\n",
    "print('A ='); pprint.pprint(A)\n",
    "print('\\nb =', end=' '); pprint.pprint(b)\n",
    "print('\\nx =', end=' '); pprint.pprint(x)"
   ]
  }
 ],
 "metadata": {
  "kernelspec": {
   "display_name": "Python 3",
   "language": "python",
   "name": "python3"
  },
  "language_info": {
   "codemirror_mode": {
    "name": "ipython",
    "version": 3
   },
   "file_extension": ".py",
   "mimetype": "text/x-python",
   "name": "python",
   "nbconvert_exporter": "python",
   "pygments_lexer": "ipython3",
   "version": "3.7.5"
  }
 },
 "nbformat": 4,
 "nbformat_minor": 4
}
