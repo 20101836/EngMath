{
 "cells": [
  {
   "cell_type": "code",
   "execution_count": null,
   "metadata": {},
   "outputs": [],
   "source": [
    "import pprint\n",
    "import numpy as np\n",
    "\n",
    "def lu_factor(A):\n",
    "    \"\"\"\n",
    "        LU factorization with partial pivoting\n",
    "    \n",
    "        PA = LU    \n",
    "        P(permutation), L(unit Lower triangular) and U(upper triangular) \n",
    "    \n",
    "        Return P, L, U\n",
    "    \"\"\"\n",
    "    n = A.shape[0]    \n",
    "    U = A.copy()\n",
    "    P = np.identity(n)\n",
    "    L = np.identity(n)\n",
    "\n",
    "    for k in range(n -1):\n",
    "\n",
    "        # Partial Pivoting\n",
    "        max_row_index = np.argmax(abs(U[k:n,k])) +k\n",
    "        P[[k,max_row_index]] = P[[max_row_index,k]]\n",
    "        U[[k,max_row_index]] = U[[max_row_index,k]]\n",
    "\n",
    "        # LU\n",
    "        L[k+1:,k] = U[k+1:,k] /U[k,k]\n",
    "        U[k+1:,k] = 0.0\n",
    "        U[k+1:,k+1:] -= np.tensordot(L[k+1:,k], U[k,k+1:], axes=0)\n",
    "\n",
    "    return P, L, U\n",
    "\n",
    "A = np.array([[7, 3, -1, 2], [3, 8, 1, -4], [-1, 1, 4, -1], [2, -4, -1, 6]], dtype='float64')\n",
    "P, L, U = lu_factor(A)\n",
    "\n",
    "print('A ='); pprint.pprint(A)\n",
    "print('\\nP ='); pprint.pprint(P)\n",
    "print('\\nL ='); pprint.pprint(L)\n",
    "print('\\nU ='); pprint.pprint(U)"
   ]
  }
 ],
 "metadata": {
  "kernelspec": {
   "display_name": "Python 3",
   "language": "python",
   "name": "python3"
  },
  "language_info": {
   "codemirror_mode": {
    "name": "ipython",
    "version": 3
   },
   "file_extension": ".py",
   "mimetype": "text/x-python",
   "name": "python",
   "nbconvert_exporter": "python",
   "pygments_lexer": "ipython3",
   "version": "3.7.5"
  }
 },
 "nbformat": 4,
 "nbformat_minor": 4
}
