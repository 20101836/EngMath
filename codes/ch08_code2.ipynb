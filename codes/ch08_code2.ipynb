{
 "cells": [
  {
   "cell_type": "code",
   "execution_count": null,
   "metadata": {},
   "outputs": [],
   "source": [
    "import pprint\n",
    "import numpy as np\n",
    "\n",
    "def power_method(A, n_iteration):\n",
    "    # Ideally choose a random vector\n",
    "    # To decrease the chance that our vector is orthogonal to the eigenvector\n",
    "    k = np.random.rand(A.shape[1])\n",
    "\n",
    "    for _ in range(n_iteration):\n",
    "        # calculate the matrix-by-vector product Ak\n",
    "        k_1 = np.dot(A, k)\n",
    "\n",
    "        # calculate the norm\n",
    "        k_1_norm = np.linalg.norm(k_1)\n",
    "\n",
    "        # re normalize the vector\n",
    "        k = k_1 /k_1_norm\n",
    "\n",
    "    return k\n",
    "\n",
    "def Rayleigh_quotient(A, k):\n",
    "    # calculate Rayleigh quotient\n",
    "    lambda_ = np.dot(np.dot(A, k), k) /np.dot(k, k)\n",
    "    \n",
    "    return lambda_"
   ]
  },
  {
   "cell_type": "code",
   "execution_count": null,
   "metadata": {},
   "outputs": [],
   "source": [
    "def deflation_method(A, n_iteration):\n",
    "    \n",
    "    n = A.shape[1]\n",
    "\n",
    "    K = np.zeros((n, n))\n",
    "    Lambda = np.zeros(n)\n",
    "    \n",
    "    k0 = np.zeros(n)\n",
    "    L0 = 0\n",
    "    for i in range(n):\n",
    "        A = A -L0 *np.outer(k0, k0)\n",
    "        k0 = power_method(A, n_iteration)\n",
    "        L0 = Rayleigh_quotient(A, k0)\n",
    "        K[i, :] = k0\n",
    "        Lambda[i] = L0\n",
    "        \n",
    "    return K, Lambda      \n",
    "\n",
    "# symmetric matrix\n",
    "A = np.array([[1, 2, -1], [2, 1, 1], [-1, 1, 0]])\n",
    "\n",
    "K, Lambda = deflation_method(A, 20)  \n",
    "\n",
    "print('A =')\n",
    "pprint.pprint(A)\n",
    "    \n",
    "print('\\nk_1 =', np.around(K[0, :], 3))\n",
    "print('k_2 =', np.around(K[1, :], 3))\n",
    "print('k_3 =', np.around(K[2, :], 3))\n",
    "\n",
    "print('\\nlambda_1 =', np.around(Lambda[0], 3))\n",
    "print('lambda_2 =', np.around(Lambda[1], 3))\n",
    "print('lambda_3 =', np.around(Lambda[2], 3))"
   ]
  }
 ],
 "metadata": {
  "kernelspec": {
   "display_name": "Python 3",
   "language": "python",
   "name": "python3"
  },
  "language_info": {
   "codemirror_mode": {
    "name": "ipython",
    "version": 3
   },
   "file_extension": ".py",
   "mimetype": "text/x-python",
   "name": "python",
   "nbconvert_exporter": "python",
   "pygments_lexer": "ipython3",
   "version": "3.7.5"
  }
 },
 "nbformat": 4,
 "nbformat_minor": 4
}
