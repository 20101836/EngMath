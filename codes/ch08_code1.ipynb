{
 "cells": [
  {
   "cell_type": "code",
   "execution_count": null,
   "metadata": {},
   "outputs": [],
   "source": [
    "import pprint\n",
    "import numpy as np\n",
    "\n",
    "def power_method(A, n_iteration):\n",
    "    # Ideally choose a random vector\n",
    "    # To decrease the chance that our vector is orthogonal to the eigenvector\n",
    "    k = np.random.rand(A.shape[1])\n",
    "\n",
    "    for _ in range(n_iteration):\n",
    "        # calculate the matrix-by-vector product Ak\n",
    "        k_1 = np.dot(A, k)\n",
    "\n",
    "        # calculate the norm\n",
    "        k_1_norm = np.linalg.norm(k_1)\n",
    "\n",
    "        # re normalize the vector\n",
    "        k = k_1 /k_1_norm\n",
    "\n",
    "    return k\n",
    "\n",
    "def Rayleigh_quotient(A, k):\n",
    "    # calculate Rayleigh quotient\n",
    "    lambda_ = np.dot(np.dot(A, k), k) /np.dot(k, k)\n",
    "    \n",
    "    return lambda_\n",
    "\n",
    "A = np.array([[4, 2], [3, -1]])\n",
    "k_1 = power_method(A, 10)\n",
    "lambda_1 = Rayleigh_quotient(A, k_1)\n",
    "\n",
    "print('A =')\n",
    "pprint.pprint(A)\n",
    "print('\\nDominant Eigenvector:', np.around(k_1, 3))\n",
    "print('Dominant Eigenvalue:', np.around(lambda_1, 3))"
   ]
  }
 ],
 "metadata": {
  "kernelspec": {
   "display_name": "Python 3",
   "language": "python",
   "name": "python3"
  },
  "language_info": {
   "codemirror_mode": {
    "name": "ipython",
    "version": 3
   },
   "file_extension": ".py",
   "mimetype": "text/x-python",
   "name": "python",
   "nbconvert_exporter": "python",
   "pygments_lexer": "ipython3",
   "version": "3.7.5"
  }
 },
 "nbformat": 4,
 "nbformat_minor": 4
}
