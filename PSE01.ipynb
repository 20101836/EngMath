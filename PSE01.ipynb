{
 "cells": [
  {
   "cell_type": "markdown",
   "metadata": {},
   "source": [
    "# Lesson 1. Introduction to Partial Differential Equations "
   ]
  },
  {
   "cell_type": "markdown",
   "metadata": {},
   "source": [
    "Most physical phenomena, whether in the domain of fluid dynamics, electricity, magnetism, mechanics, optics, or heat flow, can be descriibed in general by partial differential equations; in fact, most of mathematical physics are PDEs."
   ]
  },
  {
   "cell_type": "markdown",
   "metadata": {},
   "source": [
    "### What Are PDEs?"
   ]
  },
  {
   "cell_type": "markdown",
   "metadata": {},
   "source": [
    "A partial differential equation is an equation that contains partial derivatives. In contrast to ordinary differential equations (ODEs), where the unknown function depends on only one variable, in PDEs, **the unknown function depends on serveral variables** (like temperature $u(x,t)$ depends both on location $x$ and time $t$)"
   ]
  },
  {
   "cell_type": "markdown",
   "metadata": {},
   "source": [
    "* A Few Well-Known PDEs\n",
    " \n",
    "  $\\displaystyle u_t=u_{xx},\\;$ heat equation in one dimension\n",
    "  \n",
    "  $\\displaystyle u_t=u_{xx}+u_{yy},\\;$ heat equation in two dimension\n",
    "  \n",
    "  $\\displaystyle u_{rr}+\\frac{1}{r}u_r+\\frac{1}{r^2}u_{\\theta\\theta}=0,\\;$ Laplace's equation in polar coordinates\n",
    "  \n",
    "  $\\displaystyle u_{tt}=u_{xx}+u_{yy}+u{zz},\\;$ wave equation in three dimension\n",
    "  \n",
    "  The unknown function $u$ always depends on more than one variable. The variable $u$ (which we differentiate) is called the **dependent** variable, whereas the ones differentiate *with respect to* are called the **independent** variables"
   ]
  },
  {
   "cell_type": "markdown",
   "metadata": {},
   "source": [
    "### Kinds of PDEs"
   ]
  },
  {
   "cell_type": "markdown",
   "metadata": {},
   "source": [
    "Classification is an important concept because the general theory and methods of solution apply only to a given class of equations. Six basic classfications are:\n",
    "\n",
    "* **Order of the PDE**\n",
    "\n",
    "  $u_t=u_{xx},\\;$ second order\n",
    "  \n",
    "  $u_t=u_x,\\;$ first order\n",
    "  \n",
    "  $u_t=uu_{xxx}+\\sin x,\\;$ third order\n",
    "  \n",
    "* **Number of Variables**\n",
    "\n",
    "  $u_t=u_{xx},\\;$ two variables: $x$ and $t$\n",
    "  \n",
    "  $\\displaystyle u_t=u_{rr}+\\frac{1}{r}u_{r}+\\frac{1}{r^2}u_{\\theta\\theta},\\;$ three variables: $t$, $r$, and $\\theta$\n",
    "\n",
    "* **Linearity**\n",
    "\n",
    "  Partial differential equations are either linear or nonlinear.\n",
    "  \n",
    "  $u_{tt}=e^{-t}u_{xx}+\\sin t,\\;$ linear\n",
    "  \n",
    "  $uu_{xx}+u_t=0,\\;$ nonlinear\n",
    "  \n",
    "  $u_{xx}+yu_{yy}=0,\\;$ linear\n",
    "  \n",
    "  $xu_x+yu_y +u^2=0,\\;$ nonlinear\n",
    "  \n",
    "  A second-order linear equation in two variables is an equation of the form:\n",
    "  \n",
    "  >$Au_{xx} +Bu_{xy} +Cu_{yy} +Du_x +Eu_y +Fu = G,\\;$ (1.1)\n",
    "  \n",
    "  where $A$, $B$, $C$, $D$, $E$, $F$, and $G$ can be constants or given functions of $x$ and $y$\n",
    "  \n",
    "* **Homogeneity**\n",
    "\n",
    "  The equation (1.1) is called homogeneous if the right hand side $G(x,y)$ is identically zero for all $x$ and $y$. \n",
    "  \n",
    "  If $G(x,y)$ is not identically zero, then the equation is nonhomogeneous"
   ]
  },
  {
   "cell_type": "markdown",
   "metadata": {},
   "source": [
    "* **Kinds of Coefficients**\n",
    "\n",
    "  The coeficients in equation (1.1) are constants, then (1.1) is said to have constant coefficients (otherwise, variable coefficients)"
   ]
  },
  {
   "cell_type": "markdown",
   "metadata": {},
   "source": [
    "* **Thre Basic Types of Linear Equations**\n",
    "\n",
    "  * $B^2-4AC=0$, **Parabolic:** heat flow and difussion processes\n",
    "  \n",
    "    $u_t=u_{xx}$\n",
    "  \n",
    "  * $B^2-4AC>0$, **Hyperbolic:** vibrating systems and wave motion\n",
    "  \n",
    "    $u_{tt}=u_{xx}$\n",
    "    \n",
    "    $u_{\\xi\\eta}=0$\n",
    "    \n",
    "  * $B^2-4AC<0$, **Elliptic:** steady-state phenomena\n",
    "  \n",
    "    $u_{xx}+u_{yy}=0$\n",
    "    \n",
    "  * In the case of variable coefficients, the situation can change from point to point\n",
    "  \n",
    "    $yu_{xx}+u_{yy}=0$"
   ]
  },
  {
   "cell_type": "markdown",
   "metadata": {},
   "source": [
    "# Lesson 2. Diffusion-Type Problems (Parabolic Equations)"
   ]
  },
  {
   "cell_type": "markdown",
   "metadata": {},
   "source": [
    "><img src=\"figures/pde01_figure01.jpg\" alt=\"heat flow experiment\" style=\"width:500px\"/> "
   ]
  },
  {
   "cell_type": "markdown",
   "metadata": {},
   "source": [
    "### The Mathematical Model of the Heat-Flow"
   ]
  },
  {
   "cell_type": "markdown",
   "metadata": {},
   "source": [
    "The description of our physical problem requires three types of equations\n",
    "\n",
    "* The **PDE** describing the physical phenomenon of heat flow\n",
    "* The **boundary conditions** describing the physical nature of our problem on the boundaries\n",
    "* The **initial conditions** describing the physical phenomenon at the start of the experiment "
   ]
  },
  {
   "cell_type": "markdown",
   "metadata": {},
   "source": [
    "#### The Heat Equation"
   ]
  },
  {
   "cell_type": "markdown",
   "metadata": {},
   "source": [
    "The basic equation of *one-dimensional* heat flow is the relationship\n",
    "\n",
    ">$u_t=\\alpha u_{xx},\\;$ $0<x<L\\;$, $0<t<\\infty\\;$ (2.1)\n",
    "\n",
    "This equation is derived from the basic conservation of energy"
   ]
  },
  {
   "cell_type": "markdown",
   "metadata": {},
   "source": [
    "####  Boundary Conditions"
   ]
  },
  {
   "cell_type": "markdown",
   "metadata": {},
   "source": [
    "All physical problems have boundaries of some kind, so we must describe mathematically what goes on there in order to adequately describe the problem. Since the temperature $u$ was fiexed for all time $t>0$ at $T_1$ and $T_2$ at the two ends $x=0$ and $x=L$;\n",
    "\n",
    ">$\\begin{align*}\n",
    " u(0,t)&= T_1\\\\ \n",
    " u(L,t)&= T_2 \n",
    "\\end{align*},\\;\\;0<t<\\infty\\;$ (2.2)"
   ]
  },
  {
   "cell_type": "markdown",
   "metadata": {},
   "source": [
    "#### Initial Conditions"
   ]
  },
  {
   "cell_type": "markdown",
   "metadata": {},
   "source": [
    "All physical problems must start from some value of time (generally called $t=0$), so we must specify the physical apparatus at this time. Since we started monitoring the rod temperature from time the rod has achieved a constant temperature $T_0$, we have\n",
    "\n",
    ">$u(x,0)=T_0,\\;\\;0\\leq x\\leq L\\;$ (2.3)"
   ]
  },
  {
   "cell_type": "markdown",
   "metadata": {},
   "source": [
    "By writing equation (2.1), (2.2), and (2.3) together, we have what is called an *initial-boundary-value problem*. The interesting here, which is not at all obvious, is that there is only one function $u(x,t)$ that satisfies the problem."
   ]
  },
  {
   "cell_type": "markdown",
   "metadata": {},
   "source": [
    "### More Diffusion-Type Equations"
   ]
  },
  {
   "cell_type": "markdown",
   "metadata": {},
   "source": [
    "* **Lateral Heat Loss Proportional to the Temperature Difference**\n",
    "\n",
    "  The equation\n",
    "\n",
    "  >$u_t=\\alpha u_{xx} -\\beta (u -u_o),\\;$ $\\beta>0$\n",
    "\n",
    "  describes heat flow in the rod with both diffusion $\\alpha u_{xx}$ along the rod and heat loss (or gain) across the lateral sides of the rod. Heat loss ($u>u_o$) or gain ($u<u_o$) is proportional to the difference between the temperature $u(x,t)$ and the surrounding medium $u_o$"
   ]
  },
  {
   "cell_type": "markdown",
   "metadata": {},
   "source": [
    "* **Internal Heat Source**\n",
    "\n",
    "  The nonhomogeneous equation\n",
    "\n",
    "  >$u_t=\\alpha u_{xx}+f(x,t)$\n",
    "\n",
    "  corresponds to the situation where the rod is being supplied with an internal heat source"
   ]
  },
  {
   "cell_type": "markdown",
   "metadata": {},
   "source": [
    "* **Diffusion-Convection Equation**\n",
    "\n",
    "  Suppose a pollutant is being carried along in a stream moving with velocity $v$. The rate of change $u_t$ is measured by the diffusion-convection equation\n",
    "\n",
    "  >$u_t=\\alpha u_{xx}-vu_x$\n",
    "\n",
    "  The term $\\alpha u_{xx}$ is the diffusion contribution and $-vu_x$ is the convection component"
   ]
  },
  {
   "cell_type": "markdown",
   "metadata": {},
   "source": [
    "*  In addition to these modifications in the heat equation, the boundary conditions of the rod can also be changed to correspond to other physical situations"
   ]
  },
  {
   "cell_type": "markdown",
   "metadata": {},
   "source": [
    "# Lesson 3. Boundary Conditions for Diffusion-Type Problems "
   ]
  },
  {
   "cell_type": "markdown",
   "metadata": {},
   "source": [
    "When describing the various types of boundary conditions that can occur for heat-flow problems, three basic types generally come to mind."
   ]
  },
  {
   "cell_type": "markdown",
   "metadata": {},
   "source": [
    "### Type 1 BC (Temperature specified on the boundary) \n",
    "\n",
    "><img src=\"figures/pde01_figure02.jpg\" alt=\"type 1 BC\" style=\"width:500px\"/>\n",
    "\n",
    "><img src=\"figures/pde01_figure03.jpg\" alt=\"oscillating BC\" style=\"width:500px\"/>\n",
    "\n",
    "Of course, we'd have to an initial temperature to get this experiment started, but in this case, the effects of our IC would vanish after a short period of time, and the resulting temperature inside the circle would depend on the boundary temperature"
   ]
  },
  {
   "cell_type": "markdown",
   "metadata": {},
   "source": [
    "### Type 2 BC (Flux specified - including the special case of insulated boundaries)\n",
    "\n",
    "**Insulated boundaries** are those that do not allow any heat flow to pass, and, hence, the normal derivative (inward or outward) must be zero on the boundary (since the normal derivative is proportional to the flux). \n",
    "\n",
    "In the case of the one-dimensional rod with insulated ends at $x=0$ and $x=L$, the BCs are\n",
    "\n",
    ">$\\begin{align*}\n",
    " u_x(0,t)&= 0\\\\ \n",
    " u_x(L,t)&= 0 \n",
    "\\end{align*},\\;\\;0<t<\\infty$\n",
    "\n",
    "In two-dimensional domains, an insulated boundary would mean that the normal derivative of the temperature across the boundary is zero.\n",
    "For example, if the circular disc insulated on the boundary, then the BC would be\n",
    "\n",
    ">$u_t(R,\\theta,t)=0\\;$ for all $0\\leq \\theta <2\\pi\\;$ and all $0<t<\\infty$\n",
    "\n",
    "On the other hand, if we specify the amount of heat entering across the boundary of our disc, the BC is\n",
    "\n",
    ">$u_t(R,\\theta,t)=f(\\theta,t)$"
   ]
  },
  {
   "cell_type": "markdown",
   "metadata": {},
   "source": [
    "### Type 3 BC (Temperature of the surrounding medium specified)\n",
    "\n",
    "><img src=\"figures/pde01_figure04.jpg\" alt=\"convective cooling at boundary\" style=\"width:500px\"/>\n",
    "\n",
    "By specifying these types of BCs, we cannot say the boundary temperatures of the rod will be the same as the liquid temperature $g_1(t)$ and $g_2(t)$, but we do know (Newton's law of cooling) that whenever the rod temperature at one of the boundaries is less than the respective liquid temperatures, then heat will flow into the rod at a rate proportional to this differance. In other words, for the one-dimensional rod with boundaries at $x=0$ and $L$, Newton's lar of cooling states:\n",
    "\n",
    ">Outward Flux of Heat (at $x=0$) $=h[u(0,t) -g_1(t)]$\n",
    "<br>Outward Flux of Heat (at $x=L$) $=h[u(L,t) -g_2(t)]$\n",
    "\n",
    "where $h$ is a heat transfer coefficient. Fourier's law gives us another representation for the outward flux of heat. In our one-dimensional problem, Fourier's law takes the form:\n",
    "\n",
    ">Outward Flux of Heat (at $x=0$) $\\displaystyle =k\\frac{\\partial u(0,t)}{\\partial x}$\n",
    "<br>Outward Flux of Heat (at $x=L$) $\\displaystyle =-k\\frac{\\partial u(L,t)}{\\partial x}$\n",
    "\n",
    "where $k$ is the thermal conductivity of the material. Finally if we use the two experssions for heat flux, we have our desired BCs in purely mathematical terms;\n",
    "\n",
    ">$\\begin{align*}\n",
    " \\frac{\\partial u(0,t)}{\\partial x}&= \\frac{h}{k} \\left[ u(0,t) -g_1(t) \\right]\\\\ \n",
    " \\frac{\\partial u(L,t)}{\\partial x}&= -\\frac{h}{k} \\left[ u(L,t) -g_2(t) \\right]\n",
    "\\end{align*},\\;\\;0<t<\\infty$\n",
    "\n",
    "In higher dimensions, we have similar BCs; for example, if the boundary of a circular disc is interfaced with a moving liquid that has a temperature $g(\\theta,t)$, our BC would be\n",
    "\n",
    ">$\\displaystyle \\frac{\\partial u}{\\partial r}(R,\\theta, t)=-\\frac{h}{k} \\left[ u(R,\\theta,t) -g(\\theta,t) \\right]$"
   ]
  },
  {
   "cell_type": "markdown",
   "metadata": {},
   "source": [
    "# Lesson 4. Derivation of the Heat Equation "
   ]
  },
  {
   "cell_type": "code",
   "execution_count": null,
   "metadata": {},
   "outputs": [],
   "source": []
  }
 ],
 "metadata": {
  "kernelspec": {
   "display_name": "Python 3",
   "language": "python",
   "name": "python3"
  },
  "language_info": {
   "name": ""
  }
 },
 "nbformat": 4,
 "nbformat_minor": 2
}
