{
 "cells": [
  {
   "cell_type": "markdown",
   "metadata": {
    "slideshow": {
     "slide_type": "slide"
    }
   },
   "source": [
    "## Closed-Loop System Stability - Root Locus"
   ]
  },
  {
   "cell_type": "markdown",
   "metadata": {
    "slideshow": {
     "slide_type": "fragment"
    }
   },
   "source": [
    "Knowing the locations of the poles and zeros is important because\n",
    "\n",
    "* It affects the transient response\n",
    "* It indicates whether the system is stable or not\n",
    "\n",
    "We introduce the **root locus** as a graphical\n",
    "means of quantifying the variations in pole locations (but not the zeros)"
   ]
  },
  {
   "cell_type": "markdown",
   "metadata": {
    "slideshow": {
     "slide_type": "slide"
    }
   },
   "source": [
    "Consider a closed loop system with unity feedback that uses simple\n",
    "proportional controller. It has a transfer function\n",
    "\n",
    "> $\\displaystyle H(s)=\\frac{K_c G_{OL}(s)}{1 +K_c G_{OL}(s)}=\\frac{n(s)}{d(s)}$\n",
    "\n",
    "The poles occur at the roots of $d(s)$:\n",
    "\n",
    "> $\\displaystyle 1 +K_c G_{OL}(s)=0$\n",
    "\n",
    "This is referred to as the **characteristic equation** of the system. Therefore it\n",
    "is necessary that\n",
    "\n",
    "> $\\begin{align*}\n",
    " \\left | K_c G_{OL} \\right | &= 1 \\\\ \n",
    " \\angle G_{OL} &= \\pi \\pm 2\\pi k \\;\\; \\text{for } k \\in \\mathbb{Z}\n",
    "\\end{align*}$\n",
    "\n",
    "These two equations are referred to as the **Magnitude** and **Angle** criteria\n",
    "respectively. Then, the root locus is the path of the roots of the characteristic equation\n",
    "due to $K_c$ as $K_c$ is traced out to infinity."
   ]
  },
  {
   "cell_type": "markdown",
   "metadata": {
    "slideshow": {
     "slide_type": "slide"
    }
   },
   "source": [
    "### Root Locus Procedure\n",
    "\n",
    "We will now show the procedure for rapid sketching of the root locus of a transfer\n",
    "function $H(s)$ as values of the tuning parameter $K_c$ varies from $0 \\leq K_c < \\infty$.\n",
    "At first, we note that as the complex poles of $H(s)$ will always occur in\n",
    "conjugate pairs, **the root locus will be symmetric about horizontal real axis**"
   ]
  },
  {
   "cell_type": "markdown",
   "metadata": {
    "slideshow": {
     "slide_type": "fragment"
    }
   },
   "source": [
    "Secondly, we consider the positions of the roots of the characteristic equation\n",
    "for the start ($K_c = 0$) and end ($K_c = \\infty$) points for the root locus. To do this, we\n",
    "factor $G_{OL}(s)$ and write the polynomial in terms of its poles and zeros as follows\n",
    "\n",
    ">$1 +K_c \\frac{\\displaystyle\\prod_{i=1}^m (s -z_i) }{\\displaystyle\\prod_{j=1}^n (s -p_j) } = 0$\n",
    "\n",
    "where $z_i$ and $p_j$ are the zeros and poles of $G_{OL}(s)$ respectively."
   ]
  },
  {
   "cell_type": "markdown",
   "metadata": {
    "slideshow": {
     "slide_type": "slide"
    }
   },
   "source": [
    "When $K_c = 0$, we can find the roots of the characteristic equation by rewriting it as\n",
    "\n",
    ">$\\displaystyle\\prod_{j=1}^n (s -p_j) +K_c \\displaystyle\\prod_{i=1}^m (s -z_i)= 0 \\;\\;\\Rightarrow \\;\\; \\displaystyle\\prod_{j=1}^n (s -p_j) = 0$\n",
    "\n",
    "Hence when $K_c = 0$, the roots of the transfer function $H(s)$ are given by the\n",
    "the poles of $G_{OL}(s)$.\n",
    "\n",
    "When $K_c = \\infty$, we can find the roots of the characteristic equation by rewriting it as\n",
    "\n",
    ">$\\displaystyle\\frac{1}{K_c}\\prod_{j=1}^n (s -p_j) +\\displaystyle\\prod_{i=1}^m (s -z_i)= 0 \\;\\;\\Rightarrow \\;\\; \\displaystyle\\prod_{i=1}^m (s -z_i)= 0$\n",
    "\n",
    "Hence when $K_c = \\infty$, the roots of the transfer function $H(s)$ are given by the\n",
    "the zeros of $G_{OL}(s)$."
   ]
  },
  {
   "cell_type": "markdown",
   "metadata": {
    "slideshow": {
     "slide_type": "slide"
    }
   },
   "source": [
    "* The number of separate plots on the root locus sketch will be the same as\n",
    "the number of poles of $G_{OL}(s)$.\n",
    "\n",
    "* Each plot will start at a pole of $G_{OL}(s)$ for $K_c = 0$ and end at a zero of $G_{OL}(s)$\n",
    "for $K_c = \\infty$.\n",
    "\n",
    "* In general, system could have more poles than zeros. In this case, there\n",
    "will be a number of plots that tend to infinity, with the number being\n",
    "determined by the difference between the number of poles and zeros (i.e. $m\\leq n$). Such a system is said to contain $n-m$ zeros at infinity."
   ]
  },
  {
   "cell_type": "markdown",
   "metadata": {
    "slideshow": {
     "slide_type": "fragment"
    }
   },
   "source": [
    "**The root locus lies at all points on the real axis to the left of an odd\n",
    "number of poles and zeros that lie on the real axis**.\n",
    "This arises because of the angle criterion and the symmetry of the\n",
    "root locus."
   ]
  },
  {
   "cell_type": "markdown",
   "metadata": {
    "slideshow": {
     "slide_type": "slide"
    }
   },
   "source": [
    "We know that if we have a characteristic equation that has more poles $n$\n",
    "than zeros $m$ then $n -m$ of the root locus bracnches tend to zeros at infinity.\n",
    "These asymptotes intercept the real axis at a point, $\\sigma_A$, given by\n",
    "\n",
    ">$\\sigma_A = \\frac{\\displaystyle \\sum_j^n p_j -\\sum_i^m z_i}{\\displaystyle n -m}$\n",
    "\n",
    "The angles of the asymptotes $\\phi_k$ are given by\n",
    "\n",
    ">$\\phi_k = \\frac{\\displaystyle (2k-1)}{\\displaystyle n-m}\\pi, \\;\\;\\text{for } k=1,\\cdots,n-m$"
   ]
  },
  {
   "cell_type": "markdown",
   "metadata": {
    "slideshow": {
     "slide_type": "slide"
    }
   },
   "source": [
    "It is possible to determine the breakaway point as follows.\n",
    "\n",
    "Firstly, identify the portions of the real axis where a breakaway point must\n",
    "exist. Assuming we have already marked the segments of the real axis that are\n",
    "on the root locus, we need to find the segments that are bookended by either\n",
    "two poles or two zeros (either finite zeros or zeros at infinity).\n",
    "\n",
    "To estimate the values of s at the breakaway points, the characteristic equation\n",
    "is rewritten in terms of $K_c$ as\n",
    "\n",
    ">$K_c(s) = -\\frac{\\displaystyle 1}{\\displaystyle G_{OL}(s)}$\n",
    "\n",
    "To find the breakaway points we calculate the values of $s$ corresponding to the\n",
    "maxima in $K_c(s)$. *i.e.* where\n",
    "\n",
    ">$\\displaystyle \\frac{d K_c}{ds} = \\frac{1}{G^2_{OL}} \\frac{d G_{OL}}{ds}=0 \\;\\; \\Rightarrow \\;\\; \\frac{d G_{OL}}{ds}=0$\n",
    "\n",
    "As the last step, we check the roots of $\\displaystyle \\frac{d G_{OL}}{ds}=0$ that lie on the real axis segments\n",
    "of the locus. The roots that lie in these intervals are the breakaway points."
   ]
  },
  {
   "cell_type": "markdown",
   "metadata": {
    "slideshow": {
     "slide_type": "slide"
    }
   },
   "source": [
    "When there are complex poles or zeros of $G_{OL}(s)$, the root locus branches will\n",
    "either depart or arrive at an angle $\\theta$ where, for a complex pole or zero at $s = p$\n",
    "or $s = z$,\n",
    "\n",
    ">$\\begin{align*}\n",
    "\\angle G^*_{OL}(p) -\\theta &= \\pi  &\\text{for } s= p\\\\ \n",
    "\\angle G^*_{OL}(z) +\\theta &= \\pi  &\\text{for } s= z\n",
    "\\end{align*}$\n",
    "\n",
    "where\n",
    "\n",
    ">$G^*_{OL}(p)= \\frac{\\displaystyle\\prod_{i=1}^m (p -z_i) }{\\displaystyle\\prod_{\\,j=1\\\\ p\\neq p_j}^n (p -p_j)}$ $\\text{ }$\n",
    " and \n",
    " $\\text{ }$ $G^*_{OL}(z)= \\frac{\\displaystyle\\prod_{\\,i=1\\\\ z\\neq z_i}^m (z -z_i) }{\\displaystyle\\prod_{j=1}^n (z -p_j)}$"
   ]
  },
  {
   "cell_type": "markdown",
   "metadata": {
    "slideshow": {
     "slide_type": "slide"
    }
   },
   "source": [
    "Therefore, exploiting the rules of complex numbers, we can rewrite $\\angle G^*_{OL}(p)$\n",
    "and $\\angle G^*_{OL}(z)$ as\n",
    "\n",
    ">$\\displaystyle \\angle G^*_{OL}(p)= \\sum_{i=1}^m \\angle (p -z_i) -\\sum_{\\,j=1\\\\ p\\neq p_j}^n \\angle (p -p_j)$\n",
    "\n",
    "> and\n",
    "\n",
    ">$\\displaystyle \\angle G^*_{OL}(z)= \\sum_{\\,i=1\\\\ z\\neq z_i}^m \\angle (z -z_i) -\\sum_{j=1}^n \\angle(z -p_j)$"
   ]
  },
  {
   "cell_type": "markdown",
   "metadata": {
    "slideshow": {
     "slide_type": "slide"
    }
   },
   "source": [
    "#### Summary\n",
    "\n",
    "1. Estimate the transfer function and write the characteristic equation of that the tuning parameter, $K_c$, appears as a\n",
    "multiplier.\n",
    "\n",
    "   $\\displaystyle 1 +K_c G_{OL}(s)=0$ \n",
    "\n",
    "2. Mark the start and end points of the loci.\n",
    "\n",
    "   Find the poles (start points) and zeros (end points) of $G_{OL}(s)$\n",
    "\n",
    "3. Determine the number of separate loci\n",
    "\n",
    "   It is the number of poles of $G_{OL}(s)$"
   ]
  },
  {
   "cell_type": "markdown",
   "metadata": {
    "slideshow": {
     "slide_type": "slide"
    }
   },
   "source": [
    "4. Locate the segments of the real axis that are root loci\n",
    "\n",
    "   Locus lies to the left of an odd number of zeros or poles\n",
    "\n",
    "5. Find the asymptotes of the loci tending to zeros at infinity\n",
    "\n",
    "   The intersection point of the asymptotes is\n",
    "   >$\\sigma_A = \\frac{\\displaystyle \\sum_j^n p_j -\\sum_i^m z_i}{\\displaystyle n -m}$\n",
    "\n",
    "   The angles are\n",
    "   >$\\phi_k = \\frac{\\displaystyle (2k-1)}{\\displaystyle n-m}\\pi, \\;\\;\\text{for } k=1,\\cdots,n-m$"
   ]
  },
  {
   "cell_type": "markdown",
   "metadata": {
    "slideshow": {
     "slide_type": "slide"
    }
   },
   "source": [
    "6. Determine the breakaway points.\n",
    "\n",
    "   Find $s$ such that $\\displaystyle \\frac{d G_{OL}}{ds}=0$\n",
    "\n",
    "7. Determine the angles of arrival/departure at complex zeros/poles($z_i$/$p_j$) of $G_{OL}(s)$\n",
    "\n",
    "   For poles, the angle of departure is $\\angle G^*_{OL}(p_j) -\\pi$\n",
    "\n",
    "   For zeros, the angle of arrival is $\\pi -\\angle G^*_{OL}(z_i)$"
   ]
  }
 ],
 "metadata": {
  "celltoolbar": "Slideshow",
  "kernelspec": {
   "display_name": "Python 3",
   "language": "python",
   "name": "python3"
  },
  "language_info": {
   "codemirror_mode": {
    "name": "ipython",
    "version": 3
   },
   "file_extension": ".py",
   "mimetype": "text/x-python",
   "name": "python",
   "nbconvert_exporter": "python",
   "pygments_lexer": "ipython3",
   "version": "3.7.5"
  }
 },
 "nbformat": 4,
 "nbformat_minor": 4
}
