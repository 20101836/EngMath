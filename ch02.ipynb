{
 "cells": [
  {
   "cell_type": "markdown",
   "metadata": {},
   "source": [
    "# Chapter 2. First-Order Differential Equations"
   ]
  },
  {
   "cell_type": "markdown",
   "metadata": {},
   "source": [
    "## Contents\n",
    "\n",
    "* Solution Curves Without a Solution\n",
    "* Separable Equations\n",
    "* Linear Equations\n",
    "* Exact Equations\n",
    "* Solutions by Substitutions\n",
    "* A Numerical Method\n",
    "* Linear Models\n",
    "* Nonlinear Models\n",
    "* Modeling with Systems of First-Order DEs"
   ]
  },
  {
   "cell_type": "markdown",
   "metadata": {},
   "source": [
    "## 2.1 Solution Curves Without a Solution"
   ]
  },
  {
   "cell_type": "markdown",
   "metadata": {},
   "source": [
    "* DEs can be analyzed qualitatively, allowing us to approximate a solution curve without solving the problem\n",
    "* Two approches are:\n",
    "    * Direction fields\n",
    "    * Autonomous first-order DEs "
   ]
  },
  {
   "cell_type": "markdown",
   "metadata": {},
   "source": [
    "* Direction fields: \n",
    "    \n",
    "    * $\\frac{dy}{dx}=\\sin y$\n",
    "    \n",
    "    > ![Direction field for dy/dx = sin y](figures/ch02_figure01.png)\n",
    "    \n",
    "    * Slope of the **lineal element** at $(x,y(x))$ on a solution curve is the value of $\\frac{dy}{dx}$ at this point\n",
    "    * **Direction/slope fields** of $\\frac{dy}{dx}=f(x,y)$ are collections of lineal slope elements that visually suggest the shape of a family of solution curves"
   ]
  },
  {
   "cell_type": "markdown",
   "metadata": {},
   "source": [
    "* **Autonomous** first-order DEs, $\\frac{dy}{dx}=f(y)$\n",
    "    * An ODE in which the independent variable does not appear explicitly\n",
    "    > $\\begin{align*}\n",
    "         \\frac{dy}{dx} &= 1+y^2 & \\mathrm{autonomous} \\\\\n",
    "         \\frac{dy}{dx} &= 0.2xy & \\mathrm{nonautonomous}\n",
    "      \\end{align*}$\n",
    "    * **Critical points**, $f(c)=0$, are constant (or equilibrium) solutions of autonomous DEs\n",
    "    * A **phase portrait** is made by putting critical points on a virtical line with phase lines pointing up or down, depending on the sign of the function over intervals between the points\n",
    "    * Some conclusions can be drawn about nonconstant solution curves to autonomous DEs\n",
    "        * If a solution $y(x)$ passes through $(x_0,y_0)$ in subregion $R_i$ then $y(x)$ remains in $R_i$\n",
    "        * By continuity of $f$, $f(y)$ cannot change signs in a subregion $R_i$\n",
    "        * Since $f(y)$ is either positive or negative in $R_i$, a solution is either increasing or decreasing and has no relative extremum\n",
    "        \n",
    "    * **Example** \n",
    "    > $\\frac{dP}{dt}=P(a-bP)$\n",
    "    \n",
    "    > ![Phase portrait and solution curves in each of the three subregions](figures/ch02_figure02.png)"
   ]
  },
  {
   "cell_type": "markdown",
   "metadata": {},
   "source": [
    "## 2.2 Separable Equations"
   ]
  },
  {
   "cell_type": "markdown",
   "metadata": {},
   "source": [
    "* Consider $\\frac{dy}{dx}=f(x,y)$\n",
    "    * When $f$ does not depend on $y$, $\\frac{dy}{dx}=g(x)$, which can be solved by integration\n",
    "    * The solution $y=\\int g(x) dx = G(x)+c$ where $G(x)$ is an antiderivative (indefinite integral)\n",
    "    * Some functions, termed **nonelementary**, do not possess an antiderivative that is an elementary function"
   ]
  },
  {
   "cell_type": "markdown",
   "metadata": {},
   "source": [
    "* A first-order DE of the form $\\frac{dy}{dx}=g(x)h(y)$ is said to be **separable**, or have **separable variables**\n",
    "* A separable equation can be rewritten in the form $\\frac{1}{h(y)}dy=g(x)dx$, which is solved by integrating both sides"
   ]
  },
  {
   "cell_type": "markdown",
   "metadata": {},
   "source": [
    "## 2.3 Linear Equations"
   ]
  },
  {
   "cell_type": "markdown",
   "metadata": {},
   "source": [
    "A first-order DE of the form $a_1(x) \\frac{dy}{dx} +a_0(x)y = g(x)$ is a **linear equation** in the dependent variable $y$\n",
    "\n",
    "* The DE is **homogeneous** when $g(x)=0$; otherwise, it is **nonhomogeneous**\n",
    "* The standard form of a linear DE is obtained by dividing both sides by the lead coefficient\n",
    "    > $\\frac{dy}{dx}+P(x)y=f(x)$ "
   ]
  },
  {
   "cell_type": "markdown",
   "metadata": {},
   "source": [
    "The **standard form** equation has the property that its solution $y$ is the sum of the solution of the associated homogeneous equation $y_h$ and the particular solution of the nonhomogeneous equation $y_p$: $y=y_h +y_p$\n",
    "\n",
    "* The homogeneous equation $\\frac{dy_h}{dx} +P(x)y_h= 0 $ is separable, allowing us to solve for $y_h$\n",
    "> $\\begin{align*}\n",
    "      \\frac{dy_h}{y_h} &= -P(x)dx \\\\ \n",
    "      \\ln |y_h| &= -\\int P(x)dx +c'\\\\ \n",
    "      y_h &= c \\exp\\left ( -\\int P(x) dx \\right )\n",
    "    \\end{align*}$\n",
    "* **Variation of parameters** $y_p=u(x)y_h$ can be used to solve the nonhomogeneous equation of $y_p$\n",
    "> $\\begin{align*}\n",
    "      y_h \\frac{du}{dx} +& \\underbrace{\\left (\\frac{dy_h}{dx} +P(x) y_h  \\right )}_{=0} u = f(x) \\\\\n",
    "      & du = \\frac{f(x)}{y_h} dx\n",
    "   \\end{align*}$"
   ]
  },
  {
   "cell_type": "markdown",
   "metadata": {},
   "source": [
    "## 2.4 Exact Equations"
   ]
  },
  {
   "cell_type": "markdown",
   "metadata": {},
   "source": [
    "A differential expression $M(x,y)dx + N(x,y)dy$ is an **exact differential** in a region $R$ of the $xy$-plane if it corresponds to the differential of some function $f(x,y)$:\n",
    "> $df(x,y)=\\frac{\\partial f}{\\partial x} dx + \\frac{\\partial f}{\\partial y} dy$\n",
    "\n",
    "and a condition of exact differentials is: \n",
    "\n",
    "> $\\frac{\\partial M}{\\partial y}=\\frac{\\partial N}{\\partial x}$\n",
    "\n",
    "\n",
    "$M(x,y)dx + N(x,y)dy=0$ is an **exact equation** if the left side is an exact differential"
   ]
  },
  {
   "cell_type": "markdown",
   "metadata": {},
   "source": [
    "**Example:** Solving an Exact DE, $2xydx+(x^2-1)dy=0$\n",
    "* With $M(x,y)=2xy$ and $N(x,y)=x^2-1$, we have:\n",
    "> $\\frac{\\partial M}{\\partial y}=2x=\\frac{\\partial N}{\\partial x}$\n",
    "* The equation is exact so there exists $f(x,y)$ such that\n",
    "> $\\begin{align*}\n",
    "        \\frac{\\partial f}{\\partial x} &= 2xy \\\\ \n",
    "        \\frac{\\partial f}{\\partial y} &= x^2 -1\n",
    "    \\end{align*}$\n",
    "* Integrating $\\frac{\\partial f}{\\partial x}$ gives\n",
    "> $f(x,y)=x^2y+g(y)$\n",
    "* Taking the partial derivative of $\\frac{\\partial f}{\\partial y}$ with respect to $y$ and setting the result equal to $N(x,y)$ gives\n",
    "> $\\frac{\\partial f}{\\partial y}=x^2+g'(y)=x^2-1$\n",
    "* It follows that \n",
    "> $g'(y)=-1$ and $g(y)=-y+c$\n",
    "* Hence $f(x,y)=x^2y-y+c$ and the solution of the equation in implicit form is\n",
    "> $x^2y-y+c=0$"
   ]
  },
  {
   "cell_type": "markdown",
   "metadata": {},
   "source": [
    "## 2.5 Solutions by Substitutions"
   ]
  },
  {
   "cell_type": "markdown",
   "metadata": {},
   "source": [
    "**Substitution** is often used to get a DE in a form such that a known procedure can be used to find a solution\n",
    "* Chain rule may be used as a tool"
   ]
  },
  {
   "cell_type": "code",
   "execution_count": null,
   "metadata": {},
   "outputs": [],
   "source": []
  }
 ],
 "metadata": {
  "kernelspec": {
   "display_name": "Python 3",
   "language": "python",
   "name": "python3"
  },
  "language_info": {
   "codemirror_mode": {
    "name": "ipython",
    "version": 3
   },
   "file_extension": ".py",
   "mimetype": "text/x-python",
   "name": "python",
   "nbconvert_exporter": "python",
   "pygments_lexer": "ipython3",
   "version": "3.7.2"
  }
 },
 "nbformat": 4,
 "nbformat_minor": 2
}
