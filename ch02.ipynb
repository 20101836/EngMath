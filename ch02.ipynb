{
 "cells": [
  {
   "cell_type": "markdown",
   "metadata": {},
   "source": [
    "# Chapter 2. First-Order Differential Equations"
   ]
  },
  {
   "cell_type": "markdown",
   "metadata": {},
   "source": [
    "## Contents\n",
    "\n",
    "* Solution Curves Without a Solution\n",
    "* Separable Equations\n",
    "* Linear Equations\n",
    "* Exact Equations\n",
    "* Solutions by Substitutions\n",
    "* A Numerical Method\n",
    "* Linear Models\n",
    "* Nonlinear Models\n",
    "* Modeling with Systems of First-Order DEs"
   ]
  },
  {
   "cell_type": "markdown",
   "metadata": {},
   "source": [
    "## 2.1 Solution Curves Without a Solution"
   ]
  },
  {
   "cell_type": "markdown",
   "metadata": {},
   "source": [
    "* DEs can be analyzed qualitatively, allowing us to approximate a solution curve without solving the problem\n",
    "* Two approches are:\n",
    "    * Direction fields\n",
    "    * Autonomous first-order DEs "
   ]
  },
  {
   "cell_type": "markdown",
   "metadata": {},
   "source": [
    "* Direction fields: \n",
    "    \n",
    "    * $\\frac{dy}{dx}=\\sin y$\n",
    "    \n",
    "     ![Direction field for dy/dx = sin y](figures/ch02_figure01.png)\n",
    "    \n",
    "    * Slope of the **lineal element** at $(x,y(x))$ on a solution curve is the value of $\\frac{dy}{dx}$ at this point\n",
    "    * **Direction/slope fields** of $\\frac{dy}{dx}=f(x,y)$ are collections of lineal slope elements that visually suggest the shape of a family of solution curves"
   ]
  },
  {
   "cell_type": "markdown",
   "metadata": {},
   "source": [
    "* **Autonomous** first-order DEs, $\\frac{dy}{dx}=f(y)$\n",
    "    * An ODE in which the independent variable does not appear explicitly\n",
    "     \n",
    "     $\\begin{align*}\n",
    "         \\frac{dy}{dx} &= 1+y^2 & \\mathrm{autonomous} \\\\\n",
    "         \\frac{dy}{dx} &= 0.2xy & \\mathrm{nonautonomous}\n",
    "      \\end{align*}$\n",
    "    * **Critical points**, $f(c)=0$, are constant (or equilibrium) solutions of autonomous DEs\n",
    "    * A **phase portrait** is made by putting critical points on a virtical line with phase lines pointing up or down, depending on the sign of the function over intervals between the points\n",
    "    * Some conclusions can be drawn about nonconstant solution curves to autonomous DEs\n",
    "        * If a solution $y(x)$ passes through $(x_0,y_0)$ in subregion $R_i$ then $y(x)$ remains in $R_i$\n",
    "        * By continuity of $f$, $f(y)$ cannot change signs in a subregion $R_i$\n",
    "        * Since $f(y)$ is either positive or negative in $R_i$, a solution is either increasing or decreasing and has no relative extremum\n",
    "        \n",
    "    * **Example** \n",
    "    \n",
    "    $\\frac{dP}{dt}=P(a-bP)$\n",
    "    \n",
    "    ![Phase portrait and solution curves in each of the three subregions](figures/ch02_figure02.png)"
   ]
  },
  {
   "cell_type": "markdown",
   "metadata": {},
   "source": [
    "## 2.2 Separable Equations"
   ]
  },
  {
   "cell_type": "markdown",
   "metadata": {},
   "source": [
    "* Consider $\\frac{dy}{dx}=f(x,y)$\n",
    "    * When $f$ does not depend on $y$, $\\frac{dy}{dx}=g(x)$, which can be solved by integration\n",
    "    * The solution $y=\\int g(x) dx = G(x)+c$ where $G(x)$ is an antiderivative (indefinite integral)\n",
    "    * Some functions, termed **nonelementary**, do not possess an antiderivative that is an elementary function"
   ]
  },
  {
   "cell_type": "markdown",
   "metadata": {},
   "source": [
    "* A first-order DE of the form $\\frac{dy}{dx}=g(x)h(y)$ is said to be **separable**, or have **separable variables**\n",
    "* A separable equation can be rewritten in the form $\\frac{1}{h(y)}dy=g(x)dx$, which is solved by integrating both sides"
   ]
  },
  {
   "cell_type": "markdown",
   "metadata": {},
   "source": [
    "* **Example:** Solving an separable equation $\\frac{dy}{dx}=y^2-9$, $y(0)=0$\n",
    "\n",
    " Separating and using partial fractions\n",
    " \n",
    " $\n",
    " \\begin{align*}\n",
    "    \\frac{dy}{(y-3)(y+3)} &= dx \\\\ \n",
    "    \\frac{1}{6} \\left [ \\frac{1}{y-3} -\\frac{1}{y+3} \\right ] dy &= dx\n",
    " \\end{align*}\n",
    " $\n",
    "\n",
    " Integrating and solving for $u$ yields\n",
    "\n",
    " $\n",
    " \\begin{align*}\n",
    "    \\frac{1}{6} \\ln \\left | \\frac{y-3}{y+3} \\right | &= x+c_1\\\\ \n",
    "    &\\Downarrow c=e^{6c_1} \\\\\n",
    "     y &= 3 \\frac{1+ce^{6x}}{1-ce^{6x}}&\n",
    " \\end{align*}\n",
    " $\n",
    " \n",
    "  Finally, applying $y(0)=0$ gives $c=-1$"
   ]
  },
  {
   "cell_type": "markdown",
   "metadata": {},
   "source": [
    "## 2.3 Linear Equations"
   ]
  },
  {
   "cell_type": "markdown",
   "metadata": {},
   "source": [
    "A first-order DE of the form $a_1(x) \\frac{dy}{dx} +a_0(x)y = g(x)$ is a **linear equation** in the dependent variable $y$\n",
    "\n",
    "* The DE is **homogeneous** when $g(x)=0$; otherwise, it is **nonhomogeneous**\n",
    "* The standard form of a linear DE is obtained by dividing both sides by the lead coefficient\n",
    "    \n",
    " $\\frac{dy}{dx}+P(x)y=f(x)$ "
   ]
  },
  {
   "cell_type": "markdown",
   "metadata": {},
   "source": [
    "The **standard form** equation has the property that its solution $y$ is the sum of the solution of the associated homogeneous equation $y_h$ and the particular solution of the nonhomogeneous equation $y_p$: $y=y_h +y_p$\n",
    "\n",
    "* The homogeneous equation $\\frac{dy_h}{dx} +P(x)y_h= 0 $ is separable, allowing us to solve for $y_h$\n",
    "\n",
    "  $\\begin{align*}\n",
    "      \\frac{dy_h}{y_h} &= -P(x)dx \\\\ \n",
    "      \\ln |y_h| &= -\\int P(x)dx +c'\\\\ \n",
    "      y_h &= c \\exp\\left ( -\\int P(x) dx \\right )\n",
    "    \\end{align*}$\n",
    "* **Variation of parameters** $y_p=u(x)y_h$ can be used to solve the nonhomogeneous equation of $y_p$\n",
    "\n",
    "  $\\begin{align*}\n",
    "      y_h \\frac{du}{dx} +& \\underbrace{\\left (\\frac{dy_h}{dx} +P(x) y_h  \\right )}_{=\\,0} u = f(x) \\\\\n",
    "      & du = \\frac{f(x)}{y_h} dx\n",
    "   \\end{align*}$"
   ]
  },
  {
   "cell_type": "markdown",
   "metadata": {},
   "source": [
    "## 2.4 Exact Equations"
   ]
  },
  {
   "cell_type": "markdown",
   "metadata": {},
   "source": [
    "A differential expression $M(x,y)dx + N(x,y)dy$ is an **exact differential** in a region $R$ of the $xy$-plane if it corresponds to the differential of some function $f(x,y)$:\n",
    "\n",
    "> $df(x,y)=\\frac{\\partial f}{\\partial x} dx + \\frac{\\partial f}{\\partial y} dy$\n",
    "\n",
    "and a condition of exact differentials is: \n",
    "\n",
    "> $\\frac{\\partial M}{\\partial y}=\\frac{\\partial N}{\\partial x}$\n",
    "\n",
    "\n",
    "$M(x,y)dx + N(x,y)dy=0$ is an **exact equation** if the left side is an exact differential"
   ]
  },
  {
   "cell_type": "markdown",
   "metadata": {},
   "source": [
    "**Example:** Solving an Exact DE, $2xydx+(x^2-1)dy=0$\n",
    "* With $M(x,y)=2xy$ and $N(x,y)=x^2-1$, we have:\n",
    "\n",
    "  $\\frac{\\partial M}{\\partial y}=2x=\\frac{\\partial N}{\\partial x}$\n",
    "\n",
    "* The equation is exact so there exists $f(x,y)$ such that\n",
    "\n",
    "  $\\begin{align*}\n",
    "        \\frac{\\partial f}{\\partial x} &= 2xy \\\\ \n",
    "        \\frac{\\partial f}{\\partial y} &= x^2 -1\n",
    "    \\end{align*}$\n",
    "\n",
    "* Integrating $\\frac{\\partial f}{\\partial x}$ gives\n",
    "\n",
    "  $f(x,y)=x^2y+g(y)$\n",
    "\n",
    "* Taking the partial derivative of $\\frac{\\partial f}{\\partial y}$ with respect to $y$ and setting the result equal to $N(x,y)$ gives\n",
    "\n",
    "  $\\frac{\\partial f}{\\partial y}=x^2+g'(y)=x^2-1$\n",
    "\n",
    "* It follows that \n",
    "\n",
    "  $g'(y)=-1$ and $g(y)=-y+c$\n",
    "\n",
    "* Hence $f(x,y)=x^2y-y+c$ and the solution of the equation in implicit form is\n",
    "\n",
    "  $x^2y-y+c=0$"
   ]
  },
  {
   "cell_type": "markdown",
   "metadata": {},
   "source": [
    "**Integrating Factor** of the first-order linear DE\n",
    " \n",
    "> $\n",
    "\\begin{align*}\n",
    "\\frac{dy}{dx} +P(x)y &= f(x)\\\\ \n",
    "\\left ( P(x)y -f(x) \\right )dx +dy &= 0\\\\ \n",
    " &\\downarrow \\times \\; I(x): \\mathrm{Integrating} \\; \\mathrm{Factor}\\\\ \n",
    "I(x)\\left ( P(x)y -f(x) \\right )dx +I(x)dy &= 0 \\\\\n",
    "\\\\\n",
    "\\mathbf{To\\; be\\; an\\; exact \\;equation}&\\Downarrow \\\\\n",
    "\\frac{\\partial}{\\partial y} \\left\\{I(x)\\left( P(x)y -f(x) \\right)  \\right \\} &= I(x) P(x) =\\frac{\\partial}{\\partial x} I(x) \\\\\n",
    "I(x) &= \\exp\\left(\\int P(x) dx\\right)\n",
    "\\end{align*}$\n",
    "\n",
    "> Then\n",
    "\n",
    "> $\\begin{align*}\n",
    "    I(x) \\frac{dy}{dx} +I(x) P(x)y &= I(x)f(x)\\\\\n",
    "    \\frac{d}{dx}\\left\\{ I(x)y \\right \\} &= I(x)f(x)\\\\ \n",
    "    &\\Downarrow \\\\\n",
    "    y = c I(x)^{-1} &+I(x)^{-1} \\int I(x) f(x) dx\n",
    "  \\end{align*}$"
   ]
  },
  {
   "cell_type": "markdown",
   "metadata": {},
   "source": [
    "## 2.5 Solutions by Substitutions"
   ]
  },
  {
   "cell_type": "markdown",
   "metadata": {},
   "source": [
    "**Substitution** is often used to get a DE in a form such that a known procedure can be used to find a solution\n",
    "\n",
    "* Reduction to separation of variables can be facilitated in the DE $\\frac{dy}{dx}=f(Ax+By+C)$ by substituting\n",
    "> $u=Ax+By+C, \\;B \\neq 0$\n",
    "  \n",
    "  **Example:** Solve the IVP $\\frac{dy}{dx} = (-2x +y)^2 -7, \\;y(0)=0$\n",
    "  \n",
    "  Let $u=-2x+y$, then $\\frac{du}{dx}=-2 + \\frac{dy}{dx}$ giving\n",
    "  > $\\frac{du}{dx} = u^2 -9$"
   ]
  },
  {
   "cell_type": "markdown",
   "metadata": {},
   "source": [
    "* **Homogeneous** first-order DE\n",
    " \n",
    " A first-order ordinary DE in the form:\n",
    " \n",
    " > $\\frac{dy}{dx}=f(x,y) = - \\frac{M(x,y)}{N(x,y)}$\n",
    " \n",
    " is a homogeneous type if both function $M(x,y)$ and $N(x,y)$ are homogeneous functions of the same degree $n$:\n",
    " \n",
    " > $M(\\lambda x, \\lambda y) = \\lambda^n M(x, y), \\;\\; N(\\lambda x, \\lambda y) = \\lambda^n N(x, y)$.\n",
    " \n",
    " Thus, we can let $t=\\frac{1}{x}$ to simplify this quotient to a function $f$ of the single variable $\\frac{y}{x}$:\n",
    "\n",
    " > $\\frac{M(x, y)}{N(x, y)}=\\frac{M(t x,t y)}{N(t x, t y)} = \\frac{M\\left(1, \\frac{y}{x}\\right)}{N\\left(1,\\frac{y}{x}\\right)}=-f\\left(\\frac{y}{x}\\right)$.\n",
    " \n",
    "  That is,\n",
    "  \n",
    "  > $\\frac{dy}{dx}=f\\left(\\frac{y}{x}\\right)$\n",
    "  \n",
    "  The change of variables $y=ux$ transforms the original differential equation into the separable form;\n",
    "  \n",
    "  > $\\frac{du}{f(u)-u}=\\frac{dx}{x}$"
   ]
  },
  {
   "cell_type": "markdown",
   "metadata": {},
   "source": [
    "* **Bernoulli** DE: $y'+P(x)y =Q(x)y^{n}$ where $n \\neq 0$ and $n \\neq 1$\n",
    "\n",
    " Bernoulli equations are special because they are nonlinear differential equations with known exact solutions. \n",
    " The substitution $u=y^{1-n}$ reduces any Bernoulli equation to a linear differential equation.\n",
    " \n",
    " **Example:** Solve $y'-\\frac{2}{x}y=-x^2y^2$\n",
    " \n",
    " Changing variables ($u=\\frac{1}{y}$, $u'=-\\frac{1}{y^2}y'$) gives the equation\n",
    " \n",
    " > $u'+\\frac{2}{x}u=x^2$"
   ]
  },
  {
   "cell_type": "markdown",
   "metadata": {},
   "source": [
    "* **Riccatti** DE\n",
    "\n",
    " Riccati equation is any first-order ordinary differential equation that is quadratic in the unknown function. In other words, it is an equation of the form\n",
    " \n",
    " > $y'=q_0(x)+q_1(x)y+q_2(c)y^2$, where $q_0(x)\\neq 0$ and $q_2(x)\\neq 0$.\n",
    " \n",
    " The new variable $v=yq_2$ satisfies a Riccati equation of the form\n",
    " \n",
    " > $v'=v^2+R(x)v+S(x)$\n",
    " \n",
    " where  $S=q_2 q_0$ and $R=q_{1}+\\left({\\frac{q_{2}'}{q_{2}}}\\right)$. \n",
    " Substituting $v=-\\frac{u'}{u\\,}$, it follows that $u$ satisfies the linear 2nd order ODE\n",
    " \n",
    " > $u''-R(x)u'+S(x)u=0$.\n",
    " \n",
    " A solution of this equation will lead to a solution $y=-\\frac{u'}{q_2u}$ of the original Riccati equation."
   ]
  },
  {
   "cell_type": "code",
   "execution_count": null,
   "metadata": {},
   "outputs": [],
   "source": []
  }
 ],
 "metadata": {
  "kernelspec": {
   "display_name": "Python 3",
   "language": "python",
   "name": "python3"
  },
  "language_info": {
   "codemirror_mode": {
    "name": "ipython",
    "version": 3
   },
   "file_extension": ".py",
   "mimetype": "text/x-python",
   "name": "python",
   "nbconvert_exporter": "python",
   "pygments_lexer": "ipython3",
   "version": "3.7.2"
  }
 },
 "nbformat": 4,
 "nbformat_minor": 2
}
