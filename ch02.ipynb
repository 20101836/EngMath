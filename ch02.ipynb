{
 "cells": [
  {
   "cell_type": "markdown",
   "metadata": {},
   "source": [
    "# Chapter 2. First-Order Differential Equations"
   ]
  },
  {
   "cell_type": "markdown",
   "metadata": {},
   "source": [
    "## Contents\n",
    "\n",
    "* Solution Curves Without a Solution\n",
    "* Separable Equations\n",
    "* Linear Equations\n",
    "* Exact Equations\n",
    "* Solutions by Substitutions\n",
    "* A Numerical Method\n",
    "* Linear Models\n",
    "* Nonlinear Models\n",
    "* Modeling with Systems of First-Order DEs"
   ]
  },
  {
   "cell_type": "markdown",
   "metadata": {},
   "source": [
    "## 2.1 Solution Curves Without a Solution"
   ]
  },
  {
   "cell_type": "markdown",
   "metadata": {},
   "source": [
    "* DEs can be analyzed qualitatively, allowing us to approximate a solution curve without solving the problem\n",
    "* Two approches are:\n",
    "    * Direction fields\n",
    "    * Autonomous first-order DEs "
   ]
  },
  {
   "cell_type": "markdown",
   "metadata": {},
   "source": [
    "* Direction fields: \n",
    "    \n",
    "    > $\\frac{dy}{dx}=\\sin y$\n",
    "    \n",
    "    > ![Direction field for dy/dx = sin y](figures/ch02_figure01.png)\n",
    "    \n",
    "    * Slope of the **lineal element** at $(x,y(x))$ on a solution curve is the value of $\\frac{dy}{dx}$ at this point\n",
    "    * **Direction/slope fields** of $\\frac{dy}{dx}=f(x,y)$ are collections of lineal slope elements that visually suggest the shape of a family of solution curves"
   ]
  },
  {
   "cell_type": "markdown",
   "metadata": {},
   "source": [
    "* **Autonomous** first-order DEs\n",
    "    * An ODE in which the independent variable does not appear explicitly\n",
    "    > $\\begin{align*}\n",
    "         \\frac{dy}{dx} &= 1+y^2 & \\mathrm{autonomous} \\\\\n",
    "         \\frac{dy}{dx} &= 0.2xy & \\mathrm{nonautonomous}\n",
    "      \\end{align*}$\n",
    "    * **Critical points**, $f(c)=0$, are constant (or equilibrium) solutions of autonomous DEs\n",
    "    * A **phase portrait** is made by putting critical points on a virtical line with phase lines pointing up or down, depending on the sign of the function over intervals between the points\n",
    "    * Some conclusions can be drawn about nonconstant solution curves to autonomous DEs\n",
    "        * If a solution $y(x)$ passes through $(x_0,y_0)$ in subregion $R_i$ then $y(x)$ remains in $R_i$\n",
    "        * By continuity of $f$, $f(y)$ cannot change signs in a subregion $R_i$\n",
    "        * Since $f(y)$ is either positive or negative in $R_i$, a solution is either increasing or decreasing and has no relative extremum\n",
    "        \n",
    "    * **Example** \n",
    "    > $\\frac{dP}{dt}=P(a-bP)$"
   ]
  },
  {
   "cell_type": "code",
   "execution_count": null,
   "metadata": {},
   "outputs": [],
   "source": []
  }
 ],
 "metadata": {
  "kernelspec": {
   "display_name": "Python 3",
   "language": "python",
   "name": "python3"
  },
  "language_info": {
   "codemirror_mode": {
    "name": "ipython",
    "version": 3
   },
   "file_extension": ".py",
   "mimetype": "text/x-python",
   "name": "python",
   "nbconvert_exporter": "python",
   "pygments_lexer": "ipython3",
   "version": "3.7.2"
  }
 },
 "nbformat": 4,
 "nbformat_minor": 2
}
