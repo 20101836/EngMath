{
 "cells": [
  {
   "cell_type": "markdown",
   "metadata": {},
   "source": [
    "## Lesson 1. Introduction to Partial Differential Equations "
   ]
  },
  {
   "cell_type": "markdown",
   "metadata": {},
   "source": [
    "Most physical phenomena, whether in the domain of fluid dynamics, electricity, magnetism, mechanics, optics, or heat flow, can be descriibed in general by partial differential equations; in fact, most of mathematical physics are PDEs."
   ]
  },
  {
   "cell_type": "markdown",
   "metadata": {},
   "source": [
    "### What Are PDEs?"
   ]
  },
  {
   "cell_type": "markdown",
   "metadata": {},
   "source": [
    "A partial differential equation is an equation that contains partial derivatives. In contrast to ordinary differential equations (ODEs), where the unknown function depends on only one variable, in PDEs, **the unknown function depends on serveral variables** (like temperature $u(x,t)$ depends both on location $x$ and time $t$)"
   ]
  },
  {
   "cell_type": "markdown",
   "metadata": {},
   "source": [
    "* A Few Well-Known PDEs\n",
    " \n",
    "  $\\displaystyle u_t=u_{xx},\\;$ heat equation in one dimension\n",
    "  \n",
    "  $\\displaystyle u_t=u_{xx}+u_{yy},\\;$ heat equation in two dimension\n",
    "  \n",
    "  $\\displaystyle u_{rr}+\\frac{1}{r}u_r+\\frac{1}{r^2}u_{\\theta\\theta}=0,\\;$ Laplace's equation in polar coordinates\n",
    "  \n",
    "  $\\displaystyle u_{tt}=u_{xx}+u_{yy}+u{zz},\\;$ wave equation in three dimension\n",
    "  \n",
    "  The unknown function $u$ always depends on more than one variable. The variable $u$ (which we differentiate) is called the **dependent** variable, whereas the ones differentiate *with respect to* are called the **independent** variables"
   ]
  },
  {
   "cell_type": "markdown",
   "metadata": {},
   "source": [
    "### Kinds of PDEs"
   ]
  },
  {
   "cell_type": "markdown",
   "metadata": {},
   "source": [
    "Classification is an important concept because the general theory and methods of solution apply only to a given class of equations. Six basic classfications are:\n",
    "\n",
    "* **Order of the PDE**\n",
    "\n",
    "  $u_t=u_{xx},\\;$ second order\n",
    "  \n",
    "  $u_t=u_x,\\;$ first order\n",
    "  \n",
    "  $u_t=uu_{xxx}+\\sin x,\\;$ third order\n",
    "  \n",
    "* **Number of Variables**\n",
    "\n",
    "  $u_t=u_{xx},\\;$ two variables: $x$ and $t$\n",
    "  \n",
    "  $\\displaystyle u_t=u_{rr}+\\frac{1}{r}u_{r}+\\frac{1}{r^2}u_{\\theta\\theta},\\;$ three variables: $t$, $r$, and $\\theta$\n",
    "\n",
    "* **Linearity**\n",
    "\n",
    "  Partial differential equations are either linear or nonlinear.\n",
    "  \n",
    "  $u_{tt}=e^{-t}u_{xx}+\\sin t,\\;$ linear\n",
    "  \n",
    "  $uu_{xx}+u_t=0,\\;$ nonlinear\n",
    "  \n",
    "  $u_{xx}+yu_{yy}=0,\\;$ linear\n",
    "  \n",
    "  $xu_x+yu_y +u^2=0,\\;$ nonlinear\n",
    "  \n",
    "  A second-order linear equation in two variables is an equation of the form:\n",
    "  \n",
    "  >$Au_{xx} +Bu_{xy} +Cu_{yy} +Du_x +Eu_y +Fu = G,\\;$ (1.1)\n",
    "  \n",
    "  where $A$, $B$, $C$, $D$, $E$, $F$, and $G$ can be constants or given functions of $x$ and $y$\n",
    "  \n",
    "* **Homogeneity**\n",
    "\n",
    "  The equation (1.1) is called homogeneous if the right hand side $G(x,y)$ is identically zero for all $x$ and $y$. \n",
    "  \n",
    "  If $G(x,y)$ is not identically zero, then the equation is nonhomogeneous"
   ]
  },
  {
   "cell_type": "markdown",
   "metadata": {},
   "source": [
    "* **Kinds of Coefficients**\n",
    "\n",
    "  The coeficients in equation (1.1) are constants, then (1.1) is said to have constant coefficients (otherwise, variable coefficients)"
   ]
  },
  {
   "cell_type": "markdown",
   "metadata": {},
   "source": [
    "* **Thre Basic Types of Linear Equations**\n",
    "\n",
    "  * $B^2-4AC=0$, **Parabolic:** heat flow and difussion processes\n",
    "  \n",
    "    $u_t=u_{xx}$\n",
    "  \n",
    "  * $B^2-4AC>0$, **Hyperbolic:** vibrating systems and wave motion\n",
    "  \n",
    "    $u_{tt}=u_{xx}$\n",
    "    \n",
    "    $u_{\\xi\\eta}=0$\n",
    "    \n",
    "  * $B^2-4AC<0$, **Elliptic:** steady-state phenomena\n",
    "  \n",
    "    $u_{xx}+u_{yy}=0$\n",
    "    \n",
    "  * In the case of variable coefficients, the situation can change from point to point\n",
    "  \n",
    "    $yu_{xx}+u_{yy}=0$"
   ]
  },
  {
   "cell_type": "markdown",
   "metadata": {},
   "source": [
    "## Lesson 2. Diffusion-Type Problems (Parabolic Equations)"
   ]
  },
  {
   "cell_type": "markdown",
   "metadata": {},
   "source": [
    "><img src=\"figures/pde01_figure01.jpg\" alt=\"heat flow experiment\" style=\"width:500px\"/> "
   ]
  },
  {
   "cell_type": "markdown",
   "metadata": {},
   "source": [
    "### The Mathematical Model of the Heat-Flow"
   ]
  },
  {
   "cell_type": "markdown",
   "metadata": {},
   "source": [
    "The description of our physical problem requires three types of equations\n",
    "\n",
    "* The **PDE** describing the physical phenomenon of heat flow\n",
    "* The **boundary conditions** describing the physical nature of our problem on the boundaries\n",
    "* The **initial conditions** describing the physical phenomenon at the start of the experiment "
   ]
  },
  {
   "cell_type": "markdown",
   "metadata": {},
   "source": [
    "#### The Heat Equation"
   ]
  },
  {
   "cell_type": "markdown",
   "metadata": {},
   "source": [
    "The basic equation of *one-dimensional* heat flow is the relationship\n",
    "\n",
    ">$u_t=\\alpha u_{xx},\\;$ $0<x<L\\;$, $0<t<\\infty\\;$ (2.1)\n",
    "\n",
    "This equation is derived from the basic conservation of energy"
   ]
  },
  {
   "cell_type": "markdown",
   "metadata": {},
   "source": [
    "####  Boundary Conditions"
   ]
  },
  {
   "cell_type": "markdown",
   "metadata": {},
   "source": [
    "All physical problems have boundaries of some kind, so we must describe mathematically what goes on there in order to adequately describe the problem. Since the temperature $u$ was fiexed for all time $t>0$ at $T_1$ and $T_2$ at the two ends $x=0$ and $x=L$;\n",
    "\n",
    ">$\\begin{align*}\n",
    " u(0,t)&= T_1\\\\ \n",
    " u(L,t)&= T_2 \n",
    "\\end{align*},\\;\\;0<t<\\infty\\;$ (2.2)"
   ]
  },
  {
   "cell_type": "markdown",
   "metadata": {},
   "source": [
    "#### Initial Conditions"
   ]
  },
  {
   "cell_type": "markdown",
   "metadata": {},
   "source": [
    "All physical problems must start from some value of time (generally called $t=0$), so we must specify the physical apparatus at this time. Since we started monitoring the rod temperature from time the rod has achieved a constant temperature $T_0$, we have\n",
    "\n",
    ">$u(x,0)=T_0,\\;\\;0\\leq x\\leq L\\;$ (2.3)"
   ]
  },
  {
   "cell_type": "markdown",
   "metadata": {},
   "source": [
    "By writing equation (2.1), (2.2), and (2.3) together, we have what is called an *initial-boundary-value problem*. The interesting here, which is not at all obvious, is that there is only one function $u(x,t)$ that satisfies the problem."
   ]
  },
  {
   "cell_type": "markdown",
   "metadata": {},
   "source": [
    "### More Diffusion-Type Equations"
   ]
  },
  {
   "cell_type": "markdown",
   "metadata": {},
   "source": [
    "* **Lateral Heat Loss Proportional to the Temperature Difference**\n",
    "\n",
    "  The equation\n",
    "\n",
    "  >$u_t=\\alpha u_{xx} -\\beta (u -u_o),\\;$ $\\beta>0$\n",
    "\n",
    "  describes heat flow in the rod with both diffusion $\\alpha u_{xx}$ along the rod and heat loss (or gain) across the lateral sides of the rod. Heat loss ($u>u_o$) or gain ($u<u_o$) is proportional to the difference between the temperature $u(x,t)$ and the surrounding medium $u_o$"
   ]
  },
  {
   "cell_type": "markdown",
   "metadata": {},
   "source": [
    "* **Internal Heat Source**\n",
    "\n",
    "  The nonhomogeneous equation\n",
    "\n",
    "  >$u_t=\\alpha u_{xx}+f(x,t)$\n",
    "\n",
    "  corresponds to the situation where the rod is being supplied with an internal heat source"
   ]
  },
  {
   "cell_type": "markdown",
   "metadata": {},
   "source": [
    "* **Diffusion-Convection Equation**\n",
    "\n",
    "  Suppose a pollutant is being carried along in a stream moving with velocity $v$. The rate of change $u_t$ is measured by the diffusion-convection equation\n",
    "\n",
    "  >$u_t=\\alpha u_{xx}-vu_x$\n",
    "\n",
    "  The term $\\alpha u_{xx}$ is the diffusion contribution and $-vu_x$ is the convection component"
   ]
  },
  {
   "cell_type": "markdown",
   "metadata": {},
   "source": [
    "*  In addition to these modifications in the heat equation, the boundary conditions of the rod can also be changed to correspond to other physical situations"
   ]
  },
  {
   "cell_type": "markdown",
   "metadata": {},
   "source": [
    "## Lesson 3. Boundary Conditions for Diffusion-Type Problems "
   ]
  },
  {
   "cell_type": "markdown",
   "metadata": {},
   "source": [
    "When describing the various types of boundary conditions that can occur for heat-flow problems, three basic types generally come to mind."
   ]
  },
  {
   "cell_type": "markdown",
   "metadata": {},
   "source": [
    "### Type 1 BC (Temperature specified on the boundary) \n",
    "\n",
    "><img src=\"figures/pde01_figure02.jpg\" alt=\"type 1 BC\" style=\"width:500px\"/>\n",
    "\n",
    "><img src=\"figures/pde01_figure03.jpg\" alt=\"oscillating BC\" style=\"width:500px\"/>\n",
    "\n",
    "Of course, we'd have to an initial temperature to get this experiment started, but in this case, the effects of our IC would vanish after a short period of time, and the resulting temperature inside the circle would depend on the boundary temperature"
   ]
  },
  {
   "cell_type": "markdown",
   "metadata": {},
   "source": [
    "### Type 2 BC (Flux specified - including the special case of insulated boundaries)\n",
    "\n",
    "**Insulated boundaries** are those that do not allow any heat flow to pass, and, hence, the normal derivative (inward or outward) must be zero on the boundary (since the normal derivative is proportional to the flux). \n",
    "\n",
    "In the case of the one-dimensional rod with insulated ends at $x=0$ and $x=L$, the BCs are\n",
    "\n",
    ">$\\begin{align*}\n",
    " u_x(0,t)&= 0\\\\ \n",
    " u_x(L,t)&= 0 \n",
    "\\end{align*},\\;\\;0<t<\\infty$\n",
    "\n",
    "In two-dimensional domains, an insulated boundary would mean that the normal derivative of the temperature across the boundary is zero.\n",
    "For example, if the circular disc insulated on the boundary, then the BC would be\n",
    "\n",
    ">$u_t(R,\\theta,t)=0\\;$ for all $0\\leq \\theta <2\\pi\\;$ and all $0<t<\\infty$\n",
    "\n",
    "On the other hand, if we specify the amount of heat entering across the boundary of our disc, the BC is\n",
    "\n",
    ">$u_t(R,\\theta,t)=f(\\theta,t)$"
   ]
  },
  {
   "cell_type": "markdown",
   "metadata": {},
   "source": [
    "### Type 3 BC (Temperature of the surrounding medium specified)\n",
    "\n",
    "><img src=\"figures/pde01_figure04.jpg\" alt=\"convective cooling at boundary\" style=\"width:500px\"/>\n",
    "\n",
    "By specifying these types of BCs, we cannot say the boundary temperatures of the rod will be the same as the liquid temperature $g_1(t)$ and $g_2(t)$, but we do know (Newton's law of cooling) that whenever the rod temperature at one of the boundaries is less than the respective liquid temperatures, then heat will flow into the rod at a rate proportional to this differance. In other words, for the one-dimensional rod with boundaries at $x=0$ and $L$, Newton's lar of cooling states:\n",
    "\n",
    ">Outward Flux of Heat (at $x=0$) $=h[u(0,t) -g_1(t)]$\n",
    "<br>Outward Flux of Heat (at $x=L$) $=h[u(L,t) -g_2(t)]$\n",
    "\n",
    "where $h$ is a heat transfer coefficient. Fourier's law gives us another representation for the outward flux of heat. In our one-dimensional problem, Fourier's law takes the form:\n",
    "\n",
    ">Outward Flux of Heat (at $x=0$) $\\displaystyle =k\\frac{\\partial u(0,t)}{\\partial x}$\n",
    "<br>Outward Flux of Heat (at $x=L$) $\\displaystyle =-k\\frac{\\partial u(L,t)}{\\partial x}$\n",
    "\n",
    "where $k$ is the thermal conductivity of the material. Finally if we use the two experssions for heat flux, we have our desired BCs in purely mathematical terms;\n",
    "\n",
    ">$\\begin{align*}\n",
    " \\frac{\\partial u(0,t)}{\\partial x}&= \\frac{h}{k} \\left[ u(0,t) -g_1(t) \\right]\\\\ \n",
    " \\frac{\\partial u(L,t)}{\\partial x}&= -\\frac{h}{k} \\left[ u(L,t) -g_2(t) \\right]\n",
    "\\end{align*},\\;\\;0<t<\\infty$\n",
    "\n",
    "In higher dimensions, we have similar BCs; for example, if the boundary of a circular disc is interfaced with a moving liquid that has a temperature $g(\\theta,t)$, our BC would be\n",
    "\n",
    ">$\\displaystyle \\frac{\\partial u}{\\partial r}(R,\\theta, t)=-\\frac{h}{k} \\left[ u(R,\\theta,t) -g(\\theta,t) \\right]$"
   ]
  },
  {
   "cell_type": "markdown",
   "metadata": {},
   "source": [
    "## Lesson 4. Derivation of the Heat Equation "
   ]
  },
  {
   "cell_type": "markdown",
   "metadata": {},
   "source": [
    "\n",
    "><img src=\"figures/pde01_figure05.jpg\" alt=\"thin conducting rod\" style=\"width:500px\"/>\n",
    "\n",
    "Suppose we have a one-dimension rod of length $L$ for which we make the following assumptions:\n",
    "\n",
    "* The rod is made of a single homogeneous conducting material\n",
    "* The rod is laterally insulated (heat flows only in the $x$-direction)\n",
    "* The rod is thin (the temperature at all points of a cross section is constant)\n",
    "\n",
    "If we apply the principle of conservation of energy to the segment $[x,x+\\Delta x]$, we can claim\n",
    "\n",
    "> Net Change of Heat inside $[x,x+\\Delta x] =\\;$ Net Flux of Heat across the Boundaries $\\;+\\;$ Total Heat Generated inside $[x,x+\\Delta x]$\n",
    "\n",
    "The total amount of heat inside $[x,x+\\Delta x]$ at any time $t$ is measured by\n",
    "\n",
    "> Total Heat inside $\\displaystyle [x,x+\\Delta x] = \\int_x^{x+\\Delta x} \\rho c_p A u(s,t)\\,ds$\n",
    "\n",
    "We can write the conservation of energy via calculus as\n",
    "\n",
    ">$\\begin{align*}\n",
    " \\frac{d}{dt}\\int_x^{x +\\Delta x} \\rho c_p A u(s,t)\\,ds = \\rho c_p A \\int_x^{x +\\Delta x} u_t(s,t)\\,ds\n",
    "&=kA \\left[ u_x(x+\\Delta x,t) -u_x(x,t) \\right] +A\\int_x^{x +\\Delta x} F(s,t)\\,ds \\\\ \n",
    " &\\Downarrow \\; \\text{Mean Value Theorem}\\;\\int_a^b f(x)\\,dx=f(\\xi)(b-a),\\;a<\\xi<b \\\\ \n",
    " \\rho c_p A u_t(\\xi_1,t) \\Delta x &= kA \\left[ u_x(x+\\Delta x,t) -u_x(x,t) \\right] +AF(\\xi_2,t)\\Delta x, \\;\\;x<\\xi_1, \\xi_2<x+\\Delta x\\\\ \n",
    " &\\Downarrow \\\\\n",
    " u_t(\\xi_1,t) &=\\frac{k}{\\rho c_p} \\left\\{ \\frac{u_x(x+\\Delta x,t) -u_x(x,t)}{\\Delta x} \\right\\} +\\frac{1}{\\rho c_p} F(\\xi_2,t) \\\\\n",
    "&\\Downarrow \\;\\Delta x \\to 0 \\\\\n",
    " u_t(x,t) &=\\alpha u_{xx}(x,t) +f(x,t)\n",
    "\\end{align*}$"
   ]
  },
  {
   "cell_type": "markdown",
   "metadata": {},
   "source": [
    "# Lesson 5. Separation of Variables"
   ]
  },
  {
   "cell_type": "markdown",
   "metadata": {},
   "source": [
    "Separation of variables is one of the oldest techniques for solving initial-boundary-value problems and applies to problems where\n",
    "\n",
    "* The PDE is linear and homogeneous (not necessarily constant coefficients)\n",
    "* The boundary conditions are of the form\n",
    "\n",
    ">$\\begin{align*}\n",
    " \\alpha u_x(0,t) +\\beta u(0,t)&= 0\\\\ \n",
    " \\gamma u_x(L,t) +\\delta u(L,t)&= 0 \n",
    "\\end{align*}$\n",
    "\n",
    "where $\\alpha$, $\\beta$, $\\gamma$, and $\\delta$ are constants (boundary conditions of this form are called linear homogeneous BCs)"
   ]
  },
  {
   "cell_type": "markdown",
   "metadata": {},
   "source": [
    "><img src=\"figures/pde01_figure06.jpg\" alt=\"diffusion problem\" style=\"width:500px\"/>"
   ]
  },
  {
   "cell_type": "markdown",
   "metadata": {},
   "source": [
    "We wish to find the function $u(x,t)$ that satisfies the following four conditions:\n",
    "\n",
    ">$\\;\\;\\;\\;\\;\\;u_t = \\alpha u_{xx},\\;\\;\\; 0<x<L,\\;0<t<\\infty$\n",
    "\n",
    ">$\\begin{align*} u(0,t)&= 0\\\\ u(L,t)&= 0 \\end{align*}, \\;\\;\\;\\;\\;\\; 0<t<\\infty$\n",
    "\n",
    ">$u(x,0)=\\phi(x), \\;\\;\\; 0\\leq x \\leq L$"
   ]
  },
  {
   "cell_type": "markdown",
   "metadata": {},
   "source": [
    "**STEP 1** To begin, we look for solutions of the form $u(x,t)=X(x)T(t)$ by substituting $X(x)T(t)$ into the PDE\n",
    "\n",
    ">$\\begin{align*}\n",
    " X(x)T'(t)&=\\alpha X''(x)T(t) \\\\ \n",
    " &\\Downarrow \\\\ \n",
    " \\frac{T'(t)}{\\alpha T(t)}&= \\frac{X''(x)}{X(x)}=-\\lambda <0\\\\ \n",
    " &\\Downarrow \\text{We essentially change a second-order PDE to two ODEs}\\\\ \n",
    " T' &+\\alpha\\lambda T= 0\\\\ \n",
    " X'' &+\\lambda X = 0 \\\\\n",
    " &\\Downarrow \\\\\n",
    " T(t)&=a_1 e^{-\\alpha\\lambda t}\\\\\n",
    " X(x)&=a_2 \\sin \\sqrt{\\lambda}x +a_3 \\cos \\sqrt{\\lambda}x\\\\\n",
    " &\\Downarrow \\\\\n",
    " u(x,t)&=e^{-\\alpha\\lambda t} \\left[ A \\sin \\sqrt{\\lambda}x +B\\cos\\sqrt{\\lambda} x \\right]\n",
    "\\end{align*}$\n",
    "\n",
    "At this point, we have an infinite number of functions that satisfy the PDE"
   ]
  },
  {
   "cell_type": "markdown",
   "metadata": {},
   "source": [
    "**STEP2** The next step is to choose a certain subset of our current crop of solutions\n",
    "\n",
    ">$e^{-\\alpha\\lambda t} \\left[ A \\sin \\sqrt{\\lambda}x +B\\cos\\sqrt{\\lambda} x \\right]\\;$ (5.1)\n",
    "\n",
    "that satisfy the boundary conditions\n",
    "\n",
    ">$\\begin{align*}\n",
    " u(0,t)&=0 \\\\ \n",
    " u(L,t)&=0 \n",
    "\\end{align*}$\n",
    "\n",
    "To do this, we substitute our solutions (5.1) into these BCs, getting\n",
    "\n",
    ">$\\begin{align*}\n",
    " u(0,t)&=Be^{-\\alpha\\lambda t}=0\\;\\Rightarrow B=0\\\\ \n",
    " u(L,t)&=Ae^{-\\alpha\\lambda t}\\sin\\sqrt{\\lambda}L=0 \\;\\Rightarrow \\sin\\sqrt{\\lambda}L=0,\\; A\\neq 0 \\\\\n",
    " &\\Downarrow \\\\\n",
    " \\lambda&= \\left(\\frac{\\pi}{L}\\right)^2, \\left(\\frac{2\\pi}{L}\\right)^2,\\left(\\frac{3\\pi}{L}\\right)^2,\\cdots \\\\\n",
    " &\\Downarrow \\\\\n",
    " \\lambda_n&=\\left(\\frac{n\\pi}{L}\\right)^2,\\;n=1,2,3,\\cdots \n",
    "\\end{align*}\n",
    "$\n",
    "\n",
    "We have now finished the second step; we have an infinite number of functions\n",
    "\n",
    ">$\\displaystyle u_n(x,t)=c_n e^{-\\alpha\\left(\\frac{n\\pi}{L}\\right)^2 t} \\sin\\left( \\frac{n\\pi}{L}x \\right), \\;n=1,2,3,\\cdots$\n",
    "\n",
    "each one satisfying the PDE and the BCs"
   ]
  },
  {
   "cell_type": "markdown",
   "metadata": {},
   "source": [
    "**STEP 3** The last step is to add the fundamental solutions\n",
    "\n",
    ">$\\displaystyle u(x,t)=\\sum_{n=1}^\\infty c_n e^{-\\alpha\\left(\\frac{n\\pi}{L}\\right)^2 t} \\sin\\left( \\frac{n\\pi}{L}x \\right)\\;$ (5.2)\n",
    "\n",
    "in such a way (pick the coefficients $c_n$) that the initial condition\n",
    "\n",
    ">$u(x,0)=\\phi(x)$\n",
    "\n",
    "is satisfied. Substituting the sum into the IC gives\n",
    "\n",
    ">$\\displaystyle \\phi(x)=\\sum_{n=1}^\\infty c_n \\sin\\left( \\frac{n\\pi}{L} x \\right)$\n",
    "\n",
    "Now the problem becomes how to find the coefficients $c_n$. This is actually very easy: One uses properties of the functions known as orthogonality:\n",
    "\n",
    ">$\\displaystyle \\int_0^L \\sin\\left(\\frac{m\\pi}{L} x \\right)\\sin\\left(\\frac{n\\pi}{L}x \\right)\\,dx = \n",
    "\\begin{cases} 0 &  m\\neq n \\\\ \\frac{L}{2} & m=n \\end{cases}$\n",
    "\n",
    "We multiply each side of (5.2) by $\\sin(m\\pi/L)$ and integrate from zero to $L$; we get\n",
    "\n",
    ">$\\displaystyle \\int_0^L \\phi(x) \\sin \\left( \\frac{m\\pi}{L} x\\right)\\, dx=c_m\\int_0^L \\sin^2\\left( \\frac{m\\pi}{L} x\\right)\\,dx = \\frac{L}{2}c_m$\n",
    "\n",
    "We're done; the solution is\n",
    "\n",
    ">$\\displaystyle u(x,t)=\\sum_{n=1}^\\infty c_n e^{-\\alpha\\left(\\frac{n\\pi}{L}\\right)^2 t} \\sin\\left( \\frac{n\\pi}{L}x \\right)\\;$\n",
    "\n",
    "where\n",
    "\n",
    ">$\\displaystyle c_n =\\frac{2}{L} \\int_0^L \\phi(x) \\sin \\left( \\frac{m\\pi}{L} x\\right)\\, dx$"
   ]
  },
  {
   "cell_type": "markdown",
   "metadata": {},
   "source": [
    "**NOTES**\n",
    "\n",
    "* Observe that the only difference between the Fourier sine expansion of $\\phi(x)$ and the solution is the insertion of the time factor\n",
    "\n",
    "  >$e^{-\\alpha\\left(\\frac{n\\pi}{L}\\right)^2 t}$\n",
    "\n",
    "  in each term\n",
    "  \n",
    "* The terms in the series get small very fast due to the factor $e^{-\\alpha\\left(\\frac{n\\pi}{L}\\right)^2 t}$. Hence, for long time periods,\n",
    "  the solution is approximately equal to the first term\n",
    "  \n",
    "  >$\\displaystyle u(x,t)\\approx c_1 e^{-\\alpha\\left(\\frac{\\pi}{L}\\right)^2 t} \\sin\\left( \\frac{\\pi}{L}x \\right)$"
   ]
  },
  {
   "cell_type": "markdown",
   "metadata": {},
   "source": [
    "## Lesson 6. Transforming Nonhomogeneous BCs into Homogeneous Ones "
   ]
  },
  {
   "cell_type": "markdown",
   "metadata": {},
   "source": [
    "Consider heat flow in an insulated rod where the two ends are kept at constant temperatures $k_1$ and $k_2$:\n",
    "\n",
    ">$\\;\\;\\;\\;\\;\\;u_t = \\alpha u_{xx},\\;\\;\\; 0<x<L,\\;0<t<\\infty$\n",
    "\n",
    ">$\\begin{align*} u(0,t)&= k_1\\\\ u(L,t)&= k_2 \\end{align*}, \\;\\;\\;\\;\\;\\; 0<t<\\infty\\;$ (6.1)\n",
    "\n",
    ">$u(x,0)=\\phi(x), \\;\\;\\; 0\\leq x \\leq L$\n",
    "\n",
    "The difficulty here is that since the BCs are not homogeneous, we cannot solve this problem by separation of variables. However,\n",
    "it is obvious that the solution will have a steady-state solution (when $t=\\infty$) that varies linearly between the boundary temperatures $k_1$ and $k_2$"
   ]
  },
  {
   "cell_type": "markdown",
   "metadata": {},
   "source": [
    "><img src=\"figures/pde01_figure07.jpg\" alt=\"nonhomogeneousBC\" style=\"width:500px\"/>"
   ]
  },
  {
   "cell_type": "markdown",
   "metadata": {},
   "source": [
    "In other words, it seems reasonable to think of our temperature $u(x,t)$ as the sum of two parts\n",
    "\n",
    ">$\\begin{align*}\n",
    " u(x,t)&=\\underbrace{\\text{steady state}}_{\\text{Eventual Solution for Large Time}} +\\underbrace{\\text{transient}}_{\\underset{\\text{(and will go to zero)}}{\\text{Part of the Solution that depends on the IC}}}\\\\ \n",
    " &\\Downarrow \\\\ \n",
    " &= \\left[ k_1 +\\frac{x}{L}(k_2 -k_1) \\right] +U(x,t)\n",
    "\\end{align*}$\n",
    "\n",
    "By substituting the above relation in the original problem (6.1), we arrive at a new problem in $U(x,t)$:\n",
    "\n",
    ">$\\;\\;\\;\\;\\;\\;U_t = \\alpha U_{xx},\\;\\;\\; 0<x<L,\\;0<t<\\infty$\n",
    "\n",
    ">$\\begin{align*} U(0,t)&= 0\\\\ U(L,t)&= 0 \\end{align*}, \\;\\;\\;\\;\\;\\; 0<t<\\infty\\;$ \n",
    "\n",
    ">$\\displaystyle U(x,0)=\\phi(x)-\\left[ k_1 +\\frac{x}{L}(k_2 -k_1) \\right]=\\bar{\\phi}(x), \\;\\;\\; 0\\leq x \\leq L$"
   ]
  },
  {
   "cell_type": "markdown",
   "metadata": {},
   "source": [
    "#### Transforming Time Varying BCs to Zero BCs\n",
    "\n",
    "What about more realistic-type derivative BCs with time-varying right-hand sides? Consider the typical problem\n",
    "\n",
    ">$\\;\\;\\;\\;\\;\\;\\;\\;\\;\\;\\;\\;\\;\\;\\;\\;\\;\\;\\;\\;\\,u_t = \\alpha u_{xx},\\;\\;\\; 0<x<L,\\;0<t<\\infty$\n",
    "\n",
    ">$\\begin{align*} u(0,t)&= g_1(t)\\\\ u_x(L,t)+hu(L,t)&= g_2(t) \\end{align*}, \\;\\; 0<t<\\infty\\;$ (6.2)\n",
    "\n",
    ">$\\;\\;\\;\\;\\;\\;\\;\\;\\;\\;\\;\\;\\;\\;\\;u(x,0)=\\phi(x), \\;\\;\\; 0\\leq x \\leq L$\n",
    "\n",
    "To change these nonezero BCs to homogeneous ones, we (after some trial and error) seek a solution of the form:\n",
    "\n",
    ">$\\displaystyle u(x,t)=\\underbrace{A(t)\\left[1-\\frac{x}{L}\\right] +B(t)\\frac{x}{L}}_{S(x,t)}+U(x,t)$\n",
    "\n",
    "where $A(t)$ and $B(t)$ are chosen so that $S(x,t)$ satisfies the BCs and thus\n",
    "\n",
    ">$\\begin{align*} U(0,t)&= 0\\\\ U_x(L,t)+hU(L,t)&= 0 \\end{align*}, \\;\\; 0<t<\\infty\\;$\n",
    "\n",
    "Substituting $S(x,t)$ into the BCs gives\n",
    "\n",
    ">$\\begin{align*} S(0,t)&= g_1(t)\\\\ S_x(L,t)+hS(L,t)&= g_2(t) \\end{align*}, \\;\\; 0<t<\\infty\\;$\n",
    "\n",
    "in which we get\n",
    "\n",
    ">$\\begin{align*} A(t)&= g_1(t)\\\\ B(t)&= \\frac{g_1(t) +Lg_2(t)}{1+Lh} \\end{align*}, \\;\\; 0<t<\\infty\\;$\n",
    "\n",
    "So if we substitute this into the original problem (6.2), we get the transformed problem in $U(x,t)$:\n",
    "\n",
    ">$\\;\\;\\;\\;\\;\\;\\;\\;\\;\\;\\;\\;\\;\\;\\;\\;\\;\\;\\;\\;\\;U_t = \\alpha U_{xx} -S_t,\\;\\;\\; 0<x<L,\\;0<t<\\infty$\n",
    "\n",
    ">$\\begin{align*} U(0,t)&= 0\\\\ U_x(L,t)+hU(L,t)&= 0 \\end{align*}, \\;\\;\\;\\;\\;\\;\\;\\;\\;\\;\\;\\;\\;\\, 0<t<\\infty\\;$\n",
    "\n",
    ">$\\displaystyle U(x,0)=\\phi(x)-S(x,0)=\\bar{\\phi}(x), \\;\\;\\;\\; 0\\leq x \\leq L$\n",
    "\n",
    "We now have our new problem with zero BCs but unfortunately the PDE is nonhomogeneous.\n",
    "<br>We cannot solve this problem by separation of variables, but we will solve it  by integral transforms and eigenfuction expansions"
   ]
  },
  {
   "cell_type": "markdown",
   "metadata": {},
   "source": [
    "* Solve the initial-boundary-value problem\n",
    "\n",
    ">$\\;\\;\\;\\;\\;\\;\\;\\;\\;\\;\\;\\;\\;\\;\\;\\;\\;\\;\\;\\;\\,u_t = \\alpha u_{xx},\\;\\;\\;\\;\\;\\;\\;\\;\\;\\;\\;\\, 0<x<1,\\;0<t<\\infty$\n",
    "\n",
    ">$\\begin{align*} u(0,t)&= 1\\\\ u_x(1,t)+hu(1,t)&= 1 \\end{align*}, \\;\\;\\;\\;\\;\\;\\;\\;\\;\\;\\;\\;\\;\\;\\;\\, 0<t<\\infty\\;$ \n",
    "\n",
    ">$\\;\\;\\;\\;\\;\\;\\;\\;\\;\\;\\;\\;\\;\\;\\;u(x,0)=\\sin(\\pi x)+x, \\;\\;\\; 0\\leq x \\leq 1$"
   ]
  },
  {
   "cell_type": "markdown",
   "metadata": {},
   "source": [
    "## Lesson 7. Solving More Complicated Problems by Separation of Variables"
   ]
  },
  {
   "cell_type": "markdown",
   "metadata": {},
   "source": [
    "We start with a one-dimensional heat-flow problem where one of the BCs contains derivatives"
   ]
  },
  {
   "cell_type": "markdown",
   "metadata": {},
   "source": [
    "### Heat-Flow Problem with Derivative BC\n",
    "\n",
    "><img src=\"figures/pde01_figure08.jpg\" alt=\"IBVP diagram\" style=\"width:300px\"/>"
   ]
  },
  {
   "cell_type": "markdown",
   "metadata": {},
   "source": [
    "We fix the temperature at the top of the rod at $u(0,t)=0$ and immerse the bottom of the rod in a solution of water fixed at the same temperature of zero. The natural flow of heat says that the BC at $x=1$ is\n",
    "\n",
    ">$u_x(1,t)=-hu(1,t)$\n",
    "\n",
    "Suppose now the initial temperature of the rod is $u(x,0)=x$, but instantaneously thereafter ($t>0$), we apply our BCs. To find the ensuing temperature, we must solve the IBVP\n",
    "\n",
    "\n",
    ">$\\;\\;\\;\\;\\;\\;\\;\\;\\;\\;\\;\\;\\;\\;\\;\\;\\;\\;\\;\\;u_t = \\alpha u_{xx},\\;\\;\\; 0<x<1,\\;0<t<\\infty$\n",
    "\n",
    ">$\\begin{align*} u(0,t)&= 0\\\\ u_x(1,t)+hu(1,t)&= 0 \\end{align*}, \\;\\;\\;\\;\\;\\; 0<t<\\infty\\;$ (7.1)\n",
    "\n",
    ">$\\;\\;\\;\\;\\;\\;\\;\\;\\;\\;\\;\\;\\;\\;\\;u(x,0)=x, \\;\\;\\;\\;\\;\\;\\, 0\\leq x \\leq 1$"
   ]
  },
  {
   "cell_type": "markdown",
   "metadata": {},
   "source": [
    "**STEP 1**\n",
    "\n",
    "Substituting $u(x,t)=X(x)T(t)$ into the PDE gives\n",
    "\n",
    ">$u(x,t)=e^{-\\alpha\\lambda t} \\left[ A\\sin\\sqrt{\\lambda}x +B\\cos\\sqrt{\\lambda}x \\right]$\n",
    "\n",
    "for any $\\lambda>0$ and any $A$ and $B$"
   ]
  },
  {
   "cell_type": "markdown",
   "metadata": {},
   "source": [
    "**STEP 2**\n",
    "\n",
    "Substituting the solution into the BCs gives us conditions on $\\lambda$, $A$, and $B$ that must be satisfied;\n",
    "\n",
    ">$\\begin{align*}\n",
    " B e^{-\\alpha\\lambda t}&= 0\\; \\Rightarrow \\; B=0 \\\\ \n",
    " A e^{-\\alpha\\lambda t}(\\sqrt{\\lambda} \\cos \\sqrt{\\lambda} +h\\sin\\sqrt{\\lambda})&= 0 \\;\\Rightarrow \\; \\tan \\sqrt{\\lambda}=-\\frac{\\sqrt{\\lambda}}{h}, \\; A \\neq 0\n",
    "\\end{align*}$\n",
    "\n",
    "To find $\\lambda$, we must find the intersections of the curves $\\tan\\sqrt{\\lambda}$ and $-\\frac{\\sqrt{\\lambda}}{h}$.\n",
    "These values $\\lambda_1$, $\\lambda_2$, $\\cdots$ can be computed numerically for a given $h$ and are called the **eigenvalues** of the\n",
    "boundary-value problem\n",
    "\n",
    ">$\\begin{align*}\n",
    " &X''+\\lambda X = 0 \\\\ \n",
    " &X(0)=0 \\\\ \n",
    " &X'(1)+hX(1)=0 \n",
    "\\end{align*}\\;$ (7.1)\n",
    "\n",
    "The eigenvalue problem (7.1) is a special case of the general **Sturm-Liouville problem**"
   ]
  },
  {
   "cell_type": "code",
   "execution_count": 1,
   "metadata": {},
   "outputs": [
    {
     "data": {
      "text/plain": [
       "array([  4.11585837,  24.13934203,  63.65910655, 122.88916176,\n",
       "       201.8512583 ])"
      ]
     },
     "execution_count": 1,
     "metadata": {},
     "output_type": "execute_result"
    }
   ],
   "source": [
    "import numpy as np\n",
    "import matplotlib.pyplot as plt\n",
    "from scipy import optimize\n",
    "\n",
    "def fun(x, h=1):   \n",
    "    return np.tan(x) +x/h\n",
    "    \n",
    "sol_n = 5  \n",
    "\n",
    "eigvalues = np.power([optimize.brentq(fun, (i +0.5001)*np.pi, (i +1)*np.pi) for i in range(sol_n)], 2)\n",
    "eigvalues"
   ]
  },
  {
   "cell_type": "code",
   "execution_count": 2,
   "metadata": {},
   "outputs": [
    {
     "data": {
      "image/png": "[encoded data removed]",
      "text/plain": [
       "<Figure size 432x288 with 1 Axes>"
      ]
     },
     "metadata": {},
     "output_type": "display_data"
    }
   ],
   "source": [
    "x = np.linspace(0, sol_n*np.pi, 1000)  \n",
    "y = np.tan(x)\n",
    "\n",
    "threshold = 100\n",
    "y[y > threshold] = np.inf\n",
    "y[y <-threshold] = np.inf\n",
    "\n",
    "sol = np.sqrt(eigvalues)\n",
    "\n",
    "plt.plot(x, y, linewidth=1.2, color=\"blue\")\n",
    "plt.plot(x,-x, linewidth=1.2, color=\"green\")\n",
    "plt.scatter(sol,-sol, color='red')\n",
    "plt.xticks([0, np.pi, 2.0*np.pi, 3.0*np.pi, 4.0*np.pi, 5.0*np.pi], ['0','$\\pi$','$2\\pi$','$3\\pi$','$4\\pi$','$5\\pi$'])\n",
    "plt.xlim(0, 5.0*np.pi)\n",
    "plt.ylim(-20, 20)\n",
    "plt.xlabel('$\\sqrt{\\lambda}$')\n",
    "plt.ylabel('$\\\\tan \\sqrt{\\lambda}$, $-\\sqrt{\\lambda}$')\n",
    "plt.grid()\n",
    "plt.show()"
   ]
  },
  {
   "cell_type": "markdown",
   "metadata": {},
   "source": [
    "The solutions of (7.1) corresponding to the eigenvalues $\\lambda_n$ are called **eigenfunctions** $X_n(x)$\n",
    "\n",
    ">$X_n(x)=\\sin\\sqrt{\\lambda_n} x$"
   ]
  },
  {
   "cell_type": "code",
   "execution_count": 3,
   "metadata": {},
   "outputs": [
    {
     "data": {
      "image/png": "[encoded data removed]",
      "text/plain": [
       "<Figure size 432x288 with 1 Axes>"
      ]
     },
     "metadata": {},
     "output_type": "display_data"
    }
   ],
   "source": [
    "def eigfunc(x, eigvalue):  \n",
    "    return np.sin(np.sqrt(eigvalue)*x)\n",
    "\n",
    "x = np.linspace(0, 1, 150)\n",
    "for n in range(3):\n",
    "    plt.plot(x, eigfunc(x, eigvalues[n]), label='$X_%d(x)$' % n)\n",
    "    \n",
    "plt.xlim(0, 1)\n",
    "plt.legend(loc='lower left')\n",
    "plt.xlabel('$x$')\n",
    "plt.ylabel('$X_n(x)$')\n",
    "plt.show()"
   ]
  },
  {
   "cell_type": "markdown",
   "metadata": {},
   "source": [
    "**STEP 3**\n",
    "\n",
    "We now have an infinite number of solutions\n",
    "\n",
    ">$u_n(x,t)=e^{-\\alpha\\lambda_n t} \\sin\\sqrt{\\lambda_n}x$\n",
    "\n",
    "each one satisfying the PDE and the BCs. The final step is to add these functions together \n",
    "(the sum will still satisfy the PDE and BCs, since both the PDE and BCs are linear and homogeneous); \n",
    "\n",
    ">$\\displaystyle u(x,t)=\\sum_{n=1}^\\infty c_n e^{-\\alpha\\lambda_n t} \\sin\\sqrt{\\lambda_n}x$\n",
    "\n",
    "in such a way that they agree with the IC;\n",
    "\n",
    ">$\\displaystyle u(x,0)=x=\\sum_{n=1}^\\infty c_n \\sin\\sqrt{\\lambda_n}x$\n",
    "\n",
    "To find the coefficients $c_n$, we must multiply each side of the equation by $\\sin\\sqrt{\\lambda_m}x$ and integrate $x$ from $0$ to $1$;\n",
    "\n",
    ">$\\begin{align*}\n",
    " \\int_0^1 x\\sin\\sqrt{\\lambda_m}x\\,dx&= \\sum_{n=1}^\\infty c_n \\int_0^1 \\sin\\sqrt{\\lambda_m}x\\,\\sin\\sqrt{\\lambda_n}x \\,dx\\\\ \n",
    " &\\Downarrow \\\\ \n",
    " \\frac{\\sin\\sqrt{\\lambda_m}-\\sqrt{\\lambda_m}\\cos\\sqrt{\\lambda_m}}{\\lambda_m}&=c_m \\int_0^1 \\sin^2\\sqrt{\\lambda_m}x\\,dx =c_m\\left[ \\frac{\\sqrt{\\lambda_m}-\\sin\\sqrt{\\lambda_m}\\cos\\sqrt{\\lambda_m}}{2\\sqrt{\\lambda_m}} \\right ] \\\\\n",
    " &\\Downarrow\\\\\n",
    " c_n&=\\frac{2}{\\sqrt{\\lambda_m}} \\left[\\frac{\\sin\\sqrt{\\lambda_n} -\\sqrt{\\lambda_n}\\cos\\sqrt{\\lambda_n}}{\\sqrt{\\lambda_n}-\\sin\\sqrt{\\lambda_n}\\cos\\sqrt{\\lambda_n}} \\right]\n",
    "\\end{align*}$\n",
    "\n",
    "In this problem, the first five constants $c_n$ have been computed:"
   ]
  },
  {
   "cell_type": "code",
   "execution_count": 4,
   "metadata": {},
   "outputs": [
    {
     "data": {
      "text/plain": [
       "array([ 0.72917474, -0.15616352,  0.06139735, -0.03215845,  0.0196707 ])"
      ]
     },
     "execution_count": 4,
     "metadata": {},
     "output_type": "execute_result"
    }
   ],
   "source": [
    "def cal_c_n(eigvalue):  \n",
    "    \n",
    "    sqt_e = np.sqrt(eigvalue)\n",
    "    sin_e = np.sin(sqt_e)\n",
    "    cos_e = np.cos(sqt_e)\n",
    "    \n",
    "    return 2.0/sqt_e*(sin_e -sqt_e*cos_e)/(sqt_e -sin_e*cos_e)\n",
    "\n",
    "c_n = np.array([cal_c_n(eigvalues[i]) for i in range(sol_n)])\n",
    "c_n"
   ]
  },
  {
   "cell_type": "markdown",
   "metadata": {},
   "source": [
    "The graph of this solution is drawn for various values of time (when $\\alpha=1$)"
   ]
  },
  {
   "cell_type": "code",
   "execution_count": 5,
   "metadata": {},
   "outputs": [
    {
     "data": {
      "image/png": "[encoded data removed]",
      "text/plain": [
       "<Figure size 432x288 with 1 Axes>"
      ]
     },
     "metadata": {},
     "output_type": "display_data"
    }
   ],
   "source": [
    "term_no = 50\n",
    "\n",
    "def u_sol(x, t, alpha, term_no):\n",
    "\n",
    "    eigvalues = np.power([optimize.brentq(fun, (i +0.5001)*np.pi, (i +1)*np.pi) for i in range(term_no)], 2) \n",
    "    \n",
    "    c_n = np.array([cal_c_n(eigvalues[i]) for i in range(term_no)])\n",
    "    T = np.array([np.exp(-alpha*eigvalues[i]*t) for i in range(term_no)])\n",
    "    \n",
    "    u = np.zeros_like(x)\n",
    "    for i in range(term_no):\n",
    "        u += c_n[i] *T[i] *eigfunc(x, eigvalues[i])\n",
    "    \n",
    "    return u\n",
    "\n",
    "alpha = 1\n",
    "tt = np.linspace(0, 0.5, 5)\n",
    "\n",
    "for t in tt:\n",
    "    plt.plot(x, u_sol(x, t, alpha, term_no), label='$t=%0.1f$' % t)\n",
    "    \n",
    "plt.xlim(0, 1)\n",
    "plt.ylim(0, 1)\n",
    "plt.legend(loc='upper left')\n",
    "plt.xlabel('$x$')\n",
    "plt.ylabel('$u(x,t)$')\n",
    "plt.show()    "
   ]
  },
  {
   "cell_type": "markdown",
   "metadata": {},
   "source": [
    "## Lesson 8. Transforming Hard Equations into Easier Ones"
   ]
  },
  {
   "cell_type": "markdown",
   "metadata": {},
   "source": [
    "><img src=\"figures/pde01_figure09.jpg\" alt=\"heat flow with lateral heat loss\" style=\"width:500px\"/>"
   ]
  },
  {
   "cell_type": "markdown",
   "metadata": {},
   "source": [
    "Consider the following problem:\n",
    "\n",
    ">$\\;\\;\\;\\;\\;\\;u_t = \\alpha u_{xx} -\\beta u,\\; 0<x<1,\\;0<t<\\infty$\n",
    "\n",
    ">$\\begin{align*} u(0,t)&= 0\\\\ u(1,t)&= 0 \\end{align*}, \\;\\;\\;\\;\\;\\;\\;\\;\\;\\;\\;\\; 0<t<\\infty\\;$ (8.1)\n",
    "\n",
    ">$u(x,0)=\\phi(x), \\;\\;\\;\\;\\;\\;\\;\\; 0\\leq x \\leq 1$\n",
    "\n",
    "where the term $-\\beta u$ represents heat flow across the lateral boundary"
   ]
  },
  {
   "cell_type": "markdown",
   "metadata": {},
   "source": [
    "We introduce a new temperature $w(x,t)$ in place of $u(x,t)$, so that the PDE in $w$ is simpler than the original one.\n",
    "<br>The transformation is generally based on an intuitive feeling of how the solution of the original PDE behaves.\n",
    "In our problem (8.1), the temperature $u(x,t)$ at any point $x_0$ is changing as a result of two phenomena\n",
    "\n",
    "1. **diffusion** of heat within the rod due to $\\alpha u_{xx}$\n",
    "2. **heat flow** across the lateral boundary due to $-\\beta u$\n",
    "\n",
    "The important point is that if there were no diffusion within the rod ($\\alpha=0$) then the temperature at each point $x_0$ would\n",
    "dump exponentially to zero according to \n",
    "\n",
    ">$u(x_0,t)=u(x_0,0) e^{-\\beta t}$\n",
    "\n",
    "By means of this observation, we can essentially decompose the temperature $u(x,t)$ into two factors\n",
    "\n",
    ">$u(x,t)=e^{-\\beta t} w(x,t)$\n",
    "\n",
    "where $w(x,t)$ would represent the temperature due to diffusion only.\n",
    "When we substitute this expression into (8.1), we arrive at\n",
    "\n",
    ">$\\;\\;\\;\\;\\;\\;w_t = \\alpha w_{xx},\\;\\;\\;\\;\\;\\;\\; 0<x<1,\\;0<t<\\infty$\n",
    "\n",
    ">$\\begin{align*} w(0,t)&= 0\\\\ w(1,t)&= 0 \\end{align*}, \\;\\;\\;\\;\\;\\;\\;\\;\\;\\;\\;\\; 0<t<\\infty\\;$ (8.1)\n",
    "\n",
    ">$w(x,0)=\\phi(x), \\;\\;\\;\\;\\;\\;\\;\\; 0\\leq x \\leq 1$"
   ]
  },
  {
   "cell_type": "markdown",
   "metadata": {},
   "source": [
    "* The diffusion-convection equation\n",
    "\n",
    "  >$u_t=\\alpha u_{xx}-vu_x$\n",
    "  \n",
    "  ($v$ is a constant) can also be transformed to\n",
    "  \n",
    "  >$w_t=\\alpha w_{xx}$\n",
    "  \n",
    "  In this case, the transformation is\n",
    "  \n",
    "  >$\\displaystyle u(x,t)=\\exp\\left[ \\frac{v}{2\\alpha} \\left(x -\\frac{vt}{2}\\right) \\right] w(x,t)$"
   ]
  },
  {
   "cell_type": "markdown",
   "metadata": {},
   "source": [
    "**Example** Solve the diffusion-convection problem\n",
    "\n",
    ">$\\;\\;\\;\\;\\;\\;u_t = \\alpha u_{xx} -u_x,\\;\\;\\;\\; 0<x<1,\\;0<t<\\infty$\n",
    "\n",
    ">$\\begin{align*} u(0,t)&= 0\\\\ u(1,t)&= 0 \\end{align*}, \\;\\;\\;\\;\\;\\;\\;\\;\\;\\;\\;\\;\\;\\;\\; 0<t<\\infty\\;$ \n",
    "\n",
    ">$u(x,0)=e^{x/2}, \\;\\;\\;\\;\\;\\;\\;\\;\\;\\;\\;\\; 0\\leq x \\leq 1$\n",
    "\n",
    "by transforming it into an easier one\n",
    "\n",
    ">$\\;\\;\\;\\;\\;\\;w_t = \\alpha w_{xx},\\; 0<x<1,\\;0<t<\\infty$\n",
    "\n",
    ">$\\begin{align*} w(0,t)&= 0\\\\ w(1,t)&= 0 \\end{align*}, \\;\\;\\;\\;\\;\\;\\;\\;\\;\\;\\;\\; 0<t<\\infty\\;$ (8.1)\n",
    "\n",
    ">$w(x,0)=1, \\;\\;\\;\\;\\;\\;\\;\\; 0\\leq x \\leq 1$\n",
    "\n",
    "*Solution*\n",
    "\n",
    "$\\begin{align*}\n",
    " u(x,t)&=\\exp\\left[ \\frac{1}{2}\\left( x -\\frac{t}{2} \\right ) \\right] w(x,t) \\\\ \n",
    " &\\Downarrow \\\\ \n",
    " w_t=w_{xx},\\; w(0,t)&=0,\\;w(1,t)=0,\\;w(x,0)=1 \\\\\n",
    " &\\Downarrow \\\\\n",
    " w(x,t)&=2\\sum_{n=1}^\\infty \\frac{1-(-1)^n}{n\\pi} e^{-n^2\\pi^2 t}\\sin n\\pi x \\\\\n",
    " &\\Downarrow \\\\\n",
    " u(x,t)&= 2\\sum_{n=1}^\\infty \\frac{1-(-1)^n}{n\\pi} e^{-n^2\\pi^2 t +\\frac{1}{2}\\left( x-\\frac{t}{2} \\right )}\\sin n\\pi x \\\\\n",
    " &=4\\sum_{m=1}^\\infty \\frac{1}{(2m-1)\\pi} e^{-(2m-1)^2\\pi^2 t +\\frac{1}{2}\\left( x-\\frac{t}{2} \\right )}\\sin (2m-1)\\pi x    \n",
    "\\end{align*} $"
   ]
  },
  {
   "cell_type": "code",
   "execution_count": 6,
   "metadata": {},
   "outputs": [
    {
     "data": {
      "image/png": "[encoded data removed]",
      "text/plain": [
       "<Figure size 432x288 with 1 Axes>"
      ]
     },
     "metadata": {},
     "output_type": "display_data"
    },
    {
     "data": {
      "image/png": "[encoded data removed]",
      "text/plain": [
       "<Figure size 432x288 with 1 Axes>"
      ]
     },
     "metadata": {},
     "output_type": "display_data"
    }
   ],
   "source": [
    "term_no = 50\n",
    "\n",
    "def u_sol(x, t, term_no):\n",
    "   \n",
    "    u = np.zeros_like(x)\n",
    "    for i in range(1, term_no):\n",
    "        lda = (2.0*i -1.0) *np.pi\n",
    "        u += 1.0 /lda *np.exp(-lda *lda *t +(x -t /2.0) /2.0) *np.sin(lda *x)\n",
    "    u = 4.0*u\n",
    "    \n",
    "    return u\n",
    "\n",
    "plt.plot(x, np.exp(x /2.0), label='$t=0$')\n",
    "tt = np.array([0.001, 0.002, 0.004, 0.007])\n",
    "for t in tt:\n",
    "    plt.plot(x, u_sol(x, t, term_no), label='$t=%0.3f$' % t)\n",
    "    \n",
    "plt.xlim(0, 1)\n",
    "plt.ylim(0, 1.8)\n",
    "plt.legend(loc='upper left', bbox_to_anchor=(1.0, 1.0))\n",
    "plt.xlabel('$x$')\n",
    "plt.ylabel('$u(x,t)$')\n",
    "plt.show() \n",
    "\n",
    "tt = np.array([0.05, 0.10, 0.15, 0.20])\n",
    "for t in tt:\n",
    "    plt.plot(x, u_sol(x, t, term_no), label='$t=%0.2f$' % t)\n",
    "    \n",
    "plt.xlim(0, 1)\n",
    "plt.ylim(0, 1.8)\n",
    "plt.legend(loc='upper left', bbox_to_anchor=(1.0, 1.0))\n",
    "plt.xlabel('$x$')\n",
    "plt.ylabel('$u(x,t)$')\n",
    "plt.show() "
   ]
  },
  {
   "cell_type": "markdown",
   "metadata": {},
   "source": [
    "## Lesson 9. Solving Nonhomogeneous PDEs (Eigenfunction Expansion)"
   ]
  },
  {
   "cell_type": "markdown",
   "metadata": {},
   "source": [
    "Consider the nonhomogeneous problem\n",
    "\n",
    ">$\\;\\;\\;\\;\\;\\;u_t = \\alpha u_{xx} +f(x,t),\\;\\;\\;\\; 0<x<1,\\;0<t<\\infty$\n",
    "\n",
    ">$\\begin{align*} u(0,t)&= 0\\\\ u(1,t)&= 0 \\end{align*}, \\;\\;\\;\\;\\;\\;\\;\\;\\;\\;\\;\\;\\;\\;\\;\\;\\;\\;\\;\\; 0<t<\\infty\\;$ (9.1)\n",
    "\n",
    ">$u(x,0)=\\phi(x), \\;\\;\\;\\;\\;\\;\\;\\;\\;\\;\\;\\;\\;\\;\\;\\; 0\\leq x \\leq 1$\n",
    "\n",
    "The purpose of this lesson is to solve this problem by a method that is analogous to the method of variation of parameters in ODEs \n",
    "<br>and is known as the eigenfunction expansion"
   ]
  },
  {
   "cell_type": "markdown",
   "metadata": {},
   "source": [
    "**STEP 1**\n",
    "\n",
    "The basic idea in this method is to decompose the heat source $f(x,t)$ into simple components\n",
    "\n",
    ">$\\displaystyle f(x,t)=\\sum_{n=1}^\\infty f_n(t) X_n(x)$\n",
    "\n",
    "It turns out that the $X_n(x)$ factors are the **eigenfunctions of the Sturm-Liouville system** \n",
    "we get <br>when solving the associated homogeneous system by separation of variables.\n",
    "\n",
    "In this case, the Sturm-Liouville problem we find when separating variables is\n",
    "\n",
    ">$\\begin{align*}\n",
    " &X'' +\\lambda X =0 \\\\ \n",
    " &X(0)=0 \\\\ \n",
    " &X(1)=0 \n",
    "\\end{align*}$\n",
    "\n",
    "and, hence, the $X_n(x)$ are\n",
    "\n",
    ">$X_n(x)=\\sin n\\pi x,\\;n=1,2,3,\\cdots$\n",
    "\n",
    "Finally, to find the functions $f_n(t)$, we merely multiply each side of this equation by $\\sin m\\pi x$ and\n",
    "<br>and integrate from zero to one:\n",
    "\n",
    ">$\\begin{align*}\n",
    " \\int_0^1 f(x,t) \\sin m\\pi x \\,dx&= \\sum_{n=1}^\\infty f_n(x) \\int_0^1 \\sin m\\pi x\\, \\sin n\\pi x \\,dx=\\frac{1}{2}f_m(t)\\\\ \n",
    " &\\Downarrow\\;\\text{changing}\\;m \\;\\text{to}\\; n \\\\ \n",
    " f_n(t)&=2\\int_0^1 f(x,t) \\sin n\\pi x\\, dx \n",
    "\\end{align*}$"
   ]
  },
  {
   "cell_type": "markdown",
   "metadata": {},
   "source": [
    "**STEP 2**\n",
    "\n",
    "The responses $u_n(x,t)=T_n(t) \\sin n\\pi x$ to each of these individual components $f_n(t)\\sin n\\pi x$ are added to construct the solution of our problem:\n",
    "\n",
    ">$\\displaystyle u(x,t)=\\sum_{n=1}^\\infty u_n(x,t)=\\sum_{n=1}^\\infty T_n(t) \\sin n\\pi x$\n",
    "\n",
    "Substituting $u(x,t)$ and $f(x,t)$ into (9.1) gives us\n",
    "\n",
    ">$\\begin{align*}\n",
    " \\sum_{n=1}^\\infty T_n'(x) \\sin n\\pi x&=-\\alpha \\sum_{n=1}^\\infty (n\\pi)^2\\, T_n(t) \\sin n\\pi x +\\sum_{n=1}^\\infty f_n(t) \\sin n\\pi x \\\\ \n",
    " \\sum_{n=1}^\\infty T_n(0)\\sin n\\pi x&=\\phi(x) \\\\ \n",
    " &\\Downarrow \\\\ \n",
    " \\sum_{n=1}^\\infty\\underbrace{\\left[ T_n'+\\alpha(n\\pi)^2\\,T_n -f_n(t) \\right ]}_{=0}\\,&\\sin n\\pi x= 0 \\\\\n",
    " T_n(0)=2\\int_0^1 \\phi(x)&\\sin n\\pi x\\,dx=a_n \\\\\n",
    " &\\Downarrow \\\\\n",
    " T_n(t)=a_n e^{-\\alpha(n\\pi)^2 t}&+\\int_0^t e^{-\\alpha(n\\pi)^2(t-\\tau)} f_n(\\tau)\\,d\\tau\n",
    "\\end{align*}$\n",
    "\n",
    "Hence, the solution of our problem (9.1) is\n",
    "\n",
    ">$\\begin{align*}\n",
    " u(x,t)&=\\sum_{n=1}^\\infty T_n(t) \\sin n\\pi x \\\\\n",
    " &=\\underbrace{\\sum_{n=1}^\\infty a_n e^{-\\alpha(n\\pi)^2 t}\\sin n\\pi x }_{\\text{Transient Part due to the IC}}+\\underbrace{\\sum_{n=1}^\\infty \\sin n\\pi x \\int_0^t e^{-\\alpha(n\\pi)^2(t-\\tau)} f_n(\\tau)\\,d\\tau }_{\\text{Forcing Part due to}\\, f(x,t)}\n",
    "\\end{align*}$"
   ]
  },
  {
   "cell_type": "markdown",
   "metadata": {},
   "source": [
    "* The eigenfunctions $X_n(x)$ in the expansion change from problem to problem and depend on the PDE and BCs\n",
    "\n",
    "  Find the solution\n",
    "  \n",
    ">$\\;\\;\\;\\;\\;\\;\\;\\;\\;\\;\\;\\;\\;\\;\\;\\;\\;\\;\\;\\;u_t = u_{xx} +\\sin(\\sqrt{\\lambda_1} x),\\;\\;\\; 0<x<1,\\;0<t<\\infty$\n",
    "\n",
    ">$\\begin{align*} u(0,t)&= 0\\\\ u_x(1,t)+hu(1,t)&= 0 \\end{align*}, \\;\\;\\;\\;\\;\\;\\;\\;\\;\\;\\;\\;\\;\\;\\;\\;\\;\\;\\;\\;\\;\\; 0<t<\\infty\\;$\n",
    "\n",
    ">$\\;\\;\\;\\;\\;\\;\\;\\;\\;\\;\\;\\;\\;\\;\\;u(x,0)=0,\\;\\;\\;\\;\\;\\;\\;\\;\\;\\;\\;\\;\\;\\;\\;\\;\\;\\;\\;\\;\\;\\; 0\\leq x \\leq 1$ \n",
    "\n",
    "  >where $\\lambda_1$ is the first root of the equation $\\tan\\sqrt{\\lambda}=-\\sqrt{\\lambda}$."
   ]
  },
  {
   "cell_type": "markdown",
   "metadata": {},
   "source": [
    "## Lesson 10. Integral Transforms (Sine and Cosine Transforms) "
   ]
  },
  {
   "cell_type": "markdown",
   "metadata": {},
   "source": [
    "An integral transformation is merely a transformation that assigns to one function $f(t)$ a new function $F(s)$ by means of a formula like\n",
    "\n",
    ">$\\displaystyle F(s)=\\int_A^B K(s,t) f(t)\\,dt$\n",
    "\n",
    "Note that we start with a function of $t$ and end with a function of $s$. The function $K(s,t)$ is called the kernel of the transformation and is\n",
    "the major ingredient that distinguishes one transform from another; it is chosen so that the transform has certain desirable properties.\n",
    "The limits $A$ and $B$ also change from transformation to transformation"
   ]
  },
  {
   "cell_type": "markdown",
   "metadata": {},
   "source": [
    "The general philosophy behind integral transformation is that they eliminate *partial derivatives* with respect to one of the variables; hence, the new equation has one less variable\n",
    "\n",
    "In other words, integral transformations change problems into easier ones. The transformed problem is then solved, and its inverse is obtained to find the solution to the original problem\n",
    "\n",
    "><img src=\"figures/pde01_figure10.jpg\" alt=\"general philosopy of tranforms\" style=\"width:500px\"/>"
   ]
  },
  {
   "cell_type": "markdown",
   "metadata": {},
   "source": [
    "#### The spectrum of a Function"
   ]
  },
  {
   "cell_type": "markdown",
   "metadata": {},
   "source": [
    "An integral transformation can be thought of as a resolution of a function into a certain spectrum of components.\n",
    "\n",
    "Let's consider the resolution of a periodic function $f(x)$ into Fourier series\n",
    "\n",
    ">$\\displaystyle f(x)= \\frac{A_0}{2} +\\sum_{n=1}^\\infty \\left[ A_n\\cos nx +B_n \\sin nx \\right]$\n",
    "\n",
    "Here the coefficients $A_n$ and $B_n$ represent the amount of the function $f(x)$ made up by\n",
    "$\\cos nx$ and $\\sin nx$, respectively, while the square root\n",
    "\n",
    ">$\\sqrt{A_n^2 +B_n^2}$\n",
    "\n",
    "(called the spectrum of the function) measures the amount of $f(x)$ with frequency $n$"
   ]
  },
  {
   "cell_type": "markdown",
   "metadata": {},
   "source": [
    "Functions that are *periodic* can be resolved into *infinite series* (they have discrete spectrums), whereas functions that are *not periodic* must be resolved into a *continuous spectrum* of values (of course, if a function is defined only on a *finite interval*, we could extend the function outside the interval in a periodic way, so that a Fourier series representation could be obtained for the function inside the interval)\n",
    "\n",
    "Although a nonperiodic function $f(x)$ cannot be represented by an infinite series of sines and cosines, we might write it as *continuous analog* of the Fourier series;\n",
    "\n",
    ">$\\displaystyle f(x)=\\int_{-\\infty}^{\\infty} \\left[C(\\omega) \\cos \\omega x +S(\\omega) \\sin \\omega x \\right]\\,d\\omega$\n",
    "\n",
    "where the functions $C(\\omega)$ and $S(\\omega)$ measure the sine and cosine component of $f(x)$ and\n",
    "\n",
    ">$\\sqrt{C^2(\\omega) +S^2(\\omega)}$\n",
    "\n",
    "measures the $\\omega$ frequency component of $f(x)$ and is called the spectrum of $f(x)$\n",
    "\n",
    "With this intutive explanation of the spectrum of a function, we now get to the nuts and bolts of integral transforms."
   ]
  },
  {
   "cell_type": "markdown",
   "metadata": {},
   "source": [
    "#### Sine and Cosine Transforms"
   ]
  },
  {
   "cell_type": "markdown",
   "metadata": {},
   "source": [
    "With every integral transform, there is an inverse transform that will reproduce that original function from its transform. The transform and its inverse together form what is called a transform pair. Sine and Cosine transforms and their inverses are as follows:\n",
    "\n",
    "**Fourier Sine Transform Pair**\n",
    "\n",
    ">$\\begin{align*}\n",
    " \\mathcal{F}_s\\left[ f(t) \\right]&= \\frac{2}{\\pi} \\int_0^\\infty f(t) \\sin\\omega t\\,dt =F(\\omega) \\\\ \n",
    " \\mathcal{F}_s^{-1} \\left[ F(\\omega) \\right ]&= \\int_0^\\infty F(\\omega) \\sin\\omega t \\,d\\omega =f(t)\n",
    "\\end{align*}$\n",
    "\n",
    "**Fourier Cosine Transform Pair**\n",
    "\n",
    ">$\\begin{align*}\n",
    " \\mathcal{F}_c\\left[ f(t) \\right]&= \\frac{2}{\\pi} \\int_0^\\infty f(t) \\cos\\omega t\\,dt =F(\\omega) \\\\ \n",
    " \\mathcal{F}_c^{-1} \\left[ F(\\omega) \\right ]&= \\int_0^\\infty F(\\omega) \\cos\\omega t \\,d\\omega =f(t)\n",
    "\\end{align*}$\n",
    "\n",
    "The next step is to list a few properties of these transforms that make them work\n",
    "\n",
    ">$\\displaystyle\\mathcal{F}_s\\left[ f'(t) \\right]= \\frac{2}{\\pi} \\int_0^\\infty f'(t) \n",
    "  \\sin\\omega t\\,dt =\\left.\\frac{2}{\\pi}f(t) \\sin\\omega t \\right|_0^\\infty \n",
    "  -\\omega\\frac{2}{\\pi}\\int_0^\\infty f(t) \\cos\\omega t\\,dt =-\\omega\\mathcal{F}_c\\left[ f(t) \\right]$\n",
    "  \n",
    ">$\\displaystyle\\mathcal{F}_c\\left[ f'(t) \\right]= \\frac{2}{\\pi} \\int_0^\\infty f'(t) \n",
    "  \\cos\\omega t\\,dt =\\left.\\frac{2}{\\pi}f(t) \\cos\\omega t \\right|_0^\\infty +\\omega\\frac{2}{\\pi}\\int_0^\\infty f(t) \\sin\\omega t\\,dt =-\\frac{2}{\\pi}f(0) +\\omega\\mathcal{F}_s\\left[ f(t) \\right]$\n",
    "  \n",
    ">$\\begin{align*}\n",
    " \\mathcal{F}_s\\left[ f''(t) \\right]&= \\frac{2}{\\pi} \\int_0^\\infty f''(t) \\sin\\omega t\\,dt =\n",
    "  \\left.\\frac{2}{\\pi}f'(t) \\sin\\omega t \\right|_0^\\infty -\\omega\\frac{2}{\\pi}\\int_0^\\infty f'(t) \\cos\\omega t\\,dt\n",
    "  =\\frac{2}{\\pi}\\omega f(0)-\\omega^2\\mathcal{F}_s\\left[ f(t) \\right]\n",
    "\\end{align*}$\n",
    "\n",
    ">$\\displaystyle\\mathcal{F}_c\\left[ f''(t) \\right]= \\frac{2}{\\pi} \\int_0^\\infty f''(t) \n",
    "  \\cos\\omega t\\,dt =\\left.\\frac{2}{\\pi}f'(t) \\cos\\omega t \\right|_0^\\infty +\\omega\\frac{2}{\\pi}\\int_0^\\infty f'(t) \\sin\\omega t\\,dt =-\\frac{2}{\\pi}f'(0) -\\omega^2\\mathcal{F}_c\\left[ f(t) \\right]$"
   ]
  },
  {
   "cell_type": "markdown",
   "metadata": {},
   "source": [
    "#### Solution of an Infinite-Diffusion Problem via the Sine Transform"
   ]
  },
  {
   "cell_type": "markdown",
   "metadata": {},
   "source": [
    "The problem we are interested in is the *infinite diffusion problem*\n",
    "\n",
    ">$\\;\\;\\;\\;\\;u_t = \\alpha u_{xx},\\;\\;\\; 0<x<\\infty,\\;0<t<\\infty$\n",
    "\n",
    ">$u(0,t)= A, \\;\\;\\;\\;\\;\\;\\, 0<t<\\infty\\;$ \n",
    "\n",
    ">$u(x,0)=0, \\;\\;\\;\\;\\;\\;\\, 0\\leq x <\\infty$\n",
    "\n",
    "><img src=\"figures/pde01_figure11.jpg\" alt=\"diffusion problem in a semi-infinite medium\" style=\"width:400px\"/>\n",
    "\n",
    "To solve this, we break into three simple steps. First our strategy is to transform the $x$-variable via Fourier sine transform so that we get an ODE in time"
   ]
  },
  {
   "cell_type": "markdown",
   "metadata": {},
   "source": [
    "**STEP 1**\n",
    "\n",
    "  We start by transforming each side of the PDE;\n",
    "  \n",
    ">$\\begin{align*}\n",
    " \\mathcal{F}_s [u_t]&=\\alpha \\mathcal{F}_s\\left[u_{xx} \\right] \\\\ \n",
    " &\\Downarrow\\;\\mathcal{F}_s[u(x,t)]=U(t) \\\\ \n",
    " \\frac{d}{dt}U(t)&= \\alpha\\left [\\frac{2}{\\pi}\\omega u(0,t) -\\omega^s\\mathcal{F}_s[u]  \\right ]=\\alpha\\left [\\frac{2A\\omega}{\\pi} -\\omega^2 U(t)  \\right ]\\\\ \n",
    " &\\Downarrow \\;\\mathcal{F}_s[u(x,0)]=U(0)\\\\ \n",
    " \\frac{dU}{dt}&+\\alpha \\omega^2 U=\\frac{2A\\alpha\\omega}{\\pi}, \\;U(0)=0 \n",
    "\\end{align*}$\n",
    "\n",
    "  We arrive at the ODE"
   ]
  },
  {
   "cell_type": "markdown",
   "metadata": {},
   "source": [
    "**STEP 2**\n",
    "\n",
    "To solve this IVP, we could use a variety of elementary techniques from ordinary differential equations. The solution is\n",
    "\n",
    ">$\\displaystyle U(t)=A\\frac{2}{\\pi}\\left[\\frac{1 -e^{-\\alpha\\omega^2 t}}{\\omega} \\right]$\n",
    "\n",
    "We have now found the sine transformation for the answer $u(x,t)$"
   ]
  },
  {
   "cell_type": "markdown",
   "metadata": {},
   "source": [
    "**STEP 3**\n",
    "\n",
    "To find the solution, we can either evaluate the inverse transform directly from the integral or else resort to the tables. Using the tables, we get\n",
    "\n",
    ">$\\displaystyle u(x,t)=A\\, \\mathrm{erfc} \\left( \\frac{x}{2\\sqrt{\\alpha t}} \\right)$\n",
    "\n",
    "where $\\mathrm{erfc}(x), 0<x<\\infty$, is called the complementary-error function and is given by\n",
    "\n",
    ">$\\displaystyle \\mathrm{erfc}(x)=\\frac{2}{\\sqrt{\\pi}} \\int_x^\\infty e^{-t^2}\\,dt$"
   ]
  },
  {
   "cell_type": "code",
   "execution_count": 7,
   "metadata": {},
   "outputs": [
    {
     "data": {
      "image/png": "[encoded data removed]",
      "text/plain": [
       "<Figure size 432x288 with 1 Axes>"
      ]
     },
     "metadata": {},
     "output_type": "display_data"
    }
   ],
   "source": [
    "from scipy import special\n",
    "\n",
    "A = 1\n",
    "alpha = 1\n",
    "\n",
    "x = np.linspace(0, 5)\n",
    "tt = [0.1, 1, 2, 3, 4]\n",
    "\n",
    "for t in tt:\n",
    "    plt.plot(x, A*special.erfc(x/(2*np.sqrt(alpha*t))), label='$t=%0.1f$' % t)\n",
    "\n",
    "plt.xlim(0, 5)\n",
    "plt.ylim(0, 1.2)\n",
    "plt.legend(loc='upper right')\n",
    "plt.xlabel('$x$')\n",
    "plt.ylabel('$u(x,t)$')\n",
    "plt.show()"
   ]
  },
  {
   "cell_type": "markdown",
   "metadata": {},
   "source": [
    "**Example** Solve by means of the cosine transform\n",
    "\n",
    ">$\\;\\;\\;\\;\\;\\;\\,u_t = \\alpha u_{xx},\\;\\;\\;\\;\\;\\;\\;\\;\\;\\, 0<x<\\infty,\\;0<t<\\infty$\n",
    "\n",
    ">$u_x(0,t)= 0, \\;\\;\\;\\;\\;\\;\\;\\;\\;\\;\\;\\;\\;\\; 0<t<\\infty\\;$ \n",
    "\n",
    ">$\\,u(x,0)=H(1-x), \\;\\;\\;\\, 0\\leq x <\\infty$\n",
    "\n",
    ">where $H(x)$ is the Heaviside function"
   ]
  },
  {
   "cell_type": "code",
   "execution_count": 8,
   "metadata": {},
   "outputs": [
    {
     "data": {
      "image/png": "[encoded data removed]",
      "text/plain": [
       "<Figure size 432x288 with 1 Axes>"
      ]
     },
     "metadata": {},
     "output_type": "display_data"
    }
   ],
   "source": [
    "from scipy import integrate\n",
    "\n",
    "xx = np.linspace(0, 8)\n",
    "tt = [0.1, 1, 2, 3, 4]\n",
    "\n",
    "def u_sol(x, t):\n",
    "    \n",
    "    alpha = 1    \n",
    "    f = lambda w : np.sin(w)/w*np.cos(w*x)*np.exp(-alpha*w*w*t)   \n",
    "    y, _ = integrate.quad(f, 0, np.inf)\n",
    "    \n",
    "    return 2.0/np.pi*y\n",
    "\n",
    "uu = np.zeros_like(xx)\n",
    "for t in tt:\n",
    "    for i, x in enumerate(xx):\n",
    "        uu[i] = u_sol(x, t)       \n",
    "    plt.plot(xx, uu, label='$t=%0.1f$' % t)\n",
    "\n",
    "plt.xlim(0, 8)\n",
    "plt.ylim(0, 1.2)\n",
    "plt.legend(loc='upper right')\n",
    "plt.xlabel('$x$')\n",
    "plt.ylabel('$u(x,t)$')\n",
    "plt.show()"
   ]
  },
  {
   "cell_type": "markdown",
   "metadata": {},
   "source": [
    "## Lesson 11. The Fourier Series and Transform"
   ]
  },
  {
   "cell_type": "code",
   "execution_count": null,
   "metadata": {},
   "outputs": [],
   "source": []
  }
 ],
 "metadata": {
  "kernelspec": {
   "display_name": "Python 3",
   "language": "python",
   "name": "python3"
  },
  "language_info": {
   "codemirror_mode": {
    "name": "ipython",
    "version": 3
   },
   "file_extension": ".py",
   "mimetype": "text/x-python",
   "name": "python",
   "nbconvert_exporter": "python",
   "pygments_lexer": "ipython3",
   "version": "3.6.6"
  }
 },
 "nbformat": 4,
 "nbformat_minor": 2
}
