{
 "cells": [
  {
   "cell_type": "markdown",
   "metadata": {},
   "source": [
    "## Lesson 1. Introduction to Partial Differential Equations "
   ]
  },
  {
   "cell_type": "markdown",
   "metadata": {},
   "source": [
    "Most physical phenomena, whether in the domain of fluid dynamics, electricity, magnetism, mechanics, optics, or heat flow, can be descriibed in general by partial differential equations; in fact, most of mathematical physics are PDEs."
   ]
  },
  {
   "cell_type": "markdown",
   "metadata": {},
   "source": [
    "### What Are PDEs?"
   ]
  },
  {
   "cell_type": "markdown",
   "metadata": {},
   "source": [
    "A partial differential equation is an equation that contains partial derivatives. In contrast to ordinary differential equations (ODEs), where the unknown function depends on only one variable, in PDEs, **the unknown function depends on serveral variables** (like temperature $u(x,t)$ depends both on location $x$ and time $t$)"
   ]
  },
  {
   "cell_type": "markdown",
   "metadata": {},
   "source": [
    "* A Few Well-Known PDEs\n",
    " \n",
    "  $\\displaystyle u_t=u_{xx},\\;$ heat equation in one dimension\n",
    "  \n",
    "  $\\displaystyle u_t=u_{xx}+u_{yy},\\;$ heat equation in two dimension\n",
    "  \n",
    "  $\\displaystyle u_{rr}+\\frac{1}{r}u_r+\\frac{1}{r^2}u_{\\theta\\theta}=0,\\;$ Laplace's equation in polar coordinates\n",
    "  \n",
    "  $\\displaystyle u_{tt}=u_{xx}+u_{yy}+u{zz},\\;$ wave equation in three dimension\n",
    "  \n",
    "  The unknown function $u$ always depends on more than one variable. The variable $u$ (which we differentiate) is called the **dependent** variable, whereas the ones differentiate *with respect to* are called the **independent** variables"
   ]
  },
  {
   "cell_type": "markdown",
   "metadata": {},
   "source": [
    "### Kinds of PDEs"
   ]
  },
  {
   "cell_type": "markdown",
   "metadata": {},
   "source": [
    "Classification is an important concept because the general theory and methods of solution apply only to a given class of equations. Six basic classfications are:\n",
    "\n",
    "* **Order of the PDE**\n",
    "\n",
    "  $u_t=u_{xx},\\;$ second order\n",
    "  \n",
    "  $u_t=u_x,\\;$ first order\n",
    "  \n",
    "  $u_t=uu_{xxx}+\\sin x,\\;$ third order\n",
    "  \n",
    "* **Number of Variables**\n",
    "\n",
    "  $u_t=u_{xx},\\;$ two variables: $x$ and $t$\n",
    "  \n",
    "  $\\displaystyle u_t=u_{rr}+\\frac{1}{r}u_{r}+\\frac{1}{r^2}u_{\\theta\\theta},\\;$ three variables: $t$, $r$, and $\\theta$\n",
    "\n",
    "* **Linearity**\n",
    "\n",
    "  Partial differential equations are either linear or nonlinear.\n",
    "  \n",
    "  $u_{tt}=e^{-t}u_{xx}+\\sin t,\\;$ linear\n",
    "  \n",
    "  $uu_{xx}+u_t=0,\\;$ nonlinear\n",
    "  \n",
    "  $u_{xx}+yu_{yy}=0,\\;$ linear\n",
    "  \n",
    "  $xu_x+yu_y +u^2=0,\\;$ nonlinear\n",
    "  \n",
    "  A second-order linear equation in two variables is an equation of the form:\n",
    "  \n",
    "  >$Au_{xx} +Bu_{xy} +Cu_{yy} +Du_x +Eu_y +Fu = G,\\;$ (1.1)\n",
    "  \n",
    "  where $A$, $B$, $C$, $D$, $E$, $F$, and $G$ can be constants or given functions of $x$ and $y$\n",
    "  \n",
    "* **Homogeneity**\n",
    "\n",
    "  The equation (1.1) is called homogeneous if the right hand side $G(x,y)$ is identically zero for all $x$ and $y$. \n",
    "  \n",
    "  If $G(x,y)$ is not identically zero, then the equation is nonhomogeneous"
   ]
  },
  {
   "cell_type": "markdown",
   "metadata": {},
   "source": [
    "* **Kinds of Coefficients**\n",
    "\n",
    "  The coeficients in equation (1.1) are constants, then (1.1) is said to have constant coefficients (otherwise, variable coefficients)"
   ]
  },
  {
   "cell_type": "markdown",
   "metadata": {},
   "source": [
    "* **Thre Basic Types of Linear Equations**\n",
    "\n",
    "  * $B^2-4AC=0$, **Parabolic:** heat flow and difussion processes\n",
    "  \n",
    "    $u_t=u_{xx}$\n",
    "  \n",
    "  * $B^2-4AC>0$, **Hyperbolic:** vibrating systems and wave motion\n",
    "  \n",
    "    $u_{tt}=u_{xx}$\n",
    "    \n",
    "    $u_{\\xi\\eta}=0$\n",
    "    \n",
    "  * $B^2-4AC<0$, **Elliptic:** steady-state phenomena\n",
    "  \n",
    "    $u_{xx}+u_{yy}=0$\n",
    "    \n",
    "  * In the case of variable coefficients, the situation can change from point to point\n",
    "  \n",
    "    $yu_{xx}+u_{yy}=0$"
   ]
  },
  {
   "cell_type": "markdown",
   "metadata": {},
   "source": [
    "## Lesson 2. Diffusion-Type Problems (Parabolic Equations)"
   ]
  },
  {
   "cell_type": "markdown",
   "metadata": {},
   "source": [
    "><img src=\"figures/pde01_figure01.jpg\" alt=\"heat flow experiment\" style=\"width:500px\"/> "
   ]
  },
  {
   "cell_type": "markdown",
   "metadata": {},
   "source": [
    "### The Mathematical Model of the Heat-Flow"
   ]
  },
  {
   "cell_type": "markdown",
   "metadata": {},
   "source": [
    "The description of our physical problem requires three types of equations\n",
    "\n",
    "* The **PDE** describing the physical phenomenon of heat flow\n",
    "* The **boundary conditions** describing the physical nature of our problem on the boundaries\n",
    "* The **initial conditions** describing the physical phenomenon at the start of the experiment "
   ]
  },
  {
   "cell_type": "markdown",
   "metadata": {},
   "source": [
    "#### The Heat Equation"
   ]
  },
  {
   "cell_type": "markdown",
   "metadata": {},
   "source": [
    "The basic equation of *one-dimensional* heat flow is the relationship\n",
    "\n",
    ">$u_t=\\alpha u_{xx},\\;$ $0<x<L\\;$, $0<t<\\infty\\;$ (2.1)\n",
    "\n",
    "This equation is derived from the basic conservation of energy"
   ]
  },
  {
   "cell_type": "markdown",
   "metadata": {},
   "source": [
    "####  Boundary Conditions"
   ]
  },
  {
   "cell_type": "markdown",
   "metadata": {},
   "source": [
    "All physical problems have boundaries of some kind, so we must describe mathematically what goes on there in order to adequately describe the problem. Since the temperature $u$ was fiexed for all time $t>0$ at $T_1$ and $T_2$ at the two ends $x=0$ and $x=L$;\n",
    "\n",
    ">$\\begin{align*}\n",
    " u(0,t)&= T_1\\\\ \n",
    " u(L,t)&= T_2 \n",
    "\\end{align*},\\;\\;0<t<\\infty\\;$ (2.2)"
   ]
  },
  {
   "cell_type": "markdown",
   "metadata": {},
   "source": [
    "#### Initial Conditions"
   ]
  },
  {
   "cell_type": "markdown",
   "metadata": {},
   "source": [
    "All physical problems must start from some value of time (generally called $t=0$), so we must specify the physical apparatus at this time. Since we started monitoring the rod temperature from time the rod has achieved a constant temperature $T_0$, we have\n",
    "\n",
    ">$u(x,0)=T_0,\\;\\;0\\leq x\\leq L\\;$ (2.3)"
   ]
  },
  {
   "cell_type": "markdown",
   "metadata": {},
   "source": [
    "By writing equation (2.1), (2.2), and (2.3) together, we have what is called an *initial-boundary-value problem*. The interesting here, which is not at all obvious, is that there is only one function $u(x,t)$ that satisfies the problem."
   ]
  },
  {
   "cell_type": "markdown",
   "metadata": {},
   "source": [
    "### More Diffusion-Type Equations"
   ]
  },
  {
   "cell_type": "markdown",
   "metadata": {},
   "source": [
    "* **Lateral Heat Loss Proportional to the Temperature Difference**\n",
    "\n",
    "  The equation\n",
    "\n",
    "  >$u_t=\\alpha u_{xx} -\\beta (u -u_o),\\;$ $\\beta>0$\n",
    "\n",
    "  describes heat flow in the rod with both diffusion $\\alpha u_{xx}$ along the rod and heat loss (or gain) across the lateral sides of the rod. Heat loss ($u>u_o$) or gain ($u<u_o$) is proportional to the difference between the temperature $u(x,t)$ and the surrounding medium $u_o$"
   ]
  },
  {
   "cell_type": "markdown",
   "metadata": {},
   "source": [
    "* **Internal Heat Source**\n",
    "\n",
    "  The nonhomogeneous equation\n",
    "\n",
    "  >$u_t=\\alpha u_{xx}+f(x,t)$\n",
    "\n",
    "  corresponds to the situation where the rod is being supplied with an internal heat source"
   ]
  },
  {
   "cell_type": "markdown",
   "metadata": {},
   "source": [
    "* **Diffusion-Convection Equation**\n",
    "\n",
    "  Suppose a pollutant is being carried along in a stream moving with velocity $v$. The rate of change $u_t$ is measured by the diffusion-convection equation\n",
    "\n",
    "  >$u_t=\\alpha u_{xx}-vu_x$\n",
    "\n",
    "  The term $\\alpha u_{xx}$ is the diffusion contribution and $-vu_x$ is the convection component"
   ]
  },
  {
   "cell_type": "markdown",
   "metadata": {},
   "source": [
    "*  In addition to these modifications in the heat equation, the boundary conditions of the rod can also be changed to correspond to other physical situations"
   ]
  },
  {
   "cell_type": "markdown",
   "metadata": {},
   "source": [
    "## Lesson 3. Boundary Conditions for Diffusion-Type Problems "
   ]
  },
  {
   "cell_type": "markdown",
   "metadata": {},
   "source": [
    "When describing the various types of boundary conditions that can occur for heat-flow problems, three basic types generally come to mind."
   ]
  },
  {
   "cell_type": "markdown",
   "metadata": {},
   "source": [
    "### Type 1 BC (Temperature specified on the boundary) \n",
    "\n",
    "><img src=\"figures/pde01_figure02.jpg\" alt=\"type 1 BC\" style=\"width:500px\"/>\n",
    "\n",
    "><img src=\"figures/pde01_figure03.jpg\" alt=\"oscillating BC\" style=\"width:500px\"/>\n",
    "\n",
    "Of course, we'd have to an initial temperature to get this experiment started, but in this case, the effects of our IC would vanish after a short period of time, and the resulting temperature inside the circle would depend on the boundary temperature"
   ]
  },
  {
   "cell_type": "markdown",
   "metadata": {},
   "source": [
    "### Type 2 BC (Flux specified - including the special case of insulated boundaries)\n",
    "\n",
    "**Insulated boundaries** are those that do not allow any heat flow to pass, and, hence, the normal derivative (inward or outward) must be zero on the boundary (since the normal derivative is proportional to the flux). \n",
    "\n",
    "In the case of the one-dimensional rod with insulated ends at $x=0$ and $x=L$, the BCs are\n",
    "\n",
    ">$\\begin{align*}\n",
    " u_x(0,t)&= 0\\\\ \n",
    " u_x(L,t)&= 0 \n",
    "\\end{align*},\\;\\;0<t<\\infty$\n",
    "\n",
    "In two-dimensional domains, an insulated boundary would mean that the normal derivative of the temperature across the boundary is zero.\n",
    "For example, if the circular disc insulated on the boundary, then the BC would be\n",
    "\n",
    ">$u_t(R,\\theta,t)=0\\;$ for all $0\\leq \\theta <2\\pi\\;$ and all $0<t<\\infty$\n",
    "\n",
    "On the other hand, if we specify the amount of heat entering across the boundary of our disc, the BC is\n",
    "\n",
    ">$u_t(R,\\theta,t)=f(\\theta,t)$"
   ]
  },
  {
   "cell_type": "markdown",
   "metadata": {},
   "source": [
    "### Type 3 BC (Temperature of the surrounding medium specified)\n",
    "\n",
    "><img src=\"figures/pde01_figure04.jpg\" alt=\"convective cooling at boundary\" style=\"width:500px\"/>\n",
    "\n",
    "By specifying these types of BCs, we cannot say the boundary temperatures of the rod will be the same as the liquid temperature $g_1(t)$ and $g_2(t)$, but we do know (Newton's law of cooling) that whenever the rod temperature at one of the boundaries is less than the respective liquid temperatures, then heat will flow into the rod at a rate proportional to this differance. In other words, for the one-dimensional rod with boundaries at $x=0$ and $L$, Newton's lar of cooling states:\n",
    "\n",
    ">Outward Flux of Heat (at $x=0$) $=h[u(0,t) -g_1(t)]$\n",
    "<br>Outward Flux of Heat (at $x=L$) $=h[u(L,t) -g_2(t)]$\n",
    "\n",
    "where $h$ is a heat transfer coefficient. Fourier's law gives us another representation for the outward flux of heat. In our one-dimensional problem, Fourier's law takes the form:\n",
    "\n",
    ">Outward Flux of Heat (at $x=0$) $\\displaystyle =k\\frac{\\partial u(0,t)}{\\partial x}$\n",
    "<br>Outward Flux of Heat (at $x=L$) $\\displaystyle =-k\\frac{\\partial u(L,t)}{\\partial x}$\n",
    "\n",
    "where $k$ is the thermal conductivity of the material. Finally if we use the two experssions for heat flux, we have our desired BCs in purely mathematical terms;\n",
    "\n",
    ">$\\begin{align*}\n",
    " \\frac{\\partial u(0,t)}{\\partial x}&= \\frac{h}{k} \\left[ u(0,t) -g_1(t) \\right]\\\\ \n",
    " \\frac{\\partial u(L,t)}{\\partial x}&= -\\frac{h}{k} \\left[ u(L,t) -g_2(t) \\right]\n",
    "\\end{align*},\\;\\;0<t<\\infty$\n",
    "\n",
    "In higher dimensions, we have similar BCs; for example, if the boundary of a circular disc is interfaced with a moving liquid that has a temperature $g(\\theta,t)$, our BC would be\n",
    "\n",
    ">$\\displaystyle \\frac{\\partial u}{\\partial r}(R,\\theta, t)=-\\frac{h}{k} \\left[ u(R,\\theta,t) -g(\\theta,t) \\right]$"
   ]
  },
  {
   "cell_type": "markdown",
   "metadata": {},
   "source": [
    "## Lesson 4. Derivation of the Heat Equation "
   ]
  },
  {
   "cell_type": "markdown",
   "metadata": {},
   "source": [
    "\n",
    "><img src=\"figures/pde01_figure05.jpg\" alt=\"thin conducting rod\" style=\"width:500px\"/>\n",
    "\n",
    "Suppose we have a one-dimension rod of length $L$ for which we make the following assumptions:\n",
    "\n",
    "* The rod is made of a single homogeneous conducting material\n",
    "* The rod is laterally insulated (heat flows only in the $x$-direction)\n",
    "* The rod is thin (the temperature at all points of a cross section is constant)\n",
    "\n",
    "If we apply the principle of conservation of energy to the segment $[x,x+\\Delta x]$, we can claim\n",
    "\n",
    "> Net Change of Heat inside $[x,x+\\Delta x] =\\;$ Net Flux of Heat across the Boundaries $\\;+\\;$ Total Heat Generated inside $[x,x+\\Delta x]$\n",
    "\n",
    "The total amount of heat inside $[x,x+\\Delta x]$ at any time $t$ is measured by\n",
    "\n",
    "> Total Heat inside $\\displaystyle [x,x+\\Delta x] = \\int_x^{x+\\Delta x} \\rho c_p A u(s,t)\\,ds$\n",
    "\n",
    "We can write the conservation of energy via calculus as\n",
    "\n",
    ">$\\begin{align*}\n",
    " \\frac{d}{dt}\\int_x^{x +\\Delta x} \\rho c_p A u(s,t)\\,ds = \\rho c_p A \\int_x^{x +\\Delta x} u_t(s,t)\\,ds\n",
    "&=kA \\left[ u_x(x+\\Delta x,t) -u_x(x,t) \\right] +A\\int_x^{x +\\Delta x} F(s,t)\\,ds \\\\ \n",
    " &\\Downarrow \\; \\text{Mean Value Theorem}\\;\\int_a^b f(x)\\,dx=f(\\xi)(b-a),\\;a<\\xi<b \\\\ \n",
    " \\rho c_p A u_t(\\xi_1,t) \\Delta x &= kA \\left[ u_x(x+\\Delta x,t) -u_x(x,t) \\right] +AF(\\xi_2,t)\\Delta x, \\;\\;x<\\xi_1, \\xi_2<x+\\Delta x\\\\ \n",
    " &\\Downarrow \\\\\n",
    " u_t(\\xi_1,t) &=\\frac{k}{\\rho c_p} \\left\\{ \\frac{u_x(x+\\Delta x,t) -u_x(x,t)}{\\Delta x} \\right\\} +\\frac{1}{\\rho c_p} F(\\xi_2,t) \\\\\n",
    "&\\Downarrow \\;\\Delta x \\to 0 \\\\\n",
    " u_t(x,t) &=\\alpha u_{xx}(x,t) +f(x,t)\n",
    "\\end{align*}$"
   ]
  },
  {
   "cell_type": "markdown",
   "metadata": {},
   "source": [
    "# Lesson 5. Separation of Variables"
   ]
  },
  {
   "cell_type": "markdown",
   "metadata": {},
   "source": [
    "Separation of variables is one of the oldest techniques for solving initial-boundary-value problems and applies to problems where\n",
    "\n",
    "* The PDE is linear and homogeneous (not necessarily constant coefficients)\n",
    "* The boundary conditions are of the form\n",
    "\n",
    ">$\\begin{align*}\n",
    " \\alpha u_x(0,t) +\\beta u(0,t)&= 0\\\\ \n",
    " \\gamma u_x(L,t) +\\delta u(L,t)&= 0 \n",
    "\\end{align*}$\n",
    "\n",
    "where $\\alpha$, $\\beta$, $\\gamma$, and $\\delta$ are constants (boundary conditions of this form are called linear homogeneous BCs)"
   ]
  },
  {
   "cell_type": "markdown",
   "metadata": {},
   "source": [
    "><img src=\"figures/pde01_figure06.jpg\" alt=\"diffusion problem\" style=\"width:500px\"/>"
   ]
  },
  {
   "cell_type": "markdown",
   "metadata": {},
   "source": [
    "We wish to find the function $u(x,t)$ that satisfies the following four conditions:\n",
    "\n",
    ">$\\;\\;\\;\\;\\;\\;u_t = \\alpha u_{xx},\\;\\;\\; 0<x<L,\\;0<t<\\infty$\n",
    "\n",
    ">$\\begin{align*} u(0,t)&= 0\\\\ u(L,t)&= 0 \\end{align*}, \\;\\;\\;\\;\\;\\; 0<t<\\infty$\n",
    "\n",
    ">$u(x,0)=\\phi(x), \\;\\;\\; 0\\leq x \\leq L$"
   ]
  },
  {
   "cell_type": "markdown",
   "metadata": {},
   "source": [
    "**STEP 1** To begin, we look for solutions of the form $u(x,t)=X(x)T(t)$ by substituting $X(x)T(t)$ into the PDE\n",
    "\n",
    ">$\\begin{align*}\n",
    " X(x)T'(t)&=\\alpha X''(x)T(t) \\\\ \n",
    " &\\Downarrow \\\\ \n",
    " \\frac{T'(t)}{\\alpha T(t)}&= \\frac{X''(x)}{X(x)}=-\\lambda <0\\\\ \n",
    " &\\Downarrow \\text{We essentially change a second-order PDE to two ODEs}\\\\ \n",
    " T' &+\\alpha\\lambda T= 0\\\\ \n",
    " X'' &+\\lambda X = 0 \\\\\n",
    " &\\Downarrow \\\\\n",
    " T(t)&=a_1 e^{-\\alpha\\lambda t}\\\\\n",
    " X(x)&=a_2 \\sin \\sqrt{\\lambda}x +a_3 \\cos \\sqrt{\\lambda}x\\\\\n",
    " &\\Downarrow \\\\\n",
    " u(x,t)&=e^{-\\alpha\\lambda t} \\left[ A \\sin \\sqrt{\\lambda}x +B\\cos\\sqrt{\\lambda} x \\right]\n",
    "\\end{align*}$\n",
    "\n",
    "At this point, we have an infinite number of functions that satisfy the PDE"
   ]
  },
  {
   "cell_type": "markdown",
   "metadata": {},
   "source": [
    "**STEP2** The next step is to choose a certain subset of our current crop of solutions\n",
    "\n",
    ">$e^{-\\alpha\\lambda t} \\left[ A \\sin \\sqrt{\\lambda}x +B\\cos\\sqrt{\\lambda} x \\right]\\;$ (5.1)\n",
    "\n",
    "that satisfy the boundary conditions\n",
    "\n",
    ">$\\begin{align*}\n",
    " u(0,t)&=0 \\\\ \n",
    " u(L,t)&=0 \n",
    "\\end{align*}$\n",
    "\n",
    "To do this, we substitute our solutions (5.1) into these BCs, getting\n",
    "\n",
    ">$\\begin{align*}\n",
    " u(0,t)&=Be^{-\\alpha\\lambda t}=0\\;\\Rightarrow B=0\\\\ \n",
    " u(L,t)&=Ae^{-\\alpha\\lambda t}\\sin\\sqrt{\\lambda}L=0 \\;\\Rightarrow \\sin\\sqrt{\\lambda}L=0,\\; A\\neq 0 \\\\\n",
    " &\\Downarrow \\\\\n",
    " \\lambda&= \\left(\\frac{\\pi}{L}\\right)^2, \\left(\\frac{2\\pi}{L}\\right)^2,\\left(\\frac{3\\pi}{L}\\right)^2,\\cdots \\\\\n",
    " &\\Downarrow \\\\\n",
    " \\lambda_n&=\\left(\\frac{n\\pi}{L}\\right)^2,\\;n=1,2,3,\\cdots \n",
    "\\end{align*}\n",
    "$\n",
    "\n",
    "We have now finished the second step; we have an infinite number of functions\n",
    "\n",
    ">$\\displaystyle u_n(x,t)=c_n e^{-\\alpha\\left(\\frac{n\\pi}{L}\\right)^2 t} \\sin\\left( \\frac{n\\pi}{L}x \\right), \\;n=1,2,3,\\cdots$\n",
    "\n",
    "each one satisfying the PDE and the BCs"
   ]
  },
  {
   "cell_type": "markdown",
   "metadata": {},
   "source": [
    "**STEP 3** The last step is to add the fundamental solutions\n",
    "\n",
    ">$\\displaystyle u(x,t)=\\sum_{n=1}^\\infty c_n e^{-\\alpha\\left(\\frac{n\\pi}{L}\\right)^2 t} \\sin\\left( \\frac{n\\pi}{L}x \\right)\\;$ (5.2)\n",
    "\n",
    "in such a way (pick the coefficients $c_n$) that the initial condition\n",
    "\n",
    ">$u(x,0)=\\phi(x)$\n",
    "\n",
    "is satisfied. Substituting the sum into the IC gives\n",
    "\n",
    ">$\\displaystyle \\phi(x)=\\sum_{n=1}^\\infty c_n \\sin\\left( \\frac{n\\pi}{L} x \\right)$\n",
    "\n",
    "Now the problem becomes how to find the coefficients $c_n$. This is actually very easy: One uses properties of the functions known as orthogonality:\n",
    "\n",
    ">$\\displaystyle \\int_0^L \\sin\\left(\\frac{m\\pi}{L} x \\right)\\sin\\left(\\frac{n\\pi}{L}x \\right)\\,dx = \n",
    "\\begin{cases} 0 &  m\\neq n \\\\ \\frac{L}{2} & m=n \\end{cases}$\n",
    "\n",
    "We multiply each side of (5.2) by $\\sin(m\\pi/L)$ and integrate from zero to $L$; we get\n",
    "\n",
    ">$\\displaystyle \\int_0^L \\phi(x) \\sin \\left( \\frac{m\\pi}{L} x\\right)\\, dx=c_m\\int_0^L \\sin^2\\left( \\frac{m\\pi}{L} x\\right)\\,dx = \\frac{L}{2}c_m$\n",
    "\n",
    "We're done; the solution is\n",
    "\n",
    ">$\\displaystyle u(x,t)=\\sum_{n=1}^\\infty c_n e^{-\\alpha\\left(\\frac{n\\pi}{L}\\right)^2 t} \\sin\\left( \\frac{n\\pi}{L}x \\right)\\;$\n",
    "\n",
    "where\n",
    "\n",
    ">$\\displaystyle c_n =\\frac{2}{L} \\int_0^L \\phi(x) \\sin \\left( \\frac{m\\pi}{L} x\\right)\\, dx$"
   ]
  },
  {
   "cell_type": "markdown",
   "metadata": {},
   "source": [
    "**NOTES**\n",
    "\n",
    "* Observe that the only difference between the Fourier sine expansion of $\\phi(x)$ and the solution is the insertion of the time factor\n",
    "\n",
    "  >$e^{-\\alpha\\left(\\frac{n\\pi}{L}\\right)^2 t}$\n",
    "\n",
    "  in each term\n",
    "  \n",
    "* The terms in the series get small very fast due to the factor $e^{-\\alpha\\left(\\frac{n\\pi}{L}\\right)^2 t}$. Hence, for long time periods,\n",
    "  the solution is approximately equal to the first term\n",
    "  \n",
    "  >$\\displaystyle u(x,t)\\approx c_1 e^{-\\alpha\\left(\\frac{\\pi}{L}\\right)^2 t} \\sin\\left( \\frac{\\pi}{L}x \\right)$"
   ]
  },
  {
   "cell_type": "markdown",
   "metadata": {},
   "source": [
    "## Lesson 6. Transforming Nonhomogeneous BCs into Homogeneous Ones "
   ]
  },
  {
   "cell_type": "markdown",
   "metadata": {},
   "source": [
    "Consider heat flow in an insulated rod where the two ends are kept at constant temperatures $k_1$ and $k_2$:\n",
    "\n",
    ">$\\;\\;\\;\\;\\;\\;u_t = \\alpha u_{xx},\\;\\;\\; 0<x<L,\\;0<t<\\infty$\n",
    "\n",
    ">$\\begin{align*} u(0,t)&= k_1\\\\ u(L,t)&= k_2 \\end{align*}, \\;\\;\\;\\;\\;\\; 0<t<\\infty\\;$ (6.1)\n",
    "\n",
    ">$u(x,0)=\\phi(x), \\;\\;\\; 0\\leq x \\leq L$\n",
    "\n",
    "The difficulty here is that since the BCs are not homogeneous, we cannot solve this problem by separation of variables. However,\n",
    "it is obvious that the solution will have a steady-state solution (when $t=\\infty$) that varies linearly between the boundary temperatures $k_1$ and $k_2$"
   ]
  },
  {
   "cell_type": "markdown",
   "metadata": {},
   "source": [
    "><img src=\"figures/pde01_figure07.jpg\" alt=\"nonhomogeneousBC\" style=\"width:500px\"/>"
   ]
  },
  {
   "cell_type": "markdown",
   "metadata": {},
   "source": [
    "In other words, it seems reasonable to think of our temperature $u(x,t)$ as the sum of two parts\n",
    "\n",
    ">$\\begin{align*}\n",
    " u(x,t)&=\\underbrace{\\text{steady state}}_{\\text{Eventual Solution for Large Time}} +\\underbrace{\\text{transient}}_{\\underset{\\text{(and will go to zero)}}{\\text{Part of the Solution that depends on the IC}}}\\\\ \n",
    " &\\Downarrow \\\\ \n",
    " &= \\left[ k_1 +\\frac{x}{L}(k_2 -k_1) \\right] +U(x,t)\n",
    "\\end{align*}$\n",
    "\n",
    "By substituting the above relation in the original problem (6.1), we arrive at a new problem in $U(x,t)$:\n",
    "\n",
    ">$\\;\\;\\;\\;\\;\\;U_t = \\alpha U_{xx},\\;\\;\\; 0<x<L,\\;0<t<\\infty$\n",
    "\n",
    ">$\\begin{align*} U(0,t)&= 0\\\\ U(L,t)&= 0 \\end{align*}, \\;\\;\\;\\;\\;\\; 0<t<\\infty\\;$ \n",
    "\n",
    ">$\\displaystyle U(x,0)=\\phi(x)-\\left[ k_1 +\\frac{x}{L}(k_2 -k_1) \\right]=\\bar{\\phi}(x), \\;\\;\\; 0\\leq x \\leq L$"
   ]
  },
  {
   "cell_type": "markdown",
   "metadata": {},
   "source": [
    "#### Transforming Time Varying BCs to Zero BCs\n",
    "\n",
    "What about more realistic-type derivative BCs with time-varying right-hand sides? Consider the typical problem\n",
    "\n",
    ">$\\;\\;\\;\\;\\;\\;\\;\\;\\;\\;\\;\\;\\;\\;\\;\\;\\;\\;\\;\\;\\,u_t = \\alpha u_{xx},\\;\\;\\; 0<x<L,\\;0<t<\\infty$\n",
    "\n",
    ">$\\begin{align*} u(0,t)&= g_1(t)\\\\ u_x(L,t)+hu(L,t)&= g_2(t) \\end{align*}, \\;\\; 0<t<\\infty\\;$ (6.2)\n",
    "\n",
    ">$\\;\\;\\;\\;\\;\\;\\;\\;\\;\\;\\;\\;\\;\\;\\;u(x,0)=\\phi(x), \\;\\;\\; 0\\leq x \\leq L$\n",
    "\n",
    "To change these nonezero BCs to homogeneous ones, we (after some trial and error) seek a solution of the form:\n",
    "\n",
    ">$\\displaystyle u(x,t)=\\underbrace{A(t)\\left[1-\\frac{x}{L}\\right] +B(t)\\frac{x}{L}}_{S(x,t)}+U(x,t)$\n",
    "\n",
    "where $A(t)$ and $B(t)$ are chosen so that $S(x,t)$ satisfies the BCs and thus\n",
    "\n",
    ">$\\begin{align*} U(0,t)&= 0\\\\ U_x(L,t)+hU(L,t)&= 0 \\end{align*}, \\;\\; 0<t<\\infty\\;$\n",
    "\n",
    "Substituting $S(x,t)$ into the BCs gives\n",
    "\n",
    ">$\\begin{align*} S(0,t)&= g_1(t)\\\\ S_x(L,t)+hS(L,t)&= g_2(t) \\end{align*}, \\;\\; 0<t<\\infty\\;$\n",
    "\n",
    "in which we get\n",
    "\n",
    ">$\\begin{align*} A(t)&= g_1(t)\\\\ B(t)&= \\frac{g_1(t) +Lg_2(t)}{1+Lh} \\end{align*}, \\;\\; 0<t<\\infty\\;$\n",
    "\n",
    "So if we substitute this into the original problem (6.2), we get the transformed problem in $U(x,t)$:\n",
    "\n",
    ">$\\;\\;\\;\\;\\;\\;\\;\\;\\;\\;\\;\\;\\;\\;\\;\\;\\;\\;\\;\\;\\;\\,U_t = \\alpha U_{xx} -S_t,\\;\\;\\; 0<x<L,\\;0<t<\\infty$\n",
    "\n",
    ">$\\begin{align*} U(0,t)&= 0\\\\ U_x(L,t)+hU(L,t)&= 0 \\end{align*}, \\;\\;\\;\\;\\;\\;\\;\\;\\;\\;\\;\\;\\;\\, 0<t<\\infty\\;$\n",
    "\n",
    ">$\\displaystyle U(x,0)=\\phi(x)-S(x,0)=\\bar{\\phi}(x), \\;\\;\\;\\; 0\\leq x \\leq L$\n",
    "\n",
    "We now have our new problem with zero BCs but unfortunately the PDE is nonhomogeneous.\n",
    "<br>We cannot solve this problem by separation of variables, but we will solve it  by integral transforms and eigenfuction expansions"
   ]
  },
  {
   "cell_type": "markdown",
   "metadata": {},
   "source": [
    "* Solve the initial-boundary-value problem\n",
    "\n",
    ">$\\;\\;\\;\\;\\;\\;\\;\\;\\;\\;\\;\\;\\;\\;\\;\\;\\;\\;\\;\\;\\,u_t = \\alpha u_{xx},\\;\\;\\;\\;\\;\\;\\;\\;\\;\\;\\;\\, 0<x<1,\\;0<t<\\infty$\n",
    "\n",
    ">$\\begin{align*} u(0,t)&= 1\\\\ u_x(1,t)+hu(1,t)&= 1 \\end{align*}, \\;\\;\\;\\;\\;\\;\\;\\;\\;\\;\\;\\;\\;\\;\\;\\, 0<t<\\infty\\;$ \n",
    "\n",
    ">$\\;\\;\\;\\;\\;\\;\\;\\;\\;\\;\\;\\;\\;\\;\\;u(x,0)=\\sin(\\pi x)+x, \\;\\;\\; 0\\leq x \\leq 1$"
   ]
  },
  {
   "cell_type": "markdown",
   "metadata": {},
   "source": [
    "## Lesson 7. Solving More Complicated Problems by Separation of Variables"
   ]
  },
  {
   "cell_type": "markdown",
   "metadata": {},
   "source": [
    "We start with a one-dimensional heat-flow problem where one of the BCs contains derivatives"
   ]
  },
  {
   "cell_type": "markdown",
   "metadata": {},
   "source": [
    "### Heat-Flow Problem with Derivative BC\n",
    "\n",
    "><img src=\"figures/pde01_figure08.jpg\" alt=\"IBVP diagram\" style=\"width:300px\"/>\n",
    "\n"
   ]
  },
  {
   "cell_type": "code",
   "execution_count": null,
   "metadata": {},
   "outputs": [],
   "source": []
  }
 ],
 "metadata": {
  "kernelspec": {
   "display_name": "Python 3",
   "language": "python",
   "name": "python3"
  },
  "language_info": {
   "name": ""
  }
 },
 "nbformat": 4,
 "nbformat_minor": 2
}
