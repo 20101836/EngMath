{
 "cells": [
  {
   "cell_type": "markdown",
   "metadata": {},
   "source": [
    "# Chapter 5. Series Solutions of Linear Differential Equations"
   ]
  },
  {
   "cell_type": "markdown",
   "metadata": {},
   "source": [
    "### Contents\n",
    "\n",
    "* Solutions about Ordinary Points\n",
    "* Solutions about Singular Points\n",
    "* Special Functions"
   ]
  },
  {
   "cell_type": "markdown",
   "metadata": {},
   "source": [
    "## 5.1 Solutions about Ordinary Points "
   ]
  },
  {
   "cell_type": "markdown",
   "metadata": {},
   "source": [
    "* A power series in $x -a$ is an infinite series of the form\n",
    "\n",
    "  $\\displaystyle \\sum_{n=0}^\\infty c_n (x -a)^n =c_0 +c_1 (x -a) +c_2 (x -a)^2 +\\cdots$\n",
    "  \n",
    "  Such a series is also said to be a **power series centered at $a$**\n",
    "  \n",
    "  * A power series is **convergent** if its sequence of partial sums converges. \n",
    "  \n",
    "  * Convergence of power series can often\n",
    "    be determined by the ratio test. Suppose that $c_n \\neq 0$ for all $n$, and that\n",
    "  \n",
    "    $\\displaystyle \\lim_{n \\to \\infty} \\left| \\frac{c_{n+1} (x -a)^{n +1}}{c_n (x -a)^n} \\right|\n",
    "       =|x -a| \\lim_{n \\to \\infty} \\left| \\frac{c_{n +1}}{c_n} \\right| =L$\n",
    "     \n",
    "    If $L<1$ the series converges absolutely, if $L>1$ the series diverges, and if $L=1$ the test is inconclusive\n",
    "    \n",
    "  * Every power series has a **radius of convergence**, $R$. If $R>0$, a power series $\\sum_{n=0}^\\infty c_n (x -a)^n$ converges for $|x -a| < R$\n",
    "  \n",
    "  * A function $f$ ia **analytic** at point $a$ if it can be represented by a power series in $x -a$ with a positive radius of convergence \n",
    "  \n",
    "  * Power series can be combined through the operations of addition, multiplication, and division"
   ]
  },
  {
   "cell_type": "markdown",
   "metadata": {},
   "source": [
    "* Consider the linear second-order DE\n",
    "\n",
    "  $a_2(x) y'' +a_1(x) y' +a_0(x)y = 0$\n",
    "  \n",
    "  * Divide by $a_2(x)$ to put into standard form\n",
    "  \n",
    "    $y'' +P(x)y' +Q(x)y = 0$\n",
    "    \n",
    "  * Point $x_0$ is an **ordinary point** of the DE if both $P(x)$ and $Q(x)$ are analytic at $x_0$.\n",
    "    A point that is not an ordinary point is a **singular point** of the equation\n",
    "    \n",
    "  * If $x=x_0$ is an ordinary point of the DE, we can always find two linearly independent solutions in the form of a power series centered at $x_0$\n",
    "  \n",
    "  * A series solution converges at least on some interval defined by $|x -x_0|<R$ where $R$ is the distance from $x_0$ to the closest singular point\n",
    "  "
   ]
  },
  {
   "cell_type": "markdown",
   "metadata": {},
   "source": [
    "**Example:** Solve $y' +xy =0$\n",
    "\n",
    "* Since there are no finite singular points, two power series solutions are guranteed, centered at $0$, convergent for $|x|>\\infty$.\n",
    " \n",
    "* Substituting $y=\\sum_{n=0}^\\infty c_n x^n$ and the second derivative $y''=\\sum_{n=2}^\\infty n(n -1) c_n x^{n -2}$ into the DE gives\n",
    "\n",
    "  $\\displaystyle \n",
    "    \\begin{align*}\n",
    "       y'' +xy &= \\sum_{n=2}^\\infty c_n n(n-1) x^{n -2} +\\sum_{n=0}^\\infty c_n x^{n +1}\\\\\n",
    "               &= 2 c_2 +\\sum_{k=1}^{\\infty} \\left[(k +1)(k +2) c_{k +2} +c_{k -1} \\right] x^k =0\n",
    "    \\end{align*}\n",
    "  $\n",
    "  \n",
    "  The coefficient of each power of $x$ be set equal to zero:\n",
    "  \n",
    "  $c_2 =0$ and $\\displaystyle c_{k +2} =-\\frac{c_{k -1}}{(k+1)(k+2)}, \\;k=1,2,3,\\cdots$\n",
    "  \n",
    "  $\n",
    "  \\begin{align*}\n",
    "    c_3 &= -\\frac{c_0}{2\\cdot3} \\\\ \n",
    "    c_4 &= -\\frac{c_1}{3\\cdot4} \\\\ \n",
    "    c_5 &= -\\frac{c_2}{4\\cdot5} = 0 \\\\ \n",
    "    c_6 &= -\\frac{c_3}{5\\cdot6} = \\frac{c_0}{2\\cdot3\\cdot5\\cdot6} \\\\ \n",
    "    c_7 &= -\\frac{c_4}{6\\cdot7} = \\frac{c_1}{3\\cdot4\\cdot6\\cdot7}\\\\ \n",
    "    c_8 &= -\\frac{c_5}{7\\cdot8} = 0 \\\\ \n",
    "    c_9 &= -\\frac{c_6}{8\\cdot6} = \\frac{c_0}{2\\cdot3\\cdot5\\cdot6\\cdot8\\cdot9} \\\\ \n",
    "    c_{10} &= -\\frac{c_7}{9\\cdot7} = \\frac{c_1}{3\\cdot4\\cdot6\\cdot7\\cdot9\\cdot10}\\\\ \n",
    "    c_{11} &= -\\frac{c_8}{10\\cdot8} = 0 \\\\ \n",
    "    &\\;\\;\\vdots\n",
    "  \\end{align*}\n",
    "  $\n",
    "  \n",
    "  After grouping the terms containing $c_0$ and the terms containing $c_1$, we obtain $y = c_0 y_1(x) +c_1 y_2(x)$\n",
    "  \n",
    "  $\n",
    "  \\begin{align*}\n",
    "    y_1(x) &= 1 +\\sum_{k=1}^\\infty \\frac{(-1)^k}{2\\cdot3 \\cdots (3n -1)(3n)}x^{3k}\\\\ \n",
    "    y_2(x) &= x +\\sum_{k=1}^\\infty \\frac{(-1)^k}{3\\cdot4 \\cdots (3n)(3n +1)}x^{3k +1}\n",
    "  \\end{align*}\n",
    "  $"
   ]
  },
  {
   "cell_type": "markdown",
   "metadata": {},
   "source": [
    "### Exercises 5.1\n",
    "\n",
    "* 1"
   ]
  },
  {
   "cell_type": "markdown",
   "metadata": {},
   "source": [
    "## 5.2 Solutions about Singular Points"
   ]
  },
  {
   "cell_type": "markdown",
   "metadata": {},
   "source": [
    "* Consider the linear second-order DE\n",
    "\n",
    "  $(x -x_0)^2 y'' +(x -x_0) p(x) y' +q(x) y = 0$\n",
    "  \n",
    "  * Point $x_0$ is a **regular singular point** of the DE if both $p(x)$ and $q(x)$ are analytic at $x_0$.\n",
    "  \n",
    "  * A singular point that is not regular is an **irregular singular point** of the equation"
   ]
  },
  {
   "cell_type": "markdown",
   "metadata": {},
   "source": [
    "* To solve a DE about a regular singular point, we employ **Frobenius' Theorem**\n",
    "\n",
    " * If $x_0$ is a regular singular point of the standard DE, there exists **at least one nonzero solution** of the form\n",
    " \n",
    "   $\\displaystyle y=(x -x_0)^r \\sum_{n=0}^\\infty c_n (x -x_0)^n = \\sum_{n=0}^\\infty c_n (x -x_0)^{n+r}$\n",
    "   \n",
    "   where $r$ is a constant, and the series converges at least on some interval $0 < x -x_0 < R$\n",
    "   \n",
    " * After substituting $y =\\sum_{n=0}^\\infty c_n (x -x_0)^{n+r}$ into a DE and simplifying, \n",
    "   the **indicial equation** is a quadratic equation in $r$ that results from equating the total coefficient of the lowest power of $x$ to zero\n",
    " "
   ]
  },
  {
   "cell_type": "code",
   "execution_count": null,
   "metadata": {},
   "outputs": [],
   "source": []
  }
 ],
 "metadata": {
  "kernelspec": {
   "display_name": "Python 3",
   "language": "python",
   "name": "python3"
  },
  "language_info": {
   "codemirror_mode": {
    "name": "ipython",
    "version": 3
   },
   "file_extension": ".py",
   "mimetype": "text/x-python",
   "name": "python",
   "nbconvert_exporter": "python",
   "pygments_lexer": "ipython3",
   "version": "3.7.2"
  }
 },
 "nbformat": 4,
 "nbformat_minor": 2
}
