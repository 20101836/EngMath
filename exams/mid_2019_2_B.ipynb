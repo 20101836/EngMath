{
 "cells": [
  {
   "cell_type": "markdown",
   "metadata": {},
   "source": [
    "[![Open In Colab](https://colab.research.google.com/assets/colab-badge.svg)](https://colab.research.google.com/github/SeoulTechPSE/EngMath/blob/master/exams/mid_2019_2_B.ipynb)"
   ]
  },
  {
   "cell_type": "markdown",
   "metadata": {},
   "source": [
    "## Engineering Mathematics II – Mid. Exam."
   ]
  },
  {
   "cell_type": "markdown",
   "metadata": {},
   "source": [
    "**1** $\\text{ }$ Use the Gram-Schmidt orthogonalization process to construct an orthonormal basis for the subspace\n",
    "\n",
    ">$\\mathbf{u}_1 = \\left \\langle 1, 5, 2 \\right \\rangle, \\;\\; \\mathbf{u}_2 = \\left \\langle -2, 1, 1 \\right \\rangle$\n",
    "\n",
    ">**solution**\n",
    "\n"
   ]
  },
  {
   "cell_type": "markdown",
   "metadata": {},
   "source": [
    "**2** $\\text{ }$ Determine whether the vectors $\\mathbf{a} = 4\\,\\mathbf{i} +6\\, \\mathbf{j}$, $\\mathbf{b} = -2\\,\\mathbf{i} +6\\, \\mathbf{j} -6\\, \\mathbf{k}$, and $\\mathbf{c} = \\frac{2}{5}\\,\\mathbf{i} +3\\, \\mathbf{j} +\\frac{1}{2}\\, \\mathbf{k}$ are coplanar\n",
    "\n",
    ">**solution**\n",
    "\n"
   ]
  },
  {
   "cell_type": "markdown",
   "metadata": {},
   "source": [
    "**3.** $\\text{ }$ Let $\\mathbf{a}$ be a constant vector and $\\mathbf{r}=x\\,\\mathbf{i} +y\\,\\mathbf{j} +z\\,\\mathbf{k}$. Evaluate the following equations:\n",
    "\n",
    ">$\\nabla \\times (\\mathbf{a} \\times \\mathbf{r}),\\;\\; \\nabla \\cdot (\\mathbf{a} \\times \\mathbf{r})$\n",
    "\n",
    ">**solution**"
   ]
  },
  {
   "cell_type": "markdown",
   "metadata": {},
   "source": [
    "**4.** $\\text{ }$ Evaluate $\\displaystyle \\iint_S \\mathbf{F} \\cdot \\mathbf{n} \\,dS$, where $\\mathbf{F}=x^2y\\,\\mathbf{i} +(x +y^2)\\,\\mathbf{j} +xy^2z \\,\\mathbf{k}$ and $C$ is the boundary of the surface shown in\n",
    "\n",
    "![figure1](./figs/mid_2019_2_B_1.png)\n",
    "\n",
    ">**solution**\n",
    "\n"
   ]
  },
  {
   "cell_type": "markdown",
   "metadata": {},
   "source": [
    "**5.** $\\text{ }$ (a) Find the Fourier series of  on the given interval\n",
    "\n",
    ">$f(x) = \\begin{cases}\n",
    " \\,0 & -\\pi < x< 0 \\\\ \n",
    " x^2 & \\;\\;0 \\leq x <\\pi \n",
    "\\end{cases}$\n",
    "\n",
    ">**solution**\n",
    "\n",
    "\n",
    "$\\text{ }\\;\\;\\;\\;$ (b) Use the result of (a) to evaluate the following series:"
   ]
  },
  {
   "cell_type": "code",
   "execution_count": null,
   "metadata": {},
   "outputs": [],
   "source": []
  }
 ],
 "metadata": {
  "kernelspec": {
   "display_name": "Python 3",
   "language": "python",
   "name": "python3"
  },
  "language_info": {
   "codemirror_mode": {
    "name": "ipython",
    "version": 3
   },
   "file_extension": ".py",
   "mimetype": "text/x-python",
   "name": "python",
   "nbconvert_exporter": "python",
   "pygments_lexer": "ipython3",
   "version": "3.7.4"
  }
 },
 "nbformat": 4,
 "nbformat_minor": 4
}
