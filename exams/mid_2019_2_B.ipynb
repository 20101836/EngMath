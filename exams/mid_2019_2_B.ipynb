{
 "cells": [
  {
   "cell_type": "markdown",
   "metadata": {},
   "source": [
    "[![Open In Colab](https://colab.research.google.com/assets/colab-badge.svg)](https://colab.research.google.com/github/SeoulTechPSE/EngMath/blob/master/exams/mid_2019_2_B.ipynb)"
   ]
  },
  {
   "cell_type": "markdown",
   "metadata": {},
   "source": [
    "## Engineering Mathematics II – Mid. Exam."
   ]
  },
  {
   "cell_type": "markdown",
   "metadata": {},
   "source": [
    "**1** $\\text{ }$ Use the Gram-Schmidt orthogonalization process to construct an orthonormal basis for the subspace\n",
    "\n",
    ">$\\mathbf{u}_1 = \\left \\langle 1, 5, 2 \\right \\rangle, \\;\\; \\mathbf{u}_2 = \\left \\langle -2, 1, 1 \\right \\rangle$\n",
    "\n",
    ">**solution**\n",
    "\n",
    ">$\\begin{align*}\n",
    " \\mathbf{v}_1 &= \\mathbf{u}_1 =\\left \\langle 1,5,2 \\right \\rangle\\\\ \n",
    " \\mathbf{v}_2 &= \\mathbf{u}_2 \n",
    "   -\\left(\\frac{\\mathbf{u_2}\\cdot \\mathbf{u}_1}{\\mathbf{u}_1\\cdot \\mathbf{u}_1} \\right)\\mathbf{u}_1 \n",
    "  = \\left \\langle -2,1,1 \\right \\rangle -\\frac{1}{6} \\left \\langle 1,5,2 \\right \\rangle \n",
    "  = \\frac{1}{6}\\left \\langle -13,1,4 \\right \\rangle\\\\ \n",
    " &\\Downarrow \\\\ \n",
    " \\mathbf{w}_1&= \\frac{\\mathbf{v}_1}{\\left \\| \\mathbf{v}_1 \\right \\|}\n",
    "  =\\frac{1}{\\sqrt{30}} \\left \\langle 1,5,2 \\right \\rangle \\\\\n",
    " \\mathbf{w}_2&= \\frac{\\mathbf{v}_2}{\\left \\| \\mathbf{v}_2 \\right \\|}\n",
    "  =\\frac{1}{\\sqrt{136}} \\left \\langle -13,1,4 \\right \\rangle\n",
    "\\end{align*}$"
   ]
  },
  {
   "cell_type": "markdown",
   "metadata": {},
   "source": [
    "**2** $\\text{ }$ Determine whether the vectors $\\mathbf{a} = 4\\,\\mathbf{i} +6\\, \\mathbf{j}$, $\\mathbf{b} = -2\\,\\mathbf{i} +6\\, \\mathbf{j} -6\\, \\mathbf{k}$, and $\\mathbf{c} = \\frac{5}{2}\\,\\mathbf{i} +3\\, \\mathbf{j} +\\frac{1}{2}\\, \\mathbf{k}$ are coplanar\n",
    "\n",
    ">**solution**\n",
    "\n",
    ">$\\begin{vmatrix}\n",
    " 4 & 6 & \\;\\;\\,0\\\\ \n",
    " -2\\;\\;\\,& 6 & -6\\\\ \n",
    " \\frac{5}{2} & 3 & \\;\\;\\,\\frac{1}{2}\n",
    "\\end{vmatrix} = 0 \\;\\;\\Rightarrow\\;\\; \\text{coplaner}$"
   ]
  },
  {
   "cell_type": "markdown",
   "metadata": {},
   "source": [
    "**3.** $\\text{ }$ Let $\\mathbf{a}$ be a constant vector and $\\mathbf{r}=x\\,\\mathbf{i} +y\\,\\mathbf{j} +z\\,\\mathbf{k}$. Evaluate the following equations:\n",
    "\n",
    ">$\\nabla \\times (\\mathbf{a} \\times \\mathbf{r}),\\;\\; \\nabla \\cdot (\\mathbf{a} \\times \\mathbf{r})$\n",
    "\n",
    ">**solution**\n",
    "\n",
    ">$\\mathbf{a} \\times \\mathbf{r}=\n",
    "\\begin{vmatrix}\n",
    " \\mathbf{i} & \\mathbf{j} & \\mathbf{k} \\\\ \n",
    " a_1 & a_2 & a_3\\\\ \n",
    " x & y &z\n",
    "\\end{vmatrix} = (a_2 z - a_3 y)\\,\\mathbf{i} -(a_1 z - a_3 x)\\,\\mathbf{j} +(a_1 y - a_2 x)\\,\\mathbf{k}$\n",
    "\n",
    ">$\\begin{align*}\n",
    " \\nabla \\times (\\mathbf{a} \\times \\mathbf{r})&= \\begin{vmatrix}\n",
    " \\mathbf{i} & \\mathbf{j} & \\mathbf{k} \\\\ \n",
    " \\frac{\\partial }{\\partial x} & \\frac{\\partial }{\\partial y} & \\frac{\\partial }{\\partial z}\\\\ \n",
    " (a_2 z - a_3y) & -(a_1 z - a_3 x) & (a_1 y - a_2 x)\n",
    "\\end{vmatrix} = 2\\mathbf{a} \n",
    "\\end{align*}$\n",
    "\n",
    ">$\\begin{align*}\n",
    " \\nabla \\cdot(\\mathbf{a} \\times \\mathbf{r})&= \\frac{\\partial }{\\partial x} (a_2 z - a_3y) -\\frac{\\partial }{\\partial y}(a_1 z - a_3 x) +\\frac{\\partial }{\\partial z} (a_1 y - a_2 x) = 0\n",
    "\\end{align*}\n",
    "$"
   ]
  },
  {
   "cell_type": "markdown",
   "metadata": {},
   "source": [
    "**4.** $\\text{ }$ Evaluate $\\displaystyle \\oint_C \\mathbf{F} \\cdot \\,d\\mathbf{r}$, where $\\mathbf{F}=x^2y\\,\\mathbf{i} +(x +y^2)\\,\\mathbf{j} +xy^2z \\,\\mathbf{k}$; $C$ the boundary of the surface shown in\n",
    "\n",
    "![figure1](./figs/mid_2019_2_B_1.png)\n",
    "\n",
    ">**solution**\n",
    "\n",
    "> Using Stokes' Theorem\n",
    "\n",
    ">$\\begin{align*}\n",
    " \\oint_C \\mathbf{F} \\cdot d\\mathbf{r} &= \\iint_S \\left(\\nabla \\times \\mathbf{F}\\right) \\, \\cdot \\mathbf{n} \\,dS\\\\ \n",
    " \\text{ where }& \\\\ \n",
    " \\nabla \\times \\mathbf{F} &= \\left| \\begin{matrix}\n",
    " \\mathbf{i} & \\mathbf{j} & \\mathbf{k} \\\\ \n",
    " \\frac{\\partial }{\\partial x} & \\frac{\\partial }{\\partial y} & \\frac{\\partial }{\\partial z}\\\\ \n",
    " x^2y & x +y^2 & xy^2z\n",
    "\\end{matrix}\\right| = 2xyz\\,\\mathbf{i} -y^2z \\,\\mathbf{j} +(1 -x^2)\\,\\mathbf{k}\\\\ \n",
    " \\mathbf{n}&= \\frac{\\nabla g}{\\left\\| \\nabla g\\right\\|}=\\frac{1}{\\sqrt{1 +4y^2}}(2y\\,\\mathbf{j} +\\mathbf{k})\\\\ \n",
    " &\\Downarrow \\\\\n",
    " &= \\iint_S \\frac{1}{\\sqrt{1 +4y^2}}\\left(1 -x^2 -2y^3z\\right) \\,dS = \\int_0^3 \\int_0^{y/2} \\frac{1}{\\sqrt{1 +4y^2}}\\left(1 -x^2 -18y^3 +2y^5\\right) \\,\\sqrt{1 +4y^2}\\,dx dy \n",
    "  = -\\frac{138393}{1120}\n",
    "\\end{align*}$"
   ]
  },
  {
   "cell_type": "markdown",
   "metadata": {},
   "source": [
    "**5.** $\\text{ }$ (a) Find the Fourier series of  on the given interval\n",
    "\n",
    ">$f(x) = \\begin{cases}\n",
    " \\,0 & -\\pi < x< 0 \\\\ \n",
    " x^2 & \\;\\;0 \\leq x <\\pi \n",
    "\\end{cases}$\n",
    "\n",
    ">**solution**\n",
    "\n",
    "\n",
    "$\\text{ }\\;\\;\\;\\;$ (b) Use the result of (a) to evaluate the following series:\n",
    "\n",
    ">$\\begin{align*}\n",
    " 1 +\\frac{1}{2^2} +\\frac{1}{3^2} +\\frac{1}{4^2} +\\cdots \\\\ \n",
    " 1 -\\frac{1}{2^2} +\\frac{1}{3^2} -\\frac{1}{4^2} +\\cdots \n",
    "\\end{align*}$\n",
    "\n",
    ">**solution**\n",
    "\n"
   ]
  },
  {
   "cell_type": "markdown",
   "metadata": {},
   "source": [
    "**6.** Find the eigenvalues and eigenfunctions of the boundary-value problem\n",
    "\n",
    ">$\\displaystyle x^2 y'' +xy' +9\\lambda y = 0, \\;\\; y'(1)=0,\\;\\;y(e)=0$\n",
    "\n",
    "$\\text{ }\\;$ Give an orthogonality relation for the eigenfunctions\n",
    "\n",
    ">**solution**\n",
    "\n",
    ">$\\begin{align*}\n",
    " x^2 y'' &+xy' +9\\lambda y = 0 \\\\ \n",
    " &\\Downarrow\\;  y=x^r\\\\ \n",
    " r^2 +9\\lambda = 0\\;\\;&\\Rightarrow \\;\\;r =\\pm 3\\sqrt{\\lambda} i \\\\ \n",
    " &\\Downarrow \\\\ \n",
    " y(x) = c_1 \\cos \\left( 3\\sqrt{\\lambda} \\ln x \\right)&+c_2 \\sin \\left( 3\\sqrt{\\lambda} \\ln x \\right) \\\\\n",
    " &\\Downarrow\\; y'(1) = 0, \\;\\;y(e)=0 \\\\\n",
    " y'(1)= c_2 3\\sqrt{\\lambda} = 0 &\\;\\;\\Rightarrow \\;\\; c_2 = 0 \\\\\n",
    " y(e)=c_1\\cos 3\\sqrt{\\lambda} = 0 &\\;\\;\\Rightarrow \\;\\; \\lambda_n = \\frac{1}{36} (2n -1)^2 \\pi^2, \\;\\;n =1,2,3,\\cdots \\\\\n",
    " &\\Downarrow \\\\\n",
    " y_n(x) &= \\cos \\left(\\frac{2n -1}{2}\\pi \\ln x \\right)\n",
    "\\end{align*}$"
   ]
  },
  {
   "cell_type": "markdown",
   "metadata": {},
   "source": [
    ">$\\begin{align*}\n",
    " x^2 y'' &+xy' +9\\lambda y = 0 \\\\ \n",
    " &\\Downarrow\\;  \\times 1/x\\\\ \n",
    " xy'' &+y' +\\frac{9\\lambda}{x} y = 0 \\\\ \n",
    " &\\Downarrow \\\\ \n",
    " \\frac{d}{dx} \\left[ x\\frac{dy}{dx} \\right] &+\\frac{9\\lambda}{x} y = 0 \\\\\n",
    "  &\\Downarrow \\\\\n",
    " \\int_1^e \\frac{1}{x} \\cos \\left(\\frac{2m -1}{2}\\pi \\ln x \\right) &\\,\\cos \\left(\\frac{2n -1}{2}\\pi \\ln x \\right) \\,dx =0 \\;\\;\\text{when } m \\neq n\n",
    "\\end{align*}$"
   ]
  }
 ],
 "metadata": {
  "kernelspec": {
   "display_name": "Python 3",
   "language": "python",
   "name": "python3"
  },
  "language_info": {
   "codemirror_mode": {
    "name": "ipython",
    "version": 3
   },
   "file_extension": ".py",
   "mimetype": "text/x-python",
   "name": "python",
   "nbconvert_exporter": "python",
   "pygments_lexer": "ipython3",
   "version": "3.7.4"
  }
 },
 "nbformat": 4,
 "nbformat_minor": 4
}
